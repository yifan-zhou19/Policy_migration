{
 "cells": [
  {
   "cell_type": "code",
   "execution_count": 1,
   "metadata": {
    "colab": {
     "base_uri": "https://localhost:8080/"
    },
    "id": "WVSoMHRIEEkm",
    "outputId": "f35d742b-acb4-4889-ebdc-f98a4ea93092"
   },
   "outputs": [
    {
     "name": "stdout",
     "output_type": "stream",
     "text": [
      "Cloning into 'migration'...\n",
      "remote: Enumerating objects: 114, done.\u001b[K\n",
      "remote: Total 114 (delta 0), reused 0 (delta 0), pack-reused 114\u001b[K\n",
      "Receiving objects: 100% (114/114), 1.33 MiB | 13.09 MiB/s, done.\n",
      "Resolving deltas: 100% (64/64), done.\n"
     ]
    }
   ],
   "source": [
    "! git clone https://github.com/yifan-zhou19/Policy_migration.git migration"
   ]
  },
  {
   "cell_type": "code",
   "execution_count": 2,
   "metadata": {
    "colab": {
     "base_uri": "https://localhost:8080/"
    },
    "id": "XuXw7X1RE9Y-",
    "outputId": "2f7096fc-e6af-4989-c6bb-59efcd012553"
   },
   "outputs": [
    {
     "name": "stdout",
     "output_type": "stream",
     "text": [
      "'100 50 10 10 50 1 4'\t 'Data3 200 50 10 10 100 1 4'   Uni_matrix.ipynb\n",
      "'50 50 10 10 50 1 4'\t 'Data 50 50 50 50 50 1 4'      Video_matrix.ipynb\n",
      "'8 8 10 10 10 1 1'\t  Migration_evaluation.ipynb\n",
      "'Data2 200 50 10 10 10'   README.md\n"
     ]
    }
   ],
   "source": [
    "! ls migration/"
   ]
  },
  {
   "cell_type": "code",
   "execution_count": 70,
   "metadata": {
    "colab": {
     "base_uri": "https://localhost:8080/"
    },
    "id": "xtST7bj5Js8r",
    "outputId": "142be457-f5f7-4640-c668-994eb3bed98d"
   },
   "outputs": [
    {
     "name": "stdout",
     "output_type": "stream",
     "text": [
      "10\n",
      "{'expressions': [{'eu': {'uattrib3': [('is', '{3a}')], 'uattrib9': [('is', '{9a}')], 'uattrib4': [('is', '{4a}')]}, 'er': {'rattrib7': [('is', '{7w}')], 'rattrib8': [('is', '{8w}')], 'rattrib2': [('is', '{2w}')], 'rattrib4': [('is', '{4w}')], 'rattrib6': [('is', '{6w}')], 'rattrib3': [('is', '{3w}')]}}], 'operations': ['access'], 'decision': 'allow'}\n",
      "{'expressions': [{'eu': {'uattrib6': [('is', '{6a}')], 'uattrib1': [('is', '{1a}')], 'uattrib9': [('is', '{9a}')], 'uattrib3': [('is', '{3a}')]}, 'er': {'rattrib7': [('is', '{7w}')], 'rattrib9': [('is', '{9w}')], 'rattrib5': [('is', '{5w}')]}}], 'operations': ['access'], 'decision': 'allow'}\n",
      "{'expressions': [{'eu': {'uattrib8': [('is', '{8a}')], 'uattrib7': [('is', '{7a}')], 'uattrib4': [('is', '{4a}')], 'uattrib9': [('is', '{9a}')], 'uattrib1': [('is', '{1a}')], 'uattrib5': [('is', '{5a}')]}, 'er': {'rattrib1': [('is', '{1w}')], 'rattrib5': [('is', '{5w}')]}}], 'operations': ['access'], 'decision': 'allow'}\n",
      "{'expressions': [{'eu': {'uattrib5': [('is', '{5a}')], 'uattrib6': [('is', '{6a}')]}, 'er': {'rattrib3': [('is', '{3w}')], 'rattrib9': [('is', '{9w}')], 'rattrib1': [('is', '{1w}')], 'rattrib0': [('is', '{0w}')], 'rattrib8': [('is', '{8w}')], 'rattrib7': [('is', '{7w}')], 'rattrib4': [('is', '{4w}')], 'rattrib5': [('is', '{5w}')]}}], 'operations': ['access'], 'decision': 'allow'}\n",
      "{'expressions': [{'eu': {'uattrib1': [('is', '{1a}')], 'uattrib3': [('is', '{3a}')], 'uattrib2': [('is', '{2a}')], 'uattrib0': [('is', '{0a}')], 'uattrib4': [('is', '{4a}')], 'uattrib8': [('is', '{8a}')], 'uattrib6': [('is', '{6a}')], 'uattrib5': [('is', '{5a}')]}, 'er': {'rattrib6': [('is', '{6w}')], 'rattrib4': [('is', '{4w}')], 'rattrib0': [('is', '{0w}')], 'rattrib9': [('is', '{9w}')], 'rattrib5': [('is', '{5w}')], 'rattrib3': [('is', '{3w}')], 'rattrib7': [('is', '{7w}')], 'rattrib8': [('is', '{8w}')], 'rattrib2': [('is', '{2w}')]}}], 'operations': ['access'], 'decision': 'allow'}\n",
      "{'expressions': [{'eu': {'uattrib1': [('is', '{1a}')], 'uattrib3': [('is', '{3a}')], 'uattrib2': [('is', '{2a}')], 'uattrib0': [('is', '{0a}')], 'uattrib4': [('is', '{4a}')], 'uattrib8': [('is', '{8a}')], 'uattrib6': [('is', '{6a}')], 'uattrib5': [('is', '{5a}')], 'uattrib9': [('is', '{9a}')], 'uattrib7': [('is', '{7a}')]}, 'er': {'rattrib6': [('is', '{6w}')], 'rattrib4': [('is', '{4w}')], 'rattrib0': [('is', '{0w}')], 'rattrib9': [('is', '{9w}')], 'rattrib5': [('is', '{5w}')], 'rattrib3': [('is', '{3w}')], 'rattrib7': [('is', '{7w}')], 'rattrib8': [('is', '{8w}')], 'rattrib2': [('is', '{2w}')], 'rattrib1': [('is', '{1w}')]}}], 'operations': ['access'], 'decision': 'allow'}\n",
      "{'expressions': [{'eu': {'uattrib1': [('is', '{1a}')], 'uattrib3': [('is', '{3a}')], 'uattrib2': [('is', '{2a}')], 'uattrib0': [('is', '{0a}')], 'uattrib4': [('is', '{4a}')], 'uattrib8': [('is', '{8a}')], 'uattrib6': [('is', '{6a}')], 'uattrib5': [('is', '{5a}')], 'uattrib7': [('is', '{7a}')], 'uattrib9': [('is', '{9a}')]}, 'er': {'rattrib6': [('is', '{6w}')], 'rattrib4': [('is', '{4w}')], 'rattrib0': [('is', '{0w}')], 'rattrib9': [('is', '{9w}')], 'rattrib5': [('is', '{5w}')], 'rattrib3': [('is', '{3w}')], 'rattrib7': [('is', '{7w}')], 'rattrib8': [('is', '{8w}')], 'rattrib2': [('is', '{2w}')], 'rattrib1': [('is', '{1w}')]}}], 'operations': ['access'], 'decision': 'allow'}\n",
      "{'expressions': [{'eu': {'uattrib5': [('is', '{5a}')], 'uattrib6': [('is', '{6a}')], 'uattrib8': [('is', '{8a}')], 'uattrib4': [('is', '{4a}')], 'uattrib1': [('is', '{1a}')]}, 'er': {'rattrib3': [('is', '{3w}')], 'rattrib9': [('is', '{9w}')], 'rattrib1': [('is', '{1w}')], 'rattrib0': [('is', '{0w}')], 'rattrib8': [('is', '{8w}')], 'rattrib7': [('is', '{7w}')], 'rattrib4': [('is', '{4w}')], 'rattrib5': [('is', '{5w}')], 'rattrib6': [('is', '{6w}')], 'rattrib2': [('is', '{2w}')]}}], 'operations': ['access'], 'decision': 'allow'}\n",
      "{'expressions': [{'eu': {'uattrib3': [('is', '{3a}')], 'uattrib9': [('is', '{9a}')], 'uattrib4': [('is', '{4a}')], 'uattrib2': [('is', '{2a}')], 'uattrib1': [('is', '{1a}')], 'uattrib7': [('is', '{7a}')]}, 'er': {'rattrib7': [('is', '{7w}')], 'rattrib8': [('is', '{8w}')], 'rattrib2': [('is', '{2w}')], 'rattrib4': [('is', '{4w}')], 'rattrib6': [('is', '{6w}')], 'rattrib3': [('is', '{3w}')], 'rattrib0': [('is', '{0w}')]}}], 'operations': ['access'], 'decision': 'allow'}\n",
      "{'expressions': [{'eu': {'uattrib3': [('is', '{3a}')], 'uattrib9': [('is', '{9a}')], 'uattrib4': [('is', '{4a}')], 'uattrib2': [('is', '{2a}')], 'uattrib5': [('is', '{5a}')], 'uattrib1': [('is', '{1a}')]}, 'er': {'rattrib7': [('is', '{7w}')], 'rattrib8': [('is', '{8w}')], 'rattrib2': [('is', '{2w}')], 'rattrib4': [('is', '{4w}')], 'rattrib6': [('is', '{6w}')], 'rattrib3': [('is', '{3w}')], 'rattrib9': [('is', '{9w}')]}}], 'operations': ['access'], 'decision': 'allow'}\n"
     ]
    }
   ],
   "source": [
    "# generate user\n",
    "#file = open(r'migration/Data3 200 50 10 10 100 1 4/policy.txt' , 'r')\n",
    "#file = open(r'migration/Data2 200 50 10 10 10/policy.txt' , 'r')\n",
    "file = open(r'migration/8 8 10 10 10 1 1/policy.txt' , 'r')\n",
    "line = file.readline() \n",
    "RU=[]      \n",
    "while line: \n",
    "  rule=dict()\n",
    "  rule['expressions']=[{'eu':{},'er':{}}]\n",
    "  rule['operations']=['access']\n",
    "  rule['decision']='allow'\n",
    " # rule=dict('expressions':[{'eu':{},'er':{}}],'operations':['access'],'decision':'allow'), \n",
    "  \n",
    "  #print(line[:10])\n",
    "  #print(line, end = '')　\n",
    "  cons = line.strip().split(',')\n",
    "  for con in cons:\n",
    "    c = con.split('=')\n",
    "    if c[0][0]=='u':\n",
    "      rule['expressions'][0]['eu'][c[0]]=[('is',c[1])]\n",
    "    elif c[0][0]=='r':\n",
    "      #rule['er'][c[0]]=c[1]\n",
    "      rule['expressions'][0]['er'][c[0]]=[('is',c[1])]\n",
    "\n",
    "  \n",
    "  RU.append(rule)\n",
    "\n",
    "  #break\n",
    "  line = file.readline() \n",
    "print(len(RU))\n",
    "for i in RU:\n",
    "  print(i)\n",
    " \n",
    "file.close() "
   ]
  },
  {
   "cell_type": "code",
   "execution_count": 71,
   "metadata": {
    "colab": {
     "base_uri": "https://localhost:8080/"
    },
    "id": "vRbrhkg038NU",
    "outputId": "09fc258e-2bf4-4228-c795-62356e119376"
   },
   "outputs": [
    {
     "name": "stdout",
     "output_type": "stream",
     "text": [
      "8\n",
      "{'uattrib2': '{2a}', 'uattrib3': '{3a}', 'uattrib4': '{4a}', 'uattrib7': '{7a}', 'uattrib8': '{8a}', 'uattrib9': '{9a}', 'uid': 'user1'}\n",
      "{'uattrib0': '{0a}', 'uattrib1': '{1a}', 'uattrib2': '{2a}', 'uattrib3': '{3a}', 'uattrib6': '{6a}', 'uattrib8': '{8a}', 'uattrib9': '{9a}', 'uid': 'user2'}\n",
      "{'uattrib1': '{1a}', 'uattrib2': '{2a}', 'uattrib4': '{4a}', 'uattrib5': '{5a}', 'uattrib6': '{6a}', 'uattrib7': '{7a}', 'uattrib8': '{8a}', 'uattrib9': '{9a}', 'uid': 'user3'}\n",
      "{'uattrib1': '{1a}', 'uattrib5': '{5a}', 'uattrib6': '{6a}', 'uattrib7': '{7a}', 'uattrib9': '{9a}', 'uid': 'user4'}\n",
      "{'uattrib0': '{0a}', 'uattrib1': '{1a}', 'uattrib2': '{2a}', 'uattrib3': '{3a}', 'uattrib4': '{4a}', 'uattrib5': '{5a}', 'uattrib6': '{6a}', 'uattrib7': '{7a}', 'uattrib8': '{8a}', 'uattrib9': '{9a}', 'uid': 'user5'}\n",
      "{'uattrib0': '{0a}', 'uattrib1': '{1a}', 'uattrib2': '{2a}', 'uattrib3': '{3a}', 'uattrib4': '{4a}', 'uattrib5': '{5a}', 'uattrib6': '{6a}', 'uattrib7': '{7a}', 'uattrib8': '{8a}', 'uattrib9': '{9a}', 'uid': 'user6'}\n",
      "{'uattrib0': '{0a}', 'uattrib1': '{1a}', 'uattrib2': '{2a}', 'uattrib3': '{3a}', 'uattrib4': '{4a}', 'uattrib5': '{5a}', 'uattrib6': '{6a}', 'uattrib7': '{7a}', 'uattrib8': '{8a}', 'uattrib9': '{9a}', 'uid': 'user7'}\n",
      "{'uattrib1': '{1a}', 'uattrib3': '{3a}', 'uattrib4': '{4a}', 'uattrib5': '{5a}', 'uattrib6': '{6a}', 'uattrib7': '{7a}', 'uattrib8': '{8a}', 'uid': 'user8'}\n",
      "['uattrib2', 'uattrib3', 'uattrib4', 'uattrib7', 'uattrib8', 'uattrib9', 'uattrib0', 'uattrib1', 'uattrib6', 'uattrib5']\n"
     ]
    }
   ],
   "source": [
    "file = open(r'migration/8 8 10 10 10 1 1/UAR.txt' , 'r')\n",
    "line = file.readline()\n",
    "U=[] \n",
    "UA=[] \n",
    "i=1 \n",
    "while line: \n",
    "  u={}\n",
    "  #print(line[:10])\n",
    "  #print(line, end = '')　\n",
    "  cons = line.strip().split(',')\n",
    "  for con in cons:\n",
    "    c = con.split('=')\n",
    "    if(len(c)==2):\n",
    "      u[c[0]]=c[1]\n",
    "      if(c[0] not in UA):\n",
    "        UA.append(c[0])\n",
    "  u['uid']='user'+str(i)\n",
    "  i=i+1\n",
    "\n",
    "  \n",
    "  U.append(u)\n",
    "\n",
    "  #break\n",
    "  line = file.readline() \n",
    "print(len(U))\n",
    "for i in U:\n",
    "  print(i)\n",
    " \n",
    "print(UA)\n",
    "file.close() "
   ]
  },
  {
   "cell_type": "code",
   "execution_count": 72,
   "metadata": {
    "colab": {
     "base_uri": "https://localhost:8080/"
    },
    "id": "yHGpy_8n6btJ",
    "outputId": "95b21fa6-f0fc-477d-f3a5-49fc59ce0af2"
   },
   "outputs": [
    {
     "name": "stdout",
     "output_type": "stream",
     "text": [
      "8\n",
      "{'rattrib0': '{0w}', 'rattrib2': '{2w}', 'rattrib3': '{3w}', 'rattrib4': '{4w}', 'rattrib6': '{6w}', 'rattrib7': '{7w}', 'rattrib8': '{8w}', 'rattrib9': '{9w}', 'rid': 'resource1'}\n",
      "{'rattrib0': '{0w}', 'rattrib3': '{3w}', 'rattrib5': '{5w}', 'rattrib7': '{7w}', 'rattrib8': '{8w}', 'rattrib9': '{9w}', 'rid': 'resource2'}\n",
      "{'rattrib1': '{1w}', 'rattrib4': '{4w}', 'rattrib5': '{5w}', 'rattrib6': '{6w}', 'rattrib7': '{7w}', 'rid': 'resource3'}\n",
      "{'rattrib0': '{0w}', 'rattrib1': '{1w}', 'rattrib3': '{3w}', 'rattrib4': '{4w}', 'rattrib5': '{5w}', 'rattrib6': '{6w}', 'rattrib7': '{7w}', 'rattrib8': '{8w}', 'rattrib9': '{9w}', 'rid': 'resource4'}\n",
      "{'rattrib0': '{0w}', 'rattrib2': '{2w}', 'rattrib3': '{3w}', 'rattrib4': '{4w}', 'rattrib5': '{5w}', 'rattrib6': '{6w}', 'rattrib7': '{7w}', 'rattrib8': '{8w}', 'rattrib9': '{9w}', 'rid': 'resource5'}\n",
      "{'rattrib0': '{0w}', 'rattrib1': '{1w}', 'rattrib2': '{2w}', 'rattrib3': '{3w}', 'rattrib4': '{4w}', 'rattrib5': '{5w}', 'rattrib6': '{6w}', 'rattrib7': '{7w}', 'rattrib8': '{8w}', 'rattrib9': '{9w}', 'rid': 'resource6'}\n",
      "{'rattrib0': '{0w}', 'rattrib1': '{1w}', 'rattrib2': '{2w}', 'rattrib3': '{3w}', 'rattrib4': '{4w}', 'rattrib5': '{5w}', 'rattrib6': '{6w}', 'rattrib7': '{7w}', 'rattrib8': '{8w}', 'rattrib9': '{9w}', 'rid': 'resource7'}\n",
      "{'rattrib0': '{0w}', 'rattrib1': '{1w}', 'rattrib2': '{2w}', 'rattrib3': '{3w}', 'rattrib4': '{4w}', 'rattrib5': '{5w}', 'rattrib6': '{6w}', 'rattrib7': '{7w}', 'rattrib8': '{8w}', 'rattrib9': '{9w}', 'rid': 'resource8'}\n",
      "['rattrib0', 'rattrib2', 'rattrib3', 'rattrib4', 'rattrib6', 'rattrib7', 'rattrib8', 'rattrib9', 'rattrib5', 'rattrib1']\n"
     ]
    }
   ],
   "source": [
    "file = open(r'migration/8 8 10 10 10 1 1/OAR.txt' , 'r')\n",
    "line = file.readline()\n",
    "R=[] \n",
    "RA=[]\n",
    "i=1     \n",
    "while line: \n",
    "  r={}\n",
    "  #print(line[:10])\n",
    "  #print(line, end = '')　\n",
    "  cons = line.strip().split(',')\n",
    "  for con in cons:\n",
    "    c = con.split('=')\n",
    "    if(len(c)==2):\n",
    "      r[c[0]]=c[1]\n",
    "      if(c[0] not in RA):\n",
    "        RA.append(c[0])\n",
    "\n",
    "  r['rid']='resource'+str(i)\n",
    "  i=i+1\n",
    "  R.append(r)\n",
    "\n",
    "  #break\n",
    "  line = file.readline() \n",
    "print(len(R))\n",
    "for i in R:\n",
    "  print(i)\n",
    " \n",
    "print(RA)\n",
    "file.close() "
   ]
  },
  {
   "cell_type": "code",
   "execution_count": 73,
   "metadata": {
    "id": "Olpe62TV7J6W"
   },
   "outputs": [],
   "source": [
    "O=['access']\n",
    "def dU(user,attribute):\n",
    "  if attribute in user.keys():\n",
    "    return user[attribute]\n",
    "\n",
    "def dR(resource,attribute):\n",
    "  if attribute in resource.keys():\n",
    "    return resource[attribute]\n",
    "ABAC_policy=(U,R,O,UA,RA,dU,dR,RU)"
   ]
  },
  {
   "cell_type": "code",
   "execution_count": 74,
   "metadata": {
    "colab": {
     "base_uri": "https://localhost:8080/"
    },
    "id": "gInyfake61-l",
    "outputId": "8fe5845e-010a-4c8b-eedc-d7cd6287f62b"
   },
   "outputs": [
    {
     "name": "stdout",
     "output_type": "stream",
     "text": [
      "For ABAC policy:\n",
      "Number of allow:48\n",
      "Number of deny:16\n"
     ]
    }
   ],
   "source": [
    "def satisfied(u,r,expressions):\n",
    "  for expression in expressions:\n",
    "    eu=expression['eu']\n",
    "    er=expression['er']\n",
    "    #for all the keys in eu get the constrina of this key\n",
    "    #if u does not satisfy this const return false\\\n",
    "    if ( len(eu.keys()) != 0 and u != None):\n",
    "      for key in eu.keys():\n",
    "        for (op,c) in eu[key]:\n",
    "          if dU(u,key)==None:\n",
    "            return False\n",
    "          if op == 'is':\n",
    "            if dU(u,key) != c and dU(u,key) != None:\n",
    "              return False\n",
    "\n",
    "    #for all the keys in er get the constrinat of the key\n",
    "    if ( len(er.keys()) != 0 and r!=None):\n",
    "      for key in er.keys():\n",
    "        for (op,c) in er[key]:\n",
    "        #print(op,c)\n",
    "        #op,c=er[key]\n",
    "          if(dR(r,key)==None):\n",
    "          #  print(dR(r,key),key,op,c)\n",
    "            return False\n",
    "          if op == 'is':\n",
    "\n",
    "            if dR(r,key)!=c  and dR(r,key) != None:\n",
    "             # print(dR(r,key),c)\n",
    "              return False\n",
    "  \n",
    "  return True\n",
    "\n",
    "\n",
    "def check_ABAC_policy(request,abac_policy):\n",
    "  u,r,o =request\n",
    "  _,_,_,_,_,_,_,rules = abac_policy\n",
    "  for rule in rules:\n",
    "    if o in rule['operations']:\n",
    "      if satisfied(u,r,rule['expressions']):\n",
    "        return True\n",
    "  return False\n",
    "\n",
    "# check the ABAC policy \n",
    "number_allow=0\n",
    "number_deny=0\n",
    "for u in U:\n",
    "  for r in R:\n",
    "    for o in O:\n",
    "      if(check_ABAC_policy((u,r,o),ABAC_policy)==True):\n",
    "        #print(u,'\\n',r)\n",
    "        number_allow= number_allow+1\n",
    "      else:\n",
    "        number_deny =number_deny +1 \n",
    "        #print(f'{u}\\n{r}\\n{o}\\n \\n')\n",
    "\n",
    "print(f'For ABAC policy:\\nNumber of allow:{number_allow}\\nNumber of deny:{number_deny}')\n",
    "\n",
    "#print(f'{check_ABAC_policy((U[6],R[7],\"readMyScores\"),ABAC_university)}\\n{U[6]}\\n{R[7]}')\n",
    "#print(f'{check_ABAC_policy((U[3],R[5],\"addScore\"),ABAC_university)}\\n{U[3]}\\n{R[5]}')\n",
    "#print(f'Loss at epo {epoch}: {losses/len(training_data)}')\n",
    "\n"
   ]
  },
  {
   "cell_type": "code",
   "execution_count": 81,
   "metadata": {
    "colab": {
     "base_uri": "https://localhost:8080/"
    },
    "id": "wBJRukVSPtoX",
    "outputId": "5359b5d4-19ad-436b-a64b-80d258cd6b7b"
   },
   "outputs": [
    {
     "name": "stdout",
     "output_type": "stream",
     "text": [
      "Number of user constraints:10\n",
      "Number of Permission sets:8\n"
     ]
    }
   ],
   "source": [
    "def get_item_id(item,list):\n",
    "  id = 0\n",
    "  while(id<len(list)):\n",
    "    if item == list[id]:\n",
    "      return id\n",
    "    id = id + 1\n",
    "  return None\n",
    "\n",
    "from numpy import *\n",
    "# Calculate the number of user constraints\n",
    "# Calculate the number of permissions(resource constraint,operation)\n",
    "UC=[]\n",
    "Permission=[]\n",
    "Permission_set=[]\n",
    "EU=[]\n",
    "for rule in RU:\n",
    "  user_cons=rule['expressions'][0]['eu']\n",
    "  resource_cons=rule['expressions'][0]['er']\n",
    "  #print(user_cons)\n",
    "  #print(resource_cons)\n",
    "  operations=rule['operations']\n",
    "  for uc_key in user_cons.keys():\n",
    "    uc = {uc_key:user_cons[uc_key]}\n",
    "    if uc not in UC:\n",
    "      UC.append(uc)\n",
    "  if (resource_cons,operations) not in Permission:\n",
    "    Permission.append((resource_cons,operations))\n",
    "  if user_cons not in EU:\n",
    "    EU.append(user_cons)\n",
    "    Permission_set.append([resource_cons,operations])\n",
    "  else:\n",
    "    Permission_set[get_item_id(user_cons,EU)].append((resource_cons,operations))\n",
    "n_uc=len(UC)\n",
    "#n_p=len(Permission_set)\n",
    "n_p=len(Permission)\n",
    "print(f'Number of user constraints:{n_uc}\\nNumber of Permission sets:{n_p}')\n",
    "#print(UC)\n",
    "#print(Permission)"
   ]
  },
  {
   "cell_type": "code",
   "execution_count": 82,
   "metadata": {
    "id": "V0PJTGQB9os8"
   },
   "outputs": [],
   "source": [
    "def get_item_id(item,list):\n",
    "  id = 0\n",
    "  while(id<len(list)):\n",
    "    if item == list[id]:\n",
    "      return id\n",
    "    id = id + 1\n",
    "  return None\n",
    "\n",
    "def cover(ma,mb):# ma cover mb\n",
    "  if ma.shape[1] != mb.shape[1]:\n",
    "    return False\n",
    "  for i in range(ma.shape[1]):\n",
    "    if mb[0,i]==1 and ma[0,i]==0:\n",
    "      return False\n",
    "\n",
    "\n",
    "  return True"
   ]
  },
  {
   "cell_type": "code",
   "execution_count": 83,
   "metadata": {
    "colab": {
     "base_uri": "https://localhost:8080/"
    },
    "id": "yA8jZUdQ9sKi",
    "outputId": "079e331b-4ee4-4bba-e1ee-00c87c1297cb"
   },
   "outputs": [
    {
     "name": "stdout",
     "output_type": "stream",
     "text": [
      "The pc matrix is\n",
      " [[1. 1. 1. 0. 0. 0. 0. 0. 0. 0.]\n",
      " [1. 1. 0. 1. 1. 0. 0. 0. 0. 0.]\n",
      " [0. 1. 1. 0. 1. 1. 1. 1. 0. 0.]\n",
      " [0. 0. 0. 1. 0. 0. 0. 1. 0. 0.]\n",
      " [1. 0. 1. 1. 1. 1. 0. 1. 1. 1.]\n",
      " [1. 1. 1. 1. 1. 1. 1. 1. 1. 1.]\n",
      " [1. 1. 1. 0. 1. 0. 1. 0. 1. 0.]\n",
      " [1. 1. 1. 0. 1. 0. 0. 1. 1. 0.]]\n",
      "The rp matrix is\n",
      " [[1. 0. 0. 0. 0. 0. 0. 0.]\n",
      " [0. 1. 0. 0. 0. 0. 0. 0.]\n",
      " [0. 0. 1. 0. 0. 0. 0. 0.]\n",
      " [0. 0. 0. 1. 0. 0. 0. 0.]\n",
      " [0. 0. 0. 1. 1. 0. 0. 0.]\n",
      " [1. 1. 1. 1. 1. 1. 1. 1.]\n",
      " [1. 0. 0. 0. 0. 0. 1. 0.]\n",
      " [1. 0. 0. 0. 0. 0. 0. 1.]]\n"
     ]
    }
   ],
   "source": [
    "# permission-constraint matrix\n",
    "pc=mat(zeros((n_p,n_uc)))\n",
    "for rule in RU:\n",
    "  user_cons=rule['expressions'][0]['eu']\n",
    "  resource_cons=rule['expressions'][0]['er']\n",
    "  operations=rule['operations']\n",
    "  p_id=get_item_id((resource_cons,operations),Permission)\n",
    "  for uc_key in user_cons.keys():\n",
    "    uc = {uc_key:user_cons[uc_key]}\n",
    "    c_id=get_item_id(uc,UC)\n",
    "    if(c_id==None):\n",
    "      continue\n",
    "    pc[p_id,c_id]=1\n",
    "print(f'The pc matrix is\\n {pc}')\n",
    "rp=mat(diag(array(ones(n_p))))\n",
    "for i in range(n_p-1):\n",
    "  for j in range(i+1,n_p):\n",
    "    if (cover(pc[i,],pc[j,])):\n",
    "      rp[i,j]=1\n",
    "    if (cover(pc[j,],pc[i,])):\n",
    "      rp[j,i]=1\n",
    "\n",
    "print(f'The rp matrix is\\n {rp}')"
   ]
  },
  {
   "cell_type": "code",
   "execution_count": 84,
   "metadata": {
    "colab": {
     "base_uri": "https://localhost:8080/"
    },
    "id": "71MHQzP6_CxL",
    "outputId": "80602323-88ad-4d90-b118-e52a217aa4ba"
   },
   "outputs": [
    {
     "name": "stdout",
     "output_type": "stream",
     "text": [
      "User {'uattrib2': '{2a}', 'uattrib3': '{3a}', 'uattrib4': '{4a}', 'uattrib7': '{7a}', 'uattrib8': '{8a}', 'uattrib9': '{9a}', 'uid': 'user1'}, role: [0]\n",
      "User {'uattrib0': '{0a}', 'uattrib1': '{1a}', 'uattrib2': '{2a}', 'uattrib3': '{3a}', 'uattrib6': '{6a}', 'uattrib8': '{8a}', 'uattrib9': '{9a}', 'uid': 'user2'}, role: [1]\n",
      "User {'uattrib1': '{1a}', 'uattrib2': '{2a}', 'uattrib4': '{4a}', 'uattrib5': '{5a}', 'uattrib6': '{6a}', 'uattrib7': '{7a}', 'uattrib8': '{8a}', 'uattrib9': '{9a}', 'uid': 'user3'}, role: [2, 3]\n",
      "User {'uattrib1': '{1a}', 'uattrib5': '{5a}', 'uattrib6': '{6a}', 'uattrib7': '{7a}', 'uattrib9': '{9a}', 'uid': 'user4'}, role: [3]\n",
      "User {'uattrib0': '{0a}', 'uattrib1': '{1a}', 'uattrib2': '{2a}', 'uattrib3': '{3a}', 'uattrib4': '{4a}', 'uattrib5': '{5a}', 'uattrib6': '{6a}', 'uattrib7': '{7a}', 'uattrib8': '{8a}', 'uattrib9': '{9a}', 'uid': 'user5'}, role: [3, 5]\n",
      "User {'uattrib0': '{0a}', 'uattrib1': '{1a}', 'uattrib2': '{2a}', 'uattrib3': '{3a}', 'uattrib4': '{4a}', 'uattrib5': '{5a}', 'uattrib6': '{6a}', 'uattrib7': '{7a}', 'uattrib8': '{8a}', 'uattrib9': '{9a}', 'uid': 'user6'}, role: [3, 5]\n",
      "User {'uattrib0': '{0a}', 'uattrib1': '{1a}', 'uattrib2': '{2a}', 'uattrib3': '{3a}', 'uattrib4': '{4a}', 'uattrib5': '{5a}', 'uattrib6': '{6a}', 'uattrib7': '{7a}', 'uattrib8': '{8a}', 'uattrib9': '{9a}', 'uid': 'user7'}, role: [3, 5]\n",
      "User {'uattrib1': '{1a}', 'uattrib3': '{3a}', 'uattrib4': '{4a}', 'uattrib5': '{5a}', 'uattrib6': '{6a}', 'uattrib7': '{7a}', 'uattrib8': '{8a}', 'uid': 'user8'}, role: [3]\n",
      "The role-hierarchy relationship:  [(5, 0), (6, 0), (7, 0), (5, 1), (5, 2), (4, 3), (5, 3), (5, 4), (5, 6), (5, 7)]\n",
      "Role：0, Number:5,  Permissions: [({'rattrib0': '{0w}', 'rattrib2': '{2w}', 'rattrib3': '{3w}', 'rattrib4': '{4w}', 'rattrib6': '{6w}', 'rattrib7': '{7w}', 'rattrib8': '{8w}', 'rattrib9': '{9w}', 'rid': 'resource1'}, 'access'), ({'rattrib0': '{0w}', 'rattrib2': '{2w}', 'rattrib3': '{3w}', 'rattrib4': '{4w}', 'rattrib5': '{5w}', 'rattrib6': '{6w}', 'rattrib7': '{7w}', 'rattrib8': '{8w}', 'rattrib9': '{9w}', 'rid': 'resource5'}, 'access'), ({'rattrib0': '{0w}', 'rattrib1': '{1w}', 'rattrib2': '{2w}', 'rattrib3': '{3w}', 'rattrib4': '{4w}', 'rattrib5': '{5w}', 'rattrib6': '{6w}', 'rattrib7': '{7w}', 'rattrib8': '{8w}', 'rattrib9': '{9w}', 'rid': 'resource6'}, 'access'), ({'rattrib0': '{0w}', 'rattrib1': '{1w}', 'rattrib2': '{2w}', 'rattrib3': '{3w}', 'rattrib4': '{4w}', 'rattrib5': '{5w}', 'rattrib6': '{6w}', 'rattrib7': '{7w}', 'rattrib8': '{8w}', 'rattrib9': '{9w}', 'rid': 'resource7'}, 'access'), ({'rattrib0': '{0w}', 'rattrib1': '{1w}', 'rattrib2': '{2w}', 'rattrib3': '{3w}', 'rattrib4': '{4w}', 'rattrib5': '{5w}', 'rattrib6': '{6w}', 'rattrib7': '{7w}', 'rattrib8': '{8w}', 'rattrib9': '{9w}', 'rid': 'resource8'}, 'access')]\n",
      "Role：1, Number:6,  Permissions: [({'rattrib0': '{0w}', 'rattrib3': '{3w}', 'rattrib5': '{5w}', 'rattrib7': '{7w}', 'rattrib8': '{8w}', 'rattrib9': '{9w}', 'rid': 'resource2'}, 'access'), ({'rattrib0': '{0w}', 'rattrib1': '{1w}', 'rattrib3': '{3w}', 'rattrib4': '{4w}', 'rattrib5': '{5w}', 'rattrib6': '{6w}', 'rattrib7': '{7w}', 'rattrib8': '{8w}', 'rattrib9': '{9w}', 'rid': 'resource4'}, 'access'), ({'rattrib0': '{0w}', 'rattrib2': '{2w}', 'rattrib3': '{3w}', 'rattrib4': '{4w}', 'rattrib5': '{5w}', 'rattrib6': '{6w}', 'rattrib7': '{7w}', 'rattrib8': '{8w}', 'rattrib9': '{9w}', 'rid': 'resource5'}, 'access'), ({'rattrib0': '{0w}', 'rattrib1': '{1w}', 'rattrib2': '{2w}', 'rattrib3': '{3w}', 'rattrib4': '{4w}', 'rattrib5': '{5w}', 'rattrib6': '{6w}', 'rattrib7': '{7w}', 'rattrib8': '{8w}', 'rattrib9': '{9w}', 'rid': 'resource6'}, 'access'), ({'rattrib0': '{0w}', 'rattrib1': '{1w}', 'rattrib2': '{2w}', 'rattrib3': '{3w}', 'rattrib4': '{4w}', 'rattrib5': '{5w}', 'rattrib6': '{6w}', 'rattrib7': '{7w}', 'rattrib8': '{8w}', 'rattrib9': '{9w}', 'rid': 'resource7'}, 'access'), ({'rattrib0': '{0w}', 'rattrib1': '{1w}', 'rattrib2': '{2w}', 'rattrib3': '{3w}', 'rattrib4': '{4w}', 'rattrib5': '{5w}', 'rattrib6': '{6w}', 'rattrib7': '{7w}', 'rattrib8': '{8w}', 'rattrib9': '{9w}', 'rid': 'resource8'}, 'access')]\n",
      "Role：2, Number:5,  Permissions: [({'rattrib1': '{1w}', 'rattrib4': '{4w}', 'rattrib5': '{5w}', 'rattrib6': '{6w}', 'rattrib7': '{7w}', 'rid': 'resource3'}, 'access'), ({'rattrib0': '{0w}', 'rattrib1': '{1w}', 'rattrib3': '{3w}', 'rattrib4': '{4w}', 'rattrib5': '{5w}', 'rattrib6': '{6w}', 'rattrib7': '{7w}', 'rattrib8': '{8w}', 'rattrib9': '{9w}', 'rid': 'resource4'}, 'access'), ({'rattrib0': '{0w}', 'rattrib1': '{1w}', 'rattrib2': '{2w}', 'rattrib3': '{3w}', 'rattrib4': '{4w}', 'rattrib5': '{5w}', 'rattrib6': '{6w}', 'rattrib7': '{7w}', 'rattrib8': '{8w}', 'rattrib9': '{9w}', 'rid': 'resource6'}, 'access'), ({'rattrib0': '{0w}', 'rattrib1': '{1w}', 'rattrib2': '{2w}', 'rattrib3': '{3w}', 'rattrib4': '{4w}', 'rattrib5': '{5w}', 'rattrib6': '{6w}', 'rattrib7': '{7w}', 'rattrib8': '{8w}', 'rattrib9': '{9w}', 'rid': 'resource7'}, 'access'), ({'rattrib0': '{0w}', 'rattrib1': '{1w}', 'rattrib2': '{2w}', 'rattrib3': '{3w}', 'rattrib4': '{4w}', 'rattrib5': '{5w}', 'rattrib6': '{6w}', 'rattrib7': '{7w}', 'rattrib8': '{8w}', 'rattrib9': '{9w}', 'rid': 'resource8'}, 'access')]\n",
      "Role：3, Number:4,  Permissions: [({'rattrib0': '{0w}', 'rattrib1': '{1w}', 'rattrib3': '{3w}', 'rattrib4': '{4w}', 'rattrib5': '{5w}', 'rattrib6': '{6w}', 'rattrib7': '{7w}', 'rattrib8': '{8w}', 'rattrib9': '{9w}', 'rid': 'resource4'}, 'access'), ({'rattrib0': '{0w}', 'rattrib1': '{1w}', 'rattrib2': '{2w}', 'rattrib3': '{3w}', 'rattrib4': '{4w}', 'rattrib5': '{5w}', 'rattrib6': '{6w}', 'rattrib7': '{7w}', 'rattrib8': '{8w}', 'rattrib9': '{9w}', 'rid': 'resource6'}, 'access'), ({'rattrib0': '{0w}', 'rattrib1': '{1w}', 'rattrib2': '{2w}', 'rattrib3': '{3w}', 'rattrib4': '{4w}', 'rattrib5': '{5w}', 'rattrib6': '{6w}', 'rattrib7': '{7w}', 'rattrib8': '{8w}', 'rattrib9': '{9w}', 'rid': 'resource7'}, 'access'), ({'rattrib0': '{0w}', 'rattrib1': '{1w}', 'rattrib2': '{2w}', 'rattrib3': '{3w}', 'rattrib4': '{4w}', 'rattrib5': '{5w}', 'rattrib6': '{6w}', 'rattrib7': '{7w}', 'rattrib8': '{8w}', 'rattrib9': '{9w}', 'rid': 'resource8'}, 'access')]\n",
      "Role：4, Number:5,  Permissions: [({'rattrib0': '{0w}', 'rattrib1': '{1w}', 'rattrib3': '{3w}', 'rattrib4': '{4w}', 'rattrib5': '{5w}', 'rattrib6': '{6w}', 'rattrib7': '{7w}', 'rattrib8': '{8w}', 'rattrib9': '{9w}', 'rid': 'resource4'}, 'access'), ({'rattrib0': '{0w}', 'rattrib2': '{2w}', 'rattrib3': '{3w}', 'rattrib4': '{4w}', 'rattrib5': '{5w}', 'rattrib6': '{6w}', 'rattrib7': '{7w}', 'rattrib8': '{8w}', 'rattrib9': '{9w}', 'rid': 'resource5'}, 'access'), ({'rattrib0': '{0w}', 'rattrib1': '{1w}', 'rattrib2': '{2w}', 'rattrib3': '{3w}', 'rattrib4': '{4w}', 'rattrib5': '{5w}', 'rattrib6': '{6w}', 'rattrib7': '{7w}', 'rattrib8': '{8w}', 'rattrib9': '{9w}', 'rid': 'resource6'}, 'access'), ({'rattrib0': '{0w}', 'rattrib1': '{1w}', 'rattrib2': '{2w}', 'rattrib3': '{3w}', 'rattrib4': '{4w}', 'rattrib5': '{5w}', 'rattrib6': '{6w}', 'rattrib7': '{7w}', 'rattrib8': '{8w}', 'rattrib9': '{9w}', 'rid': 'resource7'}, 'access'), ({'rattrib0': '{0w}', 'rattrib1': '{1w}', 'rattrib2': '{2w}', 'rattrib3': '{3w}', 'rattrib4': '{4w}', 'rattrib5': '{5w}', 'rattrib6': '{6w}', 'rattrib7': '{7w}', 'rattrib8': '{8w}', 'rattrib9': '{9w}', 'rid': 'resource8'}, 'access')]\n",
      "Role：5, Number:8,  Permissions: [({'rattrib0': '{0w}', 'rattrib2': '{2w}', 'rattrib3': '{3w}', 'rattrib4': '{4w}', 'rattrib6': '{6w}', 'rattrib7': '{7w}', 'rattrib8': '{8w}', 'rattrib9': '{9w}', 'rid': 'resource1'}, 'access'), ({'rattrib0': '{0w}', 'rattrib3': '{3w}', 'rattrib5': '{5w}', 'rattrib7': '{7w}', 'rattrib8': '{8w}', 'rattrib9': '{9w}', 'rid': 'resource2'}, 'access'), ({'rattrib1': '{1w}', 'rattrib4': '{4w}', 'rattrib5': '{5w}', 'rattrib6': '{6w}', 'rattrib7': '{7w}', 'rid': 'resource3'}, 'access'), ({'rattrib0': '{0w}', 'rattrib1': '{1w}', 'rattrib3': '{3w}', 'rattrib4': '{4w}', 'rattrib5': '{5w}', 'rattrib6': '{6w}', 'rattrib7': '{7w}', 'rattrib8': '{8w}', 'rattrib9': '{9w}', 'rid': 'resource4'}, 'access'), ({'rattrib0': '{0w}', 'rattrib2': '{2w}', 'rattrib3': '{3w}', 'rattrib4': '{4w}', 'rattrib5': '{5w}', 'rattrib6': '{6w}', 'rattrib7': '{7w}', 'rattrib8': '{8w}', 'rattrib9': '{9w}', 'rid': 'resource5'}, 'access'), ({'rattrib0': '{0w}', 'rattrib1': '{1w}', 'rattrib2': '{2w}', 'rattrib3': '{3w}', 'rattrib4': '{4w}', 'rattrib5': '{5w}', 'rattrib6': '{6w}', 'rattrib7': '{7w}', 'rattrib8': '{8w}', 'rattrib9': '{9w}', 'rid': 'resource6'}, 'access'), ({'rattrib0': '{0w}', 'rattrib1': '{1w}', 'rattrib2': '{2w}', 'rattrib3': '{3w}', 'rattrib4': '{4w}', 'rattrib5': '{5w}', 'rattrib6': '{6w}', 'rattrib7': '{7w}', 'rattrib8': '{8w}', 'rattrib9': '{9w}', 'rid': 'resource7'}, 'access'), ({'rattrib0': '{0w}', 'rattrib1': '{1w}', 'rattrib2': '{2w}', 'rattrib3': '{3w}', 'rattrib4': '{4w}', 'rattrib5': '{5w}', 'rattrib6': '{6w}', 'rattrib7': '{7w}', 'rattrib8': '{8w}', 'rattrib9': '{9w}', 'rid': 'resource8'}, 'access')]\n",
      "Role：6, Number:5,  Permissions: [({'rattrib0': '{0w}', 'rattrib2': '{2w}', 'rattrib3': '{3w}', 'rattrib4': '{4w}', 'rattrib6': '{6w}', 'rattrib7': '{7w}', 'rattrib8': '{8w}', 'rattrib9': '{9w}', 'rid': 'resource1'}, 'access'), ({'rattrib0': '{0w}', 'rattrib2': '{2w}', 'rattrib3': '{3w}', 'rattrib4': '{4w}', 'rattrib5': '{5w}', 'rattrib6': '{6w}', 'rattrib7': '{7w}', 'rattrib8': '{8w}', 'rattrib9': '{9w}', 'rid': 'resource5'}, 'access'), ({'rattrib0': '{0w}', 'rattrib1': '{1w}', 'rattrib2': '{2w}', 'rattrib3': '{3w}', 'rattrib4': '{4w}', 'rattrib5': '{5w}', 'rattrib6': '{6w}', 'rattrib7': '{7w}', 'rattrib8': '{8w}', 'rattrib9': '{9w}', 'rid': 'resource6'}, 'access'), ({'rattrib0': '{0w}', 'rattrib1': '{1w}', 'rattrib2': '{2w}', 'rattrib3': '{3w}', 'rattrib4': '{4w}', 'rattrib5': '{5w}', 'rattrib6': '{6w}', 'rattrib7': '{7w}', 'rattrib8': '{8w}', 'rattrib9': '{9w}', 'rid': 'resource7'}, 'access'), ({'rattrib0': '{0w}', 'rattrib1': '{1w}', 'rattrib2': '{2w}', 'rattrib3': '{3w}', 'rattrib4': '{4w}', 'rattrib5': '{5w}', 'rattrib6': '{6w}', 'rattrib7': '{7w}', 'rattrib8': '{8w}', 'rattrib9': '{9w}', 'rid': 'resource8'}, 'access')]\n",
      "Role：7, Number:5,  Permissions: [({'rattrib0': '{0w}', 'rattrib2': '{2w}', 'rattrib3': '{3w}', 'rattrib4': '{4w}', 'rattrib6': '{6w}', 'rattrib7': '{7w}', 'rattrib8': '{8w}', 'rattrib9': '{9w}', 'rid': 'resource1'}, 'access'), ({'rattrib0': '{0w}', 'rattrib2': '{2w}', 'rattrib3': '{3w}', 'rattrib4': '{4w}', 'rattrib5': '{5w}', 'rattrib6': '{6w}', 'rattrib7': '{7w}', 'rattrib8': '{8w}', 'rattrib9': '{9w}', 'rid': 'resource5'}, 'access'), ({'rattrib0': '{0w}', 'rattrib1': '{1w}', 'rattrib2': '{2w}', 'rattrib3': '{3w}', 'rattrib4': '{4w}', 'rattrib5': '{5w}', 'rattrib6': '{6w}', 'rattrib7': '{7w}', 'rattrib8': '{8w}', 'rattrib9': '{9w}', 'rid': 'resource6'}, 'access'), ({'rattrib0': '{0w}', 'rattrib1': '{1w}', 'rattrib2': '{2w}', 'rattrib3': '{3w}', 'rattrib4': '{4w}', 'rattrib5': '{5w}', 'rattrib6': '{6w}', 'rattrib7': '{7w}', 'rattrib8': '{8w}', 'rattrib9': '{9w}', 'rid': 'resource7'}, 'access'), ({'rattrib0': '{0w}', 'rattrib1': '{1w}', 'rattrib2': '{2w}', 'rattrib3': '{3w}', 'rattrib4': '{4w}', 'rattrib5': '{5w}', 'rattrib6': '{6w}', 'rattrib7': '{7w}', 'rattrib8': '{8w}', 'rattrib9': '{9w}', 'rid': 'resource8'}, 'access')]\n",
      "Number of user-role assignment:12,Number of role-permission assignment:43\n"
     ]
    }
   ],
   "source": [
    "def rest_of(l,r):\n",
    "  vector = mat(zeros((1,n_uc)))\n",
    "  for role in l:\n",
    "    if role != r:\n",
    "      vector = vector + rc[role,]\n",
    "  for i in range(n_uc):\n",
    "    if vector[0,i]>0:\n",
    "      vector[0,i]=1\n",
    "  return vector\n",
    "num_ur=0;\n",
    "num_rp=0\n",
    "import copy\n",
    "# User role assignment \n",
    "n_r=n_p\n",
    "rc=pc\n",
    "URA = dict()\n",
    "for u in U:\n",
    "  URA[u['uid']]=[]\n",
    "  uv=mat(ones((1,n_uc)))\n",
    "  for cid in range(n_uc):\n",
    "    expressions=[{'eu':UC[cid],'er':{}}]\n",
    "    if satisfied(u,None,expressions)==False:\n",
    "      uv[0,cid]=0\n",
    "  for rid in range(n_r):\n",
    "    if cover(uv,rc[rid,]):\n",
    "      URA[u['uid']].append(rid)\n",
    "\n",
    "# remove hierarchy\n",
    "  for ri in URA[u['uid']]:\n",
    "    rest = URA[u['uid']].copy()\n",
    "    rest.remove(ri)\n",
    "\n",
    "    for rj in rest:\n",
    "      if cover(rc[rj,],rc[ri,]) and ri in URA[u['uid']]:\n",
    "        URA[u['uid']].remove(ri)\n",
    "#remove redundant\n",
    "  for r in URA[u['uid']]:\n",
    "    if len(URA[u['uid']])==1:\n",
    "      break\n",
    "    if cover(rest_of(URA[u['uid']],r),rc[r,]):\n",
    "      URA[u['uid']].remove(r)\n",
    "\n",
    "  ura =  URA[u['uid']]\n",
    "  num_ur=num_ur+len(ura)\n",
    "\n",
    "  print(f'User {u}, role: {ura}')\n",
    "#print(f'The user-role assignment:  {URA}')\n",
    " # print(f'The role-permission assignment:  {RPA}')\n",
    "\n",
    "# generate the role-heirarchy\n",
    "RH = []\n",
    "for i in range(0,n_r-1):\n",
    "  for j in range(i+1,n_r):\n",
    "    if (cover(pc[i,],pc[j,])):\n",
    "      RH.append((i,j))\n",
    "    if (cover(pc[j,],pc[i,])):\n",
    "      RH.append((j,i))    \n",
    "print(f'The role-hierarchy relationship:  {RH}')\n",
    "# generate the role-permission assignment\n",
    "RPA = dict()\n",
    "for ro in range(n_r):\n",
    "  RPA['role'+str(ro)]=[]\n",
    "  for r in R:\n",
    "    for o in O:\n",
    "      for pid in range(n_p):\n",
    "        if rp[ro,pid]==1:\n",
    "          (er,operations) = Permission[pid]\n",
    "          #print(er,r)\n",
    "          expressions=[{'eu':{},'er':er}]\n",
    "          #print(satisfied(None,r,expressions))\n",
    "          if satisfied(None,r,expressions) and o in operations:\n",
    "            if((r,o) not in RPA['role'+str(ro)]):\n",
    "              RPA['role'+str(ro)].append((r,o))\n",
    "\n",
    "\n",
    "for ro in range(n_r):\n",
    "  p=RPA['role'+str(ro)]\n",
    "  num_rp=num_rp+len(p)\n",
    "  print(f'Role：{ro}, Number:{len(p)},  Permissions: {p}')\n",
    "\n",
    "print(f'Number of user-role assignment:{num_ur},Number of role-permission assignment:{num_rp}')"
   ]
  },
  {
   "cell_type": "code",
   "execution_count": 85,
   "metadata": {
    "colab": {
     "base_uri": "https://localhost:8080/"
    },
    "id": "UVKpGB3cNBoC",
    "outputId": "8e27bf44-8504-4f8e-fd15-f2df894f57b7"
   },
   "outputs": [
    {
     "name": "stdout",
     "output_type": "stream",
     "text": [
      "For RBAC:\n",
      "Number of allow:48\n",
      "Number of deny:16\n"
     ]
    }
   ],
   "source": [
    "# check RBAC policy\n",
    "def check_RBAC_policy(request,rp,URA):\n",
    "  u,r,o =request\n",
    "  for role_id in URA[u['uid']]:\n",
    "    for pid in range(n_p):\n",
    "      if rp[role_id,pid]==1:\n",
    "        (er,operations) = Permission[pid]\n",
    "        expressions=[{'eu':{},'er':er}]\n",
    "        if satisfied(u,r,expressions) and o in operations:\n",
    "          return True\n",
    "\n",
    "\n",
    "  return False\n",
    "# Check the RBAC\n",
    "# check the RBAC policy \n",
    "\n",
    "number_allow=0\n",
    "number_deny=0\n",
    "for u in U:\n",
    "  for r in R:\n",
    "    for o in O:\n",
    "      if(check_RBAC_policy((u,r,o),rp,URA)==True):\n",
    "        number_allow= number_allow+1\n",
    "      else:\n",
    "        number_deny =number_deny +1 \n",
    "        #print(f'{u}\\n{r}\\n{o}\\n \\n')\n",
    "\n",
    "print(f'For RBAC:\\nNumber of allow:{number_allow}\\nNumber of deny:{number_deny}')"
   ]
  },
  {
   "cell_type": "code",
   "execution_count": 86,
   "metadata": {
    "colab": {
     "base_uri": "https://localhost:8080/"
    },
    "id": "tlQiFsdHNO7N",
    "outputId": "51508e27-c4ce-42be-d739-45e7f1c8b494"
   },
   "outputs": [
    {
     "name": "stdout",
     "output_type": "stream",
     "text": [
      "For RBAC:\n",
      "Number of allow:48\n",
      "Number of deny:16\n",
      "For ABAC:\n",
      "Number of allow:48\n",
      "Number of deny:16\n",
      "For number of correct:64\n"
     ]
    }
   ],
   "source": [
    "\n",
    "# check the RBAC policy \n",
    "number_allow=0\n",
    "number_deny=0\n",
    "for u in U:\n",
    "  for r in R:\n",
    "    for o in O:\n",
    "      if(check_RBAC_policy((u,r,o),rp,URA)==True):\n",
    "        number_allow= number_allow+1\n",
    "      else:\n",
    "        number_deny =number_deny +1 \n",
    "        #print(f'{u}\\n{r}\\n{o}\\n \\n')\n",
    "\n",
    "print(f'For RBAC:\\nNumber of allow:{number_allow}\\nNumber of deny:{number_deny}')\n",
    "\n",
    "# check the ABAC policy \n",
    "number_allow=0\n",
    "number_deny=0\n",
    "m= []\n",
    "for u in U:\n",
    "  l = []\n",
    "  for r in R:\n",
    "    for o in O:\n",
    "      if(check_ABAC_policy((u,r,o),ABAC_policy)==True):\n",
    "        l.append(1)\n",
    "        number_allow= number_allow+1\n",
    "      else:\n",
    "        number_deny =number_deny +1 \n",
    "        l.append(0)\n",
    "        #print(f'{u}\\n{r}\\n{o}\\n \\n')\n",
    "  m.append(l)\n",
    "\n",
    "print(f'For ABAC:\\nNumber of allow:{number_allow}\\nNumber of deny:{number_deny}')\n",
    "#for i in m:\n",
    "#  print(i)\n",
    "#number_allow=0\n",
    "#number_deny=0\n",
    "\n",
    "correct=0\n",
    "for u in U:\n",
    " \n",
    "  for r in R:\n",
    "    for o in O:\n",
    "      if (check_ABAC_policy((u,r,o),ABAC_policy)==True and check_RBAC_policy((u,r,o),rp,URA)==False):\n",
    "        print(f'TF{u} {r} {o}')\n",
    "      elif (check_ABAC_policy((u,r,o),ABAC_policy)==False and check_RBAC_policy((u,r,o),rp,URA)==True):\n",
    "        print(f'FT{u} {r} {o}')\n",
    "        #number_allow= number_allow+1\n",
    "      elif (check_ABAC_policy((u,r,o),ABAC_policy)==True and check_RBAC_policy((u,r,o),rp,URA)==True):\n",
    "        correct = correct +1\n",
    "      elif (check_ABAC_policy((u,r,o),ABAC_policy)==False and check_RBAC_policy((u,r,o),rp,URA)==False):\n",
    "        correct = correct +1\n",
    "        #number_deny =number_deny +1 \n",
    "        #print(f'{u}\\n{r}\\n{o}\\n \\n')\n",
    "\n",
    "print(f'For number of correct:{correct}')\n"
   ]
  },
  {
   "cell_type": "code",
   "execution_count": null,
   "metadata": {},
   "outputs": [],
   "source": []
  },
  {
   "cell_type": "code",
   "execution_count": null,
   "metadata": {},
   "outputs": [],
   "source": []
  }
 ],
 "metadata": {
  "colab": {
   "collapsed_sections": [],
   "name": "Migration_evaluation.ipynb",
   "provenance": []
  },
  "kernelspec": {
   "display_name": "Python 3",
   "language": "python",
   "name": "python3"
  },
  "language_info": {
   "codemirror_mode": {
    "name": "ipython",
    "version": 3
   },
   "file_extension": ".py",
   "mimetype": "text/x-python",
   "name": "python",
   "nbconvert_exporter": "python",
   "pygments_lexer": "ipython3",
   "version": "3.7.0"
  }
 },
 "nbformat": 4,
 "nbformat_minor": 1
}
