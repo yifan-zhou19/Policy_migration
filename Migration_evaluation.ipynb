{
  "nbformat": 4,
  "nbformat_minor": 0,
  "metadata": {
    "colab": {
      "name": "Migration_evaluation.ipynb",
      "provenance": [],
      "collapsed_sections": [],
      "authorship_tag": "ABX9TyOU+Kk+AIah8CJCt9gjE5pm",
      "include_colab_link": true
    },
    "kernelspec": {
      "name": "python3",
      "display_name": "Python 3"
    }
  },
  "cells": [
    {
      "cell_type": "markdown",
      "metadata": {
        "id": "view-in-github",
        "colab_type": "text"
      },
      "source": [
        "<a href=\"https://colab.research.google.com/github/yifan-zhou19/Policy_migration/blob/master/Migration_evaluation.ipynb\" target=\"_parent\"><img src=\"https://colab.research.google.com/assets/colab-badge.svg\" alt=\"Open In Colab\"/></a>"
      ]
    },
    {
      "cell_type": "markdown",
      "metadata": {
        "id": "GbAy8rv6kpFH"
      },
      "source": [
        "# Policy migration using randomly generated datasets"
      ]
    },
    {
      "cell_type": "markdown",
      "metadata": {
        "id": "tOhQyRwWk0EU"
      },
      "source": [
        "## Preparing the datasets"
      ]
    },
    {
      "cell_type": "code",
      "metadata": {
        "id": "WVSoMHRIEEkm",
        "colab": {
          "base_uri": "https://localhost:8080/"
        },
        "outputId": "3433dc6e-27ab-4d41-b424-230a51c61ba9"
      },
      "source": [
        "! git clone https://github.com/yifan-zhou19/Policy_migration.git migration"
      ],
      "execution_count": 1,
      "outputs": [
        {
          "output_type": "stream",
          "text": [
            "Cloning into 'migration'...\n",
            "remote: Enumerating objects: 15, done.\u001b[K\n",
            "remote: Counting objects: 100% (15/15), done.\u001b[K\n",
            "remote: Compressing objects: 100% (15/15), done.\u001b[K\n",
            "remote: Total 129 (delta 5), reused 0 (delta 0), pack-reused 114\u001b[K\n",
            "Receiving objects: 100% (129/129), 1.35 MiB | 14.39 MiB/s, done.\n",
            "Resolving deltas: 100% (69/69), done.\n"
          ],
          "name": "stdout"
        }
      ]
    },
    {
      "cell_type": "code",
      "metadata": {
        "id": "XuXw7X1RE9Y-",
        "colab": {
          "base_uri": "https://localhost:8080/"
        },
        "outputId": "1d317bcf-9656-42de-bb34-a531f4543956"
      },
      "source": [
        "! ls migration/"
      ],
      "execution_count": 2,
      "outputs": [
        {
          "output_type": "stream",
          "text": [
            "'100 50 10 10 50 1 4'\t 'Data3 200 50 10 10 100 1 4'   Uni_matrix.ipynb\n",
            "'50 50 10 10 50 1 4'\t 'Data 50 50 50 50 50 1 4'      Video_matrix.ipynb\n",
            "'8 8 10 10 10 1 1'\t  Migration_evaluation.ipynb\n",
            "'Data2 200 50 10 10 10'   README.md\n"
          ],
          "name": "stdout"
        }
      ]
    },
    {
      "cell_type": "markdown",
      "metadata": {
        "id": "NkY8-QlVk_SI"
      },
      "source": [
        "## Extract policies"
      ]
    },
    {
      "cell_type": "code",
      "metadata": {
        "id": "xtST7bj5Js8r",
        "colab": {
          "base_uri": "https://localhost:8080/"
        },
        "outputId": "3ca50258-05ee-4d53-83fd-e567d9f19358"
      },
      "source": [
        "# generate user\n",
        "#file = open(r'migration/Data3 200 50 10 10 100 1 4/policy.txt' , 'r')\n",
        "#file = open(r'migration/Data2 200 50 10 10 10/policy.txt' , 'r')\n",
        "file = open(r'migration/50 50 10 10 50 1 4/policy.txt' , 'r')\n",
        "line = file.readline() \n",
        "RU=[]      \n",
        "while line: \n",
        "  rule=dict()\n",
        "  rule['expressions']=[{'eu':{},'er':{}}]\n",
        "  rule['operations']=['access']\n",
        "  rule['decision']='allow'\n",
        " # rule=dict('expressions':[{'eu':{},'er':{}}],'operations':['access'],'decision':'allow'), \n",
        "  \n",
        "  #print(line[:10])\n",
        "  #print(line, end = '')　\n",
        "  cons = line.strip().split(',')\n",
        "  for con in cons:\n",
        "    c = con.split('=')\n",
        "    if c[0][0]=='u':\n",
        "      rule['expressions'][0]['eu'][c[0]]=[('is',c[1])]\n",
        "    elif c[0][0]=='r':\n",
        "      #rule['er'][c[0]]=c[1]\n",
        "      rule['expressions'][0]['er'][c[0]]=[('is',c[1])]\n",
        "\n",
        "  \n",
        "  RU.append(rule)\n",
        "\n",
        "  #break\n",
        "  line = file.readline() \n",
        "print(f'Number of policies:{len(RU)}')\n",
        "for i in RU:\n",
        "  print(i)\n",
        " \n",
        "file.close() "
      ],
      "execution_count": 6,
      "outputs": [
        {
          "output_type": "stream",
          "text": [
            "Number of policies:50\n",
            "{'expressions': [{'eu': {'uattrib3': [('is', '{3a}')], 'uattrib9': [('is', '{9b}')], 'uattrib4': [('is', '{4c}')]}, 'er': {'rattrib7': [('is', '{7w}')], 'rattrib8': [('is', '{8w}')], 'rattrib2': [('is', '{2x}')], 'rattrib4': [('is', '{4w}')], 'rattrib6': [('is', '{6x}')], 'rattrib3': [('is', '{3w}')]}}], 'operations': ['access'], 'decision': 'allow'}\n",
            "{'expressions': [{'eu': {'uattrib6': [('is', '{6a}')], 'uattrib1': [('is', '{1d}')], 'uattrib9': [('is', '{9c}')], 'uattrib3': [('is', '{3a}')]}, 'er': {'rattrib7': [('is', '{7w}')], 'rattrib9': [('is', '{9w}')], 'rattrib5': [('is', '{5y}')]}}], 'operations': ['access'], 'decision': 'allow'}\n",
            "{'expressions': [{'eu': {'uattrib8': [('is', '{8a}')], 'uattrib7': [('is', '{7b}')], 'uattrib4': [('is', '{4d}')], 'uattrib9': [('is', '{9b}')], 'uattrib1': [('is', '{1c}')], 'uattrib5': [('is', '{5d}')]}, 'er': {'rattrib1': [('is', '{1z}')], 'rattrib5': [('is', '{5y}')]}}], 'operations': ['access'], 'decision': 'allow'}\n",
            "{'expressions': [{'eu': {'uattrib5': [('is', '{5b}')], 'uattrib6': [('is', '{6d}')]}, 'er': {'rattrib3': [('is', '{3y}')], 'rattrib9': [('is', '{9y}')], 'rattrib1': [('is', '{1z}')], 'rattrib0': [('is', '{0y}')], 'rattrib8': [('is', '{8y}')], 'rattrib7': [('is', '{7x}')], 'rattrib4': [('is', '{4y}')], 'rattrib5': [('is', '{5x}')]}}], 'operations': ['access'], 'decision': 'allow'}\n",
            "{'expressions': [{'eu': {'uattrib1': [('is', '{1d}')], 'uattrib3': [('is', '{3c}')], 'uattrib2': [('is', '{2d}')], 'uattrib0': [('is', '{0a}')], 'uattrib4': [('is', '{4c}')], 'uattrib8': [('is', '{8c}')], 'uattrib6': [('is', '{6d}')], 'uattrib5': [('is', '{5b}')]}, 'er': {'rattrib6': [('is', '{6w}')], 'rattrib4': [('is', '{4x}')], 'rattrib0': [('is', '{0y}')], 'rattrib9': [('is', '{9w}')], 'rattrib5': [('is', '{5y}')], 'rattrib3': [('is', '{3w}')], 'rattrib7': [('is', '{7z}')], 'rattrib8': [('is', '{8y}')], 'rattrib2': [('is', '{2z}')]}}], 'operations': ['access'], 'decision': 'allow'}\n",
            "{'expressions': [{'eu': {'uattrib7': [('is', '{7c}')], 'uattrib8': [('is', '{8b}')]}, 'er': {'rattrib4': [('is', '{4w}')], 'rattrib7': [('is', '{7z}')], 'rattrib5': [('is', '{5w}')], 'rattrib1': [('is', '{1z}')], 'rattrib0': [('is', '{0y}')], 'rattrib3': [('is', '{3x}')], 'rattrib9': [('is', '{9w}')], 'rattrib8': [('is', '{8z}')]}}], 'operations': ['access'], 'decision': 'allow'}\n",
            "{'expressions': [{'eu': {'uattrib8': [('is', '{8a}')], 'uattrib9': [('is', '{9d}')], 'uattrib6': [('is', '{6a}')], 'uattrib0': [('is', '{0a}')], 'uattrib5': [('is', '{5b}')], 'uattrib4': [('is', '{4a}')]}, 'er': {'rattrib4': [('is', '{4x}')], 'rattrib5': [('is', '{5x}')], 'rattrib8': [('is', '{8y}')], 'rattrib0': [('is', '{0z}')], 'rattrib3': [('is', '{3w}')], 'rattrib2': [('is', '{2y}')], 'rattrib7': [('is', '{7y}')], 'rattrib1': [('is', '{1w}')], 'rattrib9': [('is', '{9z}')]}}], 'operations': ['access'], 'decision': 'allow'}\n",
            "{'expressions': [{'eu': {'uattrib7': [('is', '{7b}')], 'uattrib0': [('is', '{0c}')], 'uattrib8': [('is', '{8d}')], 'uattrib1': [('is', '{1c}')], 'uattrib2': [('is', '{2c}')], 'uattrib3': [('is', '{3d}')], 'uattrib4': [('is', '{4a}')], 'uattrib6': [('is', '{6d}')]}, 'er': {'rattrib1': [('is', '{1y}')], 'rattrib6': [('is', '{6w}')]}}], 'operations': ['access'], 'decision': 'allow'}\n",
            "{'expressions': [{'eu': {'uattrib8': [('is', '{8c}')], 'uattrib2': [('is', '{2b}')], 'uattrib6': [('is', '{6c}')], 'uattrib7': [('is', '{7c}')], 'uattrib1': [('is', '{1b}')], 'uattrib0': [('is', '{0d}')], 'uattrib5': [('is', '{5a}')]}, 'er': {'rattrib1': [('is', '{1z}')], 'rattrib2': [('is', '{2w}')], 'rattrib3': [('is', '{3x}')], 'rattrib8': [('is', '{8x}')], 'rattrib0': [('is', '{0w}')]}}], 'operations': ['access'], 'decision': 'allow'}\n",
            "{'expressions': [{'eu': {'uattrib0': [('is', '{0b}')], 'uattrib1': [('is', '{1b}')], 'uattrib7': [('is', '{7c}')], 'uattrib6': [('is', '{6a}')], 'uattrib4': [('is', '{4b}')], 'uattrib8': [('is', '{8d}')], 'uattrib3': [('is', '{3a}')]}, 'er': {'rattrib7': [('is', '{7x}')], 'rattrib3': [('is', '{3w}')]}}], 'operations': ['access'], 'decision': 'allow'}\n",
            "{'expressions': [{'eu': {'uattrib7': [('is', '{7d}')], 'uattrib8': [('is', '{8b}')], 'uattrib4': [('is', '{4b}')], 'uattrib1': [('is', '{1a}')], 'uattrib5': [('is', '{5a}')], 'uattrib3': [('is', '{3b}')], 'uattrib2': [('is', '{2b}')], 'uattrib0': [('is', '{0d}')]}, 'er': {'rattrib4': [('is', '{4w}')], 'rattrib7': [('is', '{7x}')], 'rattrib5': [('is', '{5y}')], 'rattrib2': [('is', '{2w}')], 'rattrib6': [('is', '{6x}')]}}], 'operations': ['access'], 'decision': 'allow'}\n",
            "{'expressions': [{'eu': {'uattrib2': [('is', '{2d}')], 'uattrib0': [('is', '{0c}')], 'uattrib3': [('is', '{3b}')], 'uattrib9': [('is', '{9d}')], 'uattrib7': [('is', '{7a}')], 'uattrib1': [('is', '{1c}')], 'uattrib4': [('is', '{4d}')], 'uattrib5': [('is', '{5b}')], 'uattrib8': [('is', '{8d}')]}, 'er': {'rattrib2': [('is', '{2y}')], 'rattrib7': [('is', '{7z}')], 'rattrib4': [('is', '{4w}')], 'rattrib9': [('is', '{9w}')], 'rattrib8': [('is', '{8x}')], 'rattrib0': [('is', '{0z}')], 'rattrib5': [('is', '{5w}')], 'rattrib3': [('is', '{3y}')]}}], 'operations': ['access'], 'decision': 'allow'}\n",
            "{'expressions': [{'eu': {'uattrib2': [('is', '{2d}')], 'uattrib1': [('is', '{1d}')]}, 'er': {'rattrib9': [('is', '{9z}')], 'rattrib6': [('is', '{6w}')], 'rattrib7': [('is', '{7z}')], 'rattrib4': [('is', '{4w}')], 'rattrib5': [('is', '{5x}')], 'rattrib1': [('is', '{1y}')]}}], 'operations': ['access'], 'decision': 'allow'}\n",
            "{'expressions': [{'eu': {'uattrib9': [('is', '{9c}')], 'uattrib6': [('is', '{6b}')], 'uattrib8': [('is', '{8d}')], 'uattrib3': [('is', '{3d}')], 'uattrib7': [('is', '{7c}')]}, 'er': {'rattrib7': [('is', '{7z}')], 'rattrib1': [('is', '{1y}')], 'rattrib5': [('is', '{5y}')], 'rattrib6': [('is', '{6w}')], 'rattrib9': [('is', '{9z}')], 'rattrib2': [('is', '{2z}')]}}], 'operations': ['access'], 'decision': 'allow'}\n",
            "{'expressions': [{'eu': {'uattrib2': [('is', '{2b}')], 'uattrib9': [('is', '{9a}')], 'uattrib1': [('is', '{1d}')], 'uattrib4': [('is', '{4a}')], 'uattrib6': [('is', '{6c}')], 'uattrib3': [('is', '{3a}')], 'uattrib7': [('is', '{7a}')], 'uattrib5': [('is', '{5a}')], 'uattrib8': [('is', '{8b}')]}, 'er': {'rattrib3': [('is', '{3z}')], 'rattrib9': [('is', '{9z}')], 'rattrib8': [('is', '{8z}')], 'rattrib5': [('is', '{5x}')], 'rattrib4': [('is', '{4x}')], 'rattrib0': [('is', '{0z}')], 'rattrib6': [('is', '{6y}')], 'rattrib2': [('is', '{2x}')]}}], 'operations': ['access'], 'decision': 'allow'}\n",
            "{'expressions': [{'eu': {'uattrib9': [('is', '{9d}')], 'uattrib6': [('is', '{6b}')], 'uattrib0': [('is', '{0b}')], 'uattrib3': [('is', '{3d}')], 'uattrib2': [('is', '{2a}')], 'uattrib1': [('is', '{1a}')], 'uattrib5': [('is', '{5b}')], 'uattrib8': [('is', '{8d}')], 'uattrib7': [('is', '{7b}')]}, 'er': {'rattrib6': [('is', '{6y}')], 'rattrib8': [('is', '{8x}')], 'rattrib7': [('is', '{7x}')], 'rattrib5': [('is', '{5y}')], 'rattrib9': [('is', '{9x}')], 'rattrib3': [('is', '{3z}')], 'rattrib2': [('is', '{2w}')], 'rattrib1': [('is', '{1y}')], 'rattrib0': [('is', '{0w}')]}}], 'operations': ['access'], 'decision': 'allow'}\n",
            "{'expressions': [{'eu': {'uattrib5': [('is', '{5a}')], 'uattrib2': [('is', '{2b}')]}, 'er': {'rattrib3': [('is', '{3w}')], 'rattrib5': [('is', '{5y}')], 'rattrib4': [('is', '{4x}')], 'rattrib0': [('is', '{0y}')], 'rattrib1': [('is', '{1z}')], 'rattrib6': [('is', '{6w}')], 'rattrib8': [('is', '{8z}')], 'rattrib2': [('is', '{2w}')], 'rattrib7': [('is', '{7w}')]}}], 'operations': ['access'], 'decision': 'allow'}\n",
            "{'expressions': [{'eu': {'uattrib6': [('is', '{6d}')], 'uattrib5': [('is', '{5b}')], 'uattrib9': [('is', '{9a}')], 'uattrib1': [('is', '{1d}')], 'uattrib8': [('is', '{8d}')], 'uattrib7': [('is', '{7c}')], 'uattrib2': [('is', '{2c}')], 'uattrib4': [('is', '{4a}')]}, 'er': {'rattrib6': [('is', '{6y}')], 'rattrib0': [('is', '{0z}')], 'rattrib9': [('is', '{9x}')], 'rattrib5': [('is', '{5w}')], 'rattrib4': [('is', '{4z}')], 'rattrib3': [('is', '{3z}')], 'rattrib2': [('is', '{2y}')]}}], 'operations': ['access'], 'decision': 'allow'}\n",
            "{'expressions': [{'eu': {'uattrib9': [('is', '{9c}')], 'uattrib1': [('is', '{1b}')], 'uattrib7': [('is', '{7c}')], 'uattrib6': [('is', '{6d}')]}, 'er': {'rattrib5': [('is', '{5x}')], 'rattrib0': [('is', '{0x}')], 'rattrib8': [('is', '{8z}')], 'rattrib6': [('is', '{6w}')], 'rattrib2': [('is', '{2z}')], 'rattrib3': [('is', '{3y}')], 'rattrib9': [('is', '{9x}')]}}], 'operations': ['access'], 'decision': 'allow'}\n",
            "{'expressions': [{'eu': {'uattrib4': [('is', '{4d}')], 'uattrib5': [('is', '{5a}')], 'uattrib8': [('is', '{8c}')], 'uattrib2': [('is', '{2b}')], 'uattrib7': [('is', '{7c}')], 'uattrib0': [('is', '{0c}')]}, 'er': {'rattrib3': [('is', '{3z}')], 'rattrib7': [('is', '{7w}')]}}], 'operations': ['access'], 'decision': 'allow'}\n",
            "{'expressions': [{'eu': {'uattrib9': [('is', '{9a}')], 'uattrib7': [('is', '{7c}')], 'uattrib4': [('is', '{4c}')], 'uattrib0': [('is', '{0a}')], 'uattrib2': [('is', '{2a}')], 'uattrib6': [('is', '{6b}')], 'uattrib3': [('is', '{3c}')], 'uattrib8': [('is', '{8b}')]}, 'er': {'rattrib3': [('is', '{3y}')], 'rattrib2': [('is', '{2z}')], 'rattrib6': [('is', '{6z}')], 'rattrib9': [('is', '{9w}')], 'rattrib7': [('is', '{7x}')], 'rattrib5': [('is', '{5x}')]}}], 'operations': ['access'], 'decision': 'allow'}\n",
            "{'expressions': [{'eu': {'uattrib7': [('is', '{7d}')], 'uattrib4': [('is', '{4b}')], 'uattrib1': [('is', '{1d}')]}, 'er': {'rattrib4': [('is', '{4y}')], 'rattrib5': [('is', '{5y}')]}}], 'operations': ['access'], 'decision': 'allow'}\n",
            "{'expressions': [{'eu': {'uattrib0': [('is', '{0d}')], 'uattrib9': [('is', '{9b}')], 'uattrib1': [('is', '{1b}')], 'uattrib2': [('is', '{2b}')], 'uattrib5': [('is', '{5a}')], 'uattrib4': [('is', '{4b}')], 'uattrib3': [('is', '{3d}')]}, 'er': {'rattrib1': [('is', '{1x}')], 'rattrib5': [('is', '{5y}')], 'rattrib2': [('is', '{2y}')], 'rattrib3': [('is', '{3y}')], 'rattrib6': [('is', '{6x}')], 'rattrib8': [('is', '{8y}')], 'rattrib4': [('is', '{4y}')], 'rattrib0': [('is', '{0y}')]}}], 'operations': ['access'], 'decision': 'allow'}\n",
            "{'expressions': [{'eu': {'uattrib1': [('is', '{1c}')], 'uattrib5': [('is', '{5b}')], 'uattrib0': [('is', '{0c}')], 'uattrib7': [('is', '{7d}')], 'uattrib4': [('is', '{4b}')]}, 'er': {'rattrib8': [('is', '{8z}')], 'rattrib3': [('is', '{3z}')], 'rattrib9': [('is', '{9y}')], 'rattrib2': [('is', '{2w}')]}}], 'operations': ['access'], 'decision': 'allow'}\n",
            "{'expressions': [{'eu': {'uattrib9': [('is', '{9a}')], 'uattrib1': [('is', '{1c}')]}, 'er': {'rattrib7': [('is', '{7z}')], 'rattrib2': [('is', '{2w}')], 'rattrib6': [('is', '{6y}')], 'rattrib5': [('is', '{5z}')], 'rattrib1': [('is', '{1y}')]}}], 'operations': ['access'], 'decision': 'allow'}\n",
            "{'expressions': [{'eu': {'uattrib5': [('is', '{5a}')], 'uattrib2': [('is', '{2b}')], 'uattrib3': [('is', '{3c}')]}, 'er': {'rattrib3': [('is', '{3w}')], 'rattrib5': [('is', '{5y}')], 'rattrib4': [('is', '{4x}')], 'rattrib0': [('is', '{0y}')], 'rattrib1': [('is', '{1z}')], 'rattrib6': [('is', '{6w}')], 'rattrib8': [('is', '{8z}')], 'rattrib2': [('is', '{2w}')], 'rattrib7': [('is', '{7w}')], 'rattrib9': [('is', '{9w}')]}}], 'operations': ['access'], 'decision': 'allow'}\n",
            "{'expressions': [{'eu': {'uattrib5': [('is', '{5a}')], 'uattrib2': [('is', '{2b}')], 'uattrib9': [('is', '{9d}')]}, 'er': {'rattrib3': [('is', '{3w}')], 'rattrib5': [('is', '{5y}')], 'rattrib4': [('is', '{4x}')], 'rattrib0': [('is', '{0y}')], 'rattrib1': [('is', '{1z}')], 'rattrib6': [('is', '{6w}')], 'rattrib8': [('is', '{8z}')], 'rattrib2': [('is', '{2w}')], 'rattrib7': [('is', '{7w}')], 'rattrib9': [('is', '{9y}')]}}], 'operations': ['access'], 'decision': 'allow'}\n",
            "{'expressions': [{'eu': {'uattrib5': [('is', '{5a}')], 'uattrib2': [('is', '{2b}')], 'uattrib7': [('is', '{7b}')], 'uattrib1': [('is', '{1c}')], 'uattrib6': [('is', '{6d}')]}, 'er': {'rattrib3': [('is', '{3w}')], 'rattrib5': [('is', '{5y}')], 'rattrib4': [('is', '{4x}')], 'rattrib0': [('is', '{0y}')], 'rattrib1': [('is', '{1z}')], 'rattrib6': [('is', '{6w}')], 'rattrib8': [('is', '{8z}')], 'rattrib2': [('is', '{2w}')], 'rattrib7': [('is', '{7w}')], 'rattrib9': [('is', '{9x}')]}}], 'operations': ['access'], 'decision': 'allow'}\n",
            "{'expressions': [{'eu': {'uattrib5': [('is', '{5a}')], 'uattrib2': [('is', '{2b}')], 'uattrib8': [('is', '{8a}')], 'uattrib3': [('is', '{3c}')], 'uattrib1': [('is', '{1d}')]}, 'er': {'rattrib3': [('is', '{3w}')], 'rattrib5': [('is', '{5y}')], 'rattrib4': [('is', '{4x}')], 'rattrib0': [('is', '{0y}')], 'rattrib1': [('is', '{1z}')], 'rattrib6': [('is', '{6w}')], 'rattrib8': [('is', '{8z}')], 'rattrib2': [('is', '{2w}')], 'rattrib7': [('is', '{7w}')], 'rattrib9': [('is', '{9z}')]}}], 'operations': ['access'], 'decision': 'allow'}\n",
            "{'expressions': [{'eu': {'uattrib7': [('is', '{7d}')], 'uattrib4': [('is', '{4b}')], 'uattrib1': [('is', '{1d}')], 'uattrib3': [('is', '{3a}')]}, 'er': {'rattrib4': [('is', '{4y}')], 'rattrib5': [('is', '{5y}')], 'rattrib7': [('is', '{7w}')]}}], 'operations': ['access'], 'decision': 'allow'}\n",
            "{'expressions': [{'eu': {'uattrib7': [('is', '{7d}')], 'uattrib4': [('is', '{4b}')], 'uattrib1': [('is', '{1d}')], 'uattrib2': [('is', '{2a}')]}, 'er': {'rattrib4': [('is', '{4y}')], 'rattrib5': [('is', '{5y}')], 'rattrib0': [('is', '{0z}')]}}], 'operations': ['access'], 'decision': 'allow'}\n",
            "{'expressions': [{'eu': {'uattrib7': [('is', '{7d}')], 'uattrib8': [('is', '{8b}')], 'uattrib4': [('is', '{4b}')], 'uattrib1': [('is', '{1a}')], 'uattrib5': [('is', '{5a}')], 'uattrib3': [('is', '{3b}')], 'uattrib2': [('is', '{2b}')], 'uattrib0': [('is', '{0d}')], 'uattrib9': [('is', '{9a}')]}, 'er': {'rattrib4': [('is', '{4w}')], 'rattrib7': [('is', '{7x}')], 'rattrib5': [('is', '{5y}')], 'rattrib2': [('is', '{2w}')], 'rattrib6': [('is', '{6x}')], 'rattrib1': [('is', '{1z}')], 'rattrib3': [('is', '{3w}')], 'rattrib0': [('is', '{0w}')]}}], 'operations': ['access'], 'decision': 'allow'}\n",
            "{'expressions': [{'eu': {'uattrib4': [('is', '{4d}')], 'uattrib5': [('is', '{5a}')], 'uattrib8': [('is', '{8c}')], 'uattrib2': [('is', '{2b}')], 'uattrib7': [('is', '{7c}')], 'uattrib0': [('is', '{0c}')], 'uattrib6': [('is', '{6a}')]}, 'er': {'rattrib3': [('is', '{3z}')], 'rattrib7': [('is', '{7w}')], 'rattrib1': [('is', '{1y}')]}}], 'operations': ['access'], 'decision': 'allow'}\n",
            "{'expressions': [{'eu': {'uattrib2': [('is', '{2d}')], 'uattrib0': [('is', '{0c}')], 'uattrib3': [('is', '{3b}')], 'uattrib9': [('is', '{9d}')], 'uattrib7': [('is', '{7a}')], 'uattrib1': [('is', '{1c}')], 'uattrib4': [('is', '{4d}')], 'uattrib5': [('is', '{5b}')], 'uattrib8': [('is', '{8d}')], 'uattrib6': [('is', '{6b}')]}, 'er': {'rattrib2': [('is', '{2y}')], 'rattrib7': [('is', '{7z}')], 'rattrib4': [('is', '{4w}')], 'rattrib9': [('is', '{9w}')], 'rattrib8': [('is', '{8x}')], 'rattrib0': [('is', '{0z}')], 'rattrib5': [('is', '{5w}')], 'rattrib3': [('is', '{3y}')], 'rattrib1': [('is', '{1w}')], 'rattrib6': [('is', '{6y}')]}}], 'operations': ['access'], 'decision': 'allow'}\n",
            "{'expressions': [{'eu': {'uattrib1': [('is', '{1c}')], 'uattrib5': [('is', '{5b}')], 'uattrib0': [('is', '{0c}')], 'uattrib7': [('is', '{7d}')], 'uattrib4': [('is', '{4b}')], 'uattrib9': [('is', '{9a}')], 'uattrib3': [('is', '{3b}')], 'uattrib6': [('is', '{6b}')]}, 'er': {'rattrib8': [('is', '{8z}')], 'rattrib3': [('is', '{3z}')], 'rattrib9': [('is', '{9y}')], 'rattrib2': [('is', '{2w}')], 'rattrib6': [('is', '{6w}')]}}], 'operations': ['access'], 'decision': 'allow'}\n",
            "{'expressions': [{'eu': {'uattrib1': [('is', '{1c}')], 'uattrib5': [('is', '{5b}')], 'uattrib0': [('is', '{0c}')], 'uattrib7': [('is', '{7d}')], 'uattrib4': [('is', '{4b}')], 'uattrib9': [('is', '{9a}')], 'uattrib8': [('is', '{8b}')], 'uattrib3': [('is', '{3d}')]}, 'er': {'rattrib8': [('is', '{8z}')], 'rattrib3': [('is', '{3z}')], 'rattrib9': [('is', '{9y}')], 'rattrib2': [('is', '{2w}')], 'rattrib5': [('is', '{5y}')]}}], 'operations': ['access'], 'decision': 'allow'}\n",
            "{'expressions': [{'eu': {'uattrib9': [('is', '{9c}')], 'uattrib1': [('is', '{1b}')], 'uattrib7': [('is', '{7c}')], 'uattrib6': [('is', '{6d}')], 'uattrib0': [('is', '{0a}')]}, 'er': {'rattrib5': [('is', '{5x}')], 'rattrib0': [('is', '{0x}')], 'rattrib8': [('is', '{8z}')], 'rattrib6': [('is', '{6w}')], 'rattrib2': [('is', '{2z}')], 'rattrib3': [('is', '{3y}')], 'rattrib9': [('is', '{9x}')], 'rattrib1': [('is', '{1y}')], 'rattrib7': [('is', '{7w}')]}}], 'operations': ['access'], 'decision': 'allow'}\n",
            "{'expressions': [{'eu': {'uattrib7': [('is', '{7d}')], 'uattrib8': [('is', '{8b}')], 'uattrib4': [('is', '{4b}')], 'uattrib1': [('is', '{1a}')], 'uattrib5': [('is', '{5a}')], 'uattrib3': [('is', '{3b}')], 'uattrib2': [('is', '{2b}')], 'uattrib0': [('is', '{0d}')], 'uattrib6': [('is', '{6d}')], 'uattrib9': [('is', '{9d}')]}, 'er': {'rattrib4': [('is', '{4w}')], 'rattrib7': [('is', '{7x}')], 'rattrib5': [('is', '{5y}')], 'rattrib2': [('is', '{2w}')], 'rattrib6': [('is', '{6x}')], 'rattrib3': [('is', '{3y}')]}}], 'operations': ['access'], 'decision': 'allow'}\n",
            "{'expressions': [{'eu': {'uattrib7': [('is', '{7d}')], 'uattrib8': [('is', '{8b}')], 'uattrib4': [('is', '{4b}')], 'uattrib1': [('is', '{1a}')], 'uattrib5': [('is', '{5a}')], 'uattrib3': [('is', '{3b}')], 'uattrib2': [('is', '{2b}')], 'uattrib0': [('is', '{0d}')], 'uattrib9': [('is', '{9b}')], 'uattrib6': [('is', '{6d}')]}, 'er': {'rattrib4': [('is', '{4w}')], 'rattrib7': [('is', '{7x}')], 'rattrib5': [('is', '{5y}')], 'rattrib2': [('is', '{2w}')], 'rattrib6': [('is', '{6x}')], 'rattrib9': [('is', '{9w}')]}}], 'operations': ['access'], 'decision': 'allow'}\n",
            "{'expressions': [{'eu': {'uattrib2': [('is', '{2d}')], 'uattrib1': [('is', '{1d}')], 'uattrib5': [('is', '{5c}')]}, 'er': {'rattrib9': [('is', '{9z}')], 'rattrib6': [('is', '{6w}')], 'rattrib7': [('is', '{7z}')], 'rattrib4': [('is', '{4w}')], 'rattrib5': [('is', '{5x}')], 'rattrib1': [('is', '{1y}')], 'rattrib0': [('is', '{0y}')], 'rattrib2': [('is', '{2x}')], 'rattrib8': [('is', '{8w}')]}}], 'operations': ['access'], 'decision': 'allow'}\n",
            "{'expressions': [{'eu': {'uattrib2': [('is', '{2d}')], 'uattrib1': [('is', '{1d}')], 'uattrib6': [('is', '{6d}')]}, 'er': {'rattrib9': [('is', '{9z}')], 'rattrib6': [('is', '{6w}')], 'rattrib7': [('is', '{7z}')], 'rattrib4': [('is', '{4w}')], 'rattrib5': [('is', '{5x}')], 'rattrib1': [('is', '{1y}')], 'rattrib2': [('is', '{2z}')], 'rattrib0': [('is', '{0y}')], 'rattrib3': [('is', '{3y}')]}}], 'operations': ['access'], 'decision': 'allow'}\n",
            "{'expressions': [{'eu': {'uattrib7': [('is', '{7c}')], 'uattrib8': [('is', '{8b}')], 'uattrib6': [('is', '{6c}')], 'uattrib1': [('is', '{1a}')], 'uattrib3': [('is', '{3a}')], 'uattrib2': [('is', '{2b}')]}, 'er': {'rattrib4': [('is', '{4w}')], 'rattrib7': [('is', '{7z}')], 'rattrib5': [('is', '{5w}')], 'rattrib1': [('is', '{1z}')], 'rattrib0': [('is', '{0y}')], 'rattrib3': [('is', '{3x}')], 'rattrib9': [('is', '{9w}')], 'rattrib8': [('is', '{8z}')], 'rattrib6': [('is', '{6z}')], 'rattrib2': [('is', '{2w}')]}}], 'operations': ['access'], 'decision': 'allow'}\n",
            "{'expressions': [{'eu': {'uattrib7': [('is', '{7c}')], 'uattrib8': [('is', '{8b}')], 'uattrib0': [('is', '{0d}')], 'uattrib6': [('is', '{6a}')], 'uattrib2': [('is', '{2b}')], 'uattrib4': [('is', '{4b}')]}, 'er': {'rattrib4': [('is', '{4w}')], 'rattrib7': [('is', '{7z}')], 'rattrib5': [('is', '{5w}')], 'rattrib1': [('is', '{1z}')], 'rattrib0': [('is', '{0y}')], 'rattrib3': [('is', '{3x}')], 'rattrib9': [('is', '{9w}')], 'rattrib8': [('is', '{8z}')], 'rattrib2': [('is', '{2x}')], 'rattrib6': [('is', '{6x}')]}}], 'operations': ['access'], 'decision': 'allow'}\n",
            "{'expressions': [{'eu': {'uattrib9': [('is', '{9c}')], 'uattrib6': [('is', '{6b}')], 'uattrib8': [('is', '{8d}')], 'uattrib3': [('is', '{3d}')], 'uattrib7': [('is', '{7c}')], 'uattrib0': [('is', '{0b}')], 'uattrib4': [('is', '{4a}')]}, 'er': {'rattrib7': [('is', '{7z}')], 'rattrib1': [('is', '{1y}')], 'rattrib5': [('is', '{5y}')], 'rattrib6': [('is', '{6w}')], 'rattrib9': [('is', '{9z}')], 'rattrib2': [('is', '{2z}')], 'rattrib3': [('is', '{3x}')], 'rattrib0': [('is', '{0z}')]}}], 'operations': ['access'], 'decision': 'allow'}\n",
            "{'expressions': [{'eu': {'uattrib9': [('is', '{9c}')], 'uattrib6': [('is', '{6b}')], 'uattrib8': [('is', '{8d}')], 'uattrib3': [('is', '{3d}')], 'uattrib7': [('is', '{7c}')], 'uattrib1': [('is', '{1a}')], 'uattrib4': [('is', '{4a}')]}, 'er': {'rattrib7': [('is', '{7z}')], 'rattrib1': [('is', '{1y}')], 'rattrib5': [('is', '{5y}')], 'rattrib6': [('is', '{6w}')], 'rattrib9': [('is', '{9z}')], 'rattrib2': [('is', '{2z}')], 'rattrib4': [('is', '{4w}')], 'rattrib8': [('is', '{8z}')]}}], 'operations': ['access'], 'decision': 'allow'}\n",
            "{'expressions': [{'eu': {'uattrib9': [('is', '{9a}')], 'uattrib1': [('is', '{1c}')], 'uattrib5': [('is', '{5d}')], 'uattrib6': [('is', '{6a}')], 'uattrib8': [('is', '{8d}')]}, 'er': {'rattrib7': [('is', '{7z}')], 'rattrib2': [('is', '{2w}')], 'rattrib6': [('is', '{6y}')], 'rattrib5': [('is', '{5z}')], 'rattrib1': [('is', '{1y}')], 'rattrib0': [('is', '{0x}')], 'rattrib3': [('is', '{3w}')], 'rattrib8': [('is', '{8x}')]}}], 'operations': ['access'], 'decision': 'allow'}\n",
            "{'expressions': [{'eu': {'uattrib9': [('is', '{9a}')], 'uattrib1': [('is', '{1c}')], 'uattrib3': [('is', '{3d}')], 'uattrib6': [('is', '{6c}')], 'uattrib7': [('is', '{7c}')]}, 'er': {'rattrib7': [('is', '{7z}')], 'rattrib2': [('is', '{2w}')], 'rattrib6': [('is', '{6y}')], 'rattrib5': [('is', '{5z}')], 'rattrib1': [('is', '{1y}')], 'rattrib9': [('is', '{9x}')], 'rattrib0': [('is', '{0w}')], 'rattrib4': [('is', '{4w}')]}}], 'operations': ['access'], 'decision': 'allow'}\n",
            "{'expressions': [{'eu': {'uattrib7': [('is', '{7d}')], 'uattrib4': [('is', '{4b}')], 'uattrib1': [('is', '{1d}')], 'uattrib3': [('is', '{3a}')], 'uattrib6': [('is', '{6a}')], 'uattrib9': [('is', '{9d}')], 'uattrib8': [('is', '{8c}')], 'uattrib0': [('is', '{0d}')]}, 'er': {'rattrib4': [('is', '{4y}')], 'rattrib5': [('is', '{5y}')], 'rattrib7': [('is', '{7w}')], 'rattrib9': [('is', '{9z}')], 'rattrib3': [('is', '{3w}')], 'rattrib2': [('is', '{2w}')], 'rattrib8': [('is', '{8x}')]}}], 'operations': ['access'], 'decision': 'allow'}\n",
            "{'expressions': [{'eu': {'uattrib7': [('is', '{7c}')], 'uattrib8': [('is', '{8b}')], 'uattrib3': [('is', '{3b}')], 'uattrib2': [('is', '{2a}')]}, 'er': {'rattrib4': [('is', '{4w}')], 'rattrib7': [('is', '{7z}')], 'rattrib5': [('is', '{5w}')], 'rattrib1': [('is', '{1z}')], 'rattrib0': [('is', '{0y}')], 'rattrib3': [('is', '{3x}')], 'rattrib9': [('is', '{9w}')], 'rattrib8': [('is', '{8z}')], 'rattrib6': [('is', '{6z}')]}}], 'operations': ['access'], 'decision': 'allow'}\n",
            "{'expressions': [{'eu': {'uattrib7': [('is', '{7c}')], 'uattrib8': [('is', '{8b}')], 'uattrib4': [('is', '{4a}')], 'uattrib6': [('is', '{6b}')]}, 'er': {'rattrib4': [('is', '{4w}')], 'rattrib7': [('is', '{7z}')], 'rattrib5': [('is', '{5w}')], 'rattrib1': [('is', '{1z}')], 'rattrib0': [('is', '{0y}')], 'rattrib3': [('is', '{3x}')], 'rattrib9': [('is', '{9w}')], 'rattrib8': [('is', '{8z}')], 'rattrib6': [('is', '{6x}')]}}], 'operations': ['access'], 'decision': 'allow'}\n"
          ],
          "name": "stdout"
        }
      ]
    },
    {
      "cell_type": "markdown",
      "metadata": {
        "id": "YHB7wl1OlR9Y"
      },
      "source": [
        "## Extract users"
      ]
    },
    {
      "cell_type": "code",
      "metadata": {
        "id": "vRbrhkg038NU",
        "colab": {
          "base_uri": "https://localhost:8080/"
        },
        "outputId": "1a53fbfe-8f3f-419d-f2df-dc54935c9159"
      },
      "source": [
        "file = open(r'migration/50 50 10 10 50 1 4/UAR.txt' , 'r')\n",
        "line = file.readline()\n",
        "U=[] \n",
        "UA=[] \n",
        "i=1 \n",
        "while line: \n",
        "  u={}\n",
        "  #print(line[:10])\n",
        "  #print(line, end = '')　\n",
        "  cons = line.strip().split(',')\n",
        "  for con in cons:\n",
        "    c = con.split('=')\n",
        "    if(len(c)==2):\n",
        "      u[c[0]]=c[1]\n",
        "      if(c[0] not in UA):\n",
        "        UA.append(c[0])\n",
        "  u['uid']='user'+str(i)\n",
        "  i=i+1\n",
        "\n",
        "  \n",
        "  U.append(u)\n",
        "\n",
        "  #break\n",
        "  line = file.readline() \n",
        "print(f'Number of users:{len(U)}')\n",
        "for i in U:\n",
        "  print(i)\n",
        " \n",
        "print(UA)\n",
        "file.close() "
      ],
      "execution_count": 8,
      "outputs": [
        {
          "output_type": "stream",
          "text": [
            "Number of users:50\n",
            "{'uattrib2': '{2a}', 'uattrib3': '{3a}', 'uattrib4': '{4c}', 'uattrib7': '{7d}', 'uattrib8': '{8a}', 'uattrib9': '{9b}', 'uid': 'user1'}\n",
            "{'uattrib0': '{0a}', 'uattrib1': '{1d}', 'uattrib2': '{2b}', 'uattrib3': '{3a}', 'uattrib6': '{6a}', 'uattrib8': '{8c}', 'uattrib9': '{9c}', 'uid': 'user2'}\n",
            "{'uattrib1': '{1c}', 'uattrib2': '{2b}', 'uattrib4': '{4d}', 'uattrib5': '{5d}', 'uattrib6': '{6a}', 'uattrib7': '{7b}', 'uattrib8': '{8a}', 'uattrib9': '{9b}', 'uid': 'user3'}\n",
            "{'uattrib1': '{1c}', 'uattrib5': '{5b}', 'uattrib6': '{6d}', 'uattrib7': '{7d}', 'uattrib9': '{9a}', 'uid': 'user4'}\n",
            "{'uattrib0': '{0a}', 'uattrib1': '{1d}', 'uattrib2': '{2d}', 'uattrib3': '{3c}', 'uattrib4': '{4c}', 'uattrib5': '{5b}', 'uattrib6': '{6d}', 'uattrib7': '{7b}', 'uattrib8': '{8c}', 'uattrib9': '{9d}', 'uid': 'user5'}\n",
            "{'uattrib1': '{1a}', 'uattrib3': '{3a}', 'uattrib6': '{6a}', 'uattrib7': '{7c}', 'uattrib8': '{8b}', 'uid': 'user6'}\n",
            "{'uattrib0': '{0a}', 'uattrib1': '{1a}', 'uattrib3': '{3b}', 'uattrib4': '{4a}', 'uattrib5': '{5b}', 'uattrib6': '{6a}', 'uattrib7': '{7d}', 'uattrib8': '{8a}', 'uattrib9': '{9d}', 'uid': 'user7'}\n",
            "{'uattrib0': '{0c}', 'uattrib1': '{1c}', 'uattrib2': '{2c}', 'uattrib3': '{3d}', 'uattrib4': '{4a}', 'uattrib5': '{5c}', 'uattrib6': '{6d}', 'uattrib7': '{7b}', 'uattrib8': '{8d}', 'uattrib9': '{9c}', 'uid': 'user8'}\n",
            "{'uattrib0': '{0d}', 'uattrib1': '{1b}', 'uattrib2': '{2b}', 'uattrib3': '{3d}', 'uattrib5': '{5a}', 'uattrib6': '{6c}', 'uattrib7': '{7c}', 'uattrib8': '{8c}', 'uid': 'user9'}\n",
            "{'uattrib0': '{0b}', 'uattrib1': '{1b}', 'uattrib2': '{2d}', 'uattrib3': '{3a}', 'uattrib4': '{4b}', 'uattrib5': '{5c}', 'uattrib6': '{6a}', 'uattrib7': '{7c}', 'uattrib8': '{8d}', 'uattrib9': '{9d}', 'uid': 'user10'}\n",
            "{'uattrib0': '{0d}', 'uattrib1': '{1a}', 'uattrib2': '{2b}', 'uattrib3': '{3b}', 'uattrib4': '{4b}', 'uattrib5': '{5a}', 'uattrib6': '{6b}', 'uattrib7': '{7d}', 'uattrib8': '{8b}', 'uid': 'user11'}\n",
            "{'uattrib0': '{0c}', 'uattrib1': '{1c}', 'uattrib2': '{2d}', 'uattrib3': '{3b}', 'uattrib4': '{4d}', 'uattrib5': '{5b}', 'uattrib6': '{6b}', 'uattrib7': '{7a}', 'uattrib8': '{8d}', 'uattrib9': '{9d}', 'uid': 'user12'}\n",
            "{'uattrib1': '{1d}', 'uattrib2': '{2d}', 'uattrib4': '{4c}', 'uattrib5': '{5d}', 'uattrib9': '{9d}', 'uid': 'user13'}\n",
            "{'uattrib1': '{1d}', 'uattrib2': '{2d}', 'uattrib3': '{3d}', 'uattrib5': '{5d}', 'uattrib6': '{6b}', 'uattrib7': '{7c}', 'uattrib8': '{8d}', 'uattrib9': '{9c}', 'uid': 'user14'}\n",
            "{'uattrib0': '{0c}', 'uattrib1': '{1d}', 'uattrib2': '{2b}', 'uattrib3': '{3a}', 'uattrib4': '{4a}', 'uattrib5': '{5a}', 'uattrib6': '{6c}', 'uattrib7': '{7a}', 'uattrib8': '{8b}', 'uattrib9': '{9a}', 'uid': 'user15'}\n",
            "{'uattrib0': '{0b}', 'uattrib1': '{1a}', 'uattrib2': '{2a}', 'uattrib3': '{3d}', 'uattrib4': '{4d}', 'uattrib5': '{5b}', 'uattrib6': '{6b}', 'uattrib7': '{7b}', 'uattrib8': '{8d}', 'uattrib9': '{9d}', 'uid': 'user16'}\n",
            "{'uattrib2': '{2b}', 'uattrib4': '{4b}', 'uattrib5': '{5a}', 'uattrib9': '{9d}', 'uid': 'user17'}\n",
            "{'uattrib0': '{0d}', 'uattrib1': '{1d}', 'uattrib2': '{2c}', 'uattrib3': '{3c}', 'uattrib4': '{4a}', 'uattrib5': '{5b}', 'uattrib6': '{6d}', 'uattrib7': '{7c}', 'uattrib8': '{8d}', 'uattrib9': '{9a}', 'uid': 'user18'}\n",
            "{'uattrib0': '{0b}', 'uattrib1': '{1b}', 'uattrib5': '{5b}', 'uattrib6': '{6d}', 'uattrib7': '{7c}', 'uattrib8': '{8b}', 'uattrib9': '{9c}', 'uid': 'user19'}\n",
            "{'uattrib0': '{0c}', 'uattrib2': '{2b}', 'uattrib4': '{4d}', 'uattrib5': '{5a}', 'uattrib7': '{7c}', 'uattrib8': '{8c}', 'uattrib9': '{9d}', 'uid': 'user20'}\n",
            "{'uattrib0': '{0a}', 'uattrib1': '{1a}', 'uattrib2': '{2a}', 'uattrib3': '{3c}', 'uattrib4': '{4c}', 'uattrib5': '{5d}', 'uattrib6': '{6b}', 'uattrib7': '{7c}', 'uattrib8': '{8b}', 'uattrib9': '{9a}', 'uid': 'user21'}\n",
            "{'uattrib1': '{1d}', 'uattrib2': '{2a}', 'uattrib4': '{4b}', 'uattrib7': '{7d}', 'uattrib8': '{8b}', 'uattrib9': '{9a}', 'uid': 'user22'}\n",
            "{'uattrib0': '{0d}', 'uattrib1': '{1b}', 'uattrib2': '{2b}', 'uattrib3': '{3d}', 'uattrib4': '{4b}', 'uattrib5': '{5a}', 'uattrib6': '{6b}', 'uattrib7': '{7c}', 'uattrib9': '{9b}', 'uid': 'user23'}\n",
            "{'uattrib0': '{0c}', 'uattrib1': '{1c}', 'uattrib4': '{4b}', 'uattrib5': '{5b}', 'uattrib6': '{6c}', 'uattrib7': '{7d}', 'uattrib8': '{8c}', 'uid': 'user24'}\n",
            "{'uattrib0': '{0a}', 'uattrib1': '{1c}', 'uattrib7': '{7d}', 'uattrib9': '{9a}', 'uid': 'user25'}\n",
            "{'uattrib1': '{1c}', 'uattrib2': '{2b}', 'uattrib3': '{3c}', 'uattrib4': '{4d}', 'uattrib5': '{5a}', 'uattrib6': '{6b}', 'uid': 'user26'}\n",
            "{'uattrib2': '{2b}', 'uattrib4': '{4b}', 'uattrib5': '{5a}', 'uattrib8': '{8a}', 'uattrib9': '{9d}', 'uid': 'user27'}\n",
            "{'uattrib1': '{1c}', 'uattrib2': '{2b}', 'uattrib3': '{3d}', 'uattrib5': '{5a}', 'uattrib6': '{6d}', 'uattrib7': '{7b}', 'uattrib8': '{8c}', 'uid': 'user28'}\n",
            "{'uattrib1': '{1d}', 'uattrib2': '{2b}', 'uattrib3': '{3c}', 'uattrib5': '{5a}', 'uattrib6': '{6a}', 'uattrib7': '{7c}', 'uattrib8': '{8a}', 'uid': 'user29'}\n",
            "{'uattrib1': '{1d}', 'uattrib3': '{3a}', 'uattrib4': '{4b}', 'uattrib5': '{5d}', 'uattrib7': '{7d}', 'uattrib8': '{8c}', 'uattrib9': '{9d}', 'uid': 'user30'}\n",
            "{'uattrib0': '{0d}', 'uattrib1': '{1d}', 'uattrib2': '{2a}', 'uattrib4': '{4b}', 'uattrib7': '{7d}', 'uattrib8': '{8d}', 'uattrib9': '{9c}', 'uid': 'user31'}\n",
            "{'uattrib0': '{0d}', 'uattrib1': '{1a}', 'uattrib2': '{2b}', 'uattrib3': '{3b}', 'uattrib4': '{4b}', 'uattrib5': '{5a}', 'uattrib6': '{6a}', 'uattrib7': '{7d}', 'uattrib8': '{8b}', 'uattrib9': '{9a}', 'uid': 'user32'}\n",
            "{'uattrib0': '{0c}', 'uattrib2': '{2b}', 'uattrib4': '{4d}', 'uattrib5': '{5a}', 'uattrib6': '{6a}', 'uattrib7': '{7c}', 'uattrib8': '{8c}', 'uattrib9': '{9b}', 'uid': 'user33'}\n",
            "{'uattrib0': '{0c}', 'uattrib1': '{1c}', 'uattrib2': '{2d}', 'uattrib3': '{3b}', 'uattrib4': '{4d}', 'uattrib5': '{5b}', 'uattrib6': '{6b}', 'uattrib7': '{7a}', 'uattrib8': '{8d}', 'uattrib9': '{9d}', 'uid': 'user34'}\n",
            "{'uattrib0': '{0c}', 'uattrib1': '{1c}', 'uattrib3': '{3b}', 'uattrib4': '{4b}', 'uattrib5': '{5b}', 'uattrib6': '{6b}', 'uattrib7': '{7d}', 'uattrib8': '{8d}', 'uattrib9': '{9a}', 'uid': 'user35'}\n",
            "{'uattrib0': '{0c}', 'uattrib1': '{1c}', 'uattrib2': '{2b}', 'uattrib3': '{3d}', 'uattrib4': '{4b}', 'uattrib5': '{5b}', 'uattrib7': '{7d}', 'uattrib8': '{8b}', 'uattrib9': '{9a}', 'uid': 'user36'}\n",
            "{'uattrib0': '{0a}', 'uattrib1': '{1b}', 'uattrib2': '{2d}', 'uattrib3': '{3c}', 'uattrib6': '{6d}', 'uattrib7': '{7c}', 'uattrib9': '{9c}', 'uid': 'user37'}\n",
            "{'uattrib0': '{0d}', 'uattrib1': '{1a}', 'uattrib2': '{2b}', 'uattrib3': '{3b}', 'uattrib4': '{4b}', 'uattrib5': '{5a}', 'uattrib6': '{6d}', 'uattrib7': '{7d}', 'uattrib8': '{8b}', 'uattrib9': '{9d}', 'uid': 'user38'}\n",
            "{'uattrib0': '{0d}', 'uattrib1': '{1a}', 'uattrib2': '{2b}', 'uattrib3': '{3b}', 'uattrib4': '{4b}', 'uattrib5': '{5a}', 'uattrib6': '{6d}', 'uattrib7': '{7d}', 'uattrib8': '{8b}', 'uattrib9': '{9b}', 'uid': 'user39'}\n",
            "{'uattrib0': '{0a}', 'uattrib1': '{1d}', 'uattrib2': '{2d}', 'uattrib5': '{5c}', 'uattrib6': '{6b}', 'uattrib9': '{9a}', 'uid': 'user40'}\n",
            "{'uattrib1': '{1d}', 'uid': 'user41'}\n",
            "{'uid': 'user42'}\n",
            "{'uattrib2': '{2b}', 'uattrib4': '{4b}', 'uattrib6': '{6b}', 'uattrib7': '{7a}', 'uattrib8': '{8c}', 'uattrib9': '{9c}', 'uid': 'user43'}\n",
            "{'uattrib4': '{4a}', 'uattrib5': '{5b}', 'uattrib7': '{7b}', 'uid': 'user44'}\n",
            "{'uattrib0': '{0b}', 'uattrib1': '{1d}', 'uattrib4': '{4b}', 'uattrib6': '{6a}', 'uid': 'user45'}\n",
            "{'uattrib0': '{0a}', 'uattrib1': '{1a}', 'uattrib4': '{4a}', 'uattrib6': '{6b}', 'uattrib7': '{7c}', 'uattrib8': '{8c}', 'uattrib9': '{9a}', 'uid': 'user46'}\n",
            "{'uattrib0': '{0b}', 'uattrib1': '{1c}', 'uattrib2': '{2c}', 'uattrib4': '{4a}', 'uattrib5': '{5a}', 'uattrib6': '{6b}', 'uattrib7': '{7c}', 'uattrib8': '{8c}', 'uid': 'user47'}\n",
            "{'uattrib3': '{3b}', 'uid': 'user48'}\n",
            "{'uattrib0': '{0d}', 'uattrib2': '{2c}', 'uattrib3': '{3c}', 'uattrib5': '{5d}', 'uattrib7': '{7c}', 'uattrib8': '{8c}', 'uattrib9': '{9b}', 'uid': 'user49'}\n",
            "{'uattrib0': '{0a}', 'uattrib4': '{4b}', 'uattrib6': '{6b}', 'uattrib7': '{7b}', 'uid': 'user50'}\n",
            "['uattrib2', 'uattrib3', 'uattrib4', 'uattrib7', 'uattrib8', 'uattrib9', 'uattrib0', 'uattrib1', 'uattrib6', 'uattrib5']\n"
          ],
          "name": "stdout"
        }
      ]
    },
    {
      "cell_type": "markdown",
      "metadata": {
        "id": "2wWHWge3lpla"
      },
      "source": [
        "## Extract resources"
      ]
    },
    {
      "cell_type": "code",
      "metadata": {
        "id": "yHGpy_8n6btJ",
        "colab": {
          "base_uri": "https://localhost:8080/"
        },
        "outputId": "c82d2467-8113-4caf-a5f7-fe85555bc8f6"
      },
      "source": [
        "file = open(r'migration/50 50 10 10 50 1 4/OAR.txt' , 'r')\n",
        "line = file.readline()\n",
        "R=[] \n",
        "RA=[]\n",
        "i=1     \n",
        "while line: \n",
        "  r={}\n",
        "  #print(line[:10])\n",
        "  #print(line, end = '')　\n",
        "  cons = line.strip().split(',')\n",
        "  for con in cons:\n",
        "    c = con.split('=')\n",
        "    if(len(c)==2):\n",
        "      r[c[0]]=c[1]\n",
        "      if(c[0] not in RA):\n",
        "        RA.append(c[0])\n",
        "\n",
        "  r['rid']='resource'+str(i)\n",
        "  i=i+1\n",
        "  R.append(r)\n",
        "\n",
        "  #break\n",
        "  line = file.readline() \n",
        "print(f'Number of resources:{len(R)}')\n",
        "for i in R:\n",
        "  print(i)\n",
        " \n",
        "print(RA)\n",
        "file.close() "
      ],
      "execution_count": 9,
      "outputs": [
        {
          "output_type": "stream",
          "text": [
            "Number of resources:50\n",
            "{'rattrib0': '{0x}', 'rattrib2': '{2x}', 'rattrib3': '{3w}', 'rattrib4': '{4w}', 'rattrib6': '{6x}', 'rattrib7': '{7w}', 'rattrib8': '{8w}', 'rattrib9': '{9x}', 'rid': 'resource1'}\n",
            "{'rattrib0': '{0z}', 'rattrib3': '{3w}', 'rattrib5': '{5y}', 'rattrib7': '{7w}', 'rattrib8': '{8w}', 'rattrib9': '{9w}', 'rid': 'resource2'}\n",
            "{'rattrib1': '{1z}', 'rattrib4': '{4w}', 'rattrib5': '{5y}', 'rattrib6': '{6y}', 'rattrib7': '{7w}', 'rid': 'resource3'}\n",
            "{'rattrib0': '{0y}', 'rattrib1': '{1z}', 'rattrib3': '{3y}', 'rattrib4': '{4y}', 'rattrib5': '{5x}', 'rattrib6': '{6y}', 'rattrib7': '{7x}', 'rattrib8': '{8y}', 'rattrib9': '{9y}', 'rid': 'resource4'}\n",
            "{'rattrib0': '{0y}', 'rattrib2': '{2z}', 'rattrib3': '{3w}', 'rattrib4': '{4x}', 'rattrib5': '{5y}', 'rattrib6': '{6w}', 'rattrib7': '{7z}', 'rattrib8': '{8y}', 'rattrib9': '{9w}', 'rid': 'resource5'}\n",
            "{'rattrib0': '{0y}', 'rattrib1': '{1z}', 'rattrib2': '{2w}', 'rattrib3': '{3x}', 'rattrib4': '{4w}', 'rattrib5': '{5w}', 'rattrib7': '{7z}', 'rattrib8': '{8z}', 'rattrib9': '{9w}', 'rid': 'resource6'}\n",
            "{'rattrib0': '{0z}', 'rattrib1': '{1w}', 'rattrib2': '{2y}', 'rattrib3': '{3w}', 'rattrib4': '{4x}', 'rattrib5': '{5x}', 'rattrib7': '{7y}', 'rattrib8': '{8y}', 'rattrib9': '{9z}', 'rid': 'resource7'}\n",
            "{'rattrib0': '{0w}', 'rattrib1': '{1y}', 'rattrib6': '{6w}', 'rattrib7': '{7x}', 'rattrib8': '{8w}', 'rid': 'resource8'}\n",
            "{'rattrib0': '{0w}', 'rattrib1': '{1z}', 'rattrib2': '{2w}', 'rattrib3': '{3x}', 'rattrib5': '{5z}', 'rattrib8': '{8x}', 'rattrib9': '{9x}', 'rid': 'resource9'}\n",
            "{'rattrib2': '{2y}', 'rattrib3': '{3w}', 'rattrib4': '{4w}', 'rattrib7': '{7x}', 'rattrib9': '{9x}', 'rid': 'resource10'}\n",
            "{'rattrib0': '{0x}', 'rattrib2': '{2w}', 'rattrib4': '{4w}', 'rattrib5': '{5y}', 'rattrib6': '{6x}', 'rattrib7': '{7x}', 'rid': 'resource11'}\n",
            "{'rattrib0': '{0z}', 'rattrib2': '{2y}', 'rattrib3': '{3y}', 'rattrib4': '{4w}', 'rattrib5': '{5w}', 'rattrib6': '{6y}', 'rattrib7': '{7z}', 'rattrib8': '{8x}', 'rattrib9': '{9w}', 'rid': 'resource12'}\n",
            "{'rattrib0': '{0z}', 'rattrib1': '{1y}', 'rattrib2': '{2z}', 'rattrib4': '{4w}', 'rattrib5': '{5x}', 'rattrib6': '{6w}', 'rattrib7': '{7z}', 'rattrib9': '{9z}', 'rid': 'resource13'}\n",
            "{'rattrib0': '{0w}', 'rattrib1': '{1y}', 'rattrib2': '{2z}', 'rattrib4': '{4x}', 'rattrib5': '{5y}', 'rattrib6': '{6w}', 'rattrib7': '{7z}', 'rattrib8': '{8z}', 'rattrib9': '{9z}', 'rid': 'resource14'}\n",
            "{'rattrib0': '{0z}', 'rattrib1': '{1w}', 'rattrib2': '{2x}', 'rattrib3': '{3z}', 'rattrib4': '{4x}', 'rattrib5': '{5x}', 'rattrib6': '{6y}', 'rattrib8': '{8z}', 'rattrib9': '{9z}', 'rid': 'resource15'}\n",
            "{'rattrib0': '{0w}', 'rattrib1': '{1y}', 'rattrib2': '{2w}', 'rattrib3': '{3z}', 'rattrib4': '{4z}', 'rattrib5': '{5y}', 'rattrib6': '{6y}', 'rattrib7': '{7x}', 'rattrib8': '{8x}', 'rattrib9': '{9x}', 'rid': 'resource16'}\n",
            "{'rattrib0': '{0y}', 'rattrib1': '{1z}', 'rattrib2': '{2w}', 'rattrib3': '{3w}', 'rattrib4': '{4x}', 'rattrib5': '{5y}', 'rattrib6': '{6w}', 'rattrib7': '{7w}', 'rattrib8': '{8z}', 'rid': 'resource17'}\n",
            "{'rattrib0': '{0z}', 'rattrib1': '{1z}', 'rattrib2': '{2y}', 'rattrib3': '{3z}', 'rattrib4': '{4z}', 'rattrib5': '{5w}', 'rattrib6': '{6y}', 'rattrib7': '{7x}', 'rattrib8': '{8w}', 'rattrib9': '{9x}', 'rid': 'resource18'}\n",
            "{'rattrib0': '{0x}', 'rattrib2': '{2z}', 'rattrib3': '{3y}', 'rattrib4': '{4w}', 'rattrib5': '{5x}', 'rattrib6': '{6w}', 'rattrib8': '{8z}', 'rattrib9': '{9x}', 'rid': 'resource19'}\n",
            "{'rattrib0': '{0w}', 'rattrib1': '{1w}', 'rattrib3': '{3z}', 'rattrib5': '{5w}', 'rattrib7': '{7w}', 'rid': 'resource20'}\n",
            "{'rattrib2': '{2z}', 'rattrib3': '{3y}', 'rattrib4': '{4w}', 'rattrib5': '{5x}', 'rattrib6': '{6z}', 'rattrib7': '{7x}', 'rattrib8': '{8x}', 'rattrib9': '{9w}', 'rid': 'resource21'}\n",
            "{'rattrib0': '{0x}', 'rattrib2': '{2y}', 'rattrib4': '{4y}', 'rattrib5': '{5y}', 'rattrib9': '{9y}', 'rid': 'resource22'}\n",
            "{'rattrib0': '{0y}', 'rattrib1': '{1x}', 'rattrib2': '{2y}', 'rattrib3': '{3y}', 'rattrib4': '{4y}', 'rattrib5': '{5y}', 'rattrib6': '{6x}', 'rattrib7': '{7z}', 'rattrib8': '{8y}', 'rattrib9': '{9w}', 'rid': 'resource23'}\n",
            "{'rattrib2': '{2w}', 'rattrib3': '{3z}', 'rattrib4': '{4w}', 'rattrib5': '{5w}', 'rattrib6': '{6z}', 'rattrib8': '{8z}', 'rattrib9': '{9y}', 'rid': 'resource24'}\n",
            "{'rattrib1': '{1y}', 'rattrib2': '{2w}', 'rattrib3': '{3w}', 'rattrib4': '{4x}', 'rattrib5': '{5z}', 'rattrib6': '{6y}', 'rattrib7': '{7z}', 'rid': 'resource25'}\n",
            "{'rattrib0': '{0y}', 'rattrib1': '{1z}', 'rattrib2': '{2w}', 'rattrib3': '{3w}', 'rattrib4': '{4x}', 'rattrib5': '{5y}', 'rattrib6': '{6w}', 'rattrib7': '{7w}', 'rattrib8': '{8z}', 'rattrib9': '{9w}', 'rid': 'resource26'}\n",
            "{'rattrib0': '{0y}', 'rattrib1': '{1z}', 'rattrib2': '{2w}', 'rattrib3': '{3w}', 'rattrib4': '{4x}', 'rattrib5': '{5y}', 'rattrib6': '{6w}', 'rattrib7': '{7w}', 'rattrib8': '{8z}', 'rattrib9': '{9y}', 'rid': 'resource27'}\n",
            "{'rattrib0': '{0y}', 'rattrib1': '{1z}', 'rattrib2': '{2w}', 'rattrib3': '{3w}', 'rattrib4': '{4x}', 'rattrib5': '{5y}', 'rattrib6': '{6w}', 'rattrib7': '{7w}', 'rattrib8': '{8z}', 'rattrib9': '{9x}', 'rid': 'resource28'}\n",
            "{'rattrib0': '{0y}', 'rattrib1': '{1z}', 'rattrib2': '{2w}', 'rattrib3': '{3w}', 'rattrib4': '{4x}', 'rattrib5': '{5y}', 'rattrib6': '{6w}', 'rattrib7': '{7w}', 'rattrib8': '{8z}', 'rattrib9': '{9z}', 'rid': 'resource29'}\n",
            "{'rattrib3': '{3w}', 'rattrib4': '{4y}', 'rattrib5': '{5y}', 'rattrib6': '{6y}', 'rattrib7': '{7w}', 'rattrib9': '{9x}', 'rid': 'resource30'}\n",
            "{'rattrib0': '{0z}', 'rattrib3': '{3y}', 'rattrib4': '{4y}', 'rattrib5': '{5y}', 'rattrib6': '{6x}', 'rattrib9': '{9z}', 'rid': 'resource31'}\n",
            "{'rattrib0': '{0w}', 'rattrib1': '{1z}', 'rattrib2': '{2w}', 'rattrib3': '{3w}', 'rattrib4': '{4w}', 'rattrib5': '{5y}', 'rattrib6': '{6x}', 'rattrib7': '{7x}', 'rattrib8': '{8y}', 'rid': 'resource32'}\n",
            "{'rattrib1': '{1y}', 'rattrib3': '{3z}', 'rattrib6': '{6w}', 'rattrib7': '{7w}', 'rattrib9': '{9y}', 'rid': 'resource33'}\n",
            "{'rattrib0': '{0z}', 'rattrib1': '{1w}', 'rattrib2': '{2y}', 'rattrib3': '{3y}', 'rattrib4': '{4w}', 'rattrib5': '{5w}', 'rattrib6': '{6y}', 'rattrib7': '{7z}', 'rattrib8': '{8x}', 'rattrib9': '{9w}', 'rid': 'resource34'}\n",
            "{'rattrib0': '{0y}', 'rattrib1': '{1z}', 'rattrib2': '{2w}', 'rattrib3': '{3z}', 'rattrib4': '{4y}', 'rattrib6': '{6w}', 'rattrib8': '{8z}', 'rattrib9': '{9y}', 'rid': 'resource35'}\n",
            "{'rattrib0': '{0y}', 'rattrib1': '{1y}', 'rattrib2': '{2w}', 'rattrib3': '{3z}', 'rattrib5': '{5y}', 'rattrib7': '{7y}', 'rattrib8': '{8z}', 'rattrib9': '{9y}', 'rid': 'resource36'}\n",
            "{'rattrib0': '{0x}', 'rattrib1': '{1y}', 'rattrib2': '{2z}', 'rattrib3': '{3y}', 'rattrib4': '{4y}', 'rattrib5': '{5x}', 'rattrib6': '{6w}', 'rattrib7': '{7w}', 'rattrib8': '{8z}', 'rattrib9': '{9x}', 'rid': 'resource37'}\n",
            "{'rattrib0': '{0z}', 'rattrib1': '{1y}', 'rattrib2': '{2w}', 'rattrib3': '{3y}', 'rattrib4': '{4w}', 'rattrib5': '{5y}', 'rattrib6': '{6x}', 'rattrib7': '{7x}', 'rattrib9': '{9x}', 'rid': 'resource38'}\n",
            "{'rattrib0': '{0y}', 'rattrib1': '{1y}', 'rattrib2': '{2w}', 'rattrib3': '{3y}', 'rattrib4': '{4w}', 'rattrib5': '{5y}', 'rattrib6': '{6x}', 'rattrib7': '{7x}', 'rattrib9': '{9w}', 'rid': 'resource39'}\n",
            "{'rattrib0': '{0y}', 'rattrib1': '{1y}', 'rattrib2': '{2x}', 'rattrib4': '{4w}', 'rattrib5': '{5x}', 'rattrib6': '{6w}', 'rattrib7': '{7z}', 'rattrib8': '{8w}', 'rattrib9': '{9z}', 'rid': 'resource40'}\n",
            "{'rattrib1': '{1x}', 'rattrib8': '{8y}', 'rid': 'resource41'}\n",
            "{'rattrib0': '{0y}', 'rattrib1': '{1w}', 'rattrib2': '{2x}', 'rattrib5': '{5w}', 'rattrib6': '{6z}', 'rattrib9': '{9y}', 'rid': 'resource42'}\n",
            "{'rattrib2': '{2w}', 'rattrib4': '{4x}', 'rattrib6': '{6y}', 'rid': 'resource43'}\n",
            "{'rattrib1': '{1z}', 'rattrib4': '{4z}', 'rid': 'resource44'}\n",
            "{'rattrib2': '{2x}', 'rattrib4': '{4x}', 'rattrib5': '{5z}', 'rattrib7': '{7w}', 'rattrib9': '{9z}', 'rid': 'resource45'}\n",
            "{'rattrib0': '{0y}', 'rattrib1': '{1x}', 'rattrib2': '{2x}', 'rattrib3': '{3z}', 'rattrib5': '{5w}', 'rattrib6': '{6y}', 'rattrib7': '{7w}', 'rattrib9': '{9y}', 'rid': 'resource46'}\n",
            "{'rattrib5': '{5z}', 'rid': 'resource47'}\n",
            "{'rattrib0': '{0x}', 'rattrib1': '{1w}', 'rattrib2': '{2z}', 'rattrib3': '{3z}', 'rattrib4': '{4y}', 'rattrib5': '{5z}', 'rattrib6': '{6y}', 'rattrib7': '{7w}', 'rid': 'resource48'}\n",
            "{'rid': 'resource49'}\n",
            "{'rattrib0': '{0z}', 'rattrib1': '{1y}', 'rattrib2': '{2z}', 'rattrib5': '{5z}', 'rattrib7': '{7x}', 'rattrib9': '{9z}', 'rid': 'resource50'}\n",
            "['rattrib0', 'rattrib2', 'rattrib3', 'rattrib4', 'rattrib6', 'rattrib7', 'rattrib8', 'rattrib9', 'rattrib5', 'rattrib1']\n"
          ],
          "name": "stdout"
        }
      ]
    },
    {
      "cell_type": "markdown",
      "metadata": {
        "id": "1U4GkYRjlyB5"
      },
      "source": [
        "## Define the ABAC policy"
      ]
    },
    {
      "cell_type": "code",
      "metadata": {
        "id": "Olpe62TV7J6W"
      },
      "source": [
        "O=['access']\n",
        "def dU(user,attribute):\n",
        "  if attribute in user.keys():\n",
        "    return user[attribute]\n",
        "\n",
        "def dR(resource,attribute):\n",
        "  if attribute in resource.keys():\n",
        "    return resource[attribute]\n",
        "ABAC_policy=(U,R,O,UA,RA,dU,dR,RU)"
      ],
      "execution_count": 10,
      "outputs": []
    },
    {
      "cell_type": "markdown",
      "metadata": {
        "id": "wf6qKcAzmU-k"
      },
      "source": [
        "## Define the policy checker for ABAC rules"
      ]
    },
    {
      "cell_type": "code",
      "metadata": {
        "id": "gInyfake61-l",
        "colab": {
          "base_uri": "https://localhost:8080/"
        },
        "outputId": "c1d83a8c-b00f-4499-f4d4-fd2911a8b229"
      },
      "source": [
        "def satisfied(u,r,expressions):\n",
        "  for expression in expressions:\n",
        "    eu=expression['eu']\n",
        "    er=expression['er']\n",
        "    #for all the keys in eu get the constrina of this key\n",
        "    #if u does not satisfy this const return false\\\n",
        "    if ( len(eu.keys()) != 0 and u != None):\n",
        "      for key in eu.keys():\n",
        "        if(dU(u,key)==None):\n",
        "          return False\n",
        "        for (op,c) in eu[key]:\n",
        "        #op,c=eu[key]\n",
        "        #print(op,c)\n",
        "          if op == 'is' and dU(u,key) != c :\n",
        "            return False\n",
        "\n",
        "    #for all the keys in er get the constrinat of the key\n",
        "    if ( len(er.keys()) != 0):\n",
        "      for key in er.keys():\n",
        "        if(dR(r,key)==None):\n",
        "          return False\n",
        "        for (op,c) in er[key]:\n",
        "        #print(op,c)\n",
        "        #op,c=er[key]\n",
        "\n",
        "          if op == 'is' and dR(r,key)!=c:\n",
        "\n",
        "            return False\n",
        "  \n",
        "  return True\n",
        "\n",
        "\n",
        "def check_ABAC_policy(request,abac_policy):\n",
        "  u,r,o =request\n",
        "  _,_,_,_,_,_,_,rules = abac_policy\n",
        "  for rule in rules:\n",
        "    if o in rule['operations']:\n",
        "      if satisfied(u,r,rule['expressions']):\n",
        "        return True\n",
        "  return False\n",
        "\n",
        "# check the ABAC policy \n",
        "number_allow=0\n",
        "number_deny=0\n",
        "for u in U:\n",
        "  for r in R:\n",
        "    for o in O:\n",
        "      if(check_ABAC_policy((u,r,o),ABAC_policy)==True):\n",
        "        #print(u,'\\n',r)\n",
        "        number_allow= number_allow+1\n",
        "      else:\n",
        "        number_deny =number_deny +1 \n",
        "        #print(f'{u}\\n{r}\\n{o}\\n \\n')\n",
        "\n",
        "print(f'For ABAC policy:\\nNumber of allowed requests:{number_allow}\\nNumber of denied requests:{number_deny}')\n",
        "\n",
        "#print(f'{check_ABAC_policy((U[6],R[7],\"readMyScores\"),ABAC_university)}\\n{U[6]}\\n{R[7]}')\n",
        "#print(f'{check_ABAC_policy((U[3],R[5],\"addScore\"),ABAC_university)}\\n{U[3]}\\n{R[5]}')\n",
        "#print(f'Loss at epo {epoch}: {losses/len(training_data)}')\n",
        "\n"
      ],
      "execution_count": 13,
      "outputs": [
        {
          "output_type": "stream",
          "text": [
            "For ABAC policy:\n",
            "Number of allowed requests:169\n",
            "Number of denied requests:2331\n"
          ],
          "name": "stdout"
        }
      ]
    },
    {
      "cell_type": "markdown",
      "metadata": {
        "id": "1VZPddLxmxkN"
      },
      "source": [
        "## Extrate user constraints and permissions"
      ]
    },
    {
      "cell_type": "code",
      "metadata": {
        "id": "wBJRukVSPtoX",
        "colab": {
          "base_uri": "https://localhost:8080/"
        },
        "outputId": "11cb1d13-597c-4f85-a042-c6e3e96c4a4e"
      },
      "source": [
        "def get_item_id(item,list):\n",
        "  id = 0\n",
        "  while(id<len(list)):\n",
        "    if item == list[id]:\n",
        "      return id\n",
        "    id = id + 1\n",
        "  return None\n",
        "\n",
        "from numpy import *\n",
        "# Calculate the number of user constraints\n",
        "# Calculate the number of permissions(resource constraint,operation)\n",
        "UC=[]\n",
        "Permission=[]\n",
        "Permission_set=[]\n",
        "EU=[]\n",
        "for rule in RU:\n",
        "  user_cons=rule['expressions'][0]['eu']\n",
        "  resource_cons=rule['expressions'][0]['er']\n",
        "  operations=rule['operations']\n",
        "  for uc_key in user_cons.keys():\n",
        "    uc = {uc_key:user_cons[uc_key]}\n",
        "    if uc not in UC:\n",
        "      UC.append(uc)\n",
        "  if (resource_cons,operations) not in Permission:\n",
        "    Permission.append((resource_cons,operations))\n",
        "n_uc=len(UC)\n",
        "n_p=len(Permission)\n",
        "print(f'Number of user constraints:{n_uc}\\nNumber of Permission:{n_p}')\n",
        "print(UC)\n",
        "print(Permission)"
      ],
      "execution_count": 26,
      "outputs": [
        {
          "output_type": "stream",
          "text": [
            "Number of user constraints:40\n",
            "Number of Permission:50\n",
            "[{'uattrib3': [('is', '{3a}')]}, {'uattrib9': [('is', '{9b}')]}, {'uattrib4': [('is', '{4c}')]}, {'uattrib6': [('is', '{6a}')]}, {'uattrib1': [('is', '{1d}')]}, {'uattrib9': [('is', '{9c}')]}, {'uattrib8': [('is', '{8a}')]}, {'uattrib7': [('is', '{7b}')]}, {'uattrib4': [('is', '{4d}')]}, {'uattrib1': [('is', '{1c}')]}, {'uattrib5': [('is', '{5d}')]}, {'uattrib5': [('is', '{5b}')]}, {'uattrib6': [('is', '{6d}')]}, {'uattrib3': [('is', '{3c}')]}, {'uattrib2': [('is', '{2d}')]}, {'uattrib0': [('is', '{0a}')]}, {'uattrib8': [('is', '{8c}')]}, {'uattrib7': [('is', '{7c}')]}, {'uattrib8': [('is', '{8b}')]}, {'uattrib9': [('is', '{9d}')]}, {'uattrib4': [('is', '{4a}')]}, {'uattrib0': [('is', '{0c}')]}, {'uattrib8': [('is', '{8d}')]}, {'uattrib2': [('is', '{2c}')]}, {'uattrib3': [('is', '{3d}')]}, {'uattrib2': [('is', '{2b}')]}, {'uattrib6': [('is', '{6c}')]}, {'uattrib1': [('is', '{1b}')]}, {'uattrib0': [('is', '{0d}')]}, {'uattrib5': [('is', '{5a}')]}, {'uattrib0': [('is', '{0b}')]}, {'uattrib4': [('is', '{4b}')]}, {'uattrib7': [('is', '{7d}')]}, {'uattrib1': [('is', '{1a}')]}, {'uattrib3': [('is', '{3b}')]}, {'uattrib7': [('is', '{7a}')]}, {'uattrib6': [('is', '{6b}')]}, {'uattrib9': [('is', '{9a}')]}, {'uattrib2': [('is', '{2a}')]}, {'uattrib5': [('is', '{5c}')]}]\n",
            "[({'rattrib7': [('is', '{7w}')], 'rattrib8': [('is', '{8w}')], 'rattrib2': [('is', '{2x}')], 'rattrib4': [('is', '{4w}')], 'rattrib6': [('is', '{6x}')], 'rattrib3': [('is', '{3w}')]}, ['access']), ({'rattrib7': [('is', '{7w}')], 'rattrib9': [('is', '{9w}')], 'rattrib5': [('is', '{5y}')]}, ['access']), ({'rattrib1': [('is', '{1z}')], 'rattrib5': [('is', '{5y}')]}, ['access']), ({'rattrib3': [('is', '{3y}')], 'rattrib9': [('is', '{9y}')], 'rattrib1': [('is', '{1z}')], 'rattrib0': [('is', '{0y}')], 'rattrib8': [('is', '{8y}')], 'rattrib7': [('is', '{7x}')], 'rattrib4': [('is', '{4y}')], 'rattrib5': [('is', '{5x}')]}, ['access']), ({'rattrib6': [('is', '{6w}')], 'rattrib4': [('is', '{4x}')], 'rattrib0': [('is', '{0y}')], 'rattrib9': [('is', '{9w}')], 'rattrib5': [('is', '{5y}')], 'rattrib3': [('is', '{3w}')], 'rattrib7': [('is', '{7z}')], 'rattrib8': [('is', '{8y}')], 'rattrib2': [('is', '{2z}')]}, ['access']), ({'rattrib4': [('is', '{4w}')], 'rattrib7': [('is', '{7z}')], 'rattrib5': [('is', '{5w}')], 'rattrib1': [('is', '{1z}')], 'rattrib0': [('is', '{0y}')], 'rattrib3': [('is', '{3x}')], 'rattrib9': [('is', '{9w}')], 'rattrib8': [('is', '{8z}')]}, ['access']), ({'rattrib4': [('is', '{4x}')], 'rattrib5': [('is', '{5x}')], 'rattrib8': [('is', '{8y}')], 'rattrib0': [('is', '{0z}')], 'rattrib3': [('is', '{3w}')], 'rattrib2': [('is', '{2y}')], 'rattrib7': [('is', '{7y}')], 'rattrib1': [('is', '{1w}')], 'rattrib9': [('is', '{9z}')]}, ['access']), ({'rattrib1': [('is', '{1y}')], 'rattrib6': [('is', '{6w}')]}, ['access']), ({'rattrib1': [('is', '{1z}')], 'rattrib2': [('is', '{2w}')], 'rattrib3': [('is', '{3x}')], 'rattrib8': [('is', '{8x}')], 'rattrib0': [('is', '{0w}')]}, ['access']), ({'rattrib7': [('is', '{7x}')], 'rattrib3': [('is', '{3w}')]}, ['access']), ({'rattrib4': [('is', '{4w}')], 'rattrib7': [('is', '{7x}')], 'rattrib5': [('is', '{5y}')], 'rattrib2': [('is', '{2w}')], 'rattrib6': [('is', '{6x}')]}, ['access']), ({'rattrib2': [('is', '{2y}')], 'rattrib7': [('is', '{7z}')], 'rattrib4': [('is', '{4w}')], 'rattrib9': [('is', '{9w}')], 'rattrib8': [('is', '{8x}')], 'rattrib0': [('is', '{0z}')], 'rattrib5': [('is', '{5w}')], 'rattrib3': [('is', '{3y}')]}, ['access']), ({'rattrib9': [('is', '{9z}')], 'rattrib6': [('is', '{6w}')], 'rattrib7': [('is', '{7z}')], 'rattrib4': [('is', '{4w}')], 'rattrib5': [('is', '{5x}')], 'rattrib1': [('is', '{1y}')]}, ['access']), ({'rattrib7': [('is', '{7z}')], 'rattrib1': [('is', '{1y}')], 'rattrib5': [('is', '{5y}')], 'rattrib6': [('is', '{6w}')], 'rattrib9': [('is', '{9z}')], 'rattrib2': [('is', '{2z}')]}, ['access']), ({'rattrib3': [('is', '{3z}')], 'rattrib9': [('is', '{9z}')], 'rattrib8': [('is', '{8z}')], 'rattrib5': [('is', '{5x}')], 'rattrib4': [('is', '{4x}')], 'rattrib0': [('is', '{0z}')], 'rattrib6': [('is', '{6y}')], 'rattrib2': [('is', '{2x}')]}, ['access']), ({'rattrib6': [('is', '{6y}')], 'rattrib8': [('is', '{8x}')], 'rattrib7': [('is', '{7x}')], 'rattrib5': [('is', '{5y}')], 'rattrib9': [('is', '{9x}')], 'rattrib3': [('is', '{3z}')], 'rattrib2': [('is', '{2w}')], 'rattrib1': [('is', '{1y}')], 'rattrib0': [('is', '{0w}')]}, ['access']), ({'rattrib3': [('is', '{3w}')], 'rattrib5': [('is', '{5y}')], 'rattrib4': [('is', '{4x}')], 'rattrib0': [('is', '{0y}')], 'rattrib1': [('is', '{1z}')], 'rattrib6': [('is', '{6w}')], 'rattrib8': [('is', '{8z}')], 'rattrib2': [('is', '{2w}')], 'rattrib7': [('is', '{7w}')]}, ['access']), ({'rattrib6': [('is', '{6y}')], 'rattrib0': [('is', '{0z}')], 'rattrib9': [('is', '{9x}')], 'rattrib5': [('is', '{5w}')], 'rattrib4': [('is', '{4z}')], 'rattrib3': [('is', '{3z}')], 'rattrib2': [('is', '{2y}')]}, ['access']), ({'rattrib5': [('is', '{5x}')], 'rattrib0': [('is', '{0x}')], 'rattrib8': [('is', '{8z}')], 'rattrib6': [('is', '{6w}')], 'rattrib2': [('is', '{2z}')], 'rattrib3': [('is', '{3y}')], 'rattrib9': [('is', '{9x}')]}, ['access']), ({'rattrib3': [('is', '{3z}')], 'rattrib7': [('is', '{7w}')]}, ['access']), ({'rattrib3': [('is', '{3y}')], 'rattrib2': [('is', '{2z}')], 'rattrib6': [('is', '{6z}')], 'rattrib9': [('is', '{9w}')], 'rattrib7': [('is', '{7x}')], 'rattrib5': [('is', '{5x}')]}, ['access']), ({'rattrib4': [('is', '{4y}')], 'rattrib5': [('is', '{5y}')]}, ['access']), ({'rattrib1': [('is', '{1x}')], 'rattrib5': [('is', '{5y}')], 'rattrib2': [('is', '{2y}')], 'rattrib3': [('is', '{3y}')], 'rattrib6': [('is', '{6x}')], 'rattrib8': [('is', '{8y}')], 'rattrib4': [('is', '{4y}')], 'rattrib0': [('is', '{0y}')]}, ['access']), ({'rattrib8': [('is', '{8z}')], 'rattrib3': [('is', '{3z}')], 'rattrib9': [('is', '{9y}')], 'rattrib2': [('is', '{2w}')]}, ['access']), ({'rattrib7': [('is', '{7z}')], 'rattrib2': [('is', '{2w}')], 'rattrib6': [('is', '{6y}')], 'rattrib5': [('is', '{5z}')], 'rattrib1': [('is', '{1y}')]}, ['access']), ({'rattrib3': [('is', '{3w}')], 'rattrib5': [('is', '{5y}')], 'rattrib4': [('is', '{4x}')], 'rattrib0': [('is', '{0y}')], 'rattrib1': [('is', '{1z}')], 'rattrib6': [('is', '{6w}')], 'rattrib8': [('is', '{8z}')], 'rattrib2': [('is', '{2w}')], 'rattrib7': [('is', '{7w}')], 'rattrib9': [('is', '{9w}')]}, ['access']), ({'rattrib3': [('is', '{3w}')], 'rattrib5': [('is', '{5y}')], 'rattrib4': [('is', '{4x}')], 'rattrib0': [('is', '{0y}')], 'rattrib1': [('is', '{1z}')], 'rattrib6': [('is', '{6w}')], 'rattrib8': [('is', '{8z}')], 'rattrib2': [('is', '{2w}')], 'rattrib7': [('is', '{7w}')], 'rattrib9': [('is', '{9y}')]}, ['access']), ({'rattrib3': [('is', '{3w}')], 'rattrib5': [('is', '{5y}')], 'rattrib4': [('is', '{4x}')], 'rattrib0': [('is', '{0y}')], 'rattrib1': [('is', '{1z}')], 'rattrib6': [('is', '{6w}')], 'rattrib8': [('is', '{8z}')], 'rattrib2': [('is', '{2w}')], 'rattrib7': [('is', '{7w}')], 'rattrib9': [('is', '{9x}')]}, ['access']), ({'rattrib3': [('is', '{3w}')], 'rattrib5': [('is', '{5y}')], 'rattrib4': [('is', '{4x}')], 'rattrib0': [('is', '{0y}')], 'rattrib1': [('is', '{1z}')], 'rattrib6': [('is', '{6w}')], 'rattrib8': [('is', '{8z}')], 'rattrib2': [('is', '{2w}')], 'rattrib7': [('is', '{7w}')], 'rattrib9': [('is', '{9z}')]}, ['access']), ({'rattrib4': [('is', '{4y}')], 'rattrib5': [('is', '{5y}')], 'rattrib7': [('is', '{7w}')]}, ['access']), ({'rattrib4': [('is', '{4y}')], 'rattrib5': [('is', '{5y}')], 'rattrib0': [('is', '{0z}')]}, ['access']), ({'rattrib4': [('is', '{4w}')], 'rattrib7': [('is', '{7x}')], 'rattrib5': [('is', '{5y}')], 'rattrib2': [('is', '{2w}')], 'rattrib6': [('is', '{6x}')], 'rattrib1': [('is', '{1z}')], 'rattrib3': [('is', '{3w}')], 'rattrib0': [('is', '{0w}')]}, ['access']), ({'rattrib3': [('is', '{3z}')], 'rattrib7': [('is', '{7w}')], 'rattrib1': [('is', '{1y}')]}, ['access']), ({'rattrib2': [('is', '{2y}')], 'rattrib7': [('is', '{7z}')], 'rattrib4': [('is', '{4w}')], 'rattrib9': [('is', '{9w}')], 'rattrib8': [('is', '{8x}')], 'rattrib0': [('is', '{0z}')], 'rattrib5': [('is', '{5w}')], 'rattrib3': [('is', '{3y}')], 'rattrib1': [('is', '{1w}')], 'rattrib6': [('is', '{6y}')]}, ['access']), ({'rattrib8': [('is', '{8z}')], 'rattrib3': [('is', '{3z}')], 'rattrib9': [('is', '{9y}')], 'rattrib2': [('is', '{2w}')], 'rattrib6': [('is', '{6w}')]}, ['access']), ({'rattrib8': [('is', '{8z}')], 'rattrib3': [('is', '{3z}')], 'rattrib9': [('is', '{9y}')], 'rattrib2': [('is', '{2w}')], 'rattrib5': [('is', '{5y}')]}, ['access']), ({'rattrib5': [('is', '{5x}')], 'rattrib0': [('is', '{0x}')], 'rattrib8': [('is', '{8z}')], 'rattrib6': [('is', '{6w}')], 'rattrib2': [('is', '{2z}')], 'rattrib3': [('is', '{3y}')], 'rattrib9': [('is', '{9x}')], 'rattrib1': [('is', '{1y}')], 'rattrib7': [('is', '{7w}')]}, ['access']), ({'rattrib4': [('is', '{4w}')], 'rattrib7': [('is', '{7x}')], 'rattrib5': [('is', '{5y}')], 'rattrib2': [('is', '{2w}')], 'rattrib6': [('is', '{6x}')], 'rattrib3': [('is', '{3y}')]}, ['access']), ({'rattrib4': [('is', '{4w}')], 'rattrib7': [('is', '{7x}')], 'rattrib5': [('is', '{5y}')], 'rattrib2': [('is', '{2w}')], 'rattrib6': [('is', '{6x}')], 'rattrib9': [('is', '{9w}')]}, ['access']), ({'rattrib9': [('is', '{9z}')], 'rattrib6': [('is', '{6w}')], 'rattrib7': [('is', '{7z}')], 'rattrib4': [('is', '{4w}')], 'rattrib5': [('is', '{5x}')], 'rattrib1': [('is', '{1y}')], 'rattrib0': [('is', '{0y}')], 'rattrib2': [('is', '{2x}')], 'rattrib8': [('is', '{8w}')]}, ['access']), ({'rattrib9': [('is', '{9z}')], 'rattrib6': [('is', '{6w}')], 'rattrib7': [('is', '{7z}')], 'rattrib4': [('is', '{4w}')], 'rattrib5': [('is', '{5x}')], 'rattrib1': [('is', '{1y}')], 'rattrib2': [('is', '{2z}')], 'rattrib0': [('is', '{0y}')], 'rattrib3': [('is', '{3y}')]}, ['access']), ({'rattrib4': [('is', '{4w}')], 'rattrib7': [('is', '{7z}')], 'rattrib5': [('is', '{5w}')], 'rattrib1': [('is', '{1z}')], 'rattrib0': [('is', '{0y}')], 'rattrib3': [('is', '{3x}')], 'rattrib9': [('is', '{9w}')], 'rattrib8': [('is', '{8z}')], 'rattrib6': [('is', '{6z}')], 'rattrib2': [('is', '{2w}')]}, ['access']), ({'rattrib4': [('is', '{4w}')], 'rattrib7': [('is', '{7z}')], 'rattrib5': [('is', '{5w}')], 'rattrib1': [('is', '{1z}')], 'rattrib0': [('is', '{0y}')], 'rattrib3': [('is', '{3x}')], 'rattrib9': [('is', '{9w}')], 'rattrib8': [('is', '{8z}')], 'rattrib2': [('is', '{2x}')], 'rattrib6': [('is', '{6x}')]}, ['access']), ({'rattrib7': [('is', '{7z}')], 'rattrib1': [('is', '{1y}')], 'rattrib5': [('is', '{5y}')], 'rattrib6': [('is', '{6w}')], 'rattrib9': [('is', '{9z}')], 'rattrib2': [('is', '{2z}')], 'rattrib3': [('is', '{3x}')], 'rattrib0': [('is', '{0z}')]}, ['access']), ({'rattrib7': [('is', '{7z}')], 'rattrib1': [('is', '{1y}')], 'rattrib5': [('is', '{5y}')], 'rattrib6': [('is', '{6w}')], 'rattrib9': [('is', '{9z}')], 'rattrib2': [('is', '{2z}')], 'rattrib4': [('is', '{4w}')], 'rattrib8': [('is', '{8z}')]}, ['access']), ({'rattrib7': [('is', '{7z}')], 'rattrib2': [('is', '{2w}')], 'rattrib6': [('is', '{6y}')], 'rattrib5': [('is', '{5z}')], 'rattrib1': [('is', '{1y}')], 'rattrib0': [('is', '{0x}')], 'rattrib3': [('is', '{3w}')], 'rattrib8': [('is', '{8x}')]}, ['access']), ({'rattrib7': [('is', '{7z}')], 'rattrib2': [('is', '{2w}')], 'rattrib6': [('is', '{6y}')], 'rattrib5': [('is', '{5z}')], 'rattrib1': [('is', '{1y}')], 'rattrib9': [('is', '{9x}')], 'rattrib0': [('is', '{0w}')], 'rattrib4': [('is', '{4w}')]}, ['access']), ({'rattrib4': [('is', '{4y}')], 'rattrib5': [('is', '{5y}')], 'rattrib7': [('is', '{7w}')], 'rattrib9': [('is', '{9z}')], 'rattrib3': [('is', '{3w}')], 'rattrib2': [('is', '{2w}')], 'rattrib8': [('is', '{8x}')]}, ['access']), ({'rattrib4': [('is', '{4w}')], 'rattrib7': [('is', '{7z}')], 'rattrib5': [('is', '{5w}')], 'rattrib1': [('is', '{1z}')], 'rattrib0': [('is', '{0y}')], 'rattrib3': [('is', '{3x}')], 'rattrib9': [('is', '{9w}')], 'rattrib8': [('is', '{8z}')], 'rattrib6': [('is', '{6z}')]}, ['access']), ({'rattrib4': [('is', '{4w}')], 'rattrib7': [('is', '{7z}')], 'rattrib5': [('is', '{5w}')], 'rattrib1': [('is', '{1z}')], 'rattrib0': [('is', '{0y}')], 'rattrib3': [('is', '{3x}')], 'rattrib9': [('is', '{9w}')], 'rattrib8': [('is', '{8z}')], 'rattrib6': [('is', '{6x}')]}, ['access'])]\n"
          ],
          "name": "stdout"
        }
      ]
    },
    {
      "cell_type": "code",
      "metadata": {
        "id": "V0PJTGQB9os8"
      },
      "source": [
        "def cover(ma,mb):# ma cover mb\n",
        "  if ma.shape[1] != mb.shape[1]:\n",
        "    return False\n",
        "  for i in range(ma.shape[1]):\n",
        "    if mb[0,i]==1 and ma[0,i]==0:\n",
        "      return False\n",
        "\n",
        "\n",
        "  return True"
      ],
      "execution_count": 15,
      "outputs": []
    },
    {
      "cell_type": "markdown",
      "metadata": {
        "id": "-dkBMAv6m8C6"
      },
      "source": [
        "## Extract permission-constraint and role-permission matrix"
      ]
    },
    {
      "cell_type": "code",
      "metadata": {
        "id": "yA8jZUdQ9sKi",
        "colab": {
          "base_uri": "https://localhost:8080/"
        },
        "outputId": "03cf89ab-3978-4dd7-98a8-5c48da7ec62f"
      },
      "source": [
        "# permission-constraint matrix\n",
        "pc=mat(zeros((n_p,n_uc)))\n",
        "for rule in RU:\n",
        "  user_cons=rule['expressions'][0]['eu']\n",
        "  resource_cons=rule['expressions'][0]['er']\n",
        "  operations=rule['operations']\n",
        "  p_id=get_item_id((resource_cons,operations),Permission)\n",
        "  for uc_key in user_cons.keys():\n",
        "    uc = {uc_key:user_cons[uc_key]}\n",
        "    c_id=get_item_id(uc,UC)\n",
        "    if(c_id==None):\n",
        "      continue\n",
        "    pc[p_id,c_id]=1\n",
        "print(f'The pc matrix is\\n {pc}')\n",
        "rp=mat(diag(array(ones(n_p))))\n",
        "for i in range(n_p-1):\n",
        "  for j in range(i+1,n_p):\n",
        "    if (cover(pc[i,],pc[j,])):\n",
        "      rp[i,j]=1\n",
        "    if (cover(pc[j,],pc[i,])):\n",
        "      rp[j,i]=1\n",
        "\n",
        "print(f'The rp matrix is\\n {rp}')"
      ],
      "execution_count": 17,
      "outputs": [
        {
          "output_type": "stream",
          "text": [
            "The pc matrix is\n",
            " [[1. 1. 1. ... 0. 0. 0.]\n",
            " [1. 0. 0. ... 0. 0. 0.]\n",
            " [0. 1. 0. ... 0. 0. 0.]\n",
            " ...\n",
            " [1. 0. 0. ... 0. 0. 0.]\n",
            " [0. 0. 0. ... 0. 1. 0.]\n",
            " [0. 0. 0. ... 0. 0. 0.]]\n",
            "The rp matrix is\n",
            " [[1. 0. 0. ... 0. 0. 0.]\n",
            " [0. 1. 0. ... 0. 0. 0.]\n",
            " [0. 0. 1. ... 0. 0. 0.]\n",
            " ...\n",
            " [0. 0. 0. ... 1. 0. 0.]\n",
            " [0. 0. 0. ... 0. 1. 0.]\n",
            " [0. 0. 0. ... 0. 0. 1.]]\n"
          ],
          "name": "stdout"
        }
      ]
    },
    {
      "cell_type": "markdown",
      "metadata": {
        "id": "ea6UC2L5nXic"
      },
      "source": [
        "## Calculate the user-role assignment and the role-permission assignment"
      ]
    },
    {
      "cell_type": "code",
      "metadata": {
        "id": "71MHQzP6_CxL",
        "colab": {
          "base_uri": "https://localhost:8080/"
        },
        "outputId": "0705bf20-7442-42ee-a88c-4ef9128654e1"
      },
      "source": [
        "def rest_of(l,r):\n",
        "  vector = mat(zeros((1,n_uc)))\n",
        "  for role in l:\n",
        "    if role != r:\n",
        "      vector = vector + rc[role,]\n",
        "  for i in range(n_uc):\n",
        "    if vector[0,i]>0:\n",
        "      vector[0,i]=1\n",
        "  return vector\n",
        "\n",
        "import copy\n",
        "# User role assignment \n",
        "n_r=n_p\n",
        "rc=pc\n",
        "URA = dict()\n",
        "\n",
        "print('The user-role assignment:')\n",
        "for u in U:\n",
        "  URA[u['uid']]=[]\n",
        "  uv=mat(ones((1,n_uc)))\n",
        "  for cid in range(n_uc):\n",
        "    expressions=[{'eu':UC[cid],'er':{}}]\n",
        "    if satisfied(u,None,expressions)==False:\n",
        "      uv[0,cid]=0\n",
        "  for rid in range(n_r):\n",
        "    if cover(uv,rc[rid,]):\n",
        "      URA[u['uid']].append(rid)\n",
        "\n",
        "# remove hierarchy\n",
        "  for ri in URA[u['uid']]:\n",
        "    rest = URA[u['uid']].copy()\n",
        "    rest.remove(ri)\n",
        "\n",
        "    for rj in rest:\n",
        "      if cover(rc[rj,],rc[ri,]) and ri in URA[u['uid']]:\n",
        "        URA[u['uid']].remove(ri)\n",
        "#remove redundant\n",
        "  for r in URA[u['uid']]:\n",
        "    if len(URA[u['uid']])==1:\n",
        "      break\n",
        "    if cover(rest_of(URA[u['uid']],r),rc[r,]):\n",
        "      URA[u['uid']].remove(r)\n",
        "\n",
        "  ura =  URA[u['uid']]\n",
        "\n",
        "  print(f'User {u}, role: {ura}')\n",
        "#print(f'The user-role assignment:  {URA}')\n",
        " # print(f'The role-permission assignment:  {RPA}')\n",
        "\n",
        "# generate the role-heirarchy\n",
        "RH = []\n",
        "for i in range(0,n_r-1):\n",
        "  for j in range(i+1,n_r):\n",
        "    if (cover(pc[i,],pc[j,])):\n",
        "      RH.append((i,j))\n",
        "    if (cover(pc[j,],pc[i,])):\n",
        "      RH.append((j,i))    \n",
        "print(f'\\n\\nThe role-hierarchy relationship:  {RH}')\n",
        "# generate the role-permission assignment\n",
        "RPA = dict()\n",
        "for ro in range(n_r):\n",
        "  RPA['role'+str(ro)]=[]\n",
        "  for r in R:\n",
        "    for o in O:\n",
        "      for pid in range(n_p):\n",
        "        if rp[ro,pid]==1:\n",
        "          (er,operations) = Permission[pid]\n",
        "          #print(er,r)\n",
        "          expressions=[{'eu':{},'er':er}]\n",
        "          #print(satisfied(None,r,expressions))\n",
        "          if satisfied(None,r,expressions) and o in operations:\n",
        "            if((r,o) not in RPA['role'+str(ro)]):\n",
        "              RPA['role'+str(ro)].append((r,o))\n",
        "\n",
        "print('\\n\\nThe role-permission assignment:')\n",
        "for ro in range(n_r):\n",
        "  p=RPA['role'+str(ro)]\n",
        "  print(f'Role：{ro}, Number of permissions:{len(p)},  Permissions: {p}')"
      ],
      "execution_count": 25,
      "outputs": [
        {
          "output_type": "stream",
          "text": [
            "The user-role assignment:\n",
            "User {'uattrib2': '{2a}', 'uattrib3': '{3a}', 'uattrib4': '{4c}', 'uattrib7': '{7d}', 'uattrib8': '{8a}', 'uattrib9': '{9b}', 'uid': 'user1'}, role: [0]\n",
            "User {'uattrib0': '{0a}', 'uattrib1': '{1d}', 'uattrib2': '{2b}', 'uattrib3': '{3a}', 'uattrib6': '{6a}', 'uattrib8': '{8c}', 'uattrib9': '{9c}', 'uid': 'user2'}, role: [1]\n",
            "User {'uattrib1': '{1c}', 'uattrib2': '{2b}', 'uattrib4': '{4d}', 'uattrib5': '{5d}', 'uattrib6': '{6a}', 'uattrib7': '{7b}', 'uattrib8': '{8a}', 'uattrib9': '{9b}', 'uid': 'user3'}, role: [2]\n",
            "User {'uattrib1': '{1c}', 'uattrib5': '{5b}', 'uattrib6': '{6d}', 'uattrib7': '{7d}', 'uattrib9': '{9a}', 'uid': 'user4'}, role: [3, 24]\n",
            "User {'uattrib0': '{0a}', 'uattrib1': '{1d}', 'uattrib2': '{2d}', 'uattrib3': '{3c}', 'uattrib4': '{4c}', 'uattrib5': '{5b}', 'uattrib6': '{6d}', 'uattrib7': '{7b}', 'uattrib8': '{8c}', 'uattrib9': '{9d}', 'uid': 'user5'}, role: [4]\n",
            "User {'uattrib1': '{1a}', 'uattrib3': '{3a}', 'uattrib6': '{6a}', 'uattrib7': '{7c}', 'uattrib8': '{8b}', 'uid': 'user6'}, role: [5]\n",
            "User {'uattrib0': '{0a}', 'uattrib1': '{1a}', 'uattrib3': '{3b}', 'uattrib4': '{4a}', 'uattrib5': '{5b}', 'uattrib6': '{6a}', 'uattrib7': '{7d}', 'uattrib8': '{8a}', 'uattrib9': '{9d}', 'uid': 'user7'}, role: [6]\n",
            "User {'uattrib0': '{0c}', 'uattrib1': '{1c}', 'uattrib2': '{2c}', 'uattrib3': '{3d}', 'uattrib4': '{4a}', 'uattrib5': '{5c}', 'uattrib6': '{6d}', 'uattrib7': '{7b}', 'uattrib8': '{8d}', 'uattrib9': '{9c}', 'uid': 'user8'}, role: [7]\n",
            "User {'uattrib0': '{0d}', 'uattrib1': '{1b}', 'uattrib2': '{2b}', 'uattrib3': '{3d}', 'uattrib5': '{5a}', 'uattrib6': '{6c}', 'uattrib7': '{7c}', 'uattrib8': '{8c}', 'uid': 'user9'}, role: [8]\n",
            "User {'uattrib0': '{0b}', 'uattrib1': '{1b}', 'uattrib2': '{2d}', 'uattrib3': '{3a}', 'uattrib4': '{4b}', 'uattrib5': '{5c}', 'uattrib6': '{6a}', 'uattrib7': '{7c}', 'uattrib8': '{8d}', 'uattrib9': '{9d}', 'uid': 'user10'}, role: [9]\n",
            "User {'uattrib0': '{0d}', 'uattrib1': '{1a}', 'uattrib2': '{2b}', 'uattrib3': '{3b}', 'uattrib4': '{4b}', 'uattrib5': '{5a}', 'uattrib6': '{6b}', 'uattrib7': '{7d}', 'uattrib8': '{8b}', 'uid': 'user11'}, role: [10]\n",
            "User {'uattrib0': '{0c}', 'uattrib1': '{1c}', 'uattrib2': '{2d}', 'uattrib3': '{3b}', 'uattrib4': '{4d}', 'uattrib5': '{5b}', 'uattrib6': '{6b}', 'uattrib7': '{7a}', 'uattrib8': '{8d}', 'uattrib9': '{9d}', 'uid': 'user12'}, role: [33]\n",
            "User {'uattrib1': '{1d}', 'uattrib2': '{2d}', 'uattrib4': '{4c}', 'uattrib5': '{5d}', 'uattrib9': '{9d}', 'uid': 'user13'}, role: [12]\n",
            "User {'uattrib1': '{1d}', 'uattrib2': '{2d}', 'uattrib3': '{3d}', 'uattrib5': '{5d}', 'uattrib6': '{6b}', 'uattrib7': '{7c}', 'uattrib8': '{8d}', 'uattrib9': '{9c}', 'uid': 'user14'}, role: [12, 13]\n",
            "User {'uattrib0': '{0c}', 'uattrib1': '{1d}', 'uattrib2': '{2b}', 'uattrib3': '{3a}', 'uattrib4': '{4a}', 'uattrib5': '{5a}', 'uattrib6': '{6c}', 'uattrib7': '{7a}', 'uattrib8': '{8b}', 'uattrib9': '{9a}', 'uid': 'user15'}, role: [14]\n",
            "User {'uattrib0': '{0b}', 'uattrib1': '{1a}', 'uattrib2': '{2a}', 'uattrib3': '{3d}', 'uattrib4': '{4d}', 'uattrib5': '{5b}', 'uattrib6': '{6b}', 'uattrib7': '{7b}', 'uattrib8': '{8d}', 'uattrib9': '{9d}', 'uid': 'user16'}, role: [15]\n",
            "User {'uattrib2': '{2b}', 'uattrib4': '{4b}', 'uattrib5': '{5a}', 'uattrib9': '{9d}', 'uid': 'user17'}, role: [26]\n",
            "User {'uattrib0': '{0d}', 'uattrib1': '{1d}', 'uattrib2': '{2c}', 'uattrib3': '{3c}', 'uattrib4': '{4a}', 'uattrib5': '{5b}', 'uattrib6': '{6d}', 'uattrib7': '{7c}', 'uattrib8': '{8d}', 'uattrib9': '{9a}', 'uid': 'user18'}, role: [17]\n",
            "User {'uattrib0': '{0b}', 'uattrib1': '{1b}', 'uattrib5': '{5b}', 'uattrib6': '{6d}', 'uattrib7': '{7c}', 'uattrib8': '{8b}', 'uattrib9': '{9c}', 'uid': 'user19'}, role: [3, 5, 18]\n",
            "User {'uattrib0': '{0c}', 'uattrib2': '{2b}', 'uattrib4': '{4d}', 'uattrib5': '{5a}', 'uattrib7': '{7c}', 'uattrib8': '{8c}', 'uattrib9': '{9d}', 'uid': 'user20'}, role: [19, 26]\n",
            "User {'uattrib0': '{0a}', 'uattrib1': '{1a}', 'uattrib2': '{2a}', 'uattrib3': '{3c}', 'uattrib4': '{4c}', 'uattrib5': '{5d}', 'uattrib6': '{6b}', 'uattrib7': '{7c}', 'uattrib8': '{8b}', 'uattrib9': '{9a}', 'uid': 'user21'}, role: [20]\n",
            "User {'uattrib1': '{1d}', 'uattrib2': '{2a}', 'uattrib4': '{4b}', 'uattrib7': '{7d}', 'uattrib8': '{8b}', 'uattrib9': '{9a}', 'uid': 'user22'}, role: [30]\n",
            "User {'uattrib0': '{0d}', 'uattrib1': '{1b}', 'uattrib2': '{2b}', 'uattrib3': '{3d}', 'uattrib4': '{4b}', 'uattrib5': '{5a}', 'uattrib6': '{6b}', 'uattrib7': '{7c}', 'uattrib9': '{9b}', 'uid': 'user23'}, role: [22]\n",
            "User {'uattrib0': '{0c}', 'uattrib1': '{1c}', 'uattrib4': '{4b}', 'uattrib5': '{5b}', 'uattrib6': '{6c}', 'uattrib7': '{7d}', 'uattrib8': '{8c}', 'uid': 'user24'}, role: [23]\n",
            "User {'uattrib0': '{0a}', 'uattrib1': '{1c}', 'uattrib7': '{7d}', 'uattrib9': '{9a}', 'uid': 'user25'}, role: [24]\n",
            "User {'uattrib1': '{1c}', 'uattrib2': '{2b}', 'uattrib3': '{3c}', 'uattrib4': '{4d}', 'uattrib5': '{5a}', 'uattrib6': '{6b}', 'uid': 'user26'}, role: [25]\n",
            "User {'uattrib2': '{2b}', 'uattrib4': '{4b}', 'uattrib5': '{5a}', 'uattrib8': '{8a}', 'uattrib9': '{9d}', 'uid': 'user27'}, role: [26]\n",
            "User {'uattrib1': '{1c}', 'uattrib2': '{2b}', 'uattrib3': '{3d}', 'uattrib5': '{5a}', 'uattrib6': '{6d}', 'uattrib7': '{7b}', 'uattrib8': '{8c}', 'uid': 'user28'}, role: [27]\n",
            "User {'uattrib1': '{1d}', 'uattrib2': '{2b}', 'uattrib3': '{3c}', 'uattrib5': '{5a}', 'uattrib6': '{6a}', 'uattrib7': '{7c}', 'uattrib8': '{8a}', 'uid': 'user29'}, role: [28]\n",
            "User {'uattrib1': '{1d}', 'uattrib3': '{3a}', 'uattrib4': '{4b}', 'uattrib5': '{5d}', 'uattrib7': '{7d}', 'uattrib8': '{8c}', 'uattrib9': '{9d}', 'uid': 'user30'}, role: [29]\n",
            "User {'uattrib0': '{0d}', 'uattrib1': '{1d}', 'uattrib2': '{2a}', 'uattrib4': '{4b}', 'uattrib7': '{7d}', 'uattrib8': '{8d}', 'uattrib9': '{9c}', 'uid': 'user31'}, role: [30]\n",
            "User {'uattrib0': '{0d}', 'uattrib1': '{1a}', 'uattrib2': '{2b}', 'uattrib3': '{3b}', 'uattrib4': '{4b}', 'uattrib5': '{5a}', 'uattrib6': '{6a}', 'uattrib7': '{7d}', 'uattrib8': '{8b}', 'uattrib9': '{9a}', 'uid': 'user32'}, role: [31]\n",
            "User {'uattrib0': '{0c}', 'uattrib2': '{2b}', 'uattrib4': '{4d}', 'uattrib5': '{5a}', 'uattrib6': '{6a}', 'uattrib7': '{7c}', 'uattrib8': '{8c}', 'uattrib9': '{9b}', 'uid': 'user33'}, role: [32]\n",
            "User {'uattrib0': '{0c}', 'uattrib1': '{1c}', 'uattrib2': '{2d}', 'uattrib3': '{3b}', 'uattrib4': '{4d}', 'uattrib5': '{5b}', 'uattrib6': '{6b}', 'uattrib7': '{7a}', 'uattrib8': '{8d}', 'uattrib9': '{9d}', 'uid': 'user34'}, role: [33]\n",
            "User {'uattrib0': '{0c}', 'uattrib1': '{1c}', 'uattrib3': '{3b}', 'uattrib4': '{4b}', 'uattrib5': '{5b}', 'uattrib6': '{6b}', 'uattrib7': '{7d}', 'uattrib8': '{8d}', 'uattrib9': '{9a}', 'uid': 'user35'}, role: [34]\n",
            "User {'uattrib0': '{0c}', 'uattrib1': '{1c}', 'uattrib2': '{2b}', 'uattrib3': '{3d}', 'uattrib4': '{4b}', 'uattrib5': '{5b}', 'uattrib7': '{7d}', 'uattrib8': '{8b}', 'uattrib9': '{9a}', 'uid': 'user36'}, role: [35]\n",
            "User {'uattrib0': '{0a}', 'uattrib1': '{1b}', 'uattrib2': '{2d}', 'uattrib3': '{3c}', 'uattrib6': '{6d}', 'uattrib7': '{7c}', 'uattrib9': '{9c}', 'uid': 'user37'}, role: [36]\n",
            "User {'uattrib0': '{0d}', 'uattrib1': '{1a}', 'uattrib2': '{2b}', 'uattrib3': '{3b}', 'uattrib4': '{4b}', 'uattrib5': '{5a}', 'uattrib6': '{6d}', 'uattrib7': '{7d}', 'uattrib8': '{8b}', 'uattrib9': '{9d}', 'uid': 'user38'}, role: [37]\n",
            "User {'uattrib0': '{0d}', 'uattrib1': '{1a}', 'uattrib2': '{2b}', 'uattrib3': '{3b}', 'uattrib4': '{4b}', 'uattrib5': '{5a}', 'uattrib6': '{6d}', 'uattrib7': '{7d}', 'uattrib8': '{8b}', 'uattrib9': '{9b}', 'uid': 'user39'}, role: [38]\n",
            "User {'uattrib0': '{0a}', 'uattrib1': '{1d}', 'uattrib2': '{2d}', 'uattrib5': '{5c}', 'uattrib6': '{6b}', 'uattrib9': '{9a}', 'uid': 'user40'}, role: [39]\n",
            "User {'uattrib1': '{1d}', 'uid': 'user41'}, role: []\n",
            "User {'uid': 'user42'}, role: []\n",
            "User {'uattrib2': '{2b}', 'uattrib4': '{4b}', 'uattrib6': '{6b}', 'uattrib7': '{7a}', 'uattrib8': '{8c}', 'uattrib9': '{9c}', 'uid': 'user43'}, role: []\n",
            "User {'uattrib4': '{4a}', 'uattrib5': '{5b}', 'uattrib7': '{7b}', 'uid': 'user44'}, role: []\n",
            "User {'uattrib0': '{0b}', 'uattrib1': '{1d}', 'uattrib4': '{4b}', 'uattrib6': '{6a}', 'uid': 'user45'}, role: []\n",
            "User {'uattrib0': '{0a}', 'uattrib1': '{1a}', 'uattrib4': '{4a}', 'uattrib6': '{6b}', 'uattrib7': '{7c}', 'uattrib8': '{8c}', 'uattrib9': '{9a}', 'uid': 'user46'}, role: []\n",
            "User {'uattrib0': '{0b}', 'uattrib1': '{1c}', 'uattrib2': '{2c}', 'uattrib4': '{4a}', 'uattrib5': '{5a}', 'uattrib6': '{6b}', 'uattrib7': '{7c}', 'uattrib8': '{8c}', 'uid': 'user47'}, role: []\n",
            "User {'uattrib3': '{3b}', 'uid': 'user48'}, role: []\n",
            "User {'uattrib0': '{0d}', 'uattrib2': '{2c}', 'uattrib3': '{3c}', 'uattrib5': '{5d}', 'uattrib7': '{7c}', 'uattrib8': '{8c}', 'uattrib9': '{9b}', 'uid': 'user49'}, role: []\n",
            "User {'uattrib0': '{0a}', 'uattrib4': '{4b}', 'uattrib6': '{6b}', 'uattrib7': '{7b}', 'uid': 'user50'}, role: []\n",
            "\n",
            "\n",
            "The role-hierarchy relationship:  [(4, 3), (17, 3), (4, 12), (4, 40), (20, 5), (41, 5), (42, 5), (48, 5), (49, 5), (8, 16), (10, 16), (31, 10), (37, 10), (38, 10), (33, 11), (39, 12), (40, 12), (43, 13), (44, 13), (14, 16), (19, 16), (22, 16), (25, 16), (26, 16), (27, 16), (28, 16), (31, 16), (32, 16), (37, 16), (38, 16), (36, 18), (32, 19), (29, 21), (30, 21), (47, 21), (34, 23), (35, 23), (34, 24), (35, 24), (45, 24), (46, 24), (28, 25), (37, 26), (47, 29)]\n",
            "\n",
            "\n",
            "The role-permission assignment:\n",
            "Role：0, Number of permissions:1,  Permissions: [({'rattrib0': '{0x}', 'rattrib2': '{2x}', 'rattrib3': '{3w}', 'rattrib4': '{4w}', 'rattrib6': '{6x}', 'rattrib7': '{7w}', 'rattrib8': '{8w}', 'rattrib9': '{9x}', 'rid': 'resource1'}, 'access')]\n",
            "Role：1, Number of permissions:2,  Permissions: [({'rattrib0': '{0z}', 'rattrib3': '{3w}', 'rattrib5': '{5y}', 'rattrib7': '{7w}', 'rattrib8': '{8w}', 'rattrib9': '{9w}', 'rid': 'resource2'}, 'access'), ({'rattrib0': '{0y}', 'rattrib1': '{1z}', 'rattrib2': '{2w}', 'rattrib3': '{3w}', 'rattrib4': '{4x}', 'rattrib5': '{5y}', 'rattrib6': '{6w}', 'rattrib7': '{7w}', 'rattrib8': '{8z}', 'rattrib9': '{9w}', 'rid': 'resource26'}, 'access')]\n",
            "Role：2, Number of permissions:7,  Permissions: [({'rattrib1': '{1z}', 'rattrib4': '{4w}', 'rattrib5': '{5y}', 'rattrib6': '{6y}', 'rattrib7': '{7w}', 'rid': 'resource3'}, 'access'), ({'rattrib0': '{0y}', 'rattrib1': '{1z}', 'rattrib2': '{2w}', 'rattrib3': '{3w}', 'rattrib4': '{4x}', 'rattrib5': '{5y}', 'rattrib6': '{6w}', 'rattrib7': '{7w}', 'rattrib8': '{8z}', 'rid': 'resource17'}, 'access'), ({'rattrib0': '{0y}', 'rattrib1': '{1z}', 'rattrib2': '{2w}', 'rattrib3': '{3w}', 'rattrib4': '{4x}', 'rattrib5': '{5y}', 'rattrib6': '{6w}', 'rattrib7': '{7w}', 'rattrib8': '{8z}', 'rattrib9': '{9w}', 'rid': 'resource26'}, 'access'), ({'rattrib0': '{0y}', 'rattrib1': '{1z}', 'rattrib2': '{2w}', 'rattrib3': '{3w}', 'rattrib4': '{4x}', 'rattrib5': '{5y}', 'rattrib6': '{6w}', 'rattrib7': '{7w}', 'rattrib8': '{8z}', 'rattrib9': '{9y}', 'rid': 'resource27'}, 'access'), ({'rattrib0': '{0y}', 'rattrib1': '{1z}', 'rattrib2': '{2w}', 'rattrib3': '{3w}', 'rattrib4': '{4x}', 'rattrib5': '{5y}', 'rattrib6': '{6w}', 'rattrib7': '{7w}', 'rattrib8': '{8z}', 'rattrib9': '{9x}', 'rid': 'resource28'}, 'access'), ({'rattrib0': '{0y}', 'rattrib1': '{1z}', 'rattrib2': '{2w}', 'rattrib3': '{3w}', 'rattrib4': '{4x}', 'rattrib5': '{5y}', 'rattrib6': '{6w}', 'rattrib7': '{7w}', 'rattrib8': '{8z}', 'rattrib9': '{9z}', 'rid': 'resource29'}, 'access'), ({'rattrib0': '{0w}', 'rattrib1': '{1z}', 'rattrib2': '{2w}', 'rattrib3': '{3w}', 'rattrib4': '{4w}', 'rattrib5': '{5y}', 'rattrib6': '{6x}', 'rattrib7': '{7x}', 'rattrib8': '{8y}', 'rid': 'resource32'}, 'access')]\n",
            "Role：3, Number of permissions:1,  Permissions: [({'rattrib0': '{0y}', 'rattrib1': '{1z}', 'rattrib3': '{3y}', 'rattrib4': '{4y}', 'rattrib5': '{5x}', 'rattrib6': '{6y}', 'rattrib7': '{7x}', 'rattrib8': '{8y}', 'rattrib9': '{9y}', 'rid': 'resource4'}, 'access')]\n",
            "Role：4, Number of permissions:4,  Permissions: [({'rattrib0': '{0y}', 'rattrib1': '{1z}', 'rattrib3': '{3y}', 'rattrib4': '{4y}', 'rattrib5': '{5x}', 'rattrib6': '{6y}', 'rattrib7': '{7x}', 'rattrib8': '{8y}', 'rattrib9': '{9y}', 'rid': 'resource4'}, 'access'), ({'rattrib0': '{0y}', 'rattrib2': '{2z}', 'rattrib3': '{3w}', 'rattrib4': '{4x}', 'rattrib5': '{5y}', 'rattrib6': '{6w}', 'rattrib7': '{7z}', 'rattrib8': '{8y}', 'rattrib9': '{9w}', 'rid': 'resource5'}, 'access'), ({'rattrib0': '{0z}', 'rattrib1': '{1y}', 'rattrib2': '{2z}', 'rattrib4': '{4w}', 'rattrib5': '{5x}', 'rattrib6': '{6w}', 'rattrib7': '{7z}', 'rattrib9': '{9z}', 'rid': 'resource13'}, 'access'), ({'rattrib0': '{0y}', 'rattrib1': '{1y}', 'rattrib2': '{2x}', 'rattrib4': '{4w}', 'rattrib5': '{5x}', 'rattrib6': '{6w}', 'rattrib7': '{7z}', 'rattrib8': '{8w}', 'rattrib9': '{9z}', 'rid': 'resource40'}, 'access')]\n",
            "Role：5, Number of permissions:1,  Permissions: [({'rattrib0': '{0y}', 'rattrib1': '{1z}', 'rattrib2': '{2w}', 'rattrib3': '{3x}', 'rattrib4': '{4w}', 'rattrib5': '{5w}', 'rattrib7': '{7z}', 'rattrib8': '{8z}', 'rattrib9': '{9w}', 'rid': 'resource6'}, 'access')]\n",
            "Role：6, Number of permissions:1,  Permissions: [({'rattrib0': '{0z}', 'rattrib1': '{1w}', 'rattrib2': '{2y}', 'rattrib3': '{3w}', 'rattrib4': '{4x}', 'rattrib5': '{5x}', 'rattrib7': '{7y}', 'rattrib8': '{8y}', 'rattrib9': '{9z}', 'rid': 'resource7'}, 'access')]\n",
            "Role：7, Number of permissions:6,  Permissions: [({'rattrib0': '{0w}', 'rattrib1': '{1y}', 'rattrib6': '{6w}', 'rattrib7': '{7x}', 'rattrib8': '{8w}', 'rid': 'resource8'}, 'access'), ({'rattrib0': '{0z}', 'rattrib1': '{1y}', 'rattrib2': '{2z}', 'rattrib4': '{4w}', 'rattrib5': '{5x}', 'rattrib6': '{6w}', 'rattrib7': '{7z}', 'rattrib9': '{9z}', 'rid': 'resource13'}, 'access'), ({'rattrib0': '{0w}', 'rattrib1': '{1y}', 'rattrib2': '{2z}', 'rattrib4': '{4x}', 'rattrib5': '{5y}', 'rattrib6': '{6w}', 'rattrib7': '{7z}', 'rattrib8': '{8z}', 'rattrib9': '{9z}', 'rid': 'resource14'}, 'access'), ({'rattrib1': '{1y}', 'rattrib3': '{3z}', 'rattrib6': '{6w}', 'rattrib7': '{7w}', 'rattrib9': '{9y}', 'rid': 'resource33'}, 'access'), ({'rattrib0': '{0x}', 'rattrib1': '{1y}', 'rattrib2': '{2z}', 'rattrib3': '{3y}', 'rattrib4': '{4y}', 'rattrib5': '{5x}', 'rattrib6': '{6w}', 'rattrib7': '{7w}', 'rattrib8': '{8z}', 'rattrib9': '{9x}', 'rid': 'resource37'}, 'access'), ({'rattrib0': '{0y}', 'rattrib1': '{1y}', 'rattrib2': '{2x}', 'rattrib4': '{4w}', 'rattrib5': '{5x}', 'rattrib6': '{6w}', 'rattrib7': '{7z}', 'rattrib8': '{8w}', 'rattrib9': '{9z}', 'rid': 'resource40'}, 'access')]\n",
            "Role：8, Number of permissions:6,  Permissions: [({'rattrib0': '{0w}', 'rattrib1': '{1z}', 'rattrib2': '{2w}', 'rattrib3': '{3x}', 'rattrib5': '{5z}', 'rattrib8': '{8x}', 'rattrib9': '{9x}', 'rid': 'resource9'}, 'access'), ({'rattrib0': '{0y}', 'rattrib1': '{1z}', 'rattrib2': '{2w}', 'rattrib3': '{3w}', 'rattrib4': '{4x}', 'rattrib5': '{5y}', 'rattrib6': '{6w}', 'rattrib7': '{7w}', 'rattrib8': '{8z}', 'rid': 'resource17'}, 'access'), ({'rattrib0': '{0y}', 'rattrib1': '{1z}', 'rattrib2': '{2w}', 'rattrib3': '{3w}', 'rattrib4': '{4x}', 'rattrib5': '{5y}', 'rattrib6': '{6w}', 'rattrib7': '{7w}', 'rattrib8': '{8z}', 'rattrib9': '{9w}', 'rid': 'resource26'}, 'access'), ({'rattrib0': '{0y}', 'rattrib1': '{1z}', 'rattrib2': '{2w}', 'rattrib3': '{3w}', 'rattrib4': '{4x}', 'rattrib5': '{5y}', 'rattrib6': '{6w}', 'rattrib7': '{7w}', 'rattrib8': '{8z}', 'rattrib9': '{9y}', 'rid': 'resource27'}, 'access'), ({'rattrib0': '{0y}', 'rattrib1': '{1z}', 'rattrib2': '{2w}', 'rattrib3': '{3w}', 'rattrib4': '{4x}', 'rattrib5': '{5y}', 'rattrib6': '{6w}', 'rattrib7': '{7w}', 'rattrib8': '{8z}', 'rattrib9': '{9x}', 'rid': 'resource28'}, 'access'), ({'rattrib0': '{0y}', 'rattrib1': '{1z}', 'rattrib2': '{2w}', 'rattrib3': '{3w}', 'rattrib4': '{4x}', 'rattrib5': '{5y}', 'rattrib6': '{6w}', 'rattrib7': '{7w}', 'rattrib8': '{8z}', 'rattrib9': '{9z}', 'rid': 'resource29'}, 'access')]\n",
            "Role：9, Number of permissions:2,  Permissions: [({'rattrib2': '{2y}', 'rattrib3': '{3w}', 'rattrib4': '{4w}', 'rattrib7': '{7x}', 'rattrib9': '{9x}', 'rid': 'resource10'}, 'access'), ({'rattrib0': '{0w}', 'rattrib1': '{1z}', 'rattrib2': '{2w}', 'rattrib3': '{3w}', 'rattrib4': '{4w}', 'rattrib5': '{5y}', 'rattrib6': '{6x}', 'rattrib7': '{7x}', 'rattrib8': '{8y}', 'rid': 'resource32'}, 'access')]\n",
            "Role：10, Number of permissions:9,  Permissions: [({'rattrib0': '{0x}', 'rattrib2': '{2w}', 'rattrib4': '{4w}', 'rattrib5': '{5y}', 'rattrib6': '{6x}', 'rattrib7': '{7x}', 'rid': 'resource11'}, 'access'), ({'rattrib0': '{0y}', 'rattrib1': '{1z}', 'rattrib2': '{2w}', 'rattrib3': '{3w}', 'rattrib4': '{4x}', 'rattrib5': '{5y}', 'rattrib6': '{6w}', 'rattrib7': '{7w}', 'rattrib8': '{8z}', 'rid': 'resource17'}, 'access'), ({'rattrib0': '{0y}', 'rattrib1': '{1z}', 'rattrib2': '{2w}', 'rattrib3': '{3w}', 'rattrib4': '{4x}', 'rattrib5': '{5y}', 'rattrib6': '{6w}', 'rattrib7': '{7w}', 'rattrib8': '{8z}', 'rattrib9': '{9w}', 'rid': 'resource26'}, 'access'), ({'rattrib0': '{0y}', 'rattrib1': '{1z}', 'rattrib2': '{2w}', 'rattrib3': '{3w}', 'rattrib4': '{4x}', 'rattrib5': '{5y}', 'rattrib6': '{6w}', 'rattrib7': '{7w}', 'rattrib8': '{8z}', 'rattrib9': '{9y}', 'rid': 'resource27'}, 'access'), ({'rattrib0': '{0y}', 'rattrib1': '{1z}', 'rattrib2': '{2w}', 'rattrib3': '{3w}', 'rattrib4': '{4x}', 'rattrib5': '{5y}', 'rattrib6': '{6w}', 'rattrib7': '{7w}', 'rattrib8': '{8z}', 'rattrib9': '{9x}', 'rid': 'resource28'}, 'access'), ({'rattrib0': '{0y}', 'rattrib1': '{1z}', 'rattrib2': '{2w}', 'rattrib3': '{3w}', 'rattrib4': '{4x}', 'rattrib5': '{5y}', 'rattrib6': '{6w}', 'rattrib7': '{7w}', 'rattrib8': '{8z}', 'rattrib9': '{9z}', 'rid': 'resource29'}, 'access'), ({'rattrib0': '{0w}', 'rattrib1': '{1z}', 'rattrib2': '{2w}', 'rattrib3': '{3w}', 'rattrib4': '{4w}', 'rattrib5': '{5y}', 'rattrib6': '{6x}', 'rattrib7': '{7x}', 'rattrib8': '{8y}', 'rid': 'resource32'}, 'access'), ({'rattrib0': '{0z}', 'rattrib1': '{1y}', 'rattrib2': '{2w}', 'rattrib3': '{3y}', 'rattrib4': '{4w}', 'rattrib5': '{5y}', 'rattrib6': '{6x}', 'rattrib7': '{7x}', 'rattrib9': '{9x}', 'rid': 'resource38'}, 'access'), ({'rattrib0': '{0y}', 'rattrib1': '{1y}', 'rattrib2': '{2w}', 'rattrib3': '{3y}', 'rattrib4': '{4w}', 'rattrib5': '{5y}', 'rattrib6': '{6x}', 'rattrib7': '{7x}', 'rattrib9': '{9w}', 'rid': 'resource39'}, 'access')]\n",
            "Role：11, Number of permissions:2,  Permissions: [({'rattrib0': '{0z}', 'rattrib2': '{2y}', 'rattrib3': '{3y}', 'rattrib4': '{4w}', 'rattrib5': '{5w}', 'rattrib6': '{6y}', 'rattrib7': '{7z}', 'rattrib8': '{8x}', 'rattrib9': '{9w}', 'rid': 'resource12'}, 'access'), ({'rattrib0': '{0z}', 'rattrib1': '{1w}', 'rattrib2': '{2y}', 'rattrib3': '{3y}', 'rattrib4': '{4w}', 'rattrib5': '{5w}', 'rattrib6': '{6y}', 'rattrib7': '{7z}', 'rattrib8': '{8x}', 'rattrib9': '{9w}', 'rid': 'resource34'}, 'access')]\n",
            "Role：12, Number of permissions:2,  Permissions: [({'rattrib0': '{0z}', 'rattrib1': '{1y}', 'rattrib2': '{2z}', 'rattrib4': '{4w}', 'rattrib5': '{5x}', 'rattrib6': '{6w}', 'rattrib7': '{7z}', 'rattrib9': '{9z}', 'rid': 'resource13'}, 'access'), ({'rattrib0': '{0y}', 'rattrib1': '{1y}', 'rattrib2': '{2x}', 'rattrib4': '{4w}', 'rattrib5': '{5x}', 'rattrib6': '{6w}', 'rattrib7': '{7z}', 'rattrib8': '{8w}', 'rattrib9': '{9z}', 'rid': 'resource40'}, 'access')]\n",
            "Role：13, Number of permissions:1,  Permissions: [({'rattrib0': '{0w}', 'rattrib1': '{1y}', 'rattrib2': '{2z}', 'rattrib4': '{4x}', 'rattrib5': '{5y}', 'rattrib6': '{6w}', 'rattrib7': '{7z}', 'rattrib8': '{8z}', 'rattrib9': '{9z}', 'rid': 'resource14'}, 'access')]\n",
            "Role：14, Number of permissions:6,  Permissions: [({'rattrib0': '{0z}', 'rattrib1': '{1w}', 'rattrib2': '{2x}', 'rattrib3': '{3z}', 'rattrib4': '{4x}', 'rattrib5': '{5x}', 'rattrib6': '{6y}', 'rattrib8': '{8z}', 'rattrib9': '{9z}', 'rid': 'resource15'}, 'access'), ({'rattrib0': '{0y}', 'rattrib1': '{1z}', 'rattrib2': '{2w}', 'rattrib3': '{3w}', 'rattrib4': '{4x}', 'rattrib5': '{5y}', 'rattrib6': '{6w}', 'rattrib7': '{7w}', 'rattrib8': '{8z}', 'rid': 'resource17'}, 'access'), ({'rattrib0': '{0y}', 'rattrib1': '{1z}', 'rattrib2': '{2w}', 'rattrib3': '{3w}', 'rattrib4': '{4x}', 'rattrib5': '{5y}', 'rattrib6': '{6w}', 'rattrib7': '{7w}', 'rattrib8': '{8z}', 'rattrib9': '{9w}', 'rid': 'resource26'}, 'access'), ({'rattrib0': '{0y}', 'rattrib1': '{1z}', 'rattrib2': '{2w}', 'rattrib3': '{3w}', 'rattrib4': '{4x}', 'rattrib5': '{5y}', 'rattrib6': '{6w}', 'rattrib7': '{7w}', 'rattrib8': '{8z}', 'rattrib9': '{9y}', 'rid': 'resource27'}, 'access'), ({'rattrib0': '{0y}', 'rattrib1': '{1z}', 'rattrib2': '{2w}', 'rattrib3': '{3w}', 'rattrib4': '{4x}', 'rattrib5': '{5y}', 'rattrib6': '{6w}', 'rattrib7': '{7w}', 'rattrib8': '{8z}', 'rattrib9': '{9x}', 'rid': 'resource28'}, 'access'), ({'rattrib0': '{0y}', 'rattrib1': '{1z}', 'rattrib2': '{2w}', 'rattrib3': '{3w}', 'rattrib4': '{4x}', 'rattrib5': '{5y}', 'rattrib6': '{6w}', 'rattrib7': '{7w}', 'rattrib8': '{8z}', 'rattrib9': '{9z}', 'rid': 'resource29'}, 'access')]\n",
            "Role：15, Number of permissions:1,  Permissions: [({'rattrib0': '{0w}', 'rattrib1': '{1y}', 'rattrib2': '{2w}', 'rattrib3': '{3z}', 'rattrib4': '{4z}', 'rattrib5': '{5y}', 'rattrib6': '{6y}', 'rattrib7': '{7x}', 'rattrib8': '{8x}', 'rattrib9': '{9x}', 'rid': 'resource16'}, 'access')]\n",
            "Role：16, Number of permissions:5,  Permissions: [({'rattrib0': '{0y}', 'rattrib1': '{1z}', 'rattrib2': '{2w}', 'rattrib3': '{3w}', 'rattrib4': '{4x}', 'rattrib5': '{5y}', 'rattrib6': '{6w}', 'rattrib7': '{7w}', 'rattrib8': '{8z}', 'rid': 'resource17'}, 'access'), ({'rattrib0': '{0y}', 'rattrib1': '{1z}', 'rattrib2': '{2w}', 'rattrib3': '{3w}', 'rattrib4': '{4x}', 'rattrib5': '{5y}', 'rattrib6': '{6w}', 'rattrib7': '{7w}', 'rattrib8': '{8z}', 'rattrib9': '{9w}', 'rid': 'resource26'}, 'access'), ({'rattrib0': '{0y}', 'rattrib1': '{1z}', 'rattrib2': '{2w}', 'rattrib3': '{3w}', 'rattrib4': '{4x}', 'rattrib5': '{5y}', 'rattrib6': '{6w}', 'rattrib7': '{7w}', 'rattrib8': '{8z}', 'rattrib9': '{9y}', 'rid': 'resource27'}, 'access'), ({'rattrib0': '{0y}', 'rattrib1': '{1z}', 'rattrib2': '{2w}', 'rattrib3': '{3w}', 'rattrib4': '{4x}', 'rattrib5': '{5y}', 'rattrib6': '{6w}', 'rattrib7': '{7w}', 'rattrib8': '{8z}', 'rattrib9': '{9x}', 'rid': 'resource28'}, 'access'), ({'rattrib0': '{0y}', 'rattrib1': '{1z}', 'rattrib2': '{2w}', 'rattrib3': '{3w}', 'rattrib4': '{4x}', 'rattrib5': '{5y}', 'rattrib6': '{6w}', 'rattrib7': '{7w}', 'rattrib8': '{8z}', 'rattrib9': '{9z}', 'rid': 'resource29'}, 'access')]\n",
            "Role：17, Number of permissions:2,  Permissions: [({'rattrib0': '{0y}', 'rattrib1': '{1z}', 'rattrib3': '{3y}', 'rattrib4': '{4y}', 'rattrib5': '{5x}', 'rattrib6': '{6y}', 'rattrib7': '{7x}', 'rattrib8': '{8y}', 'rattrib9': '{9y}', 'rid': 'resource4'}, 'access'), ({'rattrib0': '{0z}', 'rattrib1': '{1z}', 'rattrib2': '{2y}', 'rattrib3': '{3z}', 'rattrib4': '{4z}', 'rattrib5': '{5w}', 'rattrib6': '{6y}', 'rattrib7': '{7x}', 'rattrib8': '{8w}', 'rattrib9': '{9x}', 'rid': 'resource18'}, 'access')]\n",
            "Role：18, Number of permissions:2,  Permissions: [({'rattrib0': '{0x}', 'rattrib2': '{2z}', 'rattrib3': '{3y}', 'rattrib4': '{4w}', 'rattrib5': '{5x}', 'rattrib6': '{6w}', 'rattrib8': '{8z}', 'rattrib9': '{9x}', 'rid': 'resource19'}, 'access'), ({'rattrib0': '{0x}', 'rattrib1': '{1y}', 'rattrib2': '{2z}', 'rattrib3': '{3y}', 'rattrib4': '{4y}', 'rattrib5': '{5x}', 'rattrib6': '{6w}', 'rattrib7': '{7w}', 'rattrib8': '{8z}', 'rattrib9': '{9x}', 'rid': 'resource37'}, 'access')]\n",
            "Role：19, Number of permissions:9,  Permissions: [({'rattrib0': '{0y}', 'rattrib1': '{1z}', 'rattrib2': '{2w}', 'rattrib3': '{3w}', 'rattrib4': '{4x}', 'rattrib5': '{5y}', 'rattrib6': '{6w}', 'rattrib7': '{7w}', 'rattrib8': '{8z}', 'rid': 'resource17'}, 'access'), ({'rattrib0': '{0w}', 'rattrib1': '{1w}', 'rattrib3': '{3z}', 'rattrib5': '{5w}', 'rattrib7': '{7w}', 'rid': 'resource20'}, 'access'), ({'rattrib0': '{0y}', 'rattrib1': '{1z}', 'rattrib2': '{2w}', 'rattrib3': '{3w}', 'rattrib4': '{4x}', 'rattrib5': '{5y}', 'rattrib6': '{6w}', 'rattrib7': '{7w}', 'rattrib8': '{8z}', 'rattrib9': '{9w}', 'rid': 'resource26'}, 'access'), ({'rattrib0': '{0y}', 'rattrib1': '{1z}', 'rattrib2': '{2w}', 'rattrib3': '{3w}', 'rattrib4': '{4x}', 'rattrib5': '{5y}', 'rattrib6': '{6w}', 'rattrib7': '{7w}', 'rattrib8': '{8z}', 'rattrib9': '{9y}', 'rid': 'resource27'}, 'access'), ({'rattrib0': '{0y}', 'rattrib1': '{1z}', 'rattrib2': '{2w}', 'rattrib3': '{3w}', 'rattrib4': '{4x}', 'rattrib5': '{5y}', 'rattrib6': '{6w}', 'rattrib7': '{7w}', 'rattrib8': '{8z}', 'rattrib9': '{9x}', 'rid': 'resource28'}, 'access'), ({'rattrib0': '{0y}', 'rattrib1': '{1z}', 'rattrib2': '{2w}', 'rattrib3': '{3w}', 'rattrib4': '{4x}', 'rattrib5': '{5y}', 'rattrib6': '{6w}', 'rattrib7': '{7w}', 'rattrib8': '{8z}', 'rattrib9': '{9z}', 'rid': 'resource29'}, 'access'), ({'rattrib1': '{1y}', 'rattrib3': '{3z}', 'rattrib6': '{6w}', 'rattrib7': '{7w}', 'rattrib9': '{9y}', 'rid': 'resource33'}, 'access'), ({'rattrib0': '{0y}', 'rattrib1': '{1x}', 'rattrib2': '{2x}', 'rattrib3': '{3z}', 'rattrib5': '{5w}', 'rattrib6': '{6y}', 'rattrib7': '{7w}', 'rattrib9': '{9y}', 'rid': 'resource46'}, 'access'), ({'rattrib0': '{0x}', 'rattrib1': '{1w}', 'rattrib2': '{2z}', 'rattrib3': '{3z}', 'rattrib4': '{4y}', 'rattrib5': '{5z}', 'rattrib6': '{6y}', 'rattrib7': '{7w}', 'rid': 'resource48'}, 'access')]\n",
            "Role：20, Number of permissions:2,  Permissions: [({'rattrib0': '{0y}', 'rattrib1': '{1z}', 'rattrib2': '{2w}', 'rattrib3': '{3x}', 'rattrib4': '{4w}', 'rattrib5': '{5w}', 'rattrib7': '{7z}', 'rattrib8': '{8z}', 'rattrib9': '{9w}', 'rid': 'resource6'}, 'access'), ({'rattrib2': '{2z}', 'rattrib3': '{3y}', 'rattrib4': '{4w}', 'rattrib5': '{5x}', 'rattrib6': '{6z}', 'rattrib7': '{7x}', 'rattrib8': '{8x}', 'rattrib9': '{9w}', 'rid': 'resource21'}, 'access')]\n",
            "Role：21, Number of permissions:4,  Permissions: [({'rattrib0': '{0x}', 'rattrib2': '{2y}', 'rattrib4': '{4y}', 'rattrib5': '{5y}', 'rattrib9': '{9y}', 'rid': 'resource22'}, 'access'), ({'rattrib0': '{0y}', 'rattrib1': '{1x}', 'rattrib2': '{2y}', 'rattrib3': '{3y}', 'rattrib4': '{4y}', 'rattrib5': '{5y}', 'rattrib6': '{6x}', 'rattrib7': '{7z}', 'rattrib8': '{8y}', 'rattrib9': '{9w}', 'rid': 'resource23'}, 'access'), ({'rattrib3': '{3w}', 'rattrib4': '{4y}', 'rattrib5': '{5y}', 'rattrib6': '{6y}', 'rattrib7': '{7w}', 'rattrib9': '{9x}', 'rid': 'resource30'}, 'access'), ({'rattrib0': '{0z}', 'rattrib3': '{3y}', 'rattrib4': '{4y}', 'rattrib5': '{5y}', 'rattrib6': '{6x}', 'rattrib9': '{9z}', 'rid': 'resource31'}, 'access')]\n",
            "Role：22, Number of permissions:6,  Permissions: [({'rattrib0': '{0y}', 'rattrib1': '{1z}', 'rattrib2': '{2w}', 'rattrib3': '{3w}', 'rattrib4': '{4x}', 'rattrib5': '{5y}', 'rattrib6': '{6w}', 'rattrib7': '{7w}', 'rattrib8': '{8z}', 'rid': 'resource17'}, 'access'), ({'rattrib0': '{0y}', 'rattrib1': '{1x}', 'rattrib2': '{2y}', 'rattrib3': '{3y}', 'rattrib4': '{4y}', 'rattrib5': '{5y}', 'rattrib6': '{6x}', 'rattrib7': '{7z}', 'rattrib8': '{8y}', 'rattrib9': '{9w}', 'rid': 'resource23'}, 'access'), ({'rattrib0': '{0y}', 'rattrib1': '{1z}', 'rattrib2': '{2w}', 'rattrib3': '{3w}', 'rattrib4': '{4x}', 'rattrib5': '{5y}', 'rattrib6': '{6w}', 'rattrib7': '{7w}', 'rattrib8': '{8z}', 'rattrib9': '{9w}', 'rid': 'resource26'}, 'access'), ({'rattrib0': '{0y}', 'rattrib1': '{1z}', 'rattrib2': '{2w}', 'rattrib3': '{3w}', 'rattrib4': '{4x}', 'rattrib5': '{5y}', 'rattrib6': '{6w}', 'rattrib7': '{7w}', 'rattrib8': '{8z}', 'rattrib9': '{9y}', 'rid': 'resource27'}, 'access'), ({'rattrib0': '{0y}', 'rattrib1': '{1z}', 'rattrib2': '{2w}', 'rattrib3': '{3w}', 'rattrib4': '{4x}', 'rattrib5': '{5y}', 'rattrib6': '{6w}', 'rattrib7': '{7w}', 'rattrib8': '{8z}', 'rattrib9': '{9x}', 'rid': 'resource28'}, 'access'), ({'rattrib0': '{0y}', 'rattrib1': '{1z}', 'rattrib2': '{2w}', 'rattrib3': '{3w}', 'rattrib4': '{4x}', 'rattrib5': '{5y}', 'rattrib6': '{6w}', 'rattrib7': '{7w}', 'rattrib8': '{8z}', 'rattrib9': '{9z}', 'rid': 'resource29'}, 'access')]\n",
            "Role：23, Number of permissions:3,  Permissions: [({'rattrib2': '{2w}', 'rattrib3': '{3z}', 'rattrib4': '{4w}', 'rattrib5': '{5w}', 'rattrib6': '{6z}', 'rattrib8': '{8z}', 'rattrib9': '{9y}', 'rid': 'resource24'}, 'access'), ({'rattrib0': '{0y}', 'rattrib1': '{1z}', 'rattrib2': '{2w}', 'rattrib3': '{3z}', 'rattrib4': '{4y}', 'rattrib6': '{6w}', 'rattrib8': '{8z}', 'rattrib9': '{9y}', 'rid': 'resource35'}, 'access'), ({'rattrib0': '{0y}', 'rattrib1': '{1y}', 'rattrib2': '{2w}', 'rattrib3': '{3z}', 'rattrib5': '{5y}', 'rattrib7': '{7y}', 'rattrib8': '{8z}', 'rattrib9': '{9y}', 'rid': 'resource36'}, 'access')]\n",
            "Role：24, Number of permissions:1,  Permissions: [({'rattrib1': '{1y}', 'rattrib2': '{2w}', 'rattrib3': '{3w}', 'rattrib4': '{4x}', 'rattrib5': '{5z}', 'rattrib6': '{6y}', 'rattrib7': '{7z}', 'rid': 'resource25'}, 'access')]\n",
            "Role：25, Number of permissions:5,  Permissions: [({'rattrib0': '{0y}', 'rattrib1': '{1z}', 'rattrib2': '{2w}', 'rattrib3': '{3w}', 'rattrib4': '{4x}', 'rattrib5': '{5y}', 'rattrib6': '{6w}', 'rattrib7': '{7w}', 'rattrib8': '{8z}', 'rid': 'resource17'}, 'access'), ({'rattrib0': '{0y}', 'rattrib1': '{1z}', 'rattrib2': '{2w}', 'rattrib3': '{3w}', 'rattrib4': '{4x}', 'rattrib5': '{5y}', 'rattrib6': '{6w}', 'rattrib7': '{7w}', 'rattrib8': '{8z}', 'rattrib9': '{9w}', 'rid': 'resource26'}, 'access'), ({'rattrib0': '{0y}', 'rattrib1': '{1z}', 'rattrib2': '{2w}', 'rattrib3': '{3w}', 'rattrib4': '{4x}', 'rattrib5': '{5y}', 'rattrib6': '{6w}', 'rattrib7': '{7w}', 'rattrib8': '{8z}', 'rattrib9': '{9y}', 'rid': 'resource27'}, 'access'), ({'rattrib0': '{0y}', 'rattrib1': '{1z}', 'rattrib2': '{2w}', 'rattrib3': '{3w}', 'rattrib4': '{4x}', 'rattrib5': '{5y}', 'rattrib6': '{6w}', 'rattrib7': '{7w}', 'rattrib8': '{8z}', 'rattrib9': '{9x}', 'rid': 'resource28'}, 'access'), ({'rattrib0': '{0y}', 'rattrib1': '{1z}', 'rattrib2': '{2w}', 'rattrib3': '{3w}', 'rattrib4': '{4x}', 'rattrib5': '{5y}', 'rattrib6': '{6w}', 'rattrib7': '{7w}', 'rattrib8': '{8z}', 'rattrib9': '{9z}', 'rid': 'resource29'}, 'access')]\n",
            "Role：26, Number of permissions:5,  Permissions: [({'rattrib0': '{0y}', 'rattrib1': '{1z}', 'rattrib2': '{2w}', 'rattrib3': '{3w}', 'rattrib4': '{4x}', 'rattrib5': '{5y}', 'rattrib6': '{6w}', 'rattrib7': '{7w}', 'rattrib8': '{8z}', 'rid': 'resource17'}, 'access'), ({'rattrib0': '{0y}', 'rattrib1': '{1z}', 'rattrib2': '{2w}', 'rattrib3': '{3w}', 'rattrib4': '{4x}', 'rattrib5': '{5y}', 'rattrib6': '{6w}', 'rattrib7': '{7w}', 'rattrib8': '{8z}', 'rattrib9': '{9w}', 'rid': 'resource26'}, 'access'), ({'rattrib0': '{0y}', 'rattrib1': '{1z}', 'rattrib2': '{2w}', 'rattrib3': '{3w}', 'rattrib4': '{4x}', 'rattrib5': '{5y}', 'rattrib6': '{6w}', 'rattrib7': '{7w}', 'rattrib8': '{8z}', 'rattrib9': '{9y}', 'rid': 'resource27'}, 'access'), ({'rattrib0': '{0y}', 'rattrib1': '{1z}', 'rattrib2': '{2w}', 'rattrib3': '{3w}', 'rattrib4': '{4x}', 'rattrib5': '{5y}', 'rattrib6': '{6w}', 'rattrib7': '{7w}', 'rattrib8': '{8z}', 'rattrib9': '{9x}', 'rid': 'resource28'}, 'access'), ({'rattrib0': '{0y}', 'rattrib1': '{1z}', 'rattrib2': '{2w}', 'rattrib3': '{3w}', 'rattrib4': '{4x}', 'rattrib5': '{5y}', 'rattrib6': '{6w}', 'rattrib7': '{7w}', 'rattrib8': '{8z}', 'rattrib9': '{9z}', 'rid': 'resource29'}, 'access')]\n",
            "Role：27, Number of permissions:5,  Permissions: [({'rattrib0': '{0y}', 'rattrib1': '{1z}', 'rattrib2': '{2w}', 'rattrib3': '{3w}', 'rattrib4': '{4x}', 'rattrib5': '{5y}', 'rattrib6': '{6w}', 'rattrib7': '{7w}', 'rattrib8': '{8z}', 'rid': 'resource17'}, 'access'), ({'rattrib0': '{0y}', 'rattrib1': '{1z}', 'rattrib2': '{2w}', 'rattrib3': '{3w}', 'rattrib4': '{4x}', 'rattrib5': '{5y}', 'rattrib6': '{6w}', 'rattrib7': '{7w}', 'rattrib8': '{8z}', 'rattrib9': '{9w}', 'rid': 'resource26'}, 'access'), ({'rattrib0': '{0y}', 'rattrib1': '{1z}', 'rattrib2': '{2w}', 'rattrib3': '{3w}', 'rattrib4': '{4x}', 'rattrib5': '{5y}', 'rattrib6': '{6w}', 'rattrib7': '{7w}', 'rattrib8': '{8z}', 'rattrib9': '{9y}', 'rid': 'resource27'}, 'access'), ({'rattrib0': '{0y}', 'rattrib1': '{1z}', 'rattrib2': '{2w}', 'rattrib3': '{3w}', 'rattrib4': '{4x}', 'rattrib5': '{5y}', 'rattrib6': '{6w}', 'rattrib7': '{7w}', 'rattrib8': '{8z}', 'rattrib9': '{9x}', 'rid': 'resource28'}, 'access'), ({'rattrib0': '{0y}', 'rattrib1': '{1z}', 'rattrib2': '{2w}', 'rattrib3': '{3w}', 'rattrib4': '{4x}', 'rattrib5': '{5y}', 'rattrib6': '{6w}', 'rattrib7': '{7w}', 'rattrib8': '{8z}', 'rattrib9': '{9z}', 'rid': 'resource29'}, 'access')]\n",
            "Role：28, Number of permissions:5,  Permissions: [({'rattrib0': '{0y}', 'rattrib1': '{1z}', 'rattrib2': '{2w}', 'rattrib3': '{3w}', 'rattrib4': '{4x}', 'rattrib5': '{5y}', 'rattrib6': '{6w}', 'rattrib7': '{7w}', 'rattrib8': '{8z}', 'rid': 'resource17'}, 'access'), ({'rattrib0': '{0y}', 'rattrib1': '{1z}', 'rattrib2': '{2w}', 'rattrib3': '{3w}', 'rattrib4': '{4x}', 'rattrib5': '{5y}', 'rattrib6': '{6w}', 'rattrib7': '{7w}', 'rattrib8': '{8z}', 'rattrib9': '{9w}', 'rid': 'resource26'}, 'access'), ({'rattrib0': '{0y}', 'rattrib1': '{1z}', 'rattrib2': '{2w}', 'rattrib3': '{3w}', 'rattrib4': '{4x}', 'rattrib5': '{5y}', 'rattrib6': '{6w}', 'rattrib7': '{7w}', 'rattrib8': '{8z}', 'rattrib9': '{9y}', 'rid': 'resource27'}, 'access'), ({'rattrib0': '{0y}', 'rattrib1': '{1z}', 'rattrib2': '{2w}', 'rattrib3': '{3w}', 'rattrib4': '{4x}', 'rattrib5': '{5y}', 'rattrib6': '{6w}', 'rattrib7': '{7w}', 'rattrib8': '{8z}', 'rattrib9': '{9x}', 'rid': 'resource28'}, 'access'), ({'rattrib0': '{0y}', 'rattrib1': '{1z}', 'rattrib2': '{2w}', 'rattrib3': '{3w}', 'rattrib4': '{4x}', 'rattrib5': '{5y}', 'rattrib6': '{6w}', 'rattrib7': '{7w}', 'rattrib8': '{8z}', 'rattrib9': '{9z}', 'rid': 'resource29'}, 'access')]\n",
            "Role：29, Number of permissions:4,  Permissions: [({'rattrib0': '{0x}', 'rattrib2': '{2y}', 'rattrib4': '{4y}', 'rattrib5': '{5y}', 'rattrib9': '{9y}', 'rid': 'resource22'}, 'access'), ({'rattrib0': '{0y}', 'rattrib1': '{1x}', 'rattrib2': '{2y}', 'rattrib3': '{3y}', 'rattrib4': '{4y}', 'rattrib5': '{5y}', 'rattrib6': '{6x}', 'rattrib7': '{7z}', 'rattrib8': '{8y}', 'rattrib9': '{9w}', 'rid': 'resource23'}, 'access'), ({'rattrib3': '{3w}', 'rattrib4': '{4y}', 'rattrib5': '{5y}', 'rattrib6': '{6y}', 'rattrib7': '{7w}', 'rattrib9': '{9x}', 'rid': 'resource30'}, 'access'), ({'rattrib0': '{0z}', 'rattrib3': '{3y}', 'rattrib4': '{4y}', 'rattrib5': '{5y}', 'rattrib6': '{6x}', 'rattrib9': '{9z}', 'rid': 'resource31'}, 'access')]\n",
            "Role：30, Number of permissions:4,  Permissions: [({'rattrib0': '{0x}', 'rattrib2': '{2y}', 'rattrib4': '{4y}', 'rattrib5': '{5y}', 'rattrib9': '{9y}', 'rid': 'resource22'}, 'access'), ({'rattrib0': '{0y}', 'rattrib1': '{1x}', 'rattrib2': '{2y}', 'rattrib3': '{3y}', 'rattrib4': '{4y}', 'rattrib5': '{5y}', 'rattrib6': '{6x}', 'rattrib7': '{7z}', 'rattrib8': '{8y}', 'rattrib9': '{9w}', 'rid': 'resource23'}, 'access'), ({'rattrib3': '{3w}', 'rattrib4': '{4y}', 'rattrib5': '{5y}', 'rattrib6': '{6y}', 'rattrib7': '{7w}', 'rattrib9': '{9x}', 'rid': 'resource30'}, 'access'), ({'rattrib0': '{0z}', 'rattrib3': '{3y}', 'rattrib4': '{4y}', 'rattrib5': '{5y}', 'rattrib6': '{6x}', 'rattrib9': '{9z}', 'rid': 'resource31'}, 'access')]\n",
            "Role：31, Number of permissions:9,  Permissions: [({'rattrib0': '{0x}', 'rattrib2': '{2w}', 'rattrib4': '{4w}', 'rattrib5': '{5y}', 'rattrib6': '{6x}', 'rattrib7': '{7x}', 'rid': 'resource11'}, 'access'), ({'rattrib0': '{0y}', 'rattrib1': '{1z}', 'rattrib2': '{2w}', 'rattrib3': '{3w}', 'rattrib4': '{4x}', 'rattrib5': '{5y}', 'rattrib6': '{6w}', 'rattrib7': '{7w}', 'rattrib8': '{8z}', 'rid': 'resource17'}, 'access'), ({'rattrib0': '{0y}', 'rattrib1': '{1z}', 'rattrib2': '{2w}', 'rattrib3': '{3w}', 'rattrib4': '{4x}', 'rattrib5': '{5y}', 'rattrib6': '{6w}', 'rattrib7': '{7w}', 'rattrib8': '{8z}', 'rattrib9': '{9w}', 'rid': 'resource26'}, 'access'), ({'rattrib0': '{0y}', 'rattrib1': '{1z}', 'rattrib2': '{2w}', 'rattrib3': '{3w}', 'rattrib4': '{4x}', 'rattrib5': '{5y}', 'rattrib6': '{6w}', 'rattrib7': '{7w}', 'rattrib8': '{8z}', 'rattrib9': '{9y}', 'rid': 'resource27'}, 'access'), ({'rattrib0': '{0y}', 'rattrib1': '{1z}', 'rattrib2': '{2w}', 'rattrib3': '{3w}', 'rattrib4': '{4x}', 'rattrib5': '{5y}', 'rattrib6': '{6w}', 'rattrib7': '{7w}', 'rattrib8': '{8z}', 'rattrib9': '{9x}', 'rid': 'resource28'}, 'access'), ({'rattrib0': '{0y}', 'rattrib1': '{1z}', 'rattrib2': '{2w}', 'rattrib3': '{3w}', 'rattrib4': '{4x}', 'rattrib5': '{5y}', 'rattrib6': '{6w}', 'rattrib7': '{7w}', 'rattrib8': '{8z}', 'rattrib9': '{9z}', 'rid': 'resource29'}, 'access'), ({'rattrib0': '{0w}', 'rattrib1': '{1z}', 'rattrib2': '{2w}', 'rattrib3': '{3w}', 'rattrib4': '{4w}', 'rattrib5': '{5y}', 'rattrib6': '{6x}', 'rattrib7': '{7x}', 'rattrib8': '{8y}', 'rid': 'resource32'}, 'access'), ({'rattrib0': '{0z}', 'rattrib1': '{1y}', 'rattrib2': '{2w}', 'rattrib3': '{3y}', 'rattrib4': '{4w}', 'rattrib5': '{5y}', 'rattrib6': '{6x}', 'rattrib7': '{7x}', 'rattrib9': '{9x}', 'rid': 'resource38'}, 'access'), ({'rattrib0': '{0y}', 'rattrib1': '{1y}', 'rattrib2': '{2w}', 'rattrib3': '{3y}', 'rattrib4': '{4w}', 'rattrib5': '{5y}', 'rattrib6': '{6x}', 'rattrib7': '{7x}', 'rattrib9': '{9w}', 'rid': 'resource39'}, 'access')]\n",
            "Role：32, Number of permissions:9,  Permissions: [({'rattrib0': '{0y}', 'rattrib1': '{1z}', 'rattrib2': '{2w}', 'rattrib3': '{3w}', 'rattrib4': '{4x}', 'rattrib5': '{5y}', 'rattrib6': '{6w}', 'rattrib7': '{7w}', 'rattrib8': '{8z}', 'rid': 'resource17'}, 'access'), ({'rattrib0': '{0w}', 'rattrib1': '{1w}', 'rattrib3': '{3z}', 'rattrib5': '{5w}', 'rattrib7': '{7w}', 'rid': 'resource20'}, 'access'), ({'rattrib0': '{0y}', 'rattrib1': '{1z}', 'rattrib2': '{2w}', 'rattrib3': '{3w}', 'rattrib4': '{4x}', 'rattrib5': '{5y}', 'rattrib6': '{6w}', 'rattrib7': '{7w}', 'rattrib8': '{8z}', 'rattrib9': '{9w}', 'rid': 'resource26'}, 'access'), ({'rattrib0': '{0y}', 'rattrib1': '{1z}', 'rattrib2': '{2w}', 'rattrib3': '{3w}', 'rattrib4': '{4x}', 'rattrib5': '{5y}', 'rattrib6': '{6w}', 'rattrib7': '{7w}', 'rattrib8': '{8z}', 'rattrib9': '{9y}', 'rid': 'resource27'}, 'access'), ({'rattrib0': '{0y}', 'rattrib1': '{1z}', 'rattrib2': '{2w}', 'rattrib3': '{3w}', 'rattrib4': '{4x}', 'rattrib5': '{5y}', 'rattrib6': '{6w}', 'rattrib7': '{7w}', 'rattrib8': '{8z}', 'rattrib9': '{9x}', 'rid': 'resource28'}, 'access'), ({'rattrib0': '{0y}', 'rattrib1': '{1z}', 'rattrib2': '{2w}', 'rattrib3': '{3w}', 'rattrib4': '{4x}', 'rattrib5': '{5y}', 'rattrib6': '{6w}', 'rattrib7': '{7w}', 'rattrib8': '{8z}', 'rattrib9': '{9z}', 'rid': 'resource29'}, 'access'), ({'rattrib1': '{1y}', 'rattrib3': '{3z}', 'rattrib6': '{6w}', 'rattrib7': '{7w}', 'rattrib9': '{9y}', 'rid': 'resource33'}, 'access'), ({'rattrib0': '{0y}', 'rattrib1': '{1x}', 'rattrib2': '{2x}', 'rattrib3': '{3z}', 'rattrib5': '{5w}', 'rattrib6': '{6y}', 'rattrib7': '{7w}', 'rattrib9': '{9y}', 'rid': 'resource46'}, 'access'), ({'rattrib0': '{0x}', 'rattrib1': '{1w}', 'rattrib2': '{2z}', 'rattrib3': '{3z}', 'rattrib4': '{4y}', 'rattrib5': '{5z}', 'rattrib6': '{6y}', 'rattrib7': '{7w}', 'rid': 'resource48'}, 'access')]\n",
            "Role：33, Number of permissions:2,  Permissions: [({'rattrib0': '{0z}', 'rattrib2': '{2y}', 'rattrib3': '{3y}', 'rattrib4': '{4w}', 'rattrib5': '{5w}', 'rattrib6': '{6y}', 'rattrib7': '{7z}', 'rattrib8': '{8x}', 'rattrib9': '{9w}', 'rid': 'resource12'}, 'access'), ({'rattrib0': '{0z}', 'rattrib1': '{1w}', 'rattrib2': '{2y}', 'rattrib3': '{3y}', 'rattrib4': '{4w}', 'rattrib5': '{5w}', 'rattrib6': '{6y}', 'rattrib7': '{7z}', 'rattrib8': '{8x}', 'rattrib9': '{9w}', 'rid': 'resource34'}, 'access')]\n",
            "Role：34, Number of permissions:4,  Permissions: [({'rattrib2': '{2w}', 'rattrib3': '{3z}', 'rattrib4': '{4w}', 'rattrib5': '{5w}', 'rattrib6': '{6z}', 'rattrib8': '{8z}', 'rattrib9': '{9y}', 'rid': 'resource24'}, 'access'), ({'rattrib1': '{1y}', 'rattrib2': '{2w}', 'rattrib3': '{3w}', 'rattrib4': '{4x}', 'rattrib5': '{5z}', 'rattrib6': '{6y}', 'rattrib7': '{7z}', 'rid': 'resource25'}, 'access'), ({'rattrib0': '{0y}', 'rattrib1': '{1z}', 'rattrib2': '{2w}', 'rattrib3': '{3z}', 'rattrib4': '{4y}', 'rattrib6': '{6w}', 'rattrib8': '{8z}', 'rattrib9': '{9y}', 'rid': 'resource35'}, 'access'), ({'rattrib0': '{0y}', 'rattrib1': '{1y}', 'rattrib2': '{2w}', 'rattrib3': '{3z}', 'rattrib5': '{5y}', 'rattrib7': '{7y}', 'rattrib8': '{8z}', 'rattrib9': '{9y}', 'rid': 'resource36'}, 'access')]\n",
            "Role：35, Number of permissions:4,  Permissions: [({'rattrib2': '{2w}', 'rattrib3': '{3z}', 'rattrib4': '{4w}', 'rattrib5': '{5w}', 'rattrib6': '{6z}', 'rattrib8': '{8z}', 'rattrib9': '{9y}', 'rid': 'resource24'}, 'access'), ({'rattrib1': '{1y}', 'rattrib2': '{2w}', 'rattrib3': '{3w}', 'rattrib4': '{4x}', 'rattrib5': '{5z}', 'rattrib6': '{6y}', 'rattrib7': '{7z}', 'rid': 'resource25'}, 'access'), ({'rattrib0': '{0y}', 'rattrib1': '{1z}', 'rattrib2': '{2w}', 'rattrib3': '{3z}', 'rattrib4': '{4y}', 'rattrib6': '{6w}', 'rattrib8': '{8z}', 'rattrib9': '{9y}', 'rid': 'resource35'}, 'access'), ({'rattrib0': '{0y}', 'rattrib1': '{1y}', 'rattrib2': '{2w}', 'rattrib3': '{3z}', 'rattrib5': '{5y}', 'rattrib7': '{7y}', 'rattrib8': '{8z}', 'rattrib9': '{9y}', 'rid': 'resource36'}, 'access')]\n",
            "Role：36, Number of permissions:2,  Permissions: [({'rattrib0': '{0x}', 'rattrib2': '{2z}', 'rattrib3': '{3y}', 'rattrib4': '{4w}', 'rattrib5': '{5x}', 'rattrib6': '{6w}', 'rattrib8': '{8z}', 'rattrib9': '{9x}', 'rid': 'resource19'}, 'access'), ({'rattrib0': '{0x}', 'rattrib1': '{1y}', 'rattrib2': '{2z}', 'rattrib3': '{3y}', 'rattrib4': '{4y}', 'rattrib5': '{5x}', 'rattrib6': '{6w}', 'rattrib7': '{7w}', 'rattrib8': '{8z}', 'rattrib9': '{9x}', 'rid': 'resource37'}, 'access')]\n",
            "Role：37, Number of permissions:9,  Permissions: [({'rattrib0': '{0x}', 'rattrib2': '{2w}', 'rattrib4': '{4w}', 'rattrib5': '{5y}', 'rattrib6': '{6x}', 'rattrib7': '{7x}', 'rid': 'resource11'}, 'access'), ({'rattrib0': '{0y}', 'rattrib1': '{1z}', 'rattrib2': '{2w}', 'rattrib3': '{3w}', 'rattrib4': '{4x}', 'rattrib5': '{5y}', 'rattrib6': '{6w}', 'rattrib7': '{7w}', 'rattrib8': '{8z}', 'rid': 'resource17'}, 'access'), ({'rattrib0': '{0y}', 'rattrib1': '{1z}', 'rattrib2': '{2w}', 'rattrib3': '{3w}', 'rattrib4': '{4x}', 'rattrib5': '{5y}', 'rattrib6': '{6w}', 'rattrib7': '{7w}', 'rattrib8': '{8z}', 'rattrib9': '{9w}', 'rid': 'resource26'}, 'access'), ({'rattrib0': '{0y}', 'rattrib1': '{1z}', 'rattrib2': '{2w}', 'rattrib3': '{3w}', 'rattrib4': '{4x}', 'rattrib5': '{5y}', 'rattrib6': '{6w}', 'rattrib7': '{7w}', 'rattrib8': '{8z}', 'rattrib9': '{9y}', 'rid': 'resource27'}, 'access'), ({'rattrib0': '{0y}', 'rattrib1': '{1z}', 'rattrib2': '{2w}', 'rattrib3': '{3w}', 'rattrib4': '{4x}', 'rattrib5': '{5y}', 'rattrib6': '{6w}', 'rattrib7': '{7w}', 'rattrib8': '{8z}', 'rattrib9': '{9x}', 'rid': 'resource28'}, 'access'), ({'rattrib0': '{0y}', 'rattrib1': '{1z}', 'rattrib2': '{2w}', 'rattrib3': '{3w}', 'rattrib4': '{4x}', 'rattrib5': '{5y}', 'rattrib6': '{6w}', 'rattrib7': '{7w}', 'rattrib8': '{8z}', 'rattrib9': '{9z}', 'rid': 'resource29'}, 'access'), ({'rattrib0': '{0w}', 'rattrib1': '{1z}', 'rattrib2': '{2w}', 'rattrib3': '{3w}', 'rattrib4': '{4w}', 'rattrib5': '{5y}', 'rattrib6': '{6x}', 'rattrib7': '{7x}', 'rattrib8': '{8y}', 'rid': 'resource32'}, 'access'), ({'rattrib0': '{0z}', 'rattrib1': '{1y}', 'rattrib2': '{2w}', 'rattrib3': '{3y}', 'rattrib4': '{4w}', 'rattrib5': '{5y}', 'rattrib6': '{6x}', 'rattrib7': '{7x}', 'rattrib9': '{9x}', 'rid': 'resource38'}, 'access'), ({'rattrib0': '{0y}', 'rattrib1': '{1y}', 'rattrib2': '{2w}', 'rattrib3': '{3y}', 'rattrib4': '{4w}', 'rattrib5': '{5y}', 'rattrib6': '{6x}', 'rattrib7': '{7x}', 'rattrib9': '{9w}', 'rid': 'resource39'}, 'access')]\n",
            "Role：38, Number of permissions:9,  Permissions: [({'rattrib0': '{0x}', 'rattrib2': '{2w}', 'rattrib4': '{4w}', 'rattrib5': '{5y}', 'rattrib6': '{6x}', 'rattrib7': '{7x}', 'rid': 'resource11'}, 'access'), ({'rattrib0': '{0y}', 'rattrib1': '{1z}', 'rattrib2': '{2w}', 'rattrib3': '{3w}', 'rattrib4': '{4x}', 'rattrib5': '{5y}', 'rattrib6': '{6w}', 'rattrib7': '{7w}', 'rattrib8': '{8z}', 'rid': 'resource17'}, 'access'), ({'rattrib0': '{0y}', 'rattrib1': '{1z}', 'rattrib2': '{2w}', 'rattrib3': '{3w}', 'rattrib4': '{4x}', 'rattrib5': '{5y}', 'rattrib6': '{6w}', 'rattrib7': '{7w}', 'rattrib8': '{8z}', 'rattrib9': '{9w}', 'rid': 'resource26'}, 'access'), ({'rattrib0': '{0y}', 'rattrib1': '{1z}', 'rattrib2': '{2w}', 'rattrib3': '{3w}', 'rattrib4': '{4x}', 'rattrib5': '{5y}', 'rattrib6': '{6w}', 'rattrib7': '{7w}', 'rattrib8': '{8z}', 'rattrib9': '{9y}', 'rid': 'resource27'}, 'access'), ({'rattrib0': '{0y}', 'rattrib1': '{1z}', 'rattrib2': '{2w}', 'rattrib3': '{3w}', 'rattrib4': '{4x}', 'rattrib5': '{5y}', 'rattrib6': '{6w}', 'rattrib7': '{7w}', 'rattrib8': '{8z}', 'rattrib9': '{9x}', 'rid': 'resource28'}, 'access'), ({'rattrib0': '{0y}', 'rattrib1': '{1z}', 'rattrib2': '{2w}', 'rattrib3': '{3w}', 'rattrib4': '{4x}', 'rattrib5': '{5y}', 'rattrib6': '{6w}', 'rattrib7': '{7w}', 'rattrib8': '{8z}', 'rattrib9': '{9z}', 'rid': 'resource29'}, 'access'), ({'rattrib0': '{0w}', 'rattrib1': '{1z}', 'rattrib2': '{2w}', 'rattrib3': '{3w}', 'rattrib4': '{4w}', 'rattrib5': '{5y}', 'rattrib6': '{6x}', 'rattrib7': '{7x}', 'rattrib8': '{8y}', 'rid': 'resource32'}, 'access'), ({'rattrib0': '{0z}', 'rattrib1': '{1y}', 'rattrib2': '{2w}', 'rattrib3': '{3y}', 'rattrib4': '{4w}', 'rattrib5': '{5y}', 'rattrib6': '{6x}', 'rattrib7': '{7x}', 'rattrib9': '{9x}', 'rid': 'resource38'}, 'access'), ({'rattrib0': '{0y}', 'rattrib1': '{1y}', 'rattrib2': '{2w}', 'rattrib3': '{3y}', 'rattrib4': '{4w}', 'rattrib5': '{5y}', 'rattrib6': '{6x}', 'rattrib7': '{7x}', 'rattrib9': '{9w}', 'rid': 'resource39'}, 'access')]\n",
            "Role：39, Number of permissions:2,  Permissions: [({'rattrib0': '{0z}', 'rattrib1': '{1y}', 'rattrib2': '{2z}', 'rattrib4': '{4w}', 'rattrib5': '{5x}', 'rattrib6': '{6w}', 'rattrib7': '{7z}', 'rattrib9': '{9z}', 'rid': 'resource13'}, 'access'), ({'rattrib0': '{0y}', 'rattrib1': '{1y}', 'rattrib2': '{2x}', 'rattrib4': '{4w}', 'rattrib5': '{5x}', 'rattrib6': '{6w}', 'rattrib7': '{7z}', 'rattrib8': '{8w}', 'rattrib9': '{9z}', 'rid': 'resource40'}, 'access')]\n",
            "Role：40, Number of permissions:2,  Permissions: [({'rattrib0': '{0z}', 'rattrib1': '{1y}', 'rattrib2': '{2z}', 'rattrib4': '{4w}', 'rattrib5': '{5x}', 'rattrib6': '{6w}', 'rattrib7': '{7z}', 'rattrib9': '{9z}', 'rid': 'resource13'}, 'access'), ({'rattrib0': '{0y}', 'rattrib1': '{1y}', 'rattrib2': '{2x}', 'rattrib4': '{4w}', 'rattrib5': '{5x}', 'rattrib6': '{6w}', 'rattrib7': '{7z}', 'rattrib8': '{8w}', 'rattrib9': '{9z}', 'rid': 'resource40'}, 'access')]\n",
            "Role：41, Number of permissions:1,  Permissions: [({'rattrib0': '{0y}', 'rattrib1': '{1z}', 'rattrib2': '{2w}', 'rattrib3': '{3x}', 'rattrib4': '{4w}', 'rattrib5': '{5w}', 'rattrib7': '{7z}', 'rattrib8': '{8z}', 'rattrib9': '{9w}', 'rid': 'resource6'}, 'access')]\n",
            "Role：42, Number of permissions:1,  Permissions: [({'rattrib0': '{0y}', 'rattrib1': '{1z}', 'rattrib2': '{2w}', 'rattrib3': '{3x}', 'rattrib4': '{4w}', 'rattrib5': '{5w}', 'rattrib7': '{7z}', 'rattrib8': '{8z}', 'rattrib9': '{9w}', 'rid': 'resource6'}, 'access')]\n",
            "Role：43, Number of permissions:1,  Permissions: [({'rattrib0': '{0w}', 'rattrib1': '{1y}', 'rattrib2': '{2z}', 'rattrib4': '{4x}', 'rattrib5': '{5y}', 'rattrib6': '{6w}', 'rattrib7': '{7z}', 'rattrib8': '{8z}', 'rattrib9': '{9z}', 'rid': 'resource14'}, 'access')]\n",
            "Role：44, Number of permissions:1,  Permissions: [({'rattrib0': '{0w}', 'rattrib1': '{1y}', 'rattrib2': '{2z}', 'rattrib4': '{4x}', 'rattrib5': '{5y}', 'rattrib6': '{6w}', 'rattrib7': '{7z}', 'rattrib8': '{8z}', 'rattrib9': '{9z}', 'rid': 'resource14'}, 'access')]\n",
            "Role：45, Number of permissions:1,  Permissions: [({'rattrib1': '{1y}', 'rattrib2': '{2w}', 'rattrib3': '{3w}', 'rattrib4': '{4x}', 'rattrib5': '{5z}', 'rattrib6': '{6y}', 'rattrib7': '{7z}', 'rid': 'resource25'}, 'access')]\n",
            "Role：46, Number of permissions:1,  Permissions: [({'rattrib1': '{1y}', 'rattrib2': '{2w}', 'rattrib3': '{3w}', 'rattrib4': '{4x}', 'rattrib5': '{5z}', 'rattrib6': '{6y}', 'rattrib7': '{7z}', 'rid': 'resource25'}, 'access')]\n",
            "Role：47, Number of permissions:4,  Permissions: [({'rattrib0': '{0x}', 'rattrib2': '{2y}', 'rattrib4': '{4y}', 'rattrib5': '{5y}', 'rattrib9': '{9y}', 'rid': 'resource22'}, 'access'), ({'rattrib0': '{0y}', 'rattrib1': '{1x}', 'rattrib2': '{2y}', 'rattrib3': '{3y}', 'rattrib4': '{4y}', 'rattrib5': '{5y}', 'rattrib6': '{6x}', 'rattrib7': '{7z}', 'rattrib8': '{8y}', 'rattrib9': '{9w}', 'rid': 'resource23'}, 'access'), ({'rattrib3': '{3w}', 'rattrib4': '{4y}', 'rattrib5': '{5y}', 'rattrib6': '{6y}', 'rattrib7': '{7w}', 'rattrib9': '{9x}', 'rid': 'resource30'}, 'access'), ({'rattrib0': '{0z}', 'rattrib3': '{3y}', 'rattrib4': '{4y}', 'rattrib5': '{5y}', 'rattrib6': '{6x}', 'rattrib9': '{9z}', 'rid': 'resource31'}, 'access')]\n",
            "Role：48, Number of permissions:1,  Permissions: [({'rattrib0': '{0y}', 'rattrib1': '{1z}', 'rattrib2': '{2w}', 'rattrib3': '{3x}', 'rattrib4': '{4w}', 'rattrib5': '{5w}', 'rattrib7': '{7z}', 'rattrib8': '{8z}', 'rattrib9': '{9w}', 'rid': 'resource6'}, 'access')]\n",
            "Role：49, Number of permissions:1,  Permissions: [({'rattrib0': '{0y}', 'rattrib1': '{1z}', 'rattrib2': '{2w}', 'rattrib3': '{3x}', 'rattrib4': '{4w}', 'rattrib5': '{5w}', 'rattrib7': '{7z}', 'rattrib8': '{8z}', 'rattrib9': '{9w}', 'rid': 'resource6'}, 'access')]\n"
          ],
          "name": "stdout"
        }
      ]
    },
    {
      "cell_type": "code",
      "metadata": {
        "id": "UVKpGB3cNBoC",
        "colab": {
          "base_uri": "https://localhost:8080/"
        },
        "outputId": "85e5b238-e4ac-4e3f-bb8f-92b30e443c3d"
      },
      "source": [
        "# check RBAC policy\n",
        "def check_RBAC_policy(request,rp,URA):\n",
        "  u,r,o =request\n",
        "  for role_id in URA[u['uid']]:\n",
        "    for pid in range(n_p):\n",
        "      if rp[role_id,pid]==1:\n",
        "        (er,operations) = Permission[pid]\n",
        "        expressions=[{'eu':{},'er':er}]\n",
        "        if satisfied(u,r,expressions) and o in operations:\n",
        "          return True\n",
        "\n",
        "\n",
        "  return False\n",
        "# Check the RBAC\n",
        "# check the RBAC policy \n",
        "\n",
        "number_allow=0\n",
        "number_deny=0\n",
        "for u in U:\n",
        "  for r in R:\n",
        "    for o in O:\n",
        "      if(check_RBAC_policy((u,r,o),rp,URA)==True):\n",
        "        number_allow= number_allow+1\n",
        "      else:\n",
        "        number_deny =number_deny +1 \n",
        "        #print(f'{u}\\n{r}\\n{o}\\n \\n')\n",
        "\n",
        "print(f'For RBAC:\\nNumber of allowed requests:{number_allow}\\nNumber of denied request:{number_deny}')"
      ],
      "execution_count": 20,
      "outputs": [
        {
          "output_type": "stream",
          "text": [
            "For RBAC:\n",
            "Number of allowed requests:169\n",
            "Number of denied request:2331\n"
          ],
          "name": "stdout"
        }
      ]
    },
    {
      "cell_type": "code",
      "metadata": {
        "id": "tlQiFsdHNO7N",
        "colab": {
          "base_uri": "https://localhost:8080/"
        },
        "outputId": "8af19548-a4b6-4568-d1c4-ca7ca770c73d"
      },
      "source": [
        "\n",
        "# check the RBAC policy \n",
        "number_allow=0\n",
        "number_deny=0\n",
        "for u in U:\n",
        "  for r in R:\n",
        "    for o in O:\n",
        "      if(check_RBAC_policy((u,r,o),rp,URA)==True):\n",
        "        number_allow= number_allow+1\n",
        "      else:\n",
        "        number_deny =number_deny +1 \n",
        "        #print(f'{u}\\n{r}\\n{o}\\n \\n')\n",
        "print(f'For RBAC:\\nNumber of allowed requests:{number_allow}\\nNumber of denied request:{number_deny}')\n",
        "\n",
        "# check the ABAC policy \n",
        "number_allow=0\n",
        "number_deny=0\n",
        "m= []\n",
        "for u in U:\n",
        "  l = []\n",
        "  for r in R:\n",
        "    for o in O:\n",
        "      if(check_ABAC_policy((u,r,o),ABAC_policy)==True):\n",
        "        l.append(1)\n",
        "        number_allow= number_allow+1\n",
        "      else:\n",
        "        number_deny =number_deny +1 \n",
        "        l.append(0)\n",
        "        #print(f'{u}\\n{r}\\n{o}\\n \\n')\n",
        "  m.append(l)\n",
        "\n",
        "print(f'For ABAC:\\nNumber of allowed requests:{number_allow}\\nNumber of denied request:{number_deny}')\n",
        "#for i in m:\n",
        "#  print(i)\n",
        "#number_allow=0\n",
        "#number_deny=0\n",
        "\n",
        "correct=0\n",
        "for u in U:\n",
        " \n",
        "  for r in R:\n",
        "    for o in O:\n",
        "      if (check_ABAC_policy((u,r,o),ABAC_policy)==True and check_RBAC_policy((u,r,o),rp,URA)==False):\n",
        "        print(f'TF{u} {r} {o}')\n",
        "      elif (check_ABAC_policy((u,r,o),ABAC_policy)==False and check_RBAC_policy((u,r,o),rp,URA)==True):\n",
        "        print(f'FT{u} {r} {o}')\n",
        "        #number_allow= number_allow+1\n",
        "      elif (check_ABAC_policy((u,r,o),ABAC_policy)==True and check_RBAC_policy((u,r,o),rp,URA)==True):\n",
        "        correct = correct +1\n",
        "      elif (check_ABAC_policy((u,r,o),ABAC_policy)==False and check_RBAC_policy((u,r,o),rp,URA)==False):\n",
        "        correct = correct +1\n",
        "        #number_deny =number_deny +1 \n",
        "        #print(f'{u}\\n{r}\\n{o}\\n \\n')\n",
        "\n",
        "print(f'For number of correct:{correct}')\n"
      ],
      "execution_count": 21,
      "outputs": [
        {
          "output_type": "stream",
          "text": [
            "For RBAC:\n",
            "Number of allowed requests:169\n",
            "Number of denied request:2331\n",
            "For ABAC:\n",
            "Number of allowed requests:169\n",
            "Number of denied request:2331\n",
            "For number of correct:2500\n"
          ],
          "name": "stdout"
        }
      ]
    }
  ]
}