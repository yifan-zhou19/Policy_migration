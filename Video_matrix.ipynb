{
 "cells": [
  {
   "cell_type": "markdown",
   "metadata": {
    "id": "vgsJOrSrzHiT"
   },
   "source": [
    "\n",
    "\n",
    "#   This file demonstrates the migration process using the video dataset."
   ]
  },
  {
   "cell_type": "markdown",
   "metadata": {
    "id": "Ia8Q6keLzapw"
   },
   "source": [
    "## Input data: define the ABAC policies for video dataset"
   ]
  },
  {
   "cell_type": "code",
   "execution_count": 1,
   "metadata": {
    "id": "Moo_od1yJLpe"
   },
   "outputs": [],
   "source": [
    "#define ABAC policy (video)\n",
    "\n",
    "\n",
    "U_v=[\n",
    "   \n",
    "{'uid':'child1r','ageGroup':'child','memberType':'regular'},\n",
    "{'uid':'child2r','ageGroup':'child','memberType':'regular'},\n",
    "{'uid':'teen1r','ageGroup':'teen','memberType':'regular'},\n",
    "{'uid':'teen2r','ageGroup':'teen','memberType':'regular'},\n",
    "{'uid':'adult1r','ageGroup':'adult','memberType':'regular'},\n",
    "{'uid':'adult2r','ageGroup':'adult','memberType':'regular'}, \n",
    "\n",
    "{'uid':'child1p','ageGroup':'child','memberType':'premium'},\n",
    "{'uid':'child2p','ageGroup':'child','memberType':'premium'},\n",
    "{'uid':'teen1p','ageGroup':'teen','memberType':'premium'},\n",
    "{'uid':'teen2p','ageGroup':'teen','memberType':'premium'},\n",
    "{'uid':'adult1p','ageGroup':'adult','memberType':'premium'},\n",
    "{'uid':'adult2p','ageGroup':'adult','memberType':'premium'},  \n",
    "]\n",
    "\n",
    "R_v=[\n",
    "\n",
    "{'rid':'the_lion_king','rating':'G','videoType':'old'},\n",
    "{'rid':'toy_story','rating':'G','videoType':'old'},\n",
    "{'rid':'star_wars','rating':'PG','videoType':'old'},\n",
    "{'rid':'jaws','rating':'PG','videoType':'old'},\n",
    "{'rid':'brave_heart','rating':'R','videoType':'old'},\n",
    "{'rid':'my_cousin_vinny','rating':'R','videoType':'old'},\n",
    "\n",
    "\n",
    "{'rid':'happy_feet','rating':'G','videoType':'new'},\n",
    "{'rid':'happy_feet_2','rating':'G','videoType':'new'},\n",
    "{'rid':'cars','rating':'G','videoType':'new'},\n",
    "{'rid':'brave','rating':'PG','videoType':'new'},\n",
    "{'rid':'life_of_pi','rating':'PG','videoType':'new'},\n",
    "{'rid':'flight','rating':'R','videoType':'new'},\n",
    "{'rid':'cloud_atlas','rating':'R','videoType':'new'}   \n",
    "]\n",
    "UA_v=['ageGroup','memberType','uid']\n",
    "RA_v=['rid','rating','videoType']\n",
    "O_v=['view']\n",
    "RU_v=[\n",
    "  \n",
    "# premium members of all ages can view movies rated G.\n",
    "{'expressions':[{'eu':{'memberType':[('is','premium')]},'er':{'rating':[('is','G')]}}],'operations':['view'],'decision':'allow'}, \n",
    "# premium teens can view movies rated PG.\n",
    "{'expressions':[{'eu':{'memberType':[('is','premium')],'ageGroup':[('is','teen')]},'er':{'rating':[('is','PG')]}}],'operations':['view'],'decision':'allow'}, \n",
    "# premium adults can view movies with all ratings.\n",
    "{'expressions':[{'eu':{'memberType':[('is','premium')],'ageGroup':[('is','adult')]},'er':{}}],'operations':['view'],'decision':'allow'}, \n",
    "# members of all ages can view old movies rated G.\n",
    "{'expressions':[{'eu':{},'er':{'rating':[('is','G')],'videoType':[('is','old')]}}],'operations':['view'],'decision':'allow'}, \n",
    "\n",
    "# teens can view old movies rated PG.\n",
    "{'expressions':[{'eu':{'ageGroup':[('is','teen')]},'er':{'rating':[('is','PG')],'videoType':[('is','old')]}}],'operations':['view'],'decision':'allow'}, \n",
    "# adults can view old movies with all ratings.\n",
    "{'expressions':[{'eu':{'ageGroup':[('is','adult')]},'er':{'videoType':[('is','old')]}}],'operations':['view'],'decision':'allow'}, \n",
    "\n",
    "]\n",
    "def dU(user,attribute):\n",
    "  if attribute in user.keys():\n",
    "    return user[attribute]\n",
    "\n",
    "def dR(resource,attribute):\n",
    "  if attribute in resource.keys():\n",
    "    return resource[attribute]\n",
    "ABAC_video=(U_v,R_v,O_v,UA_v,RA_v,dU,dR,RU_v)"
   ]
  },
  {
   "cell_type": "markdown",
   "metadata": {
    "id": "wICaMq5qztQO"
   },
   "source": [
    "## Define the ABAC policy checker\n",
    "Because in video dataset, only equality is considered, we only consider the constraint \"is\" in this demo."
   ]
  },
  {
   "cell_type": "code",
   "execution_count": 24,
   "metadata": {
    "colab": {
     "base_uri": "https://localhost:8080/",
     "height": 71
    },
    "id": "uZLzqw6QJUU_",
    "outputId": "ed016cc7-f3c0-421d-d243-e788a4dfb2f7"
   },
   "outputs": [
    {
     "name": "stdout",
     "output_type": "stream",
     "text": [
      "For ABAC policy:\n",
      "Number of allowed requests:78\n",
      "Number of denied request:78\n"
     ]
    }
   ],
   "source": [
    "def satisfied(u,r,expressions):\n",
    "  for expression in expressions:\n",
    "    eu=expression['eu']\n",
    "    er=expression['er']\n",
    "    #for all the keys in eu, get the constraint of this key\n",
    "    #if u does not satisfy this constraint, return false\\\n",
    "    if ( len(eu.keys()) != 0 and u != None):\n",
    "      for key in eu.keys():\n",
    "        if(dU(u,key) == None):\n",
    "            return False\n",
    "        for (op,c) in eu[key]:\n",
    "          # u does not have this key\n",
    "          if(dU(u,key) == None):\n",
    "            return False\n",
    "        #op,c=eu[key]\n",
    "        #print(op,c)\n",
    "          if op == 'is' and  dU(u,key) != c:\n",
    "            return False\n",
    "\n",
    "    #for all the keys in er get the constraint of the key\n",
    "    if ( len(er.keys()) != 0 and r !=None):\n",
    "      for key in er.keys():\n",
    "        if dR(r,key)==None:\n",
    "          #  print(dR(r,key),key,op,c)\n",
    "            return False\n",
    "        for (op,c) in er[key]:\n",
    "        #print(op,c)\n",
    "        #op,c=er[key]\n",
    "          if op == 'is' and dR(r,key)!=c:\n",
    "            return False\n",
    "  \n",
    "  return True\n",
    "\n",
    "\n",
    "def check_ABAC_policy(request,abac_policy):\n",
    "  u,r,o =request\n",
    "  _,_,_,_,_,_,_,rules = abac_policy\n",
    "  for rule in rules:\n",
    "    if o in rule['operations']:\n",
    "      if satisfied(u,r,rule['expressions']):\n",
    "        return True\n",
    "  return False\n",
    "\n",
    "# check the ABAC policy \n",
    "number_allow=0\n",
    "number_deny=0\n",
    "for u in U_v:\n",
    "  for r in R_v:\n",
    "    for o in O_v:\n",
    "      if(check_ABAC_policy((u,r,o),ABAC_video)==True):\n",
    "        number_allow= number_allow+1\n",
    "      else:\n",
    "        number_deny =number_deny +1 \n",
    "        #print(f'{u}\\n{r}\\n{o}\\n \\n')\n",
    "\n",
    "print(f'For ABAC policy:\\nNumber of allowed requests:{number_allow}\\nNumber of denied request:{number_deny}')\n",
    "\n",
    "#print(f'{check_ABAC_policy((U[6],R[7],\"readMyScores\"),ABAC_university)}\\n{U[6]}\\n{R[7]}')\n",
    "#print(f'{check_ABAC_policy((U[3],R[5],\"addScore\"),ABAC_university)}\\n{U[3]}\\n{R[5]}')\n",
    "#print(f'Loss at epo {epoch}: {losses/len(training_data)}')\n",
    "\n"
   ]
  },
  {
   "cell_type": "markdown",
   "metadata": {},
   "source": [
    "## Calculate the number of user constraints and the number of permissions(resource constraint,operation)"
   ]
  },
  {
   "cell_type": "code",
   "execution_count": 25,
   "metadata": {
    "colab": {
     "base_uri": "https://localhost:8080/",
     "height": 109
    },
    "id": "FzQywvIjK_KP",
    "outputId": "8cb6d8b0-991f-4174-8ed1-5421fef3e52c"
   },
   "outputs": [
    {
     "name": "stdout",
     "output_type": "stream",
     "text": [
      "Number of user constraints:3\n",
      "Number of Permission sets:6\n",
      "User constraints:\n",
      "[{'memberType': [('is', 'premium')]}, {'ageGroup': [('is', 'teen')]}, {'ageGroup': [('is', 'adult')]}]\n",
      "Permission sets\n",
      "[({'rating': [('is', 'G')]}, ['view']), ({'rating': [('is', 'PG')]}, ['view']), ({}, ['view']), ({'rating': [('is', 'G')], 'videoType': [('is', 'old')]}, ['view']), ({'rating': [('is', 'PG')], 'videoType': [('is', 'old')]}, ['view']), ({'videoType': [('is', 'old')]}, ['view'])]\n"
     ]
    }
   ],
   "source": [
    "from numpy import *\n",
    "# Calculate the number of user constraints\n",
    "# Calculate the number of permissions(resource constraint,operation)\n",
    "UC=[]\n",
    "Permission=[]\n",
    "for rule in RU_v:\n",
    "  user_cons=rule['expressions'][0]['eu']\n",
    "  resource_cons=rule['expressions'][0]['er']\n",
    "  operations=rule['operations']\n",
    "  for uc_key in user_cons.keys():\n",
    "    uc = {uc_key:user_cons[uc_key]}\n",
    "    if uc not in UC:\n",
    "      UC.append(uc)\n",
    "  if (resource_cons,operations) not in Permission:\n",
    "    Permission.append((resource_cons,operations))\n",
    "n_uc=len(UC)\n",
    "n_p=len(Permission)\n",
    "print(f'Number of user constraints:{n_uc}\\nNumber of Permission sets:{n_p}')\n",
    "print(f'User constraints:')\n",
    "print(UC)\n",
    "print(f'Permission sets')\n",
    "print(Permission)\n"
   ]
  },
  {
   "cell_type": "code",
   "execution_count": 26,
   "metadata": {
    "id": "1v64_sDSFKgJ"
   },
   "outputs": [],
   "source": [
    "# Return the place of the item in the list\n",
    "# For example get_item_id(3,[2,3,5,4]) will return 1\n",
    "def get_item_id(item,list):\n",
    "  id = 0\n",
    "  while(id<len(list)):\n",
    "    if item == list[id]:\n",
    "      return id\n",
    "    id = id + 1\n",
    "  return None\n",
    "\n",
    "def cover(ma,mb):# ma cover mb\n",
    "  if ma.shape[1] != mb.shape[1]:\n",
    "    return False\n",
    "  for i in range(ma.shape[1]):\n",
    "    if mb[0,i]==1 and ma[0,i]==0:\n",
    "      return False\n",
    "\n",
    "\n",
    "  return True"
   ]
  },
  {
   "cell_type": "markdown",
   "metadata": {},
   "source": [
    "## Get the permission-constraint matrix and the role-permission matrix"
   ]
  },
  {
   "cell_type": "code",
   "execution_count": 27,
   "metadata": {
    "colab": {
     "base_uri": "https://localhost:8080/",
     "height": 269
    },
    "id": "aYCrGslCMFCN",
    "outputId": "137ae8d4-c2b7-4284-87b8-0d58496984a9"
   },
   "outputs": [
    {
     "name": "stdout",
     "output_type": "stream",
     "text": [
      "The pc matrix is\n",
      " [[1. 0. 0.]\n",
      " [1. 1. 0.]\n",
      " [1. 0. 1.]\n",
      " [0. 0. 0.]\n",
      " [0. 1. 0.]\n",
      " [0. 0. 1.]]\n",
      "The rp matrix is\n",
      " [[1. 0. 0. 1. 0. 0.]\n",
      " [1. 1. 0. 1. 1. 0.]\n",
      " [1. 0. 1. 1. 0. 1.]\n",
      " [0. 0. 0. 1. 0. 0.]\n",
      " [0. 0. 0. 1. 1. 0.]\n",
      " [0. 0. 0. 1. 0. 1.]]\n"
     ]
    }
   ],
   "source": [
    "# permission-constraint matrix\n",
    "pc=mat(zeros((n_p,n_uc)))\n",
    "for rule in RU_v:\n",
    "  user_cons=rule['expressions'][0]['eu']\n",
    "  resource_cons=rule['expressions'][0]['er']\n",
    "  operations=rule['operations']\n",
    "  p_id=get_item_id((resource_cons,operations),Permission)\n",
    "  for uc_key in user_cons.keys():\n",
    "    uc = {uc_key:user_cons[uc_key]}\n",
    "    c_id=get_item_id(uc,UC)\n",
    "    if(c_id==None):\n",
    "      continue\n",
    "    pc[p_id,c_id]=1\n",
    "print(f'The pc matrix is\\n {pc}')\n",
    "rp=mat(diag(array(ones(n_p))))\n",
    "for i in range(n_p-1):\n",
    "  for j in range(i+1,n_p):\n",
    "    if (cover(pc[i,],pc[j,])):\n",
    "      rp[i,j]=1\n",
    "    if (cover(pc[j,],pc[i,])):\n",
    "      rp[j,i]=1\n",
    "\n",
    "print(f'The rp matrix is\\n {rp}')"
   ]
  },
  {
   "cell_type": "markdown",
   "metadata": {},
   "source": [
    "## Calculate the user-role assignment and role-permission assignment according to the pc and rp matrix."
   ]
  },
  {
   "cell_type": "code",
   "execution_count": 28,
   "metadata": {
    "colab": {
     "base_uri": "https://localhost:8080/",
     "height": 379
    },
    "id": "CNWVlOKOMKqt",
    "outputId": "152539a1-8ece-4fe3-f48c-25833cbe978d"
   },
   "outputs": [
    {
     "name": "stdout",
     "output_type": "stream",
     "text": [
      "The user-role assignment is:\n",
      "User {'uid': 'child1r', 'ageGroup': 'child', 'memberType': 'regular'}, role: [3]\n",
      "User {'uid': 'child2r', 'ageGroup': 'child', 'memberType': 'regular'}, role: [3]\n",
      "User {'uid': 'teen1r', 'ageGroup': 'teen', 'memberType': 'regular'}, role: [4]\n",
      "User {'uid': 'teen2r', 'ageGroup': 'teen', 'memberType': 'regular'}, role: [4]\n",
      "User {'uid': 'adult1r', 'ageGroup': 'adult', 'memberType': 'regular'}, role: [5]\n",
      "User {'uid': 'adult2r', 'ageGroup': 'adult', 'memberType': 'regular'}, role: [5]\n",
      "User {'uid': 'child1p', 'ageGroup': 'child', 'memberType': 'premium'}, role: [0]\n",
      "User {'uid': 'child2p', 'ageGroup': 'child', 'memberType': 'premium'}, role: [0]\n",
      "User {'uid': 'teen1p', 'ageGroup': 'teen', 'memberType': 'premium'}, role: [1]\n",
      "User {'uid': 'teen2p', 'ageGroup': 'teen', 'memberType': 'premium'}, role: [1]\n",
      "User {'uid': 'adult1p', 'ageGroup': 'adult', 'memberType': 'premium'}, role: [2]\n",
      "User {'uid': 'adult2p', 'ageGroup': 'adult', 'memberType': 'premium'}, role: [2]\n",
      "\n",
      "The role-hierarchy relationship:  [(1, 0), (2, 0), (0, 3), (1, 3), (1, 4), (2, 3), (2, 5), (4, 3), (5, 3)]\n",
      "\n",
      "The role-permission assignment is:\n",
      "Role：0, Number of permissions:5,  Permissions: [({'rid': 'the_lion_king', 'rating': 'G', 'videoType': 'old'}, 'view'), ({'rid': 'toy_story', 'rating': 'G', 'videoType': 'old'}, 'view'), ({'rid': 'happy_feet', 'rating': 'G', 'videoType': 'new'}, 'view'), ({'rid': 'happy_feet_2', 'rating': 'G', 'videoType': 'new'}, 'view'), ({'rid': 'cars', 'rating': 'G', 'videoType': 'new'}, 'view')]\n",
      "Role：1, Number of permissions:9,  Permissions: [({'rid': 'the_lion_king', 'rating': 'G', 'videoType': 'old'}, 'view'), ({'rid': 'toy_story', 'rating': 'G', 'videoType': 'old'}, 'view'), ({'rid': 'star_wars', 'rating': 'PG', 'videoType': 'old'}, 'view'), ({'rid': 'jaws', 'rating': 'PG', 'videoType': 'old'}, 'view'), ({'rid': 'happy_feet', 'rating': 'G', 'videoType': 'new'}, 'view'), ({'rid': 'happy_feet_2', 'rating': 'G', 'videoType': 'new'}, 'view'), ({'rid': 'cars', 'rating': 'G', 'videoType': 'new'}, 'view'), ({'rid': 'brave', 'rating': 'PG', 'videoType': 'new'}, 'view'), ({'rid': 'life_of_pi', 'rating': 'PG', 'videoType': 'new'}, 'view')]\n",
      "Role：2, Number of permissions:13,  Permissions: [({'rid': 'the_lion_king', 'rating': 'G', 'videoType': 'old'}, 'view'), ({'rid': 'toy_story', 'rating': 'G', 'videoType': 'old'}, 'view'), ({'rid': 'star_wars', 'rating': 'PG', 'videoType': 'old'}, 'view'), ({'rid': 'jaws', 'rating': 'PG', 'videoType': 'old'}, 'view'), ({'rid': 'brave_heart', 'rating': 'R', 'videoType': 'old'}, 'view'), ({'rid': 'my_cousin_vinny', 'rating': 'R', 'videoType': 'old'}, 'view'), ({'rid': 'happy_feet', 'rating': 'G', 'videoType': 'new'}, 'view'), ({'rid': 'happy_feet_2', 'rating': 'G', 'videoType': 'new'}, 'view'), ({'rid': 'cars', 'rating': 'G', 'videoType': 'new'}, 'view'), ({'rid': 'brave', 'rating': 'PG', 'videoType': 'new'}, 'view'), ({'rid': 'life_of_pi', 'rating': 'PG', 'videoType': 'new'}, 'view'), ({'rid': 'flight', 'rating': 'R', 'videoType': 'new'}, 'view'), ({'rid': 'cloud_atlas', 'rating': 'R', 'videoType': 'new'}, 'view')]\n",
      "Role：3, Number of permissions:2,  Permissions: [({'rid': 'the_lion_king', 'rating': 'G', 'videoType': 'old'}, 'view'), ({'rid': 'toy_story', 'rating': 'G', 'videoType': 'old'}, 'view')]\n",
      "Role：4, Number of permissions:4,  Permissions: [({'rid': 'the_lion_king', 'rating': 'G', 'videoType': 'old'}, 'view'), ({'rid': 'toy_story', 'rating': 'G', 'videoType': 'old'}, 'view'), ({'rid': 'star_wars', 'rating': 'PG', 'videoType': 'old'}, 'view'), ({'rid': 'jaws', 'rating': 'PG', 'videoType': 'old'}, 'view')]\n",
      "Role：5, Number of permissions:6,  Permissions: [({'rid': 'the_lion_king', 'rating': 'G', 'videoType': 'old'}, 'view'), ({'rid': 'toy_story', 'rating': 'G', 'videoType': 'old'}, 'view'), ({'rid': 'star_wars', 'rating': 'PG', 'videoType': 'old'}, 'view'), ({'rid': 'jaws', 'rating': 'PG', 'videoType': 'old'}, 'view'), ({'rid': 'brave_heart', 'rating': 'R', 'videoType': 'old'}, 'view'), ({'rid': 'my_cousin_vinny', 'rating': 'R', 'videoType': 'old'}, 'view')]\n"
     ]
    }
   ],
   "source": [
    "def rest_of(l,r):\n",
    "  vector = mat(zeros((1,n_uc)))\n",
    "  for role in l:\n",
    "    if role != r:\n",
    "      vector = vector + rc[role,]\n",
    "  for i in range(n_uc):\n",
    "    if vector[0,i]>0:\n",
    "      vector[0,i]=1\n",
    "  return vector\n",
    "\n",
    "import copy\n",
    "# User role assignment \n",
    "n_r=n_p\n",
    "rc=pc\n",
    "URA = dict()\n",
    "print(f'The user-role assignment is:')\n",
    "for u in U_v:\n",
    "  URA[u['uid']]=[]\n",
    "  uv=mat(ones((1,n_uc)))\n",
    "  for cid in range(n_uc):\n",
    "    expressions=[{'eu':UC[cid],'er':{}}]\n",
    "    if satisfied(u,None,expressions)==False:\n",
    "      uv[0,cid]=0\n",
    "  for rid in range(n_r):\n",
    "    if cover(uv,rc[rid,]):\n",
    "      URA[u['uid']].append(rid)\n",
    "\n",
    "# remove hierarchy\n",
    "  for ri in URA[u['uid']]:\n",
    "    rest = URA[u['uid']].copy()\n",
    "    rest.remove(ri)\n",
    "\n",
    "    for rj in rest:\n",
    "      if cover(rc[rj,],rc[ri,]) and ri in URA[u['uid']]:\n",
    "        URA[u['uid']].remove(ri)\n",
    "#remove redundant\n",
    "  for r in URA[u['uid']]:\n",
    "    if len(URA[u['uid']])==1:\n",
    "      break\n",
    "    if cover(rest_of(URA[u['uid']],r),rc[r,]):\n",
    "      URA[u['uid']].remove(r)\n",
    "\n",
    "  ura =  URA[u['uid']]\n",
    "\n",
    "  print(f'User {u}, role: {ura}')\n",
    "#print(f'The user-role assignment:  {URA}')\n",
    " # print(f'The role-permission assignment:  {RPA}')\n",
    "\n",
    "# generate the role-heirarchy\n",
    "RH = []\n",
    "for i in range(0,n_r-1):\n",
    "  for j in range(i+1,n_r):\n",
    "    if (cover(pc[i,],pc[j,])):\n",
    "      RH.append((i,j))\n",
    "    if (cover(pc[j,],pc[i,])):\n",
    "      RH.append((j,i))    \n",
    "print(f'\\nThe role-hierarchy relationship:  {RH}')\n",
    "# generate the role-permission assignment\n",
    "RPA = dict()\n",
    "for ro in range(n_r):\n",
    "  RPA['role'+str(ro)]=[]\n",
    "  for r in R_v:\n",
    "    for o in O_v:\n",
    "      for pid in range(n_p):\n",
    "        if rp[ro,pid]==1:\n",
    "          (er,operations) = Permission[pid]\n",
    "          #print(er,r)\n",
    "          expressions=[{'eu':{},'er':er}]\n",
    "          #print(satisfied(None,r,expressions))\n",
    "          if satisfied(None,r,expressions) and o in operations:\n",
    "            if((r,o) not in RPA['role'+str(ro)]):\n",
    "              RPA['role'+str(ro)].append((r,o))\n",
    "\n",
    "print(f'\\nThe role-permission assignment is:')\n",
    "for ro in range(n_r):\n",
    "  p=RPA['role'+str(ro)]\n",
    "  print(f'Role：{ro}, Number of permissions:{len(p)},  Permissions: {p}')"
   ]
  },
  {
   "cell_type": "code",
   "execution_count": 29,
   "metadata": {
    "id": "2VZ7n-yPZbwE"
   },
   "outputs": [],
   "source": [
    "# check RBAC policy\n",
    "def check_RBAC_policy(request,rp,URA):\n",
    "  u,r,o =request\n",
    "  for role_id in URA[u['uid']]:\n",
    "    for pid in range(n_p):\n",
    "      if rp[role_id,pid]==1:\n",
    "        (er,operations) = Permission[pid]\n",
    "        expressions=[{'eu':{},'er':er}]\n",
    "        if satisfied(u,r,expressions) and o in operations:\n",
    "          return True\n",
    "\n",
    "\n",
    "  return False\n"
   ]
  },
  {
   "cell_type": "code",
   "execution_count": 30,
   "metadata": {
    "colab": {
     "base_uri": "https://localhost:8080/",
     "height": 71
    },
    "id": "c53uz7lAMWiK",
    "outputId": "467ec858-5003-47da-aa29-620c76cc8d42"
   },
   "outputs": [
    {
     "name": "stdout",
     "output_type": "stream",
     "text": [
      "For RBAC policy:\n",
      "Number of allowed requests:78\n",
      "Number of denied request:78\n"
     ]
    }
   ],
   "source": [
    "# Check the RBAC\n",
    "# check the RBAC policy \n",
    "\n",
    "number_allow=0\n",
    "number_deny=0\n",
    "for u in U_v:\n",
    "  for r in R_v:\n",
    "    for o in O_v:\n",
    "      if(check_RBAC_policy((u,r,o),rp,URA)==True):\n",
    "        number_allow= number_allow+1\n",
    "      else:\n",
    "        number_deny =number_deny +1 \n",
    "        #print(f'{u}\\n{r}\\n{o}\\n \\n')\n",
    "\n",
    "\n",
    "print(f'For RBAC policy:\\nNumber of allowed requests:{number_allow}\\nNumber of denied request:{number_deny}')"
   ]
  },
  {
   "cell_type": "markdown",
   "metadata": {},
   "source": [
    "## Evaluate the correctness of the migration"
   ]
  },
  {
   "cell_type": "code",
   "execution_count": 32,
   "metadata": {
    "colab": {
     "base_uri": "https://localhost:8080/",
     "height": 359
    },
    "id": "uzf5XuM2krlN",
    "outputId": "c68d6d29-4975-48cc-eb09-a1ece225f7b3"
   },
   "outputs": [
    {
     "name": "stdout",
     "output_type": "stream",
     "text": [
      "For RBAC policy:\n",
      "Number of allowed requests:78\n",
      "Number of denied request:78\n",
      "For ABAC policy:\n",
      "Number of allowed requests:78\n",
      "Number of denied request:78\n",
      "\n",
      "Number of correctness:156\n"
     ]
    }
   ],
   "source": [
    "\n",
    "# check the RBAC policy \n",
    "number_allow=0\n",
    "number_deny=0\n",
    "for u in U_v:\n",
    "  for r in R_v:\n",
    "    for o in O_v:\n",
    "      if(check_RBAC_policy((u,r,o),rp,URA)==True):\n",
    "        number_allow= number_allow+1\n",
    "      else:\n",
    "        number_deny =number_deny +1 \n",
    "        #print(f'{u}\\n{r}\\n{o}\\n \\n')\n",
    "\n",
    "\n",
    "print(f'For RBAC policy:\\nNumber of allowed requests:{number_allow}\\nNumber of denied request:{number_deny}')\n",
    "\n",
    "# check the ABAC policy \n",
    "number_allow=0\n",
    "number_deny=0\n",
    "m= []\n",
    "for u in U_v:\n",
    "  l = []\n",
    "  for r in R_v:\n",
    "    for o in O_v:\n",
    "      if(check_ABAC_policy((u,r,o),ABAC_video)==True):\n",
    "        l.append(1)\n",
    "        number_allow= number_allow+1\n",
    "      else:\n",
    "        number_deny =number_deny +1 \n",
    "        l.append(0)\n",
    "        #print(f'{u}\\n{r}\\n{o}\\n \\n')\n",
    "  m.append(l)\n",
    "\n",
    "\n",
    "print(f'For ABAC policy:\\nNumber of allowed requests:{number_allow}\\nNumber of denied request:{number_deny}')\n",
    "#for i in m:\n",
    "#  print(i)\n",
    "#number_allow=0\n",
    "#number_deny=0\n",
    "\n",
    "correct=0\n",
    "for u in U_v:\n",
    " \n",
    "  for r in R_v:\n",
    "    for o in O_v:\n",
    "      if (check_ABAC_policy((u,r,o),ABAC_video)==True and check_RBAC_policy((u,r,o),rp,URA)==False):\n",
    "        print(f'TF{u} {r} {o}')\n",
    "      elif (check_ABAC_policy((u,r,o),ABAC_video)==False and check_RBAC_policy((u,r,o),rp,URA)==True):\n",
    "        print(f'FT{u} {r} {o}')\n",
    "        #number_allow= number_allow+1\n",
    "      elif (check_ABAC_policy((u,r,o),ABAC_video)==True and check_RBAC_policy((u,r,o),rp,URA)==True):\n",
    "        correct = correct +1\n",
    "      elif (check_ABAC_policy((u,r,o),ABAC_video)==False and check_RBAC_policy((u,r,o),rp,URA)==False):\n",
    "        correct = correct +1\n",
    "        #number_deny =number_deny +1 \n",
    "        #print(f'{u}\\n{r}\\n{o}\\n \\n')\n",
    "\n",
    "print(f'\\nNumber of correctness:{correct}')\n"
   ]
  },
  {
   "cell_type": "code",
   "execution_count": null,
   "metadata": {},
   "outputs": [],
   "source": []
  },
  {
   "cell_type": "code",
   "execution_count": null,
   "metadata": {},
   "outputs": [],
   "source": []
  }
 ],
 "metadata": {
  "colab": {
   "name": "Video_matrix.ipynb",
   "provenance": []
  },
  "kernelspec": {
   "display_name": "Python 3",
   "language": "python",
   "name": "python3"
  },
  "language_info": {
   "codemirror_mode": {
    "name": "ipython",
    "version": 3
   },
   "file_extension": ".py",
   "mimetype": "text/x-python",
   "name": "python",
   "nbconvert_exporter": "python",
   "pygments_lexer": "ipython3",
   "version": "3.7.0"
  }
 },
 "nbformat": 4,
 "nbformat_minor": 1
}
