{
  "nbformat": 4,
  "nbformat_minor": 0,
  "metadata": {
    "colab": {
      "name": "Migration_evaluation.ipynb",
      "provenance": [],
      "collapsed_sections": [],
      "authorship_tag": "ABX9TyNLJ/H+YvDQ5AFiH8YgbPRh",
      "include_colab_link": true
    },
    "kernelspec": {
      "name": "python3",
      "display_name": "Python 3"
    }
  },
  "cells": [
    {
      "cell_type": "markdown",
      "metadata": {
        "id": "view-in-github",
        "colab_type": "text"
      },
      "source": [
        "<a href=\"https://colab.research.google.com/github/yifan-zhou19/Policy_migration/blob/master/Migration_evaluation.ipynb\" target=\"_parent\"><img src=\"https://colab.research.google.com/assets/colab-badge.svg\" alt=\"Open In Colab\"/></a>"
      ]
    },
    {
      "cell_type": "markdown",
      "metadata": {
        "id": "GbAy8rv6kpFH"
      },
      "source": [
        "# Policy migration using randomly generated datasets"
      ]
    },
    {
      "cell_type": "markdown",
      "metadata": {
        "id": "tOhQyRwWk0EU"
      },
      "source": [
        "## Preparing the datasets"
      ]
    },
    {
      "cell_type": "code",
      "metadata": {
        "id": "WVSoMHRIEEkm",
        "colab": {
          "base_uri": "https://localhost:8080/"
        },
        "outputId": "da9da812-a2ba-410d-c5f4-2cf9f7a3cae9"
      },
      "source": [
        "! git clone https://github.com/yifan-zhou19/Policy_migration.git migration"
      ],
      "execution_count": 41,
      "outputs": [
        {
          "output_type": "stream",
          "text": [
            "Cloning into 'migration'...\n",
            "remote: Enumerating objects: 95, done.\u001b[K\n",
            "remote: Counting objects: 100% (95/95), done.\u001b[K\n",
            "remote: Compressing objects: 100% (95/95), done.\u001b[K\n",
            "remote: Total 209 (delta 54), reused 0 (delta 0), pack-reused 114\u001b[K\n",
            "Receiving objects: 100% (209/209), 1.39 MiB | 9.15 MiB/s, done.\n",
            "Resolving deltas: 100% (118/118), done.\n"
          ],
          "name": "stdout"
        }
      ]
    },
    {
      "cell_type": "code",
      "metadata": {
        "id": "XuXw7X1RE9Y-",
        "colab": {
          "base_uri": "https://localhost:8080/"
        },
        "outputId": "78a028c6-2797-42a4-9185-809c550e7265"
      },
      "source": [
        "! ls migration/"
      ],
      "execution_count": 42,
      "outputs": [
        {
          "output_type": "stream",
          "text": [
            "'100 50 10 10 50 1 4'\t\t       'Data3 200 50 10 10 100 1 4'\n",
            "'50 50 10 10 40 1 4'\t\t       'Data 50 50 50 50 50 1 4'\n",
            "'[50 50 10 10 40 1 4]10  (16)'\t       'Migration_evaluation(2).ipynb'\n",
            "'[50 50 10 10 40 1 4] 50(34)'\t       'Migration_evaluation(3).ipynb'\n",
            "'[50 50 10 10 40 1 4] last 20 (6)'      Migration_evaluation.ipynb\n",
            "'[50 50 10 10 40 1 4] middle 20 (25)'   README.md\n",
            "'50 50 10 10 50 1 4'\t\t        Uni_matrix.ipynb\n",
            "'8 8 10 10 10 1 1'\t\t        Video_matrix.ipynb\n",
            "'Data2 200 50 10 10 10'\n"
          ],
          "name": "stdout"
        }
      ]
    },
    {
      "cell_type": "markdown",
      "metadata": {
        "id": "NkY8-QlVk_SI"
      },
      "source": [
        "## Extract policies"
      ]
    },
    {
      "cell_type": "code",
      "metadata": {
        "id": "xtST7bj5Js8r",
        "colab": {
          "base_uri": "https://localhost:8080/"
        },
        "outputId": "cfee0eb5-586a-450b-9759-5754fa77aa98"
      },
      "source": [
        "#file = open(r'migration/Data2 200 50 10 10 10/policy.txt' , 'r')\n",
        "#file = open(r'migration/[50 50 10 10 40 1 4]10  (16)/policy.txt' , 'r')\n",
        "#file = open(r'migration/[50 50 10 10 40 1 4] middle 20 (25)/policy.txt' , 'r')\n",
        "#file = open(r'migration/[50 50 10 10 40 1 4] last 20 (6)/policy.txt' , 'r')\n",
        "file = open(r'migration/[50 50 10 10 40 1 4] 50(34)/policy.txt' , 'r')\n",
        "\n",
        "\n",
        "\n",
        "line = file.readline() \n",
        "RU=[]      \n",
        "while line: \n",
        "  rule=dict()\n",
        "  rule['expressions']=[{'eu':{},'er':{}}]\n",
        "  rule['operations']=['access']\n",
        "  rule['decision']='allow'\n",
        " # rule=dict('expressions':[{'eu':{},'er':{}}],'operations':['access'],'decision':'allow'), \n",
        "  \n",
        "  #print(line[:10])\n",
        "  #print(line, end = '')　\n",
        "  cons = line.strip().split(',')\n",
        "  for con in cons:\n",
        "    c = con.split('=')\n",
        "    if c[0][0]=='u':\n",
        "      rule['expressions'][0]['eu'][c[0]]=[('is',c[1])]\n",
        "    elif c[0][0]=='r':\n",
        "      #rule['er'][c[0]]=c[1]\n",
        "      rule['expressions'][0]['er'][c[0]]=[('is',c[1])]\n",
        "\n",
        "  \n",
        "  RU.append(rule)\n",
        "\n",
        "  #break\n",
        "  line = file.readline() \n",
        "print(f'Number of policies:{len(RU)}')\n",
        "for i in RU:\n",
        "  print(i)\n",
        " \n",
        "file.close() "
      ],
      "execution_count": 127,
      "outputs": [
        {
          "output_type": "stream",
          "text": [
            "Number of policies:40\n",
            "{'expressions': [{'eu': {'uattrib3': [('is', '{3a}')], 'uattrib9': [('is', '{9b}')], 'uattrib4': [('is', '{4c}')]}, 'er': {'rattrib7': [('is', '{7w}')], 'rattrib8': [('is', '{8w}')], 'rattrib2': [('is', '{2x}')], 'rattrib4': [('is', '{4w}')], 'rattrib6': [('is', '{6x}')], 'rattrib3': [('is', '{3w}')]}}], 'operations': ['access'], 'decision': 'allow'}\n",
            "{'expressions': [{'eu': {'uattrib6': [('is', '{6a}')], 'uattrib1': [('is', '{1d}')], 'uattrib9': [('is', '{9c}')], 'uattrib3': [('is', '{3a}')]}, 'er': {'rattrib7': [('is', '{7w}')], 'rattrib9': [('is', '{9w}')], 'rattrib5': [('is', '{5y}')]}}], 'operations': ['access'], 'decision': 'allow'}\n",
            "{'expressions': [{'eu': {'uattrib8': [('is', '{8a}')], 'uattrib7': [('is', '{7b}')], 'uattrib4': [('is', '{4d}')], 'uattrib9': [('is', '{9b}')], 'uattrib1': [('is', '{1c}')], 'uattrib5': [('is', '{5d}')]}, 'er': {'rattrib1': [('is', '{1z}')], 'rattrib5': [('is', '{5y}')]}}], 'operations': ['access'], 'decision': 'allow'}\n",
            "{'expressions': [{'eu': {'uattrib5': [('is', '{5b}')], 'uattrib6': [('is', '{6d}')]}, 'er': {'rattrib3': [('is', '{3y}')], 'rattrib9': [('is', '{9y}')], 'rattrib1': [('is', '{1z}')], 'rattrib0': [('is', '{0y}')], 'rattrib8': [('is', '{8y}')], 'rattrib7': [('is', '{7x}')], 'rattrib4': [('is', '{4y}')], 'rattrib5': [('is', '{5x}')]}}], 'operations': ['access'], 'decision': 'allow'}\n",
            "{'expressions': [{'eu': {'uattrib1': [('is', '{1d}')], 'uattrib3': [('is', '{3c}')], 'uattrib2': [('is', '{2d}')], 'uattrib0': [('is', '{0a}')], 'uattrib4': [('is', '{4c}')], 'uattrib8': [('is', '{8c}')], 'uattrib6': [('is', '{6d}')], 'uattrib5': [('is', '{5b}')]}, 'er': {'rattrib6': [('is', '{6w}')], 'rattrib4': [('is', '{4x}')], 'rattrib0': [('is', '{0y}')], 'rattrib9': [('is', '{9w}')], 'rattrib5': [('is', '{5y}')], 'rattrib3': [('is', '{3w}')], 'rattrib7': [('is', '{7z}')], 'rattrib8': [('is', '{8y}')], 'rattrib2': [('is', '{2z}')]}}], 'operations': ['access'], 'decision': 'allow'}\n",
            "{'expressions': [{'eu': {'uattrib7': [('is', '{7c}')], 'uattrib8': [('is', '{8b}')]}, 'er': {'rattrib4': [('is', '{4w}')], 'rattrib7': [('is', '{7z}')], 'rattrib5': [('is', '{5w}')], 'rattrib1': [('is', '{1z}')], 'rattrib0': [('is', '{0y}')], 'rattrib3': [('is', '{3x}')], 'rattrib9': [('is', '{9w}')], 'rattrib8': [('is', '{8z}')]}}], 'operations': ['access'], 'decision': 'allow'}\n",
            "{'expressions': [{'eu': {'uattrib8': [('is', '{8a}')], 'uattrib9': [('is', '{9d}')], 'uattrib6': [('is', '{6a}')], 'uattrib0': [('is', '{0a}')], 'uattrib5': [('is', '{5b}')], 'uattrib4': [('is', '{4a}')]}, 'er': {'rattrib4': [('is', '{4x}')], 'rattrib5': [('is', '{5x}')], 'rattrib8': [('is', '{8y}')], 'rattrib0': [('is', '{0z}')], 'rattrib3': [('is', '{3w}')], 'rattrib2': [('is', '{2y}')], 'rattrib7': [('is', '{7y}')], 'rattrib1': [('is', '{1w}')], 'rattrib9': [('is', '{9z}')]}}], 'operations': ['access'], 'decision': 'allow'}\n",
            "{'expressions': [{'eu': {'uattrib7': [('is', '{7b}')], 'uattrib0': [('is', '{0c}')], 'uattrib8': [('is', '{8d}')], 'uattrib1': [('is', '{1c}')], 'uattrib2': [('is', '{2c}')], 'uattrib3': [('is', '{3d}')], 'uattrib4': [('is', '{4a}')], 'uattrib6': [('is', '{6d}')]}, 'er': {'rattrib1': [('is', '{1y}')], 'rattrib6': [('is', '{6w}')]}}], 'operations': ['access'], 'decision': 'allow'}\n",
            "{'expressions': [{'eu': {'uattrib8': [('is', '{8c}')], 'uattrib2': [('is', '{2b}')], 'uattrib6': [('is', '{6c}')], 'uattrib7': [('is', '{7c}')], 'uattrib1': [('is', '{1b}')], 'uattrib0': [('is', '{0d}')], 'uattrib5': [('is', '{5a}')]}, 'er': {'rattrib1': [('is', '{1z}')], 'rattrib2': [('is', '{2w}')], 'rattrib3': [('is', '{3x}')], 'rattrib8': [('is', '{8x}')], 'rattrib0': [('is', '{0w}')]}}], 'operations': ['access'], 'decision': 'allow'}\n",
            "{'expressions': [{'eu': {'uattrib0': [('is', '{0b}')], 'uattrib1': [('is', '{1b}')], 'uattrib7': [('is', '{7c}')], 'uattrib6': [('is', '{6a}')], 'uattrib4': [('is', '{4b}')], 'uattrib8': [('is', '{8d}')], 'uattrib3': [('is', '{3a}')]}, 'er': {'rattrib7': [('is', '{7x}')], 'rattrib3': [('is', '{3w}')]}}], 'operations': ['access'], 'decision': 'allow'}\n",
            "{'expressions': [{'eu': {'uattrib7': [('is', '{7d}')], 'uattrib8': [('is', '{8b}')], 'uattrib4': [('is', '{4b}')], 'uattrib1': [('is', '{1a}')], 'uattrib5': [('is', '{5a}')], 'uattrib3': [('is', '{3b}')], 'uattrib2': [('is', '{2b}')], 'uattrib0': [('is', '{0d}')]}, 'er': {'rattrib4': [('is', '{4w}')], 'rattrib7': [('is', '{7x}')], 'rattrib5': [('is', '{5y}')], 'rattrib2': [('is', '{2w}')], 'rattrib6': [('is', '{6x}')]}}], 'operations': ['access'], 'decision': 'allow'}\n",
            "{'expressions': [{'eu': {'uattrib2': [('is', '{2d}')], 'uattrib0': [('is', '{0c}')], 'uattrib3': [('is', '{3b}')], 'uattrib9': [('is', '{9d}')], 'uattrib7': [('is', '{7a}')], 'uattrib1': [('is', '{1c}')], 'uattrib4': [('is', '{4d}')], 'uattrib5': [('is', '{5b}')], 'uattrib8': [('is', '{8d}')]}, 'er': {'rattrib2': [('is', '{2y}')], 'rattrib7': [('is', '{7z}')], 'rattrib4': [('is', '{4w}')], 'rattrib9': [('is', '{9w}')], 'rattrib8': [('is', '{8x}')], 'rattrib0': [('is', '{0z}')], 'rattrib5': [('is', '{5w}')], 'rattrib3': [('is', '{3y}')]}}], 'operations': ['access'], 'decision': 'allow'}\n",
            "{'expressions': [{'eu': {'uattrib2': [('is', '{2d}')], 'uattrib1': [('is', '{1d}')]}, 'er': {'rattrib9': [('is', '{9z}')], 'rattrib6': [('is', '{6w}')], 'rattrib7': [('is', '{7z}')], 'rattrib4': [('is', '{4w}')], 'rattrib5': [('is', '{5x}')], 'rattrib1': [('is', '{1y}')]}}], 'operations': ['access'], 'decision': 'allow'}\n",
            "{'expressions': [{'eu': {'uattrib9': [('is', '{9c}')], 'uattrib6': [('is', '{6b}')], 'uattrib8': [('is', '{8d}')], 'uattrib3': [('is', '{3d}')], 'uattrib7': [('is', '{7c}')]}, 'er': {'rattrib7': [('is', '{7z}')], 'rattrib1': [('is', '{1y}')], 'rattrib5': [('is', '{5y}')], 'rattrib6': [('is', '{6w}')], 'rattrib9': [('is', '{9z}')], 'rattrib2': [('is', '{2z}')]}}], 'operations': ['access'], 'decision': 'allow'}\n",
            "{'expressions': [{'eu': {'uattrib2': [('is', '{2b}')], 'uattrib9': [('is', '{9a}')], 'uattrib1': [('is', '{1d}')], 'uattrib4': [('is', '{4a}')], 'uattrib6': [('is', '{6c}')], 'uattrib3': [('is', '{3a}')], 'uattrib7': [('is', '{7a}')], 'uattrib5': [('is', '{5a}')], 'uattrib8': [('is', '{8b}')]}, 'er': {'rattrib3': [('is', '{3z}')], 'rattrib9': [('is', '{9z}')], 'rattrib8': [('is', '{8z}')], 'rattrib5': [('is', '{5x}')], 'rattrib4': [('is', '{4x}')], 'rattrib0': [('is', '{0z}')], 'rattrib6': [('is', '{6y}')], 'rattrib2': [('is', '{2x}')]}}], 'operations': ['access'], 'decision': 'allow'}\n",
            "{'expressions': [{'eu': {'uattrib9': [('is', '{9d}')], 'uattrib6': [('is', '{6b}')], 'uattrib0': [('is', '{0b}')], 'uattrib3': [('is', '{3d}')], 'uattrib2': [('is', '{2a}')], 'uattrib1': [('is', '{1a}')], 'uattrib5': [('is', '{5b}')], 'uattrib8': [('is', '{8d}')], 'uattrib7': [('is', '{7b}')]}, 'er': {'rattrib6': [('is', '{6y}')], 'rattrib8': [('is', '{8x}')], 'rattrib7': [('is', '{7x}')], 'rattrib5': [('is', '{5y}')], 'rattrib9': [('is', '{9x}')], 'rattrib3': [('is', '{3z}')], 'rattrib2': [('is', '{2w}')], 'rattrib1': [('is', '{1y}')], 'rattrib0': [('is', '{0w}')]}}], 'operations': ['access'], 'decision': 'allow'}\n",
            "{'expressions': [{'eu': {'uattrib5': [('is', '{5a}')], 'uattrib2': [('is', '{2b}')]}, 'er': {'rattrib3': [('is', '{3w}')], 'rattrib5': [('is', '{5y}')], 'rattrib4': [('is', '{4x}')], 'rattrib0': [('is', '{0y}')], 'rattrib1': [('is', '{1z}')], 'rattrib6': [('is', '{6w}')], 'rattrib8': [('is', '{8z}')], 'rattrib2': [('is', '{2w}')], 'rattrib7': [('is', '{7w}')]}}], 'operations': ['access'], 'decision': 'allow'}\n",
            "{'expressions': [{'eu': {'uattrib6': [('is', '{6d}')], 'uattrib5': [('is', '{5b}')], 'uattrib9': [('is', '{9a}')], 'uattrib1': [('is', '{1d}')], 'uattrib8': [('is', '{8d}')], 'uattrib7': [('is', '{7c}')], 'uattrib2': [('is', '{2c}')], 'uattrib4': [('is', '{4a}')]}, 'er': {'rattrib6': [('is', '{6y}')], 'rattrib0': [('is', '{0z}')], 'rattrib9': [('is', '{9x}')], 'rattrib5': [('is', '{5w}')], 'rattrib4': [('is', '{4z}')], 'rattrib3': [('is', '{3z}')], 'rattrib2': [('is', '{2y}')]}}], 'operations': ['access'], 'decision': 'allow'}\n",
            "{'expressions': [{'eu': {'uattrib9': [('is', '{9c}')], 'uattrib1': [('is', '{1b}')], 'uattrib7': [('is', '{7c}')], 'uattrib6': [('is', '{6d}')]}, 'er': {'rattrib5': [('is', '{5x}')], 'rattrib0': [('is', '{0x}')], 'rattrib8': [('is', '{8z}')], 'rattrib6': [('is', '{6w}')], 'rattrib2': [('is', '{2z}')], 'rattrib3': [('is', '{3y}')], 'rattrib9': [('is', '{9x}')]}}], 'operations': ['access'], 'decision': 'allow'}\n",
            "{'expressions': [{'eu': {'uattrib4': [('is', '{4d}')], 'uattrib5': [('is', '{5a}')], 'uattrib8': [('is', '{8c}')], 'uattrib2': [('is', '{2b}')], 'uattrib7': [('is', '{7c}')], 'uattrib0': [('is', '{0c}')]}, 'er': {'rattrib3': [('is', '{3z}')], 'rattrib7': [('is', '{7w}')]}}], 'operations': ['access'], 'decision': 'allow'}\n",
            "{'expressions': [{'eu': {'uattrib9': [('is', '{9a}')], 'uattrib7': [('is', '{7c}')], 'uattrib4': [('is', '{4c}')], 'uattrib0': [('is', '{0a}')], 'uattrib2': [('is', '{2a}')], 'uattrib6': [('is', '{6b}')], 'uattrib3': [('is', '{3c}')], 'uattrib8': [('is', '{8b}')]}, 'er': {'rattrib3': [('is', '{3y}')], 'rattrib2': [('is', '{2z}')], 'rattrib6': [('is', '{6z}')], 'rattrib9': [('is', '{9w}')], 'rattrib7': [('is', '{7x}')], 'rattrib5': [('is', '{5x}')]}}], 'operations': ['access'], 'decision': 'allow'}\n",
            "{'expressions': [{'eu': {'uattrib7': [('is', '{7d}')], 'uattrib4': [('is', '{4b}')], 'uattrib1': [('is', '{1d}')]}, 'er': {'rattrib4': [('is', '{4y}')], 'rattrib5': [('is', '{5y}')]}}], 'operations': ['access'], 'decision': 'allow'}\n",
            "{'expressions': [{'eu': {'uattrib0': [('is', '{0d}')], 'uattrib9': [('is', '{9b}')], 'uattrib1': [('is', '{1b}')], 'uattrib2': [('is', '{2b}')], 'uattrib5': [('is', '{5a}')], 'uattrib4': [('is', '{4b}')], 'uattrib3': [('is', '{3d}')]}, 'er': {'rattrib1': [('is', '{1x}')], 'rattrib5': [('is', '{5y}')], 'rattrib2': [('is', '{2y}')], 'rattrib3': [('is', '{3y}')], 'rattrib6': [('is', '{6x}')], 'rattrib8': [('is', '{8y}')], 'rattrib4': [('is', '{4y}')], 'rattrib0': [('is', '{0y}')]}}], 'operations': ['access'], 'decision': 'allow'}\n",
            "{'expressions': [{'eu': {'uattrib1': [('is', '{1c}')], 'uattrib5': [('is', '{5b}')], 'uattrib0': [('is', '{0c}')], 'uattrib7': [('is', '{7d}')], 'uattrib4': [('is', '{4b}')]}, 'er': {'rattrib8': [('is', '{8z}')], 'rattrib3': [('is', '{3z}')], 'rattrib9': [('is', '{9y}')], 'rattrib2': [('is', '{2w}')]}}], 'operations': ['access'], 'decision': 'allow'}\n",
            "{'expressions': [{'eu': {'uattrib9': [('is', '{9a}')], 'uattrib1': [('is', '{1c}')]}, 'er': {'rattrib7': [('is', '{7z}')], 'rattrib2': [('is', '{2w}')], 'rattrib6': [('is', '{6y}')], 'rattrib5': [('is', '{5z}')], 'rattrib1': [('is', '{1y}')]}}], 'operations': ['access'], 'decision': 'allow'}\n",
            "{'expressions': [{'eu': {'uattrib2': [('is', '{2d}')], 'uattrib0': [('is', '{0c}')], 'uattrib4': [('is', '{4a}')], 'uattrib3': [('is', '{3b}')], 'uattrib8': [('is', '{8b}')], 'uattrib9': [('is', '{9d}')], 'uattrib6': [('is', '{6c}')], 'uattrib1': [('is', '{1d}')], 'uattrib7': [('is', '{7c}')]}, 'er': {'rattrib6': [('is', '{6w}')], 'rattrib8': [('is', '{8y}')], 'rattrib5': [('is', '{5z}')]}}], 'operations': ['access'], 'decision': 'allow'}\n",
            "{'expressions': [{'eu': {'uattrib3': [('is', '{3c}')], 'uattrib5': [('is', '{5a}')], 'uattrib6': [('is', '{6c}')], 'uattrib9': [('is', '{9a}')], 'uattrib2': [('is', '{2b}')]}, 'er': {'rattrib8': [('is', '{8y}')], 'rattrib3': [('is', '{3w}')], 'rattrib7': [('is', '{7x}')], 'rattrib0': [('is', '{0y}')], 'rattrib6': [('is', '{6x}')], 'rattrib4': [('is', '{4x}')], 'rattrib2': [('is', '{2y}')], 'rattrib1': [('is', '{1x}')]}}], 'operations': ['access'], 'decision': 'allow'}\n",
            "{'expressions': [{'eu': {'uattrib9': [('is', '{9a}')], 'uattrib4': [('is', '{4c}')], 'uattrib3': [('is', '{3a}')], 'uattrib2': [('is', '{2a}')]}, 'er': {'rattrib1': [('is', '{1w}')], 'rattrib2': [('is', '{2y}')], 'rattrib9': [('is', '{9w}')], 'rattrib7': [('is', '{7z}')], 'rattrib3': [('is', '{3x}')], 'rattrib5': [('is', '{5y}')]}}], 'operations': ['access'], 'decision': 'allow'}\n",
            "{'expressions': [{'eu': {'uattrib8': [('is', '{8a}')], 'uattrib2': [('is', '{2c}')], 'uattrib5': [('is', '{5b}')], 'uattrib1': [('is', '{1b}')], 'uattrib3': [('is', '{3d}')]}, 'er': {'rattrib1': [('is', '{1y}')], 'rattrib0': [('is', '{0x}')], 'rattrib2': [('is', '{2y}')], 'rattrib3': [('is', '{3x}')], 'rattrib4': [('is', '{4z}')], 'rattrib5': [('is', '{5x}')], 'rattrib9': [('is', '{9w}')]}}], 'operations': ['access'], 'decision': 'allow'}\n",
            "{'expressions': [{'eu': {'uattrib0': [('is', '{0b}')], 'uattrib4': [('is', '{4c}')], 'uattrib2': [('is', '{2a}')]}, 'er': {'rattrib4': [('is', '{4z}')], 'rattrib3': [('is', '{3w}')], 'rattrib0': [('is', '{0y}')], 'rattrib6': [('is', '{6w}')], 'rattrib2': [('is', '{2x}')]}}], 'operations': ['access'], 'decision': 'allow'}\n",
            "{'expressions': [{'eu': {'uattrib6': [('is', '{6c}')], 'uattrib2': [('is', '{2d}')], 'uattrib9': [('is', '{9b}')], 'uattrib4': [('is', '{4a}')]}, 'er': {'rattrib7': [('is', '{7w}')], 'rattrib1': [('is', '{1x}')], 'rattrib2': [('is', '{2x}')], 'rattrib3': [('is', '{3z}')], 'rattrib6': [('is', '{6y}')], 'rattrib4': [('is', '{4x}')], 'rattrib0': [('is', '{0x}')], 'rattrib9': [('is', '{9z}')], 'rattrib5': [('is', '{5z}')]}}], 'operations': ['access'], 'decision': 'allow'}\n",
            "{'expressions': [{'eu': {'uattrib3': [('is', '{3b}')], 'uattrib5': [('is', '{5d}')], 'uattrib8': [('is', '{8c}')]}, 'er': {'rattrib7': [('is', '{7y}')], 'rattrib9': [('is', '{9z}')], 'rattrib3': [('is', '{3x}')], 'rattrib1': [('is', '{1y}')], 'rattrib6': [('is', '{6w}')]}}], 'operations': ['access'], 'decision': 'allow'}\n",
            "{'expressions': [{'eu': {'uattrib8': [('is', '{8a}')], 'uattrib3': [('is', '{3a}')], 'uattrib9': [('is', '{9a}')], 'uattrib6': [('is', '{6c}')], 'uattrib5': [('is', '{5a}')]}, 'er': {'rattrib2': [('is', '{2z}')], 'rattrib7': [('is', '{7z}')], 'rattrib4': [('is', '{4x}')], 'rattrib8': [('is', '{8z}')], 'rattrib9': [('is', '{9z}')], 'rattrib6': [('is', '{6x}')], 'rattrib5': [('is', '{5y}')], 'rattrib0': [('is', '{0w}')]}}], 'operations': ['access'], 'decision': 'allow'}\n",
            "{'expressions': [{'eu': {'uattrib6': [('is', '{6b}')], 'uattrib2': [('is', '{2b}')]}, 'er': {'rattrib4': [('is', '{4z}')], 'rattrib5': [('is', '{5y}')], 'rattrib6': [('is', '{6w}')], 'rattrib1': [('is', '{1y}')], 'rattrib8': [('is', '{8y}')], 'rattrib3': [('is', '{3y}')], 'rattrib0': [('is', '{0x}')], 'rattrib7': [('is', '{7z}')], 'rattrib2': [('is', '{2y}')]}}], 'operations': ['access'], 'decision': 'allow'}\n",
            "{'expressions': [{'eu': {'uattrib5': [('is', '{5d}')], 'uattrib1': [('is', '{1a}')], 'uattrib9': [('is', '{9b}')], 'uattrib0': [('is', '{0a}')], 'uattrib2': [('is', '{2a}')], 'uattrib6': [('is', '{6c}')], 'uattrib3': [('is', '{3b}')]}, 'er': {'rattrib2': [('is', '{2x}')], 'rattrib7': [('is', '{7z}')], 'rattrib1': [('is', '{1x}')], 'rattrib6': [('is', '{6w}')], 'rattrib0': [('is', '{0y}')], 'rattrib9': [('is', '{9y}')], 'rattrib8': [('is', '{8z}')], 'rattrib5': [('is', '{5y}')]}}], 'operations': ['access'], 'decision': 'allow'}\n",
            "{'expressions': [{'eu': {'uattrib7': [('is', '{7a}')], 'uattrib8': [('is', '{8c}')]}, 'er': {'rattrib9': [('is', '{9x}')], 'rattrib2': [('is', '{2y}')], 'rattrib7': [('is', '{7z}')], 'rattrib4': [('is', '{4y}')], 'rattrib6': [('is', '{6y}')], 'rattrib5': [('is', '{5y}')]}}], 'operations': ['access'], 'decision': 'allow'}\n",
            "{'expressions': [{'eu': {'uattrib9': [('is', '{9c}')], 'uattrib6': [('is', '{6a}')], 'uattrib0': [('is', '{0d}')], 'uattrib7': [('is', '{7a}')], 'uattrib2': [('is', '{2b}')], 'uattrib4': [('is', '{4b}')], 'uattrib1': [('is', '{1b}')], 'uattrib3': [('is', '{3b}')]}, 'er': {'rattrib6': [('is', '{6y}')], 'rattrib8': [('is', '{8z}')], 'rattrib9': [('is', '{9z}')]}}], 'operations': ['access'], 'decision': 'allow'}\n",
            "{'expressions': [{'eu': {'uattrib5': [('is', '{5b}')], 'uattrib8': [('is', '{8d}')], 'uattrib9': [('is', '{9b}')]}, 'er': {'rattrib6': [('is', '{6w}')], 'rattrib8': [('is', '{8x}')], 'rattrib7': [('is', '{7z}')], 'rattrib3': [('is', '{3w}')]}}], 'operations': ['access'], 'decision': 'allow'}\n",
            "{'expressions': [{'eu': {'uattrib1': [('is', '{1a}')], 'uattrib8': [('is', '{8a}')], 'uattrib6': [('is', '{6a}')], 'uattrib4': [('is', '{4d}')], 'uattrib2': [('is', '{2c}')], 'uattrib7': [('is', '{7d}')], 'uattrib3': [('is', '{3a}')], 'uattrib9': [('is', '{9d}')], 'uattrib5': [('is', '{5d}')]}, 'er': {'rattrib9': [('is', '{9z}')], 'rattrib5': [('is', '{5z}')]}}], 'operations': ['access'], 'decision': 'allow'}\n",
            "{'expressions': [{'eu': {'uattrib5': [('is', '{5b}')], 'uattrib1': [('is', '{1a}')], 'uattrib6': [('is', '{6b}')], 'uattrib8': [('is', '{8b}')], 'uattrib2': [('is', '{2c}')], 'uattrib4': [('is', '{4b}')]}, 'er': {'rattrib0': [('is', '{0w}')], 'rattrib3': [('is', '{3z}')], 'rattrib2': [('is', '{2w}')], 'rattrib1': [('is', '{1z}')], 'rattrib8': [('is', '{8x}')]}}], 'operations': ['access'], 'decision': 'allow'}\n"
          ],
          "name": "stdout"
        }
      ]
    },
    {
      "cell_type": "markdown",
      "metadata": {
        "id": "YHB7wl1OlR9Y"
      },
      "source": [
        "## Extract users"
      ]
    },
    {
      "cell_type": "code",
      "metadata": {
        "id": "vRbrhkg038NU",
        "colab": {
          "base_uri": "https://localhost:8080/"
        },
        "outputId": "8934ea73-77a8-4660-bc1b-23132f0b7997"
      },
      "source": [
        "#file = open(r'migration/Data2 200 50 10 10 10/UAR.txt' , 'r')\n",
        "#file = open(r'migration/[50 50 10 10 40 1 4]10  (16)/UAR.txt' , 'r')\n",
        "#file = open(r'migration/[50 50 10 10 40 1 4] middle 20 (25)/UAR.txt' , 'r')\n",
        "#file = open(r'migration/[50 50 10 10 40 1 4] last 20 (6)/UAR.txt' , 'r')\n",
        "file = open(r'migration/[50 50 10 10 40 1 4] 50(34)/UAR.txt' , 'r')\n",
        "\n",
        "\n",
        "\n",
        "line = file.readline()\n",
        "U=[] \n",
        "UA=[] \n",
        "i=1 \n",
        "while line: \n",
        "  u={}\n",
        "  #print(line[:10])\n",
        "  #print(line, end = '')　\n",
        "  cons = line.strip().split(',')\n",
        "  for con in cons:\n",
        "    c = con.split('=')\n",
        "    if(len(c)==2):\n",
        "      u[c[0]]=c[1]\n",
        "      if(c[0] not in UA):\n",
        "        UA.append(c[0])\n",
        "  u['uid']='user'+str(i)\n",
        "  i=i+1\n",
        "\n",
        "  \n",
        "  U.append(u)\n",
        "\n",
        "  #break\n",
        "  line = file.readline() \n",
        "\n",
        "print(f'Number of users:{len(U)}')\n",
        "for i in U:\n",
        "  print(i)\n",
        " \n",
        "print(UA)\n",
        "file.close() "
      ],
      "execution_count": 128,
      "outputs": [
        {
          "output_type": "stream",
          "text": [
            "Number of users:50\n",
            "{'uattrib2': '{2a}', 'uattrib3': '{3a}', 'uattrib4': '{4c}', 'uattrib7': '{7d}', 'uattrib8': '{8a}', 'uattrib9': '{9b}', 'uid': 'user1'}\n",
            "{'uattrib0': '{0a}', 'uattrib1': '{1d}', 'uattrib2': '{2b}', 'uattrib3': '{3a}', 'uattrib6': '{6a}', 'uattrib8': '{8c}', 'uattrib9': '{9c}', 'uid': 'user2'}\n",
            "{'uattrib1': '{1c}', 'uattrib2': '{2b}', 'uattrib4': '{4d}', 'uattrib5': '{5d}', 'uattrib6': '{6a}', 'uattrib7': '{7b}', 'uattrib8': '{8a}', 'uattrib9': '{9b}', 'uid': 'user3'}\n",
            "{'uattrib1': '{1c}', 'uattrib5': '{5b}', 'uattrib6': '{6d}', 'uattrib7': '{7d}', 'uattrib9': '{9a}', 'uid': 'user4'}\n",
            "{'uattrib0': '{0a}', 'uattrib1': '{1d}', 'uattrib2': '{2d}', 'uattrib3': '{3c}', 'uattrib4': '{4c}', 'uattrib5': '{5b}', 'uattrib6': '{6d}', 'uattrib7': '{7b}', 'uattrib8': '{8c}', 'uattrib9': '{9d}', 'uid': 'user5'}\n",
            "{'uattrib1': '{1a}', 'uattrib3': '{3a}', 'uattrib6': '{6a}', 'uattrib7': '{7c}', 'uattrib8': '{8b}', 'uid': 'user6'}\n",
            "{'uattrib0': '{0a}', 'uattrib1': '{1a}', 'uattrib3': '{3b}', 'uattrib4': '{4a}', 'uattrib5': '{5b}', 'uattrib6': '{6a}', 'uattrib7': '{7d}', 'uattrib8': '{8a}', 'uattrib9': '{9d}', 'uid': 'user7'}\n",
            "{'uattrib0': '{0c}', 'uattrib1': '{1c}', 'uattrib2': '{2c}', 'uattrib3': '{3d}', 'uattrib4': '{4a}', 'uattrib5': '{5c}', 'uattrib6': '{6d}', 'uattrib7': '{7b}', 'uattrib8': '{8d}', 'uattrib9': '{9c}', 'uid': 'user8'}\n",
            "{'uattrib0': '{0d}', 'uattrib1': '{1b}', 'uattrib2': '{2b}', 'uattrib3': '{3d}', 'uattrib5': '{5a}', 'uattrib6': '{6c}', 'uattrib7': '{7c}', 'uattrib8': '{8c}', 'uid': 'user9'}\n",
            "{'uattrib0': '{0b}', 'uattrib1': '{1b}', 'uattrib2': '{2d}', 'uattrib3': '{3a}', 'uattrib4': '{4b}', 'uattrib5': '{5c}', 'uattrib6': '{6a}', 'uattrib7': '{7c}', 'uattrib8': '{8d}', 'uattrib9': '{9d}', 'uid': 'user10'}\n",
            "{'uattrib0': '{0d}', 'uattrib1': '{1a}', 'uattrib2': '{2b}', 'uattrib3': '{3b}', 'uattrib4': '{4b}', 'uattrib5': '{5a}', 'uattrib6': '{6b}', 'uattrib7': '{7d}', 'uattrib8': '{8b}', 'uid': 'user11'}\n",
            "{'uattrib0': '{0c}', 'uattrib1': '{1c}', 'uattrib2': '{2d}', 'uattrib3': '{3b}', 'uattrib4': '{4d}', 'uattrib5': '{5b}', 'uattrib6': '{6b}', 'uattrib7': '{7a}', 'uattrib8': '{8d}', 'uattrib9': '{9d}', 'uid': 'user12'}\n",
            "{'uattrib1': '{1d}', 'uattrib2': '{2d}', 'uattrib4': '{4c}', 'uattrib5': '{5d}', 'uattrib9': '{9d}', 'uid': 'user13'}\n",
            "{'uattrib1': '{1d}', 'uattrib2': '{2d}', 'uattrib3': '{3d}', 'uattrib5': '{5d}', 'uattrib6': '{6b}', 'uattrib7': '{7c}', 'uattrib8': '{8d}', 'uattrib9': '{9c}', 'uid': 'user14'}\n",
            "{'uattrib0': '{0c}', 'uattrib1': '{1d}', 'uattrib2': '{2b}', 'uattrib3': '{3a}', 'uattrib4': '{4a}', 'uattrib5': '{5a}', 'uattrib6': '{6c}', 'uattrib7': '{7a}', 'uattrib8': '{8b}', 'uattrib9': '{9a}', 'uid': 'user15'}\n",
            "{'uattrib0': '{0b}', 'uattrib1': '{1a}', 'uattrib2': '{2a}', 'uattrib3': '{3d}', 'uattrib4': '{4d}', 'uattrib5': '{5b}', 'uattrib6': '{6b}', 'uattrib7': '{7b}', 'uattrib8': '{8d}', 'uattrib9': '{9d}', 'uid': 'user16'}\n",
            "{'uattrib2': '{2b}', 'uattrib4': '{4b}', 'uattrib5': '{5a}', 'uattrib9': '{9d}', 'uid': 'user17'}\n",
            "{'uattrib0': '{0d}', 'uattrib1': '{1d}', 'uattrib2': '{2c}', 'uattrib3': '{3c}', 'uattrib4': '{4a}', 'uattrib5': '{5b}', 'uattrib6': '{6d}', 'uattrib7': '{7c}', 'uattrib8': '{8d}', 'uattrib9': '{9a}', 'uid': 'user18'}\n",
            "{'uattrib0': '{0b}', 'uattrib1': '{1b}', 'uattrib5': '{5b}', 'uattrib6': '{6d}', 'uattrib7': '{7c}', 'uattrib8': '{8b}', 'uattrib9': '{9c}', 'uid': 'user19'}\n",
            "{'uattrib0': '{0c}', 'uattrib2': '{2b}', 'uattrib4': '{4d}', 'uattrib5': '{5a}', 'uattrib7': '{7c}', 'uattrib8': '{8c}', 'uattrib9': '{9d}', 'uid': 'user20'}\n",
            "{'uattrib0': '{0a}', 'uattrib1': '{1a}', 'uattrib2': '{2a}', 'uattrib3': '{3c}', 'uattrib4': '{4c}', 'uattrib5': '{5d}', 'uattrib6': '{6b}', 'uattrib7': '{7c}', 'uattrib8': '{8b}', 'uattrib9': '{9a}', 'uid': 'user21'}\n",
            "{'uattrib1': '{1d}', 'uattrib2': '{2a}', 'uattrib4': '{4b}', 'uattrib7': '{7d}', 'uattrib8': '{8b}', 'uattrib9': '{9a}', 'uid': 'user22'}\n",
            "{'uattrib0': '{0d}', 'uattrib1': '{1b}', 'uattrib2': '{2b}', 'uattrib3': '{3d}', 'uattrib4': '{4b}', 'uattrib5': '{5a}', 'uattrib6': '{6b}', 'uattrib7': '{7c}', 'uattrib9': '{9b}', 'uid': 'user23'}\n",
            "{'uattrib0': '{0c}', 'uattrib1': '{1c}', 'uattrib4': '{4b}', 'uattrib5': '{5b}', 'uattrib6': '{6c}', 'uattrib7': '{7d}', 'uattrib8': '{8c}', 'uid': 'user24'}\n",
            "{'uattrib0': '{0a}', 'uattrib1': '{1c}', 'uattrib7': '{7d}', 'uattrib9': '{9a}', 'uid': 'user25'}\n",
            "{'uattrib0': '{0c}', 'uattrib1': '{1d}', 'uattrib2': '{2d}', 'uattrib3': '{3b}', 'uattrib4': '{4a}', 'uattrib5': '{5d}', 'uattrib6': '{6c}', 'uattrib7': '{7c}', 'uattrib8': '{8b}', 'uattrib9': '{9d}', 'uid': 'user26'}\n",
            "{'uattrib1': '{1d}', 'uattrib2': '{2b}', 'uattrib3': '{3c}', 'uattrib4': '{4d}', 'uattrib5': '{5a}', 'uattrib6': '{6c}', 'uattrib7': '{7d}', 'uattrib9': '{9a}', 'uid': 'user27'}\n",
            "{'uattrib0': '{0d}', 'uattrib2': '{2a}', 'uattrib3': '{3a}', 'uattrib4': '{4c}', 'uattrib5': '{5b}', 'uattrib7': '{7d}', 'uattrib9': '{9a}', 'uid': 'user28'}\n",
            "{'uattrib0': '{0b}', 'uattrib1': '{1b}', 'uattrib2': '{2c}', 'uattrib3': '{3d}', 'uattrib4': '{4a}', 'uattrib5': '{5b}', 'uattrib7': '{7d}', 'uattrib8': '{8a}', 'uid': 'user29'}\n",
            "{'uattrib0': '{0b}', 'uattrib1': '{1d}', 'uattrib2': '{2a}', 'uattrib4': '{4c}', 'uattrib9': '{9d}', 'uid': 'user30'}\n",
            "{'uattrib1': '{1b}', 'uattrib2': '{2d}', 'uattrib4': '{4a}', 'uattrib6': '{6c}', 'uattrib7': '{7c}', 'uattrib9': '{9b}', 'uid': 'user31'}\n",
            "{'uattrib1': '{1b}', 'uattrib3': '{3b}', 'uattrib5': '{5d}', 'uattrib7': '{7a}', 'uattrib8': '{8c}', 'uid': 'user32'}\n",
            "{'uattrib0': '{0a}', 'uattrib1': '{1a}', 'uattrib2': '{2a}', 'uattrib4': '{4d}', 'uattrib5': '{5d}', 'uattrib6': '{6a}', 'uattrib7': '{7b}', 'uattrib8': '{8c}', 'uattrib9': '{9d}', 'uid': 'user33'}\n",
            "{'uattrib2': '{2d}', 'uattrib3': '{3a}', 'uattrib4': '{4a}', 'uattrib6': '{6b}', 'uattrib7': '{7c}', 'uattrib8': '{8d}', 'uattrib9': '{9d}', 'uid': 'user34'}\n",
            "{'uattrib2': '{2a}', 'uid': 'user35'}\n",
            "{'uattrib0': '{0b}', 'uattrib1': '{1a}', 'uattrib2': '{2c}', 'uattrib7': '{7a}', 'uid': 'user36'}\n",
            "{'uattrib0': '{0c}', 'uattrib1': '{1b}', 'uattrib2': '{2a}', 'uattrib4': '{4b}', 'uattrib5': '{5c}', 'uattrib6': '{6d}', 'uattrib7': '{7b}', 'uattrib8': '{8a}', 'uattrib9': '{9c}', 'uid': 'user37'}\n",
            "{'uattrib2': '{2b}', 'uattrib5': '{5b}', 'uattrib6': '{6a}', 'uid': 'user38'}\n",
            "{'uattrib4': '{4b}', 'uattrib7': '{7c}', 'uattrib8': '{8a}', 'uid': 'user39'}\n",
            "{'uattrib0': '{0c}', 'uattrib1': '{1d}', 'uattrib2': '{2d}', 'uattrib3': '{3b}', 'uattrib4': '{4c}', 'uattrib5': '{5a}', 'uattrib6': '{6c}', 'uattrib8': '{8b}', 'uattrib9': '{9a}', 'uid': 'user40'}\n",
            "{'uattrib2': '{2b}', 'uattrib3': '{3a}', 'uattrib4': '{4b}', 'uattrib6': '{6c}', 'uattrib9': '{9c}', 'uid': 'user41'}\n",
            "{'uattrib0': '{0b}', 'uattrib1': '{1b}', 'uattrib5': '{5a}', 'uattrib6': '{6d}', 'uattrib8': '{8d}', 'uid': 'user42'}\n",
            "{'uattrib0': '{0b}', 'uattrib2': '{2a}', 'uattrib3': '{3c}', 'uattrib4': '{4b}', 'uattrib6': '{6d}', 'uattrib7': '{7a}', 'uattrib8': '{8a}', 'uattrib9': '{9b}', 'uid': 'user43'}\n",
            "{'uattrib0': '{0d}', 'uattrib1': '{1d}', 'uattrib2': '{2a}', 'uattrib3': '{3a}', 'uattrib4': '{4b}', 'uattrib9': '{9b}', 'uid': 'user44'}\n",
            "{'uattrib0': '{0c}', 'uattrib1': '{1c}', 'uattrib2': '{2c}', 'uattrib3': '{3b}', 'uattrib5': '{5c}', 'uattrib6': '{6c}', 'uattrib7': '{7c}', 'uattrib8': '{8c}', 'uattrib9': '{9d}', 'uid': 'user45'}\n",
            "{'uattrib0': '{0d}', 'uattrib1': '{1b}', 'uattrib3': '{3b}', 'uattrib4': '{4b}', 'uattrib6': '{6b}', 'uattrib7': '{7c}', 'uattrib8': '{8b}', 'uattrib9': '{9d}', 'uid': 'user46'}\n",
            "{'uattrib1': '{1d}', 'uattrib4': '{4c}', 'uattrib8': '{8c}', 'uid': 'user47'}\n",
            "{'uattrib0': '{0a}', 'uattrib4': '{4b}', 'uattrib6': '{6b}', 'uattrib7': '{7b}', 'uid': 'user48'}\n",
            "{'uattrib1': '{1b}', 'uattrib8': '{8c}', 'uid': 'user49'}\n",
            "{'uattrib0': '{0c}', 'uattrib1': '{1a}', 'uattrib2': '{2b}', 'uattrib5': '{5a}', 'uattrib6': '{6d}', 'uattrib9': '{9c}', 'uid': 'user50'}\n",
            "['uattrib2', 'uattrib3', 'uattrib4', 'uattrib7', 'uattrib8', 'uattrib9', 'uattrib0', 'uattrib1', 'uattrib6', 'uattrib5']\n"
          ],
          "name": "stdout"
        }
      ]
    },
    {
      "cell_type": "markdown",
      "metadata": {
        "id": "2wWHWge3lpla"
      },
      "source": [
        "## Extract resources"
      ]
    },
    {
      "cell_type": "code",
      "metadata": {
        "id": "yHGpy_8n6btJ",
        "colab": {
          "base_uri": "https://localhost:8080/"
        },
        "outputId": "328ed693-4983-4dca-d486-647aeccad2e0"
      },
      "source": [
        "#file = open(r'migration/Data2 200 50 10 10 10/OAR.txt' , 'r')\n",
        "#file = open(r'migration/[50 50 10 10 40 1 4]10  (16)/OAR.txt' , 'r')\n",
        "#file = open(r'migration/[50 50 10 10 40 1 4] middle 20 (25)/OAR.txt' , 'r')\n",
        "#file = open(r'migration/[50 50 10 10 40 1 4] last 20 (6)/OAR.txt' , 'r')\n",
        "file = open(r'migration/[50 50 10 10 40 1 4] 50(34)/OAR.txt' , 'r')\n",
        "\n",
        "\n",
        "\n",
        "line = file.readline()\n",
        "R=[] \n",
        "RA=[]\n",
        "i=1     \n",
        "while line: \n",
        "  r={}\n",
        "  #print(line[:10])\n",
        "  #print(line, end = '')　\n",
        "  cons = line.strip().split(',')\n",
        "  for con in cons:\n",
        "    c = con.split('=')\n",
        "    if(len(c)==2):\n",
        "      r[c[0]]=c[1]\n",
        "      if(c[0] not in RA):\n",
        "        RA.append(c[0])\n",
        "\n",
        "  r['rid']='resource'+str(i)\n",
        "  i=i+1\n",
        "  R.append(r)\n",
        "\n",
        "  #break\n",
        "  line = file.readline() \n",
        "print(f'Number of resources:{len(R)}')\n",
        "for i in R:\n",
        "  print(i)\n",
        " \n",
        "print(RA)\n",
        "file.close() "
      ],
      "execution_count": 129,
      "outputs": [
        {
          "output_type": "stream",
          "text": [
            "Number of resources:50\n",
            "{'rattrib0': '{0x}', 'rattrib2': '{2x}', 'rattrib3': '{3w}', 'rattrib4': '{4w}', 'rattrib6': '{6x}', 'rattrib7': '{7w}', 'rattrib8': '{8w}', 'rattrib9': '{9x}', 'rid': 'resource1'}\n",
            "{'rattrib0': '{0z}', 'rattrib3': '{3w}', 'rattrib5': '{5y}', 'rattrib7': '{7w}', 'rattrib8': '{8w}', 'rattrib9': '{9w}', 'rid': 'resource2'}\n",
            "{'rattrib1': '{1z}', 'rattrib4': '{4w}', 'rattrib5': '{5y}', 'rattrib6': '{6y}', 'rattrib7': '{7w}', 'rid': 'resource3'}\n",
            "{'rattrib0': '{0y}', 'rattrib1': '{1z}', 'rattrib3': '{3y}', 'rattrib4': '{4y}', 'rattrib5': '{5x}', 'rattrib6': '{6y}', 'rattrib7': '{7x}', 'rattrib8': '{8y}', 'rattrib9': '{9y}', 'rid': 'resource4'}\n",
            "{'rattrib0': '{0y}', 'rattrib2': '{2z}', 'rattrib3': '{3w}', 'rattrib4': '{4x}', 'rattrib5': '{5y}', 'rattrib6': '{6w}', 'rattrib7': '{7z}', 'rattrib8': '{8y}', 'rattrib9': '{9w}', 'rid': 'resource5'}\n",
            "{'rattrib0': '{0y}', 'rattrib1': '{1z}', 'rattrib2': '{2w}', 'rattrib3': '{3x}', 'rattrib4': '{4w}', 'rattrib5': '{5w}', 'rattrib7': '{7z}', 'rattrib8': '{8z}', 'rattrib9': '{9w}', 'rid': 'resource6'}\n",
            "{'rattrib0': '{0z}', 'rattrib1': '{1w}', 'rattrib2': '{2y}', 'rattrib3': '{3w}', 'rattrib4': '{4x}', 'rattrib5': '{5x}', 'rattrib7': '{7y}', 'rattrib8': '{8y}', 'rattrib9': '{9z}', 'rid': 'resource7'}\n",
            "{'rattrib0': '{0w}', 'rattrib1': '{1y}', 'rattrib6': '{6w}', 'rattrib7': '{7x}', 'rattrib8': '{8w}', 'rid': 'resource8'}\n",
            "{'rattrib0': '{0w}', 'rattrib1': '{1z}', 'rattrib2': '{2w}', 'rattrib3': '{3x}', 'rattrib5': '{5z}', 'rattrib8': '{8x}', 'rattrib9': '{9x}', 'rid': 'resource9'}\n",
            "{'rattrib2': '{2y}', 'rattrib3': '{3w}', 'rattrib4': '{4w}', 'rattrib7': '{7x}', 'rattrib9': '{9x}', 'rid': 'resource10'}\n",
            "{'rattrib0': '{0x}', 'rattrib2': '{2w}', 'rattrib4': '{4w}', 'rattrib5': '{5y}', 'rattrib6': '{6x}', 'rattrib7': '{7x}', 'rid': 'resource11'}\n",
            "{'rattrib0': '{0z}', 'rattrib2': '{2y}', 'rattrib3': '{3y}', 'rattrib4': '{4w}', 'rattrib5': '{5w}', 'rattrib6': '{6y}', 'rattrib7': '{7z}', 'rattrib8': '{8x}', 'rattrib9': '{9w}', 'rid': 'resource12'}\n",
            "{'rattrib0': '{0z}', 'rattrib1': '{1y}', 'rattrib2': '{2z}', 'rattrib4': '{4w}', 'rattrib5': '{5x}', 'rattrib6': '{6w}', 'rattrib7': '{7z}', 'rattrib9': '{9z}', 'rid': 'resource13'}\n",
            "{'rattrib0': '{0w}', 'rattrib1': '{1y}', 'rattrib2': '{2z}', 'rattrib4': '{4x}', 'rattrib5': '{5y}', 'rattrib6': '{6w}', 'rattrib7': '{7z}', 'rattrib8': '{8z}', 'rattrib9': '{9z}', 'rid': 'resource14'}\n",
            "{'rattrib0': '{0z}', 'rattrib1': '{1w}', 'rattrib2': '{2x}', 'rattrib3': '{3z}', 'rattrib4': '{4x}', 'rattrib5': '{5x}', 'rattrib6': '{6y}', 'rattrib8': '{8z}', 'rattrib9': '{9z}', 'rid': 'resource15'}\n",
            "{'rattrib0': '{0w}', 'rattrib1': '{1y}', 'rattrib2': '{2w}', 'rattrib3': '{3z}', 'rattrib4': '{4z}', 'rattrib5': '{5y}', 'rattrib6': '{6y}', 'rattrib7': '{7x}', 'rattrib8': '{8x}', 'rattrib9': '{9x}', 'rid': 'resource16'}\n",
            "{'rattrib0': '{0y}', 'rattrib1': '{1z}', 'rattrib2': '{2w}', 'rattrib3': '{3w}', 'rattrib4': '{4x}', 'rattrib5': '{5y}', 'rattrib6': '{6w}', 'rattrib7': '{7w}', 'rattrib8': '{8z}', 'rid': 'resource17'}\n",
            "{'rattrib0': '{0z}', 'rattrib1': '{1z}', 'rattrib2': '{2y}', 'rattrib3': '{3z}', 'rattrib4': '{4z}', 'rattrib5': '{5w}', 'rattrib6': '{6y}', 'rattrib7': '{7x}', 'rattrib8': '{8w}', 'rattrib9': '{9x}', 'rid': 'resource18'}\n",
            "{'rattrib0': '{0x}', 'rattrib2': '{2z}', 'rattrib3': '{3y}', 'rattrib4': '{4w}', 'rattrib5': '{5x}', 'rattrib6': '{6w}', 'rattrib8': '{8z}', 'rattrib9': '{9x}', 'rid': 'resource19'}\n",
            "{'rattrib0': '{0w}', 'rattrib1': '{1w}', 'rattrib3': '{3z}', 'rattrib5': '{5w}', 'rattrib7': '{7w}', 'rid': 'resource20'}\n",
            "{'rattrib2': '{2z}', 'rattrib3': '{3y}', 'rattrib4': '{4w}', 'rattrib5': '{5x}', 'rattrib6': '{6z}', 'rattrib7': '{7x}', 'rattrib8': '{8x}', 'rattrib9': '{9w}', 'rid': 'resource21'}\n",
            "{'rattrib0': '{0x}', 'rattrib2': '{2y}', 'rattrib4': '{4y}', 'rattrib5': '{5y}', 'rattrib9': '{9y}', 'rid': 'resource22'}\n",
            "{'rattrib0': '{0y}', 'rattrib1': '{1x}', 'rattrib2': '{2y}', 'rattrib3': '{3y}', 'rattrib4': '{4y}', 'rattrib5': '{5y}', 'rattrib6': '{6x}', 'rattrib7': '{7z}', 'rattrib8': '{8y}', 'rattrib9': '{9w}', 'rid': 'resource23'}\n",
            "{'rattrib2': '{2w}', 'rattrib3': '{3z}', 'rattrib4': '{4w}', 'rattrib5': '{5w}', 'rattrib6': '{6z}', 'rattrib8': '{8z}', 'rattrib9': '{9y}', 'rid': 'resource24'}\n",
            "{'rattrib1': '{1y}', 'rattrib2': '{2w}', 'rattrib3': '{3w}', 'rattrib4': '{4x}', 'rattrib5': '{5z}', 'rattrib6': '{6y}', 'rattrib7': '{7z}', 'rid': 'resource25'}\n",
            "{'rattrib1': '{1w}', 'rattrib4': '{4w}', 'rattrib5': '{5z}', 'rattrib6': '{6w}', 'rattrib8': '{8y}', 'rid': 'resource26'}\n",
            "{'rattrib0': '{0y}', 'rattrib1': '{1x}', 'rattrib2': '{2y}', 'rattrib3': '{3w}', 'rattrib4': '{4x}', 'rattrib5': '{5y}', 'rattrib6': '{6x}', 'rattrib7': '{7x}', 'rattrib8': '{8y}', 'rattrib9': '{9y}', 'rid': 'resource27'}\n",
            "{'rattrib1': '{1w}', 'rattrib2': '{2y}', 'rattrib3': '{3x}', 'rattrib5': '{5y}', 'rattrib6': '{6z}', 'rattrib7': '{7z}', 'rattrib8': '{8z}', 'rattrib9': '{9w}', 'rid': 'resource28'}\n",
            "{'rattrib0': '{0x}', 'rattrib1': '{1y}', 'rattrib2': '{2y}', 'rattrib3': '{3x}', 'rattrib4': '{4z}', 'rattrib5': '{5x}', 'rattrib7': '{7w}', 'rattrib8': '{8y}', 'rattrib9': '{9w}', 'rid': 'resource29'}\n",
            "{'rattrib0': '{0y}', 'rattrib2': '{2x}', 'rattrib3': '{3w}', 'rattrib4': '{4z}', 'rattrib5': '{5y}', 'rattrib6': '{6w}', 'rattrib8': '{8x}', 'rattrib9': '{9x}', 'rid': 'resource30'}\n",
            "{'rattrib0': '{0x}', 'rattrib1': '{1x}', 'rattrib2': '{2x}', 'rattrib3': '{3z}', 'rattrib4': '{4x}', 'rattrib5': '{5z}', 'rattrib6': '{6y}', 'rattrib7': '{7w}', 'rattrib8': '{8z}', 'rattrib9': '{9z}', 'rid': 'resource31'}\n",
            "{'rattrib0': '{0y}', 'rattrib1': '{1y}', 'rattrib3': '{3x}', 'rattrib5': '{5w}', 'rattrib6': '{6w}', 'rattrib7': '{7y}', 'rattrib8': '{8x}', 'rattrib9': '{9z}', 'rid': 'resource32'}\n",
            "{'rattrib2': '{2w}', 'rattrib4': '{4x}', 'rattrib6': '{6y}', 'rid': 'resource33'}\n",
            "{'rattrib1': '{1z}', 'rattrib4': '{4z}', 'rid': 'resource34'}\n",
            "{'rattrib2': '{2x}', 'rattrib4': '{4x}', 'rattrib5': '{5z}', 'rattrib7': '{7w}', 'rattrib9': '{9z}', 'rid': 'resource35'}\n",
            "{'rattrib0': '{0y}', 'rattrib1': '{1x}', 'rattrib2': '{2x}', 'rattrib3': '{3z}', 'rattrib5': '{5w}', 'rattrib6': '{6y}', 'rattrib7': '{7w}', 'rattrib9': '{9y}', 'rid': 'resource36'}\n",
            "{'rattrib5': '{5z}', 'rid': 'resource37'}\n",
            "{'rattrib0': '{0x}', 'rattrib1': '{1w}', 'rattrib2': '{2z}', 'rattrib3': '{3z}', 'rattrib4': '{4y}', 'rattrib5': '{5z}', 'rattrib6': '{6y}', 'rattrib7': '{7w}', 'rid': 'resource38'}\n",
            "{'rid': 'resource39'}\n",
            "{'rattrib0': '{0z}', 'rattrib1': '{1y}', 'rattrib2': '{2z}', 'rattrib5': '{5z}', 'rattrib7': '{7x}', 'rattrib9': '{9z}', 'rid': 'resource40'}\n",
            "{'rattrib0': '{0x}', 'rattrib3': '{3w}', 'rattrib5': '{5z}', 'rid': 'resource41'}\n",
            "{'rattrib0': '{0w}', 'rattrib5': '{5w}', 'rattrib7': '{7w}', 'rattrib9': '{9y}', 'rid': 'resource42'}\n",
            "{'rattrib6': '{6z}', 'rid': 'resource43'}\n",
            "{'rattrib0': '{0x}', 'rattrib3': '{3z}', 'rattrib5': '{5y}', 'rattrib6': '{6w}', 'rattrib7': '{7x}', 'rattrib8': '{8w}', 'rid': 'resource44'}\n",
            "{'rattrib2': '{2z}', 'rattrib4': '{4y}', 'rid': 'resource45'}\n",
            "{'rattrib1': '{1x}', 'rattrib7': '{7z}', 'rattrib8': '{8z}', 'rid': 'resource46'}\n",
            "{'rattrib0': '{0w}', 'rattrib2': '{2y}', 'rattrib3': '{3x}', 'rattrib4': '{4y}', 'rattrib5': '{5x}', 'rattrib6': '{6y}', 'rattrib7': '{7z}', 'rattrib8': '{8z}', 'rattrib9': '{9w}', 'rid': 'resource47'}\n",
            "{'rattrib3': '{3y}', 'rattrib5': '{5w}', 'rattrib9': '{9x}', 'rid': 'resource48'}\n",
            "{'rattrib2': '{2y}', 'rid': 'resource49'}\n",
            "{'rid': 'resource50'}\n",
            "['rattrib0', 'rattrib2', 'rattrib3', 'rattrib4', 'rattrib6', 'rattrib7', 'rattrib8', 'rattrib9', 'rattrib5', 'rattrib1']\n"
          ],
          "name": "stdout"
        }
      ]
    },
    {
      "cell_type": "markdown",
      "metadata": {
        "id": "1U4GkYRjlyB5"
      },
      "source": [
        "## Define the ABAC policy"
      ]
    },
    {
      "cell_type": "code",
      "metadata": {
        "id": "Olpe62TV7J6W"
      },
      "source": [
        "O=['access']\n",
        "def dU(user,attribute):\n",
        "  if attribute in user.keys():\n",
        "    return user[attribute]\n",
        "\n",
        "def dR(resource,attribute):\n",
        "  if attribute in resource.keys():\n",
        "    return resource[attribute]\n",
        "ABAC_policy=(U,R,O,UA,RA,dU,dR,RU)"
      ],
      "execution_count": 130,
      "outputs": []
    },
    {
      "cell_type": "markdown",
      "metadata": {
        "id": "wf6qKcAzmU-k"
      },
      "source": [
        "## Define the policy checker for ABAC rules"
      ]
    },
    {
      "cell_type": "code",
      "metadata": {
        "id": "gInyfake61-l",
        "colab": {
          "base_uri": "https://localhost:8080/"
        },
        "outputId": "5a86d6f7-eede-417a-d559-8dc4c180094b"
      },
      "source": [
        "def satisfied(u,r,expressions):\n",
        "  for expression in expressions:\n",
        "    eu=expression['eu']\n",
        "    er=expression['er']\n",
        "    #for all the keys in eu get the constrina of this key\n",
        "    #if u does not satisfy this const return false\\\n",
        "    if ( len(eu.keys()) != 0 and u != None):\n",
        "      for key in eu.keys():\n",
        "        if(dU(u,key)==None):\n",
        "          return False\n",
        "        for (op,c) in eu[key]:\n",
        "        #op,c=eu[key]\n",
        "        #print(op,c)\n",
        "          if op == 'is' and dU(u,key) != c :\n",
        "            return False\n",
        "\n",
        "    #for all the keys in er get the constrinat of the key\n",
        "    if ( len(er.keys()) != 0 and r != None):\n",
        "      for key in er.keys():\n",
        "        if (dR(r,key)==None):\n",
        "          return False\n",
        "        for (op,c) in er[key]:\n",
        "        #print(op,c)\n",
        "        #op,c=er[key]\n",
        "\n",
        "          if op == 'is' and dR(r,key)!=c:\n",
        "\n",
        "            return False\n",
        "  \n",
        "  return True\n",
        "\n",
        "\n",
        "def check_ABAC_policy(request,abac_policy):\n",
        "  u,r,o =request\n",
        "  _,_,_,_,_,_,_,rules = abac_policy\n",
        "  for rule in rules:\n",
        "    if o in rule['operations']:\n",
        "      if satisfied(u,r,rule['expressions'])==True:\n",
        "        return True\n",
        "  return False\n",
        "\n",
        "# check the ABAC policy \n",
        "number_allow=0\n",
        "number_deny=0\n",
        "for u in U:\n",
        "  for r in R:\n",
        "    for o in O:\n",
        "      if(check_ABAC_policy((u,r,o),ABAC_policy)==True):\n",
        "        #print(u,'\\n',r)\n",
        "        number_allow= number_allow+1\n",
        "      else:\n",
        "        number_deny =number_deny +1 \n",
        "        #print(f'{u}\\n{r}\\n{o}\\n \\n')\n",
        "\n",
        "print(f'For ABAC policy:\\nNumber of allowed requests:{number_allow}\\nNumber of denied requests:{number_deny}')\n",
        "\n",
        "#print(f'{check_ABAC_policy((U[6],R[7],\"readMyScores\"),ABAC_university)}\\n{U[6]}\\n{R[7]}')\n",
        "#print(f'{check_ABAC_policy((U[3],R[5],\"addScore\"),ABAC_university)}\\n{U[3]}\\n{R[5]}')\n",
        "#print(f'Loss at epo {epoch}: {losses/len(training_data)}')\n",
        "\n"
      ],
      "execution_count": 131,
      "outputs": [
        {
          "output_type": "stream",
          "text": [
            "For ABAC policy:\n",
            "Number of allowed requests:60\n",
            "Number of denied requests:2440\n"
          ],
          "name": "stdout"
        }
      ]
    },
    {
      "cell_type": "markdown",
      "metadata": {
        "id": "1VZPddLxmxkN"
      },
      "source": [
        "## Extrate user constraints and permissions"
      ]
    },
    {
      "cell_type": "code",
      "metadata": {
        "id": "wBJRukVSPtoX",
        "colab": {
          "base_uri": "https://localhost:8080/"
        },
        "outputId": "30f8ca48-bb29-447a-a960-f89d66cdc543"
      },
      "source": [
        "def get_item_id(item,list):\n",
        "  id = 0\n",
        "  while(id<len(list)):\n",
        "    if item == list[id]:\n",
        "      return id\n",
        "    id = id + 1\n",
        "  return None\n",
        "\n",
        "from numpy import *\n",
        "# Calculate the number of user constraints\n",
        "# Calculate the number of conditional permissions(resource constraint,operation)\n",
        "UC=[]\n",
        "Permission=[]\n",
        "Permission_set=[]\n",
        "EU=[]\n",
        "i=0\n",
        "for rule in RU:\n",
        "  user_cons=rule['expressions'][0]['eu']\n",
        "  resource_cons=rule['expressions'][0]['er']\n",
        "  operations=rule['operations']\n",
        "  for uc_key in user_cons.keys():\n",
        "    uc = {uc_key:user_cons[uc_key]}\n",
        "    if uc not in UC:\n",
        "      UC.append(uc)\n",
        "  if (resource_cons,operations) not in Permission:\n",
        "    Permission.append((resource_cons,operations))\n",
        "########\n",
        "  if user_cons not in EU:\n",
        "    EU.append(user_cons)\n",
        "    Permission_set.append([(resource_cons,operations)]) \n",
        "  elif user_cons in EU:\n",
        "    if (resource_cons,operations) not in Permission_set[get_item_id(user_cons,EU)]:\n",
        "      Permission_set[get_item_id(user_cons,EU)].append((resource_cons,operations)) \n",
        "      print(f'{get_item_id(user_cons,EU)}   {i}')\n",
        "\n",
        "  i = i+1\n",
        "print(f'permission_set:{len(Permission_set)}')\n",
        "#print(len(EU))\n",
        "\n",
        "########\n",
        "n_uc=len(UC)\n",
        "n_p=len(Permission_set)\n",
        "###n_p=len(Permission)\n",
        "print(f'Number of user constraints:{n_uc}\\nNumber of Permission:{n_p}')\n",
        "print(UC)\n",
        "\n",
        "###########\n",
        "unique_pset=[]\n",
        "for i in Permission_set:\n",
        "  if i not in unique_pset:\n",
        "    unique_pset.append(i)\n",
        "n_r=len(unique_pset)\n",
        "#print(len(unique_pset))\n",
        "print(f'Number of unique permission set:{n_r}')\n",
        "############"
      ],
      "execution_count": 132,
      "outputs": [
        {
          "output_type": "stream",
          "text": [
            "permission_set:40\n",
            "Number of user constraints:39\n",
            "Number of Permission:40\n",
            "[{'uattrib3': [('is', '{3a}')]}, {'uattrib9': [('is', '{9b}')]}, {'uattrib4': [('is', '{4c}')]}, {'uattrib6': [('is', '{6a}')]}, {'uattrib1': [('is', '{1d}')]}, {'uattrib9': [('is', '{9c}')]}, {'uattrib8': [('is', '{8a}')]}, {'uattrib7': [('is', '{7b}')]}, {'uattrib4': [('is', '{4d}')]}, {'uattrib1': [('is', '{1c}')]}, {'uattrib5': [('is', '{5d}')]}, {'uattrib5': [('is', '{5b}')]}, {'uattrib6': [('is', '{6d}')]}, {'uattrib3': [('is', '{3c}')]}, {'uattrib2': [('is', '{2d}')]}, {'uattrib0': [('is', '{0a}')]}, {'uattrib8': [('is', '{8c}')]}, {'uattrib7': [('is', '{7c}')]}, {'uattrib8': [('is', '{8b}')]}, {'uattrib9': [('is', '{9d}')]}, {'uattrib4': [('is', '{4a}')]}, {'uattrib0': [('is', '{0c}')]}, {'uattrib8': [('is', '{8d}')]}, {'uattrib2': [('is', '{2c}')]}, {'uattrib3': [('is', '{3d}')]}, {'uattrib2': [('is', '{2b}')]}, {'uattrib6': [('is', '{6c}')]}, {'uattrib1': [('is', '{1b}')]}, {'uattrib0': [('is', '{0d}')]}, {'uattrib5': [('is', '{5a}')]}, {'uattrib0': [('is', '{0b}')]}, {'uattrib4': [('is', '{4b}')]}, {'uattrib7': [('is', '{7d}')]}, {'uattrib1': [('is', '{1a}')]}, {'uattrib3': [('is', '{3b}')]}, {'uattrib7': [('is', '{7a}')]}, {'uattrib6': [('is', '{6b}')]}, {'uattrib9': [('is', '{9a}')]}, {'uattrib2': [('is', '{2a}')]}]\n",
            "Number of unique permission set:40\n"
          ],
          "name": "stdout"
        }
      ]
    },
    {
      "cell_type": "code",
      "metadata": {
        "id": "V0PJTGQB9os8"
      },
      "source": [
        "def cover(ma,mb):# ma cover mb\n",
        "  if ma.shape[1] != mb.shape[1]:\n",
        "    return False\n",
        "  for i in range(ma.shape[1]):\n",
        "    if mb[0,i]==1 and ma[0,i]==0:\n",
        "      return False\n",
        "\n",
        "\n",
        "  return True"
      ],
      "execution_count": 133,
      "outputs": []
    },
    {
      "cell_type": "markdown",
      "metadata": {
        "id": "-dkBMAv6m8C6"
      },
      "source": [
        "## Extract permission-constraint and role-permission matrix"
      ]
    },
    {
      "cell_type": "code",
      "metadata": {
        "id": "yA8jZUdQ9sKi",
        "colab": {
          "base_uri": "https://localhost:8080/"
        },
        "outputId": "6c44c0f7-43a5-413c-8642-5e5d8fa8cb5a"
      },
      "source": [
        "# permission-constraint matrix\n",
        "pc=mat(zeros((n_p,n_uc)))\n",
        "for rule in RU:\n",
        "  user_cons=rule['expressions'][0]['eu']\n",
        "  resource_cons=rule['expressions'][0]['er']\n",
        "  operations=rule['operations']\n",
        "  ####p_id=get_item_id((resource_cons,operations),Permission)\n",
        "  p_id=get_item_id(user_cons,EU)\n",
        "  for uc_key in user_cons.keys():\n",
        "    uc = {uc_key:user_cons[uc_key]}\n",
        "    c_id=get_item_id(uc,UC)\n",
        "   #### if(c_id==None):\n",
        "   ####   continue\n",
        "    pc[p_id,c_id]=1\n",
        "print(f'The pc matrix is\\n {pc}')\n",
        "####rp=mat(diag(array(ones(n_p))))\n",
        "rp=mat(zeros((n_r,n_p)))\n",
        "\n",
        "\n",
        "for i in range(n_r):\n",
        "  for j in range(n_p):\n",
        "    if unique_pset[i] == Permission_set[j]:\n",
        "      rp[i,j]=1\n",
        "\n",
        "\n",
        "for i in range(n_p):\n",
        "  for j in range(n_p):\n",
        "    if i!=j :\n",
        "      if cover(pc[i,],pc[j,]):\n",
        "        role1 = get_item_id(Permission_set[i],unique_pset)\n",
        "        role2 = get_item_id(Permission_set[j],unique_pset)\n",
        "        rp[role1,role2]=1\n",
        "      if (cover(pc[j,],pc[i,])):\n",
        "        role1 = get_item_id(Permission_set[j],unique_pset)\n",
        "        role2 = get_item_id(Permission_set[i],unique_pset)\n",
        "        rp[role1,role2]=1\n",
        "    \n",
        "\n",
        "print(f'The rp matrix is\\n {rp}')"
      ],
      "execution_count": 134,
      "outputs": [
        {
          "output_type": "stream",
          "text": [
            "The pc matrix is\n",
            " [[1. 1. 1. ... 0. 0. 0.]\n",
            " [1. 0. 0. ... 0. 0. 0.]\n",
            " [0. 1. 0. ... 0. 0. 0.]\n",
            " ...\n",
            " [0. 1. 0. ... 0. 0. 0.]\n",
            " [1. 0. 0. ... 0. 0. 0.]\n",
            " [0. 0. 0. ... 1. 0. 0.]]\n",
            "The rp matrix is\n",
            " [[1. 0. 0. ... 0. 0. 0.]\n",
            " [0. 1. 0. ... 0. 0. 0.]\n",
            " [0. 0. 1. ... 0. 0. 0.]\n",
            " ...\n",
            " [0. 0. 0. ... 1. 0. 0.]\n",
            " [0. 0. 0. ... 0. 1. 0.]\n",
            " [0. 0. 0. ... 0. 0. 1.]]\n"
          ],
          "name": "stdout"
        }
      ]
    },
    {
      "cell_type": "markdown",
      "metadata": {
        "id": "ea6UC2L5nXic"
      },
      "source": [
        "## Calculate the user-role assignment and the role-permission assignment"
      ]
    },
    {
      "cell_type": "code",
      "metadata": {
        "id": "71MHQzP6_CxL",
        "colab": {
          "base_uri": "https://localhost:8080/"
        },
        "outputId": "baeeb4f8-2b55-4b8b-d843-ecc073eade3d"
      },
      "source": [
        "def rest_of(l,r):\n",
        "  vector = mat(zeros((1,n_uc)))\n",
        "  for role in l:\n",
        "    if role != r:\n",
        "      vector = vector + rc[role,]\n",
        "  for i in range(n_uc):\n",
        "    if vector[0,i]>0:\n",
        "      vector[0,i]=1\n",
        "  return vector\n",
        "\n",
        "Role_assigned =[]\n",
        "\n",
        "\n",
        "import copy\n",
        "# User role assignment \n",
        "#n_r=n_p\n",
        "rc=pc\n",
        "URA = dict()\n",
        "number_ura=0\n",
        "print('The user-role assignment:')\n",
        "for u in U:\n",
        "  URA[u['uid']]=[]\n",
        "  uv=mat(ones((1,n_uc)))\n",
        "  for cid in range(n_uc):\n",
        "    expressions=[{'eu':UC[cid],'er':{}}]\n",
        "    if satisfied(u,None,expressions)==False:\n",
        "      uv[0,cid]=0\n",
        "  for rid in range(n_p):\n",
        "    if cover(uv,rc[rid,]):\n",
        "      role_id=get_item_id(Permission_set[rid],unique_pset)\n",
        "      URA[u['uid']].append(role_id)\n",
        "      if (role_id not in Role_assigned):\n",
        "        Role_assigned.append(role_id)\n",
        "\n",
        "\n",
        "# remove hierarchy\n",
        "  for ri in URA[u['uid']]:\n",
        "    rest = URA[u['uid']].copy()\n",
        "    rest.remove(ri)\n",
        "\n",
        "    for rj in rest:\n",
        "      if cover(rc[rj,],rc[ri,]) and ri in URA[u['uid']]:\n",
        "        URA[u['uid']].remove(ri)\n",
        "#remove redundant\n",
        "  for r in URA[u['uid']]:\n",
        "    if len(URA[u['uid']])==1:\n",
        "      break\n",
        "    if cover(rest_of(URA[u['uid']],r),rc[r,]):\n",
        "      URA[u['uid']].remove(r)\n",
        "\n",
        "  ura =  URA[u['uid']]\n",
        "  number_ura=number_ura+len(ura)\n",
        "  print(f'User {get_item_id(u,U)+1}, role: {ura}')\n",
        "  #print(f'User {u}, role: {ura}')\n",
        " # print(f'The role-permission assignment:  {RPA}')\n",
        "\n",
        "# generate the role-heirarchy\n",
        "RH = []\n",
        "for i in range(0,n_p-1):\n",
        "  for j in range(i+1,n_p):\n",
        "    if (cover(pc[i,],pc[j,])):\n",
        "      role1 = get_item_id(Permission_set[i],unique_pset)\n",
        "      role2 = get_item_id(Permission_set[j],unique_pset)\n",
        "      RH.append((role1,role2))\n",
        "    if (cover(pc[j,],pc[i,])):\n",
        "      role1 = get_item_id(Permission_set[i],unique_pset)\n",
        "      role2 = get_item_id(Permission_set[j],unique_pset)\n",
        "      RH.append((role1,role2))\n",
        "print(f'\\n\\nThe role-hierarchy relationship:  {RH}')\n",
        "\n",
        "# generate the role-permission assignment\n",
        "RPA = dict()\n",
        "\n",
        "for ro in range(n_r):\n",
        "  RPA['role'+str(ro)]=[]\n",
        "\n",
        "################3\n",
        "for pid in range(n_p):\n",
        "  for o in O:\n",
        "    for r in R:\n",
        "      for role_id in range(n_r):\n",
        "        if rp[role_id,pid]==1:\n",
        "           #(er,operations) = Permission[pid]\n",
        "           for (er,operations) in Permission_set[pid]:\n",
        "             expressions=[{'eu':{},'er':er}]\n",
        "             if satisfied(None,r,expressions) and o in operations:\n",
        "               if ((r,o) not in RPA['role'+str(role_id)]):\n",
        "                 RPA['role'+str(role_id)].append((r,o))\n",
        "\n",
        "##################\n",
        " # for r in R:\n",
        "  #  for o in O:\n",
        "   #   for pid in range(n_p):\n",
        "  #      if rp[ro,pid]==1:\n",
        "          ########\n",
        "  #        for (er,operations) in Permission_set[pid]:\n",
        "          #print(er,r)\n",
        "  #          expressions=[{'eu':{},'er':er}]\n",
        "            #print(satisfied(None,r,expressions))\n",
        "   #         if satisfied(None,r,expressions) and o in operations:\n",
        "   #           if((r,o) not in RPA['role'+str(ro)]):\n",
        "   #             RPA['role'+str(ro)].append((r,o))\n",
        "\n",
        "print('\\n\\nThe role-permission assignment:')\n",
        "number_rpa=0\n",
        "for ro in range(n_r):\n",
        "  p=RPA['role'+str(ro)]\n",
        "  \n",
        "  number_rpa=number_rpa+len(p)\n",
        "  print(f'Role：{ro}, Number of permissions:{len(p)},  Permissions: {p}')\n",
        "\n",
        "\n",
        "\n",
        "print(f'The number of user-role assignment:  {number_ura}')\n",
        "\n",
        "print(f'The number of role-permission assignment:  {number_rpa}')\n",
        "print(f'The number of roles assigned:  {len(Role_assigned)}: {Role_assigned}')"
      ],
      "execution_count": 135,
      "outputs": [
        {
          "output_type": "stream",
          "text": [
            "The user-role assignment:\n",
            "User 1, role: [0]\n",
            "User 2, role: [1]\n",
            "User 3, role: [2]\n",
            "User 4, role: [3, 24]\n",
            "User 5, role: [4]\n",
            "User 6, role: [5]\n",
            "User 7, role: [6]\n",
            "User 8, role: [7]\n",
            "User 9, role: [8]\n",
            "User 10, role: [9]\n",
            "User 11, role: [10, 33]\n",
            "User 12, role: [11]\n",
            "User 13, role: [12]\n",
            "User 14, role: [12, 13]\n",
            "User 15, role: [14]\n",
            "User 16, role: [15]\n",
            "User 17, role: [16]\n",
            "User 18, role: [17]\n",
            "User 19, role: [3, 5, 18]\n",
            "User 20, role: [19]\n",
            "User 21, role: [20]\n",
            "User 22, role: [21]\n",
            "User 23, role: [22, 33]\n",
            "User 24, role: [23]\n",
            "User 25, role: [24]\n",
            "User 26, role: [25]\n",
            "User 27, role: [26]\n",
            "User 28, role: [27]\n",
            "User 29, role: [28]\n",
            "User 30, role: [29]\n",
            "User 31, role: [30]\n",
            "User 32, role: [31, 35]\n",
            "User 33, role: []\n",
            "User 34, role: []\n",
            "User 35, role: []\n",
            "User 36, role: []\n",
            "User 37, role: []\n",
            "User 38, role: []\n",
            "User 39, role: []\n",
            "User 40, role: [12]\n",
            "User 41, role: []\n",
            "User 42, role: []\n",
            "User 43, role: []\n",
            "User 44, role: []\n",
            "User 45, role: []\n",
            "User 46, role: [5]\n",
            "User 47, role: []\n",
            "User 48, role: []\n",
            "User 49, role: []\n",
            "User 50, role: [16]\n",
            "\n",
            "\n",
            "The role-hierarchy relationship:  [(3, 4), (3, 17), (4, 12), (5, 20), (5, 25), (8, 16), (10, 16), (12, 25), (14, 16), (16, 19), (16, 22), (16, 26)]\n",
            "\n",
            "\n",
            "The role-permission assignment:\n",
            "Role：0, Number of permissions:1,  Permissions: [({'rattrib0': '{0x}', 'rattrib2': '{2x}', 'rattrib3': '{3w}', 'rattrib4': '{4w}', 'rattrib6': '{6x}', 'rattrib7': '{7w}', 'rattrib8': '{8w}', 'rattrib9': '{9x}', 'rid': 'resource1'}, 'access')]\n",
            "Role：1, Number of permissions:1,  Permissions: [({'rattrib0': '{0z}', 'rattrib3': '{3w}', 'rattrib5': '{5y}', 'rattrib7': '{7w}', 'rattrib8': '{8w}', 'rattrib9': '{9w}', 'rid': 'resource2'}, 'access')]\n",
            "Role：2, Number of permissions:2,  Permissions: [({'rattrib1': '{1z}', 'rattrib4': '{4w}', 'rattrib5': '{5y}', 'rattrib6': '{6y}', 'rattrib7': '{7w}', 'rid': 'resource3'}, 'access'), ({'rattrib0': '{0y}', 'rattrib1': '{1z}', 'rattrib2': '{2w}', 'rattrib3': '{3w}', 'rattrib4': '{4x}', 'rattrib5': '{5y}', 'rattrib6': '{6w}', 'rattrib7': '{7w}', 'rattrib8': '{8z}', 'rid': 'resource17'}, 'access')]\n",
            "Role：3, Number of permissions:1,  Permissions: [({'rattrib0': '{0y}', 'rattrib1': '{1z}', 'rattrib3': '{3y}', 'rattrib4': '{4y}', 'rattrib5': '{5x}', 'rattrib6': '{6y}', 'rattrib7': '{7x}', 'rattrib8': '{8y}', 'rattrib9': '{9y}', 'rid': 'resource4'}, 'access')]\n",
            "Role：4, Number of permissions:3,  Permissions: [({'rattrib0': '{0y}', 'rattrib1': '{1z}', 'rattrib3': '{3y}', 'rattrib4': '{4y}', 'rattrib5': '{5x}', 'rattrib6': '{6y}', 'rattrib7': '{7x}', 'rattrib8': '{8y}', 'rattrib9': '{9y}', 'rid': 'resource4'}, 'access'), ({'rattrib0': '{0y}', 'rattrib2': '{2z}', 'rattrib3': '{3w}', 'rattrib4': '{4x}', 'rattrib5': '{5y}', 'rattrib6': '{6w}', 'rattrib7': '{7z}', 'rattrib8': '{8y}', 'rattrib9': '{9w}', 'rid': 'resource5'}, 'access'), ({'rattrib0': '{0z}', 'rattrib1': '{1y}', 'rattrib2': '{2z}', 'rattrib4': '{4w}', 'rattrib5': '{5x}', 'rattrib6': '{6w}', 'rattrib7': '{7z}', 'rattrib9': '{9z}', 'rid': 'resource13'}, 'access')]\n",
            "Role：5, Number of permissions:1,  Permissions: [({'rattrib0': '{0y}', 'rattrib1': '{1z}', 'rattrib2': '{2w}', 'rattrib3': '{3x}', 'rattrib4': '{4w}', 'rattrib5': '{5w}', 'rattrib7': '{7z}', 'rattrib8': '{8z}', 'rattrib9': '{9w}', 'rid': 'resource6'}, 'access')]\n",
            "Role：6, Number of permissions:1,  Permissions: [({'rattrib0': '{0z}', 'rattrib1': '{1w}', 'rattrib2': '{2y}', 'rattrib3': '{3w}', 'rattrib4': '{4x}', 'rattrib5': '{5x}', 'rattrib7': '{7y}', 'rattrib8': '{8y}', 'rattrib9': '{9z}', 'rid': 'resource7'}, 'access')]\n",
            "Role：7, Number of permissions:4,  Permissions: [({'rattrib0': '{0w}', 'rattrib1': '{1y}', 'rattrib6': '{6w}', 'rattrib7': '{7x}', 'rattrib8': '{8w}', 'rid': 'resource8'}, 'access'), ({'rattrib0': '{0z}', 'rattrib1': '{1y}', 'rattrib2': '{2z}', 'rattrib4': '{4w}', 'rattrib5': '{5x}', 'rattrib6': '{6w}', 'rattrib7': '{7z}', 'rattrib9': '{9z}', 'rid': 'resource13'}, 'access'), ({'rattrib0': '{0w}', 'rattrib1': '{1y}', 'rattrib2': '{2z}', 'rattrib4': '{4x}', 'rattrib5': '{5y}', 'rattrib6': '{6w}', 'rattrib7': '{7z}', 'rattrib8': '{8z}', 'rattrib9': '{9z}', 'rid': 'resource14'}, 'access'), ({'rattrib0': '{0y}', 'rattrib1': '{1y}', 'rattrib3': '{3x}', 'rattrib5': '{5w}', 'rattrib6': '{6w}', 'rattrib7': '{7y}', 'rattrib8': '{8x}', 'rattrib9': '{9z}', 'rid': 'resource32'}, 'access')]\n",
            "Role：8, Number of permissions:2,  Permissions: [({'rattrib0': '{0w}', 'rattrib1': '{1z}', 'rattrib2': '{2w}', 'rattrib3': '{3x}', 'rattrib5': '{5z}', 'rattrib8': '{8x}', 'rattrib9': '{9x}', 'rid': 'resource9'}, 'access'), ({'rattrib0': '{0y}', 'rattrib1': '{1z}', 'rattrib2': '{2w}', 'rattrib3': '{3w}', 'rattrib4': '{4x}', 'rattrib5': '{5y}', 'rattrib6': '{6w}', 'rattrib7': '{7w}', 'rattrib8': '{8z}', 'rid': 'resource17'}, 'access')]\n",
            "Role：9, Number of permissions:2,  Permissions: [({'rattrib2': '{2y}', 'rattrib3': '{3w}', 'rattrib4': '{4w}', 'rattrib7': '{7x}', 'rattrib9': '{9x}', 'rid': 'resource10'}, 'access'), ({'rattrib0': '{0y}', 'rattrib1': '{1x}', 'rattrib2': '{2y}', 'rattrib3': '{3w}', 'rattrib4': '{4x}', 'rattrib5': '{5y}', 'rattrib6': '{6x}', 'rattrib7': '{7x}', 'rattrib8': '{8y}', 'rattrib9': '{9y}', 'rid': 'resource27'}, 'access')]\n",
            "Role：10, Number of permissions:2,  Permissions: [({'rattrib0': '{0x}', 'rattrib2': '{2w}', 'rattrib4': '{4w}', 'rattrib5': '{5y}', 'rattrib6': '{6x}', 'rattrib7': '{7x}', 'rid': 'resource11'}, 'access'), ({'rattrib0': '{0y}', 'rattrib1': '{1z}', 'rattrib2': '{2w}', 'rattrib3': '{3w}', 'rattrib4': '{4x}', 'rattrib5': '{5y}', 'rattrib6': '{6w}', 'rattrib7': '{7w}', 'rattrib8': '{8z}', 'rid': 'resource17'}, 'access')]\n",
            "Role：11, Number of permissions:1,  Permissions: [({'rattrib0': '{0z}', 'rattrib2': '{2y}', 'rattrib3': '{3y}', 'rattrib4': '{4w}', 'rattrib5': '{5w}', 'rattrib6': '{6y}', 'rattrib7': '{7z}', 'rattrib8': '{8x}', 'rattrib9': '{9w}', 'rid': 'resource12'}, 'access')]\n",
            "Role：12, Number of permissions:1,  Permissions: [({'rattrib0': '{0z}', 'rattrib1': '{1y}', 'rattrib2': '{2z}', 'rattrib4': '{4w}', 'rattrib5': '{5x}', 'rattrib6': '{6w}', 'rattrib7': '{7z}', 'rattrib9': '{9z}', 'rid': 'resource13'}, 'access')]\n",
            "Role：13, Number of permissions:1,  Permissions: [({'rattrib0': '{0w}', 'rattrib1': '{1y}', 'rattrib2': '{2z}', 'rattrib4': '{4x}', 'rattrib5': '{5y}', 'rattrib6': '{6w}', 'rattrib7': '{7z}', 'rattrib8': '{8z}', 'rattrib9': '{9z}', 'rid': 'resource14'}, 'access')]\n",
            "Role：14, Number of permissions:2,  Permissions: [({'rattrib0': '{0z}', 'rattrib1': '{1w}', 'rattrib2': '{2x}', 'rattrib3': '{3z}', 'rattrib4': '{4x}', 'rattrib5': '{5x}', 'rattrib6': '{6y}', 'rattrib8': '{8z}', 'rattrib9': '{9z}', 'rid': 'resource15'}, 'access'), ({'rattrib0': '{0y}', 'rattrib1': '{1z}', 'rattrib2': '{2w}', 'rattrib3': '{3w}', 'rattrib4': '{4x}', 'rattrib5': '{5y}', 'rattrib6': '{6w}', 'rattrib7': '{7w}', 'rattrib8': '{8z}', 'rid': 'resource17'}, 'access')]\n",
            "Role：15, Number of permissions:1,  Permissions: [({'rattrib0': '{0w}', 'rattrib1': '{1y}', 'rattrib2': '{2w}', 'rattrib3': '{3z}', 'rattrib4': '{4z}', 'rattrib5': '{5y}', 'rattrib6': '{6y}', 'rattrib7': '{7x}', 'rattrib8': '{8x}', 'rattrib9': '{9x}', 'rid': 'resource16'}, 'access')]\n",
            "Role：16, Number of permissions:1,  Permissions: [({'rattrib0': '{0y}', 'rattrib1': '{1z}', 'rattrib2': '{2w}', 'rattrib3': '{3w}', 'rattrib4': '{4x}', 'rattrib5': '{5y}', 'rattrib6': '{6w}', 'rattrib7': '{7w}', 'rattrib8': '{8z}', 'rid': 'resource17'}, 'access')]\n",
            "Role：17, Number of permissions:2,  Permissions: [({'rattrib0': '{0y}', 'rattrib1': '{1z}', 'rattrib3': '{3y}', 'rattrib4': '{4y}', 'rattrib5': '{5x}', 'rattrib6': '{6y}', 'rattrib7': '{7x}', 'rattrib8': '{8y}', 'rattrib9': '{9y}', 'rid': 'resource4'}, 'access'), ({'rattrib0': '{0z}', 'rattrib1': '{1z}', 'rattrib2': '{2y}', 'rattrib3': '{3z}', 'rattrib4': '{4z}', 'rattrib5': '{5w}', 'rattrib6': '{6y}', 'rattrib7': '{7x}', 'rattrib8': '{8w}', 'rattrib9': '{9x}', 'rid': 'resource18'}, 'access')]\n",
            "Role：18, Number of permissions:1,  Permissions: [({'rattrib0': '{0x}', 'rattrib2': '{2z}', 'rattrib3': '{3y}', 'rattrib4': '{4w}', 'rattrib5': '{5x}', 'rattrib6': '{6w}', 'rattrib8': '{8z}', 'rattrib9': '{9x}', 'rid': 'resource19'}, 'access')]\n",
            "Role：19, Number of permissions:5,  Permissions: [({'rattrib0': '{0y}', 'rattrib1': '{1z}', 'rattrib2': '{2w}', 'rattrib3': '{3w}', 'rattrib4': '{4x}', 'rattrib5': '{5y}', 'rattrib6': '{6w}', 'rattrib7': '{7w}', 'rattrib8': '{8z}', 'rid': 'resource17'}, 'access'), ({'rattrib0': '{0w}', 'rattrib1': '{1w}', 'rattrib3': '{3z}', 'rattrib5': '{5w}', 'rattrib7': '{7w}', 'rid': 'resource20'}, 'access'), ({'rattrib0': '{0x}', 'rattrib1': '{1x}', 'rattrib2': '{2x}', 'rattrib3': '{3z}', 'rattrib4': '{4x}', 'rattrib5': '{5z}', 'rattrib6': '{6y}', 'rattrib7': '{7w}', 'rattrib8': '{8z}', 'rattrib9': '{9z}', 'rid': 'resource31'}, 'access'), ({'rattrib0': '{0y}', 'rattrib1': '{1x}', 'rattrib2': '{2x}', 'rattrib3': '{3z}', 'rattrib5': '{5w}', 'rattrib6': '{6y}', 'rattrib7': '{7w}', 'rattrib9': '{9y}', 'rid': 'resource36'}, 'access'), ({'rattrib0': '{0x}', 'rattrib1': '{1w}', 'rattrib2': '{2z}', 'rattrib3': '{3z}', 'rattrib4': '{4y}', 'rattrib5': '{5z}', 'rattrib6': '{6y}', 'rattrib7': '{7w}', 'rid': 'resource38'}, 'access')]\n",
            "Role：20, Number of permissions:2,  Permissions: [({'rattrib0': '{0y}', 'rattrib1': '{1z}', 'rattrib2': '{2w}', 'rattrib3': '{3x}', 'rattrib4': '{4w}', 'rattrib5': '{5w}', 'rattrib7': '{7z}', 'rattrib8': '{8z}', 'rattrib9': '{9w}', 'rid': 'resource6'}, 'access'), ({'rattrib2': '{2z}', 'rattrib3': '{3y}', 'rattrib4': '{4w}', 'rattrib5': '{5x}', 'rattrib6': '{6z}', 'rattrib7': '{7x}', 'rattrib8': '{8x}', 'rattrib9': '{9w}', 'rid': 'resource21'}, 'access')]\n",
            "Role：21, Number of permissions:2,  Permissions: [({'rattrib0': '{0x}', 'rattrib2': '{2y}', 'rattrib4': '{4y}', 'rattrib5': '{5y}', 'rattrib9': '{9y}', 'rid': 'resource22'}, 'access'), ({'rattrib0': '{0y}', 'rattrib1': '{1x}', 'rattrib2': '{2y}', 'rattrib3': '{3y}', 'rattrib4': '{4y}', 'rattrib5': '{5y}', 'rattrib6': '{6x}', 'rattrib7': '{7z}', 'rattrib8': '{8y}', 'rattrib9': '{9w}', 'rid': 'resource23'}, 'access')]\n",
            "Role：22, Number of permissions:2,  Permissions: [({'rattrib0': '{0y}', 'rattrib1': '{1z}', 'rattrib2': '{2w}', 'rattrib3': '{3w}', 'rattrib4': '{4x}', 'rattrib5': '{5y}', 'rattrib6': '{6w}', 'rattrib7': '{7w}', 'rattrib8': '{8z}', 'rid': 'resource17'}, 'access'), ({'rattrib0': '{0y}', 'rattrib1': '{1x}', 'rattrib2': '{2y}', 'rattrib3': '{3y}', 'rattrib4': '{4y}', 'rattrib5': '{5y}', 'rattrib6': '{6x}', 'rattrib7': '{7z}', 'rattrib8': '{8y}', 'rattrib9': '{9w}', 'rid': 'resource23'}, 'access')]\n",
            "Role：23, Number of permissions:1,  Permissions: [({'rattrib2': '{2w}', 'rattrib3': '{3z}', 'rattrib4': '{4w}', 'rattrib5': '{5w}', 'rattrib6': '{6z}', 'rattrib8': '{8z}', 'rattrib9': '{9y}', 'rid': 'resource24'}, 'access')]\n",
            "Role：24, Number of permissions:1,  Permissions: [({'rattrib1': '{1y}', 'rattrib2': '{2w}', 'rattrib3': '{3w}', 'rattrib4': '{4x}', 'rattrib5': '{5z}', 'rattrib6': '{6y}', 'rattrib7': '{7z}', 'rid': 'resource25'}, 'access')]\n",
            "Role：25, Number of permissions:3,  Permissions: [({'rattrib0': '{0y}', 'rattrib1': '{1z}', 'rattrib2': '{2w}', 'rattrib3': '{3x}', 'rattrib4': '{4w}', 'rattrib5': '{5w}', 'rattrib7': '{7z}', 'rattrib8': '{8z}', 'rattrib9': '{9w}', 'rid': 'resource6'}, 'access'), ({'rattrib0': '{0z}', 'rattrib1': '{1y}', 'rattrib2': '{2z}', 'rattrib4': '{4w}', 'rattrib5': '{5x}', 'rattrib6': '{6w}', 'rattrib7': '{7z}', 'rattrib9': '{9z}', 'rid': 'resource13'}, 'access'), ({'rattrib1': '{1w}', 'rattrib4': '{4w}', 'rattrib5': '{5z}', 'rattrib6': '{6w}', 'rattrib8': '{8y}', 'rid': 'resource26'}, 'access')]\n",
            "Role：26, Number of permissions:2,  Permissions: [({'rattrib0': '{0y}', 'rattrib1': '{1z}', 'rattrib2': '{2w}', 'rattrib3': '{3w}', 'rattrib4': '{4x}', 'rattrib5': '{5y}', 'rattrib6': '{6w}', 'rattrib7': '{7w}', 'rattrib8': '{8z}', 'rid': 'resource17'}, 'access'), ({'rattrib0': '{0y}', 'rattrib1': '{1x}', 'rattrib2': '{2y}', 'rattrib3': '{3w}', 'rattrib4': '{4x}', 'rattrib5': '{5y}', 'rattrib6': '{6x}', 'rattrib7': '{7x}', 'rattrib8': '{8y}', 'rattrib9': '{9y}', 'rid': 'resource27'}, 'access')]\n",
            "Role：27, Number of permissions:1,  Permissions: [({'rattrib1': '{1w}', 'rattrib2': '{2y}', 'rattrib3': '{3x}', 'rattrib5': '{5y}', 'rattrib6': '{6z}', 'rattrib7': '{7z}', 'rattrib8': '{8z}', 'rattrib9': '{9w}', 'rid': 'resource28'}, 'access')]\n",
            "Role：28, Number of permissions:1,  Permissions: [({'rattrib0': '{0x}', 'rattrib1': '{1y}', 'rattrib2': '{2y}', 'rattrib3': '{3x}', 'rattrib4': '{4z}', 'rattrib5': '{5x}', 'rattrib7': '{7w}', 'rattrib8': '{8y}', 'rattrib9': '{9w}', 'rid': 'resource29'}, 'access')]\n",
            "Role：29, Number of permissions:1,  Permissions: [({'rattrib0': '{0y}', 'rattrib2': '{2x}', 'rattrib3': '{3w}', 'rattrib4': '{4z}', 'rattrib5': '{5y}', 'rattrib6': '{6w}', 'rattrib8': '{8x}', 'rattrib9': '{9x}', 'rid': 'resource30'}, 'access')]\n",
            "Role：30, Number of permissions:1,  Permissions: [({'rattrib0': '{0x}', 'rattrib1': '{1x}', 'rattrib2': '{2x}', 'rattrib3': '{3z}', 'rattrib4': '{4x}', 'rattrib5': '{5z}', 'rattrib6': '{6y}', 'rattrib7': '{7w}', 'rattrib8': '{8z}', 'rattrib9': '{9z}', 'rid': 'resource31'}, 'access')]\n",
            "Role：31, Number of permissions:1,  Permissions: [({'rattrib0': '{0y}', 'rattrib1': '{1y}', 'rattrib3': '{3x}', 'rattrib5': '{5w}', 'rattrib6': '{6w}', 'rattrib7': '{7y}', 'rattrib8': '{8x}', 'rattrib9': '{9z}', 'rid': 'resource32'}, 'access')]\n",
            "Role：32, Number of permissions:0,  Permissions: []\n",
            "Role：33, Number of permissions:0,  Permissions: []\n",
            "Role：34, Number of permissions:0,  Permissions: []\n",
            "Role：35, Number of permissions:0,  Permissions: []\n",
            "Role：36, Number of permissions:2,  Permissions: [({'rattrib0': '{0z}', 'rattrib1': '{1w}', 'rattrib2': '{2x}', 'rattrib3': '{3z}', 'rattrib4': '{4x}', 'rattrib5': '{5x}', 'rattrib6': '{6y}', 'rattrib8': '{8z}', 'rattrib9': '{9z}', 'rid': 'resource15'}, 'access'), ({'rattrib0': '{0x}', 'rattrib1': '{1x}', 'rattrib2': '{2x}', 'rattrib3': '{3z}', 'rattrib4': '{4x}', 'rattrib5': '{5z}', 'rattrib6': '{6y}', 'rattrib7': '{7w}', 'rattrib8': '{8z}', 'rattrib9': '{9z}', 'rid': 'resource31'}, 'access')]\n",
            "Role：37, Number of permissions:0,  Permissions: []\n",
            "Role：38, Number of permissions:3,  Permissions: [({'rattrib0': '{0x}', 'rattrib1': '{1x}', 'rattrib2': '{2x}', 'rattrib3': '{3z}', 'rattrib4': '{4x}', 'rattrib5': '{5z}', 'rattrib6': '{6y}', 'rattrib7': '{7w}', 'rattrib8': '{8z}', 'rattrib9': '{9z}', 'rid': 'resource31'}, 'access'), ({'rattrib2': '{2x}', 'rattrib4': '{4x}', 'rattrib5': '{5z}', 'rattrib7': '{7w}', 'rattrib9': '{9z}', 'rid': 'resource35'}, 'access'), ({'rattrib0': '{0z}', 'rattrib1': '{1y}', 'rattrib2': '{2z}', 'rattrib5': '{5z}', 'rattrib7': '{7x}', 'rattrib9': '{9z}', 'rid': 'resource40'}, 'access')]\n",
            "Role：39, Number of permissions:0,  Permissions: []\n",
            "The number of user-role assignment:  42\n",
            "The number of role-permission assignment:  58\n",
            "The number of roles assigned:  34: [0, 1, 2, 3, 24, 4, 12, 5, 6, 7, 8, 16, 9, 10, 33, 11, 13, 14, 15, 17, 18, 19, 20, 21, 22, 23, 25, 26, 27, 28, 29, 30, 31, 35]\n"
          ],
          "name": "stdout"
        }
      ]
    },
    {
      "cell_type": "code",
      "metadata": {
        "id": "UVKpGB3cNBoC",
        "colab": {
          "base_uri": "https://localhost:8080/"
        },
        "outputId": "2ae8afd4-5949-4ad8-cb31-31ad30025dd7"
      },
      "source": [
        "# check RBAC policy\n",
        "#def check_RBAC_policy(request,rp,URA):\n",
        "#  u,r,o =request\n",
        "#  for role_id in URA[u['uid']]:\n",
        "#    for pid in range(n_p):\n",
        "#      if rp[role_id,pid]==1:\n",
        "#        (er,operations) = Permission[pid]\n",
        "#        expressions=[{'eu':{},'er':er}]\n",
        "#        if satisfied(u,r,expressions) and o in operations:\n",
        "#          return True\n",
        "######\n",
        "# check RBAC policy\n",
        "def check_RBAC_policy(request,RPA,URA):\n",
        "  u,r,o =request\n",
        "  for role_id in URA[u['uid']]:\n",
        "    if (r,o) in RPA['role'+str(role_id)]:\n",
        "      return True\n",
        "\n",
        "  return False\n",
        "# Check the RBAC\n",
        "# check the RBAC policy \n",
        "\n",
        "number_allow=0\n",
        "number_deny=0\n",
        "for u in U:\n",
        "  for r in R:\n",
        "    for o in O:\n",
        "      if (check_RBAC_policy((u,r,o),RPA,URA)==True):\n",
        "        number_allow= number_allow+1\n",
        "      else:\n",
        "        number_deny =number_deny +1 \n",
        "        #print(f'{u}\\n{r}\\n{o}\\n \\n')\n",
        "\n",
        "print(f'For RBAC:\\nNumber of allowed requests:{number_allow}\\nNumber of denied request:{number_deny}')"
      ],
      "execution_count": 125,
      "outputs": [
        {
          "output_type": "stream",
          "text": [
            "For RBAC:\n",
            "Number of allowed requests:5\n",
            "Number of denied request:995\n"
          ],
          "name": "stdout"
        }
      ]
    },
    {
      "cell_type": "code",
      "metadata": {
        "id": "tlQiFsdHNO7N",
        "colab": {
          "base_uri": "https://localhost:8080/"
        },
        "outputId": "b66e7c03-de67-4949-a9e8-cce5001c6884"
      },
      "source": [
        "\n",
        "# check the RBAC policy \n",
        "number_allow=0\n",
        "number_deny=0\n",
        "for u in U:\n",
        "  for r in R:\n",
        "    for o in O:\n",
        "      if(check_RBAC_policy((u,r,o),RPA,URA)==True):\n",
        "        number_allow= number_allow+1\n",
        "      else:\n",
        "        number_deny =number_deny +1 \n",
        "        #print(f'{u}\\n{r}\\n{o}\\n \\n')\n",
        "print(f'For RBAC:\\nNumber of allowed requests:{number_allow}\\nNumber of denied request:{number_deny}')\n",
        "\n",
        "# check the ABAC policy \n",
        "number_allow=0\n",
        "number_deny=0\n",
        "m= []\n",
        "for u in U:\n",
        "  l = []\n",
        "  for r in R:\n",
        "    for o in O:\n",
        "      if(check_ABAC_policy((u,r,o),ABAC_policy)==True):\n",
        "        l.append(1)\n",
        "        number_allow= number_allow+1\n",
        "      else:\n",
        "        number_deny =number_deny +1 \n",
        "        l.append(0)\n",
        "        #print(f'{u}\\n{r}\\n{o}\\n \\n')\n",
        "  m.append(l)\n",
        "\n",
        "print(f'For ABAC:\\nNumber of allowed requests:{number_allow}\\nNumber of denied request:{number_deny}')\n",
        "#for i in m:\n",
        "#  print(i)\n",
        "#number_allow=0\n",
        "#number_deny=0\n",
        "\n",
        "correct=0\n",
        "for u in U:\n",
        " \n",
        "  for r in R:\n",
        "    for o in O:\n",
        "      if (check_ABAC_policy((u,r,o),ABAC_policy)==True and check_RBAC_policy((u,r,o),RPA,URA)==False):\n",
        "        print(f'TF{u} {r} {o}')\n",
        "      elif (check_ABAC_policy((u,r,o),ABAC_policy)==False and check_RBAC_policy((u,r,o),RPA,URA)==True):\n",
        "        print(f'FT{u} {r} {o}')\n",
        "        #number_allow= number_allow+1\n",
        "      elif (check_ABAC_policy((u,r,o),ABAC_policy)==True and check_RBAC_policy((u,r,o),RPA,URA)==True):\n",
        "        correct = correct +1\n",
        "      elif (check_ABAC_policy((u,r,o),ABAC_policy)==False and check_RBAC_policy((u,r,o),RPA,URA)==False):\n",
        "        correct = correct +1\n",
        "        #number_deny =number_deny +1 \n",
        "        #print(f'{u}\\n{r}\\n{o}\\n \\n')\n",
        "\n",
        "print(f'For number of correct:{correct}')\n"
      ],
      "execution_count": 126,
      "outputs": [
        {
          "output_type": "stream",
          "text": [
            "For RBAC:\n",
            "Number of allowed requests:5\n",
            "Number of denied request:995\n",
            "For ABAC:\n",
            "Number of allowed requests:5\n",
            "Number of denied request:995\n",
            "For number of correct:1000\n"
          ],
          "name": "stdout"
        }
      ]
    }
  ]
}