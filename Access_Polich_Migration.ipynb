{
  "nbformat": 4,
  "nbformat_minor": 0,
  "metadata": {
    "colab": {
      "name": "Access Polich Migration.ipynb",
      "provenance": [],
      "collapsed_sections": [],
      "authorship_tag": "ABX9TyMLi/uLJwAFPxLFHs2/GB3o",
      "include_colab_link": true
    },
    "kernelspec": {
      "name": "python3",
      "display_name": "Python 3"
    }
  },
  "cells": [
    {
      "cell_type": "markdown",
      "metadata": {
        "id": "view-in-github",
        "colab_type": "text"
      },
      "source": [
        "<a href=\"https://colab.research.google.com/github/yifan-zhou19/Policy_migration/blob/master/Access_Polich_Migration.ipynb\" target=\"_parent\"><img src=\"https://colab.research.google.com/assets/colab-badge.svg\" alt=\"Open In Colab\"/></a>"
      ]
    },
    {
      "cell_type": "code",
      "metadata": {
        "id": "7KYGVIXGqwn8",
        "colab_type": "code",
        "colab": {}
      },
      "source": [
        "#define ABAC policy (university samples)\n",
        "U=[{'uid':'applicant1','position':'applicant'},\n",
        " {'uid':'csStu1','position':'student','udepartment':'cs','crsTaken':['cs101']},\n",
        " {'uid':'csStu2','position':'student','udepartment':'cs','crsTaken':['cs101','cs601']},\n",
        " {'uid':'csFac1','position':'faculty','udepartment':'cs','crsTaken':['cs101']},\n",
        " {'uid':'csFac2','position':'faculty','udepartment':'cs','crsTaken':['cs601']},\n",
        " {'uid':'csChair','isChair':True,'udepartment':'cs'},\n",
        " {'uid':'eeFac1','position':'faculty','udepartment':'ee','crsTaken':['ee101']},\n",
        " {'uid':'eeFac2','position':'faculty','udepartment':'ee','crsTaken':['ee601']},\n",
        " {'uid':'eeChair','isChair':True,'udepartment':'ee'},\n",
        " {'uid':'registrar1','position':'staff','udepartment':'registrar'},\n",
        " {'uid':'admissions1','position':'staff','udepartment':'admissions'},\n",
        "]\n",
        "R=[{'rid':'application1','type':'application','student':'applicant1'},\n",
        " {'rid':'csStu1application','type':'application','student':'csStu1'},\n",
        " {'rid':'csStu2application','type':'application','student':'csStu2'},\n",
        " {'rid':'eeStu1application','type':'application','student':'eeStu1'},\n",
        " {'rid':'eeStu2application','type':'application','student':'eeStu2'},\n",
        " {'rid':'cs101gradebook','type':'gradebook','rdepartment':'cs','crs':'cs101'},\n",
        " {'rid':'cs601gradebook','type':'gradebook','rdepartment':'cs','crs':'cs601'},\n",
        " {'rid':'ee101gradebook','type':'gradebook','rdepartment':'ee','crs':'ee101'},\n",
        " {'rid':'ee601gradebook','type':'gradebook','rdepartment':'ee','crs':'ee601'},\n",
        " {'rid':'cs101roster','type':'roster','rdepartment':'cs','crs':'cs101'},\n",
        " {'rid':'cs601roster','type':'roster','rdepartment':'cs','crs':'cs601'},\n",
        " {'rid':'ee101roster','type':'roster','rdepartment':'ee','crs':'ee101'},\n",
        " {'rid':'ee601roster','type':'roster','rdepartment':'ee','crs':'ee601'},\n",
        " {'rid':'csStu1trans','type':'transcript','rdepartment':'cs','student':'csStu1'},\n",
        " {'rid':'csStu2trans','type':'transcript','rdepartment':'cs','student':'csStu2'},\n",
        " {'rid':'eeStu1trans','type':'transcript','rdepartment':'ee','student':'eeStu1'},\n",
        " {'rid':'eeStu2trans','type':'transcript','rdepartment':'ee','student':'eeStu2'},\n",
        "\n",
        "]\n",
        "UA=['position','udepartment','crsTaken','crsTaught','isChair','uid']\n",
        "RA=['type','student','rdepartment', 'crs','rid']\n",
        "O=['readMyScores','addScore', 'readScore','changeScore', 'assignGrade','read','write','checkStatus','setStatus']\n",
        "RU=[{# a user can read his/her own scores in gradebooks for courses he/she has taken. \n",
        "  'expressions':[{'eu':{ },'er':{'type':('is','gradebook'),'crs':('in','crsTaken')}}],'operations':['readMyScores'],'decision':'allow'}, \n",
        "# a user (the instructor or TA) can add scores and read scores in the gradebook for courses he/she is teaching. \n",
        " {'expressions':[{'eu':{ },'er':{'type':('is','gradebook'),'crs':('in','crsTaught')}}],'operations':['addScore', 'readScore'],'decision':'allow'}, \n",
        " # the instructor for a course (i.e., a faculty teaching the course) can change scores and assign grades in the gradebook for that course. \n",
        "{'expressions':[{'eu':{'position':('is','faculty')},'er':{'type':('is','gradebook'),'crs':('in','crsTaught')}}],'operations':['changeScore','assignGrade'],'decision':'allow'}, \n",
        " # a user in the registrar's office can read and modify all rosters.\n",
        "{'expressions':[{'eu':{'department':('is','registrar')},'er':{'type':('is','roster')}}],'operations':['read','write'],'decision':'allow'}, \n",
        "# the instructor for a course (i.e., a faculty teaching the course) can read the course roster\n",
        "{'expressions':[{'eu':{'position':('is','faculty')},'er':{'type':('is','roster'),'crs':('in','crsTaught')}}],'operations':['read'],'decision':'allow'}, \n",
        "# a user can read his/her own transcript.\n",
        "{'expressions':[{'eu':{ },'er':{'type':('is','transcript'),'student':('=','uid')}}],'operations':['read'],'decision':'allow'}, \n",
        "# the chair of a department can read the transcripts of all students in that department.\n",
        "{'expressions':[{'eu':{'icChair':('is',True)},'er':{'type':('is','transcript'),'rdepartment':('is','udepartment')}}],'operations':['read'],'decision':'allow'}, \n",
        "# a user in the registrar's office can read every student's transcript.\n",
        "{'expressions':[{'eu':{'udepartment':('is','registrar')},'er':{'type':('is','transcript')}}],'operations':['read'],'decision':'allow'}, \n",
        "# a user can check the status of his/her own application \n",
        "{'expressions':[{'eu':{ },'er':{'type':('is','application'),'student':('=','uid')}}],'operations':['checkStatus'],'decision':'allow'}, \n",
        "# a user in the admissions office can read, and update the status of, every application. \n",
        "{'expressions':[{'eu':{'udepartment':('is','admission')},'er':{'type':('is','application')}}],'operations':['read','setStatus'],'decision':'allow'}\n",
        "]\n",
        "def dU(user,attribute):\n",
        "  if attribute in user.keys():\n",
        "    return user[attribute]\n",
        "\n",
        "def dR(resource,attribute):\n",
        "  if attribute in resource.keys():\n",
        "    return resource[attribute]\n",
        "\n",
        "ABAC_university=(U,R,O,UA,RA,dU,dR,RU)\n"
      ],
      "execution_count": null,
      "outputs": []
    },
    {
      "cell_type": "code",
      "metadata": {
        "id": "sOr4aaDEO0ll",
        "colab_type": "code",
        "colab": {
          "base_uri": "https://localhost:8080/",
          "height": 35
        },
        "outputId": "02fd5209-40a0-466f-ce94-cf2e6d6fb383"
      },
      "source": [
        "\n",
        "def satisfied(u,r,expressions):\n",
        "  for expression in expressions:\n",
        "    eu=expression['eu']\n",
        "    er=expression['er']\n",
        "    #for all the keys in eu get the constrina of this key\n",
        "    #if u does not satisfy this const return false\n",
        "    for key in eu.keys():\n",
        "      op,c=eu[key]\n",
        "      if op == 'is':\n",
        "        if dU(u,key) != c:\n",
        "          return False\n",
        "\n",
        "    #for all the keys in er get the constrinat of the key\n",
        "    for key in er.keys():\n",
        "      op,c=er[key]\n",
        "      if op =='is':\n",
        "        if dR(r,key)!=c:\n",
        "        #  print(dR(r,key),c)\n",
        "          return False\n",
        "      elif op == '=':\n",
        "        if dR(r,key)!=dU(u,c) and dR(r,key)!=dR(r,c):\n",
        "          return False\n",
        "      elif op == 'in':\n",
        "        if dR(r,key) not in dU(u,c) and dR(r,key) not in dR(r,c):\n",
        "          return False\n",
        "  \n",
        "  return True\n",
        "\n",
        "\n",
        "def check_ABAC_policy(request,abac_policy):\n",
        "  u,r,o =request\n",
        "  _,_,_,_,_,_,_,rules = abac_policy\n",
        "  for rule in rules:\n",
        "    if o in rule['operations']:\n",
        "      if satisfied(u,r,rule['expressions']):\n",
        "        return True\n",
        "  return False\n",
        "check_ABAC_policy((U[1],R[5],'readMyScores'),ABAC_university)"
      ],
      "execution_count": null,
      "outputs": [
        {
          "output_type": "execute_result",
          "data": {
            "text/plain": [
              "True"
            ]
          },
          "metadata": {
            "tags": []
          },
          "execution_count": 42
        }
      ]
    },
    {
      "cell_type": "code",
      "metadata": {
        "id": "Kt1oVLByX5b4",
        "colab_type": "code",
        "colab": {}
      },
      "source": [
        "\n"
      ],
      "execution_count": null,
      "outputs": []
    }
  ]
}