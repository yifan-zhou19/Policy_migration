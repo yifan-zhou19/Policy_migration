{
  "nbformat": 4,
  "nbformat_minor": 0,
  "metadata": {
    "colab": {
      "name": "Video_matrix.ipynb",
      "provenance": [],
      "authorship_tag": "ABX9TyPTI6WAosQtnuJj5BMOZ6r5",
      "include_colab_link": true
    },
    "kernelspec": {
      "name": "python3",
      "display_name": "Python 3"
    }
  },
  "cells": [
    {
      "cell_type": "markdown",
      "metadata": {
        "id": "view-in-github",
        "colab_type": "text"
      },
      "source": [
        "<a href=\"https://colab.research.google.com/github/yifan-zhou19/Policy_migration/blob/master/Video_matrix.ipynb\" target=\"_parent\"><img src=\"https://colab.research.google.com/assets/colab-badge.svg\" alt=\"Open In Colab\"/></a>"
      ]
    },
    {
      "cell_type": "code",
      "metadata": {
        "id": "Moo_od1yJLpe",
        "colab_type": "code",
        "colab": {}
      },
      "source": [
        "#define ABAC policy (video)\n",
        "\n",
        "\n",
        "U_v=[\n",
        "   \n",
        "{'uid':'child1r','ageGroup':'child','memberType':'regular'},\n",
        "{'uid':'child2r','ageGroup':'child','memberType':'regular'},\n",
        "{'uid':'teen1r','ageGroup':'teen','memberType':'regular'},\n",
        "{'uid':'teen2r','ageGroup':'teen','memberType':'regular'},\n",
        "{'uid':'adult1r','ageGroup':'adult','memberType':'regular'},\n",
        "{'uid':'adult2r','ageGroup':'adult','memberType':'regular'}, \n",
        "\n",
        "{'uid':'child1p','ageGroup':'child','memberType':'premium'},\n",
        "{'uid':'child2p','ageGroup':'child','memberType':'premium'},\n",
        "{'uid':'teen1p','ageGroup':'teen','memberType':'premium'},\n",
        "{'uid':'teen2p','ageGroup':'teen','memberType':'premium'},\n",
        "{'uid':'adult1p','ageGroup':'adult','memberType':'premium'},\n",
        "{'uid':'adult2p','ageGroup':'adult','memberType':'premium'},  \n",
        "]\n",
        "\n",
        "R_v=[\n",
        "\n",
        "{'rid':'the_lion_king','rating':'G','videoType':'old'},\n",
        "{'rid':'toy_story','rating':'G','videoType':'old'},\n",
        "{'rid':'star_wars','rating':'PG','videoType':'old'},\n",
        "{'rid':'jaws','rating':'PG','videoType':'old'},\n",
        "{'rid':'brave_heart','rating':'R','videoType':'old'},\n",
        "{'rid':'my_cousin_vinny','rating':'R','videoType':'old'},\n",
        "\n",
        "\n",
        "{'rid':'happy_feet','rating':'G','videoType':'new'},\n",
        "{'rid':'happy_feet_2','rating':'G','videoType':'new'},\n",
        "{'rid':'cars','rating':'G','videoType':'new'},\n",
        "{'rid':'brave','rating':'PG','videoType':'new'},\n",
        "{'rid':'life_of_pi','rating':'PG','videoType':'new'},\n",
        "{'rid':'flight','rating':'R','videoType':'new'},\n",
        "{'rid':'cloud_atlas','rating':'R','videoType':'new'}   \n",
        "]\n",
        "UA_v=['ageGroup','memberType','uid']\n",
        "RA_v=['rid','rating','videoType']\n",
        "O_v=['view']\n",
        "RU_v=[\n",
        "  \n",
        "# premium members of all ages can view movies rated G.\n",
        "{'expressions':[{'eu':{'memberType':[('is','premium')]},'er':{'raing':[('is','G')]}}],'operations':['view'],'decision':'allow'}, \n",
        "# premium teens can view movies rated PG.\n",
        "{'expressions':[{'eu':{'memberType':[('is','premium')],'ageGroup':[('is','teen')]},'er':{'raing':[('is','PG')]}}],'operations':['view'],'decision':'allow'}, \n",
        "# premium adults can view movies with all ratings.\n",
        "{'expressions':[{'eu':{'memberType':[('is','premium')],'ageGroup':[('is','adult')]},'er':{}}],'operations':['view'],'decision':'allow'}, \n",
        "# members of all ages can view old movies rated G.\n",
        "{'expressions':[{'eu':{},'er':{'raing':[('is','G')],'videoType':[('is','old')]}}],'operations':['view'],'decision':'allow'}, \n",
        "\n",
        "# teens can view old movies rated PG.\n",
        "{'expressions':[{'eu':{'ageGroup':[('is','teen')]},'er':{'raing':[('is','PG')],'videoType':[('is','old')]}}],'operations':['view'],'decision':'allow'}, \n",
        "# adults can view old movies with all ratings.\n",
        "{'expressions':[{'eu':{'ageGroup':[('is','adult')]},'er':{'videoType':[('is','old')]}}],'operations':['view'],'decision':'allow'}, \n",
        "\n",
        "]\n",
        "def dU(user,attribute):\n",
        "  if attribute in user.keys():\n",
        "    return user[attribute]\n",
        "\n",
        "def dR(resource,attribute):\n",
        "  if attribute in resource.keys():\n",
        "    return resource[attribute]\n",
        "ABAC_video=(U_v,R_v,O_v,UA_v,RA_v,dU,dR,RU_v)"
      ],
      "execution_count": 2,
      "outputs": []
    },
    {
      "cell_type": "code",
      "metadata": {
        "id": "uZLzqw6QJUU_",
        "colab_type": "code",
        "colab": {
          "base_uri": "https://localhost:8080/",
          "height": 71
        },
        "outputId": "0880bcec-5a2b-4c60-ff28-0034d1a99f97"
      },
      "source": [
        "def satisfied(u,r,expressions):\n",
        "  for expression in expressions:\n",
        "    eu=expression['eu']\n",
        "    er=expression['er']\n",
        "    #for all the keys in eu get the constrina of this key\n",
        "    #if u does not satisfy this const return false\n",
        "    for key in eu.keys():\n",
        "      for (op,c) in eu[key]:\n",
        "        #op,c=eu[key]\n",
        "        #print(op,c)\n",
        "        if op == 'is':\n",
        "          if dU(u,key) != c:\n",
        "            return False\n",
        "\n",
        "    #for all the keys in er get the constrinat of the key\n",
        "    for key in er.keys():\n",
        "      for (op,c) in er[key]:\n",
        "        #print(op,c)\n",
        "        #op,c=er[key]\n",
        "        if(dR(r,key)==None):\n",
        "          return False\n",
        "        if op =='is':\n",
        "          if dR(r,key)!=c:\n",
        "        #  print(dR(r,key),c)\n",
        "            return False\n",
        "        elif op == '=':\n",
        "          if dR(r,key)!=dU(u,c) and dR(r,key)!=dR(r,c):\n",
        "            return False\n",
        "        elif op == 'in':\n",
        "          if dU(u,c)==None and dR(r,c)==None:\n",
        "            return False\n",
        "          if type(dU(u,c)==list) and dU(u,c)!=None:\n",
        "          #print(dU(u,c))\n",
        "            if dR(r,key) not in dU(u,c):\n",
        "              return False\n",
        "          if type(dR(r,c)==list) and dR(r,c)!=None:\n",
        "          #print(dU(u,c))\n",
        "            if dR(r,key) not in dR(r,c):\n",
        "              return False\n",
        "  \n",
        "  return True\n",
        "\n",
        "\n",
        "def check_ABAC_policy(request,abac_policy):\n",
        "  u,r,o =request\n",
        "  _,_,_,_,_,_,_,rules = abac_policy\n",
        "  for rule in rules:\n",
        "    if o in rule['operations']:\n",
        "      if satisfied(u,r,rule['expressions']):\n",
        "        return True\n",
        "  return False\n",
        "\n",
        "# check the ABAC policy \n",
        "number_allow=0\n",
        "number_deny=0\n",
        "for u in U_v:\n",
        "  for r in R_v:\n",
        "    for o in O_v:\n",
        "      if(check_ABAC_policy((u,r,o),ABAC_video)==True):\n",
        "        number_allow= number_allow+1\n",
        "      else:\n",
        "        number_deny =number_deny +1 \n",
        "        #print(f'{u}\\n{r}\\n{o}\\n \\n')\n",
        "\n",
        "print(f'For ABAC policy:\\nNumber of allow:{number_allow}\\nNumber of deny:{number_deny}')\n",
        "\n",
        "#print(f'{check_ABAC_policy((U[6],R[7],\"readMyScores\"),ABAC_university)}\\n{U[6]}\\n{R[7]}')\n",
        "#print(f'{check_ABAC_policy((U[3],R[5],\"addScore\"),ABAC_university)}\\n{U[3]}\\n{R[5]}')\n",
        "#print(f'Loss at epo {epoch}: {losses/len(training_data)}')\n",
        "\n"
      ],
      "execution_count": 3,
      "outputs": [
        {
          "output_type": "stream",
          "text": [
            "For ABAC policy:\n",
            "Number of allow:38\n",
            "Number of deny:118\n"
          ],
          "name": "stdout"
        }
      ]
    },
    {
      "cell_type": "code",
      "metadata": {
        "id": "FzQywvIjK_KP",
        "colab_type": "code",
        "colab": {
          "base_uri": "https://localhost:8080/",
          "height": 109
        },
        "outputId": "97e5b4c2-1a63-4ede-a8b4-ce11ef773846"
      },
      "source": [
        "from numpy import *\n",
        "# Calculate the number of user constraints\n",
        "# Calculate the number of permissions(resource constraint,operation)\n",
        "UC=[]\n",
        "Permission=[]\n",
        "for rule in RU_v:\n",
        "  user_cons=rule['expressions'][0]['eu']\n",
        "  resource_cons=rule['expressions'][0]['er']\n",
        "  operations=rule['operations']\n",
        "  for uc_key in user_cons.keys():\n",
        "    uc = {uc_key:user_cons[uc_key]}\n",
        "    if uc not in UC:\n",
        "      UC.append(uc)\n",
        "  if (resource_cons,operations) not in Permission:\n",
        "    Permission.append((resource_cons,operations))\n",
        "n_uc=len(UC)\n",
        "n_p=len(Permission)\n",
        "print(f'Number of user constraints:{n_uc}\\nNumber of Permission sets:{n_p}')\n",
        "print(UC)\n",
        "print(Permission)\n"
      ],
      "execution_count": 4,
      "outputs": [
        {
          "output_type": "stream",
          "text": [
            "Number of user constraints:3\n",
            "Number of Permission sets:6\n",
            "[{'memberType': [('is', 'premium')]}, {'ageGroup': [('is', 'teen')]}, {'ageGroup': [('is', 'adult')]}]\n",
            "[({'raing': [('is', 'G')]}, ['view']), ({'raing': [('is', 'PG')]}, ['view']), ({}, ['view']), ({'raing': [('is', 'G')], 'videoType': [('is', 'old')]}, ['view']), ({'raing': [('is', 'PG')], 'videoType': [('is', 'old')]}, ['view']), ({'videoType': [('is', 'old')]}, ['view'])]\n"
          ],
          "name": "stdout"
        }
      ]
    },
    {
      "cell_type": "code",
      "metadata": {
        "id": "1v64_sDSFKgJ",
        "colab_type": "code",
        "colab": {}
      },
      "source": [
        "def get_item_id(item,list):\n",
        "  id = 0\n",
        "  while(id<len(list)):\n",
        "    if item == list[id]:\n",
        "      return id\n",
        "    id = id + 1\n",
        "  return None\n",
        "\n",
        "def cover(ma,mb):# ma cover mb\n",
        "  if ma.shape[1] != mb.shape[1]:\n",
        "    return False\n",
        "  for i in range(ma.shape[1]):\n",
        "    if mb[0,i]==1 and ma[0,i]==0:\n",
        "      return False\n",
        "\n",
        "\n",
        "  return True"
      ],
      "execution_count": 5,
      "outputs": []
    },
    {
      "cell_type": "code",
      "metadata": {
        "id": "aYCrGslCMFCN",
        "colab_type": "code",
        "colab": {
          "base_uri": "https://localhost:8080/",
          "height": 269
        },
        "outputId": "ac907082-e194-4d0f-a77b-8fc7ba28cc41"
      },
      "source": [
        "# permission-constraint matrix\n",
        "pc=mat(zeros((n_p,n_uc)))\n",
        "for rule in RU_v:\n",
        "  user_cons=rule['expressions'][0]['eu']\n",
        "  resource_cons=rule['expressions'][0]['er']\n",
        "  operations=rule['operations']\n",
        "  p_id=get_item_id((resource_cons,operations),Permission)\n",
        "  for uc_key in user_cons.keys():\n",
        "    uc = {uc_key:user_cons[uc_key]}\n",
        "    c_id=get_item_id(uc,UC)\n",
        "    if(c_id==None):\n",
        "      continue\n",
        "    pc[p_id,c_id]=1\n",
        "print(f'The pc matrix is\\n {pc}')\n",
        "rp=mat(diag(array(ones(n_p))))\n",
        "for i in range(n_p-1):\n",
        "  for j in range(i+1,n_p):\n",
        "    if (cover(pc[i,],pc[j,])):\n",
        "      rp[i,j]=1\n",
        "    if (cover(pc[j,],pc[i,])):\n",
        "      rp[j,i]=1\n",
        "\n",
        "print(f'The rp matrix is\\n {rp}')"
      ],
      "execution_count": 6,
      "outputs": [
        {
          "output_type": "stream",
          "text": [
            "The pc matrix is\n",
            " [[1. 0. 0.]\n",
            " [1. 1. 0.]\n",
            " [1. 0. 1.]\n",
            " [0. 0. 0.]\n",
            " [0. 1. 0.]\n",
            " [0. 0. 1.]]\n",
            "The rp matrix is\n",
            " [[1. 0. 0. 1. 0. 0.]\n",
            " [1. 1. 0. 1. 1. 0.]\n",
            " [1. 0. 1. 1. 0. 1.]\n",
            " [0. 0. 0. 1. 0. 0.]\n",
            " [0. 0. 0. 1. 1. 0.]\n",
            " [0. 0. 0. 1. 0. 1.]]\n"
          ],
          "name": "stdout"
        }
      ]
    },
    {
      "cell_type": "code",
      "metadata": {
        "id": "CNWVlOKOMKqt",
        "colab_type": "code",
        "colab": {
          "base_uri": "https://localhost:8080/",
          "height": 233
        },
        "outputId": "16e5e18a-5a40-4f56-e618-cce40d520c83"
      },
      "source": [
        "def rest_of(l,r):\n",
        "  vector = mat(zeros((1,n_uc)))\n",
        "  for role in l:\n",
        "    if role != r:\n",
        "      vector = vector + rc[role,]\n",
        "  for i in range(n_uc):\n",
        "    if vector[0,i]>0:\n",
        "      vector[0,i]=1\n",
        "  return vector\n",
        "\n",
        "import copy\n",
        "# User role assignment \n",
        "n_r=n_p\n",
        "rc=pc\n",
        "URA = dict()\n",
        "for u in U_v:\n",
        "  URA[u['uid']]=[]\n",
        "  uv=mat(ones((1,n_uc)))\n",
        "  for cid in range(n_uc):\n",
        "    expressions=[{'eu':UC[cid],'er':{}}]\n",
        "    if satisfied(u,None,expressions)==False:\n",
        "      uv[0,cid]=0\n",
        "  for rid in range(n_r):\n",
        "    if cover(uv,rc[rid,]):\n",
        "      URA[u['uid']].append(rid)\n",
        "\n",
        "# remove hierarchy\n",
        "  for ri in URA[u['uid']]:\n",
        "    rest = URA[u['uid']].copy()\n",
        "    rest.remove(ri)\n",
        "\n",
        "    for rj in rest:\n",
        "      if cover(rc[rj,],rc[ri,]) and ri in URA[u['uid']]:\n",
        "        URA[u['uid']].remove(ri)\n",
        "#remove redundant\n",
        "  for r in URA[u['uid']]:\n",
        "    if len(URA[u['uid']])==1:\n",
        "      break\n",
        "    if cover(rest_of(URA[u['uid']],r),rc[r,]):\n",
        "      URA[u['uid']].remove(r)\n",
        "\n",
        "  ura =  URA[u['uid']]\n",
        "  print(f'User {u}, uv {uv}, URA {ura}')\n"
      ],
      "execution_count": 19,
      "outputs": [
        {
          "output_type": "stream",
          "text": [
            "User {'uid': 'child1r', 'ageGroup': 'child', 'memberType': 'regular'}, uv [[0. 0. 0.]], URA [3]\n",
            "User {'uid': 'child2r', 'ageGroup': 'child', 'memberType': 'regular'}, uv [[0. 0. 0.]], URA [3]\n",
            "User {'uid': 'teen1r', 'ageGroup': 'teen', 'memberType': 'regular'}, uv [[0. 1. 0.]], URA [4]\n",
            "User {'uid': 'teen2r', 'ageGroup': 'teen', 'memberType': 'regular'}, uv [[0. 1. 0.]], URA [4]\n",
            "User {'uid': 'adult1r', 'ageGroup': 'adult', 'memberType': 'regular'}, uv [[0. 0. 1.]], URA [5]\n",
            "User {'uid': 'adult2r', 'ageGroup': 'adult', 'memberType': 'regular'}, uv [[0. 0. 1.]], URA [5]\n",
            "User {'uid': 'child1p', 'ageGroup': 'child', 'memberType': 'premium'}, uv [[1. 0. 0.]], URA [0]\n",
            "User {'uid': 'child2p', 'ageGroup': 'child', 'memberType': 'premium'}, uv [[1. 0. 0.]], URA [0]\n",
            "User {'uid': 'teen1p', 'ageGroup': 'teen', 'memberType': 'premium'}, uv [[1. 1. 0.]], URA [1]\n",
            "User {'uid': 'teen2p', 'ageGroup': 'teen', 'memberType': 'premium'}, uv [[1. 1. 0.]], URA [1]\n",
            "User {'uid': 'adult1p', 'ageGroup': 'adult', 'memberType': 'premium'}, uv [[1. 0. 1.]], URA [2]\n",
            "User {'uid': 'adult2p', 'ageGroup': 'adult', 'memberType': 'premium'}, uv [[1. 0. 1.]], URA [2]\n"
          ],
          "name": "stdout"
        }
      ]
    },
    {
      "cell_type": "code",
      "metadata": {
        "id": "2VZ7n-yPZbwE",
        "colab_type": "code",
        "colab": {}
      },
      "source": [
        "# check RBAC policy\n",
        "def check_RBAC_policy(request,rp,URA):\n",
        "  u,r,o =request\n",
        "  for role_id in URA[u['uid']]:\n",
        "    for pid in range(n_p):\n",
        "      if rp[role_id,pid]==1:\n",
        "        (er,operations) = Permission[pid]\n",
        "        expressions=[{'eu':{},'er':er}]\n",
        "        if satisfied(None,r,expressions) and o in operations:\n",
        "          return True\n",
        "\n",
        "\n",
        "  return False\n"
      ],
      "execution_count": 20,
      "outputs": []
    },
    {
      "cell_type": "code",
      "metadata": {
        "id": "c53uz7lAMWiK",
        "colab_type": "code",
        "colab": {
          "base_uri": "https://localhost:8080/",
          "height": 71
        },
        "outputId": "09f82063-49da-4bed-e068-88c513c2c7b5"
      },
      "source": [
        "# Check the RBAC\n",
        "# check the RBAC policy \n",
        "\n",
        "number_allow=0\n",
        "number_deny=0\n",
        "for u in U_v:\n",
        "  for r in R_v:\n",
        "    for o in O_v:\n",
        "      if(check_RBAC_policy((u,r,o),rp,URA)==True):\n",
        "        number_allow= number_allow+1\n",
        "      else:\n",
        "        number_deny =number_deny +1 \n",
        "        #print(f'{u}\\n{r}\\n{o}\\n \\n')\n",
        "\n",
        "print(f'For RBAC:\\nNumber of allow:{number_allow}\\nNumber of deny:{number_deny}')"
      ],
      "execution_count": 21,
      "outputs": [
        {
          "output_type": "stream",
          "text": [
            "For RBAC:\n",
            "Number of allow:38\n",
            "Number of deny:118\n"
          ],
          "name": "stdout"
        }
      ]
    },
    {
      "cell_type": "code",
      "metadata": {
        "id": "uzf5XuM2krlN",
        "colab_type": "code",
        "colab": {
          "base_uri": "https://localhost:8080/",
          "height": 143
        },
        "outputId": "f88bf2dc-30dc-454c-e93f-9ce2a1747115"
      },
      "source": [
        "\n",
        "# check the RBAC policy \n",
        "number_allow=0\n",
        "number_deny=0\n",
        "for u in U_v:\n",
        "  for r in R_v:\n",
        "    for o in O_v:\n",
        "      if(check_RBAC_policy((u,r,o),rp,URA)==True):\n",
        "        number_allow= number_allow+1\n",
        "      else:\n",
        "        number_deny =number_deny +1 \n",
        "        #print(f'{u}\\n{r}\\n{o}\\n \\n')\n",
        "\n",
        "print(f'For RBAC:\\nNumber of allow:{number_allow}\\nNumber of deny:{number_deny}')\n",
        "\n",
        "# check the ABAC policy \n",
        "number_allow=0\n",
        "number_deny=0\n",
        "for u in U_v:\n",
        "  for r in R_v:\n",
        "    for o in O_v:\n",
        "      if(check_ABAC_policy((u,r,o),ABAC_video)==True):\n",
        "        number_allow= number_allow+1\n",
        "      else:\n",
        "        number_deny =number_deny +1 \n",
        "        #print(f'{u}\\n{r}\\n{o}\\n \\n')\n",
        "\n",
        "print(f'For ABAC:\\nNumber of allow:{number_allow}\\nNumber of deny:{number_deny}')\n",
        "\n",
        "\n",
        "#number_allow=0\n",
        "#number_deny=0\n",
        "\n",
        "correct=0\n",
        "for u in U_v:\n",
        "  for r in R_v:\n",
        "    for o in O_v:\n",
        "      if (check_ABAC_policy((u,r,o),ABAC_video)==True and check_RBAC_policy((u,r,o),rp,URA)==False):\n",
        "        print(f'TF{u} {r} {o}')\n",
        "      elif (check_ABAC_policy((u,r,o),ABAC_video)==False and check_RBAC_policy((u,r,o),rp,URA)==True):\n",
        "        print(f'FT{u} {r} {o}')\n",
        "        #number_allow= number_allow+1\n",
        "      elif (check_ABAC_policy((u,r,o),ABAC_video)==True and check_RBAC_policy((u,r,o),rp,URA)==True):\n",
        "        correct = correct +1\n",
        "      elif (check_ABAC_policy((u,r,o),ABAC_video)==False and check_RBAC_policy((u,r,o),rp,URA)==False):\n",
        "        correct = correct +1\n",
        "        #number_deny =number_deny +1 \n",
        "        #print(f'{u}\\n{r}\\n{o}\\n \\n')\n",
        "\n",
        "print(f'For number of correct:{correct}')\n"
      ],
      "execution_count": 23,
      "outputs": [
        {
          "output_type": "stream",
          "text": [
            "For RBAC:\n",
            "Number of allow:38\n",
            "Number of deny:118\n",
            "For ABAC:\n",
            "Number of allow:38\n",
            "Number of deny:118\n",
            "For number of correct:156\n"
          ],
          "name": "stdout"
        }
      ]
    }
  ]
}